{
  "nbformat": 4,
  "nbformat_minor": 0,
  "metadata": {
    "colab": {
      "private_outputs": true,
      "provenance": [],
      "authorship_tag": "ABX9TyM+qnKB47mnDCzxsjZ9Ibp1",
      "include_colab_link": true
    },
    "kernelspec": {
      "name": "python3",
      "display_name": "Python 3"
    },
    "language_info": {
      "name": "python"
    },
    "gpuClass": "standard"
  },
  "cells": [
    {
      "cell_type": "markdown",
      "metadata": {
        "id": "view-in-github",
        "colab_type": "text"
      },
      "source": [
        "<a href=\"https://colab.research.google.com/github/GoekeLab/sg-nex-data/blob/update_tutorials/docs/SG_NEx_m6anet.ipynb\" target=\"_parent\"><img src=\"https://colab.research.google.com/assets/colab-badge.svg\" alt=\"Open In Colab\"/></a>"
      ]
    },
    {
      "cell_type": "code",
      "execution_count": null,
      "metadata": {
        "id": "qsj8AzW1tSCq"
      },
      "outputs": [],
      "source": [
        "pip install m6anet"
      ]
    },
    {
      "cell_type": "code",
      "source": [
        "! sudo apt install awscli"
      ],
      "metadata": {
        "id": "CJS_rDXbuOID"
      },
      "execution_count": null,
      "outputs": []
    },
    {
      "cell_type": "code",
      "source": [
        "mkdir A549_directRNA_replicate6_run1 "
      ],
      "metadata": {
        "id": "ZFpgZNjdtnQL"
      },
      "execution_count": null,
      "outputs": []
    },
    {
      "cell_type": "code",
      "source": [
        "! aws s3 sync --no-sign-request s3://sg-nex-data/data/processed_data/m6Anet/SGNex_A549_directRNA_replicate6_run1 ./A549_directRNA_replicate6_run1\n"
      ],
      "metadata": {
        "id": "_HPv1UcduGx0"
      },
      "execution_count": null,
      "outputs": []
    },
    {
      "cell_type": "code",
      "source": [
        "! m6anet-run_inference --input_dir ./A549_directRNA_replicate6_run1 --out_dir ./A549_directRNA_replicate6_run1 --infer_mod_rate --n_processes 4"
      ],
      "metadata": {
        "id": "0CIZe-o0uW3q"
      },
      "execution_count": null,
      "outputs": []
    },
    {
      "cell_type": "code",
      "source": [
        "! zcat A549_directRNA_replicate6_run1/data.result.csv.gz | column -t -s \",\" | head"
      ],
      "metadata": {
        "id": "mPBndJZD2z1b"
      },
      "execution_count": null,
      "outputs": []
    }
  ]
}