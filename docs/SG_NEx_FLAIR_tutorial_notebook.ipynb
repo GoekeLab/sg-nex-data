{
  "cells": [
    {
      "cell_type": "markdown",
      "metadata": {
        "id": "K6Kfw4h-0S09"
      },
      "source": [
        "[![Open In Colab](https://colab.research.google.com/assets/colab-badge.svg)](https://colab.research.google.com/github/GoekeLab/sg-nex-data/blob/master/docs/SG_NEx_FLAIR_tutorial_notebook.ipynb)\n",
        "\n"
      ]
    },
    {
      "cell_type": "markdown",
      "metadata": {
        "id": "Epw9oQniv77Q"
      },
      "source": [
        "## **Isoform discovery and Quantification with FLAIR**\n",
        "\n",
        "In this tutorial, you will learn how to use FLAIR to identify novel and known transcripts and create a custom transcriptome for your samples. We will then quantify the transcripts in each sample and compare the cell lines.\n",
        "\n",
        "### **Using Google Colab**\n",
        "\n",
        "This tutorial requires access to a shell (i.e. Linux, MacOS, or the Windows Subsystem for Linux/WSL). If you do not have access to any shell, you can run this tutorial on Google Colab by clicking the badge on top.\n",
        "\n",
        "If you use Google Colab, you have to add `!` before any shell command to execute it in a subshell. Changing working directories requires to add `%` instead, which executes the command globally."
      ]
    },
    {
      "cell_type": "markdown",
      "metadata": {
        "id": "cXX6IR29faBS"
      },
      "source": [
        "## **Content**\n",
        "\n",
        "- [Installation](#installation)\n",
        "- [Data download](#data-download)\n",
        "- [Running software](#running-software)\n",
        "- [Reference](#reference)\n"
      ]
    },
    {
      "cell_type": "markdown",
      "metadata": {
        "id": "HTxx6tGuv77Y"
      },
      "source": [
        "## **Installation**\n",
        "\n",
        "First to get the SGNex data on Google Colab, we need to install the AWS command line interface"
      ]
    },
    {
      "cell_type": "code",
      "source": [
        "!pip install awscli"
      ],
      "metadata": {
        "id": "QwN6pVJSqujF"
      },
      "execution_count": null,
      "outputs": []
    },
    {
      "cell_type": "code",
      "execution_count": null,
      "metadata": {
        "id": "tA7dGO9n1XSU"
      },
      "outputs": [],
      "source": [
        "! aws --version"
      ]
    },
    {
      "cell_type": "markdown",
      "source": [
        "We also need to install minimap2, which we require to align samples"
      ],
      "metadata": {
        "id": "n0VXWyDEtXJ-"
      }
    },
    {
      "cell_type": "code",
      "execution_count": null,
      "metadata": {
        "id": "py-m4xNKqr2K"
      },
      "outputs": [],
      "source": [
        "! curl -L https://github.com/lh3/minimap2/releases/download/v2.24/minimap2-2.24_x64-linux.tar.bz2 | tar -jxvf -\n",
        "! ./minimap2-2.24_x64-linux/minimap2"
      ]
    },
    {
      "cell_type": "code",
      "execution_count": null,
      "metadata": {
        "id": "MMNsvJEF10yo"
      },
      "outputs": [],
      "source": [
        "! sudo ln -s /content/minimap2-2.24_x64-linux/minimap2 /usr/bin/minimap2"
      ]
    },
    {
      "cell_type": "code",
      "execution_count": null,
      "metadata": {
        "id": "IxdLxK2BmMhK"
      },
      "outputs": [],
      "source": [
        "! minimap2"
      ]
    },
    {
      "cell_type": "markdown",
      "source": [
        "We reccommend installing FLAIR through conda. To do this in Google Colab, we need to install conda as below:"
      ],
      "metadata": {
        "id": "Y9Jo2kaYteOm"
      }
    },
    {
      "cell_type": "code",
      "source": [
        "!pip install -q condacolab\n",
        "import condacolab\n",
        "condacolab.install()"
      ],
      "metadata": {
        "id": "GzZCLwc8jRx7"
      },
      "execution_count": null,
      "outputs": []
    },
    {
      "cell_type": "code",
      "execution_count": null,
      "metadata": {
        "id": "sDq22ZdifaBW"
      },
      "outputs": [],
      "source": [
        "##This actually installs FLAIR (note the installation takes about  7.5 mins)\n",
        "! conda create -n flair -c conda-forge -c bioconda flair"
      ]
    },
    {
      "cell_type": "markdown",
      "source": [
        "Normally, we would next run\n",
        "\n",
        "conda activate flair or !source activate flair\n",
        "\n",
        "but since activating a conda environment does not carry across cells in Google Colab, we will activate the flair environment each time we run a FLAIR command"
      ],
      "metadata": {
        "id": "ZjJAhGwHtszH"
      }
    },
    {
      "cell_type": "markdown",
      "metadata": {
        "id": "3hoD3ojUv77f"
      },
      "source": [
        "## **Data download**\n",
        "\n",
        "The Singapore Nanopore Expression Project (SG-NEx) has generated a comprehensive resource of long read RNA-Sequencing data using the Oxford Nanopore Sequencing third generation sequencing platform. The data is hosted on the [AWS Open Data Registry](https://registry.opendata.aws/sgnex/) and described in detail here: <https://github.com/GoekeLab/sg-nex-data>\n",
        "\n",
        "For this workshop we will be using a reduced data set which only includes data from the human chromosome 22. The data can be accessed using the AWS command line interface (or using direct links, which you can find in the online documentation)."
      ]
    },
    {
      "cell_type": "code",
      "execution_count": null,
      "metadata": {
        "id": "CNM62YDrn47S"
      },
      "outputs": [],
      "source": [
        "! aws s3 ls --no-sign-request s3://sg-nex-data/data/data_tutorial/"
      ]
    },
    {
      "cell_type": "code",
      "source": [
        "! aws s3 ls --no-sign-request s3://sg-nex-data/data/data_tutorial/fastq/"
      ],
      "metadata": {
        "id": "JNAHDbDujwBq"
      },
      "execution_count": null,
      "outputs": []
    },
    {
      "cell_type": "code",
      "execution_count": null,
      "metadata": {
        "id": "56zG5ljYnppj"
      },
      "outputs": [],
      "source": [
        "! mkdir tutorial\n",
        "! mkdir tutorial/reference\n",
        "! mkdir tutorial/fastq"
      ]
    },
    {
      "cell_type": "markdown",
      "metadata": {
        "id": "8XoTPZzGv77g"
      },
      "source": [
        "### **Download the reference genome and annotations**"
      ]
    },
    {
      "cell_type": "code",
      "execution_count": null,
      "metadata": {
        "id": "BM13oLU-875U"
      },
      "outputs": [],
      "source": [
        "%cd tutorial/reference/"
      ]
    },
    {
      "cell_type": "code",
      "execution_count": null,
      "metadata": {
        "id": "Pk3jHm2Bn69Z"
      },
      "outputs": [],
      "source": [
        "! aws s3 cp --no-sign-request s3://sg-nex-data/data/data_tutorial/annotations/hg38_chr22.fa .\n",
        "! aws s3 cp --no-sign-request s3://sg-nex-data/data/data_tutorial/annotations/hg38_chr22.fa.fai ."
      ]
    },
    {
      "cell_type": "code",
      "execution_count": null,
      "metadata": {
        "id": "KIOLbe9DojN0"
      },
      "outputs": [],
      "source": [
        "! aws s3 cp --no-sign-request s3://sg-nex-data/data/data_tutorial/annotations/hg38_chr22.gtf .\n"
      ]
    },
    {
      "cell_type": "markdown",
      "metadata": {
        "id": "kJzkl2lVfaBY"
      },
      "source": [
        "### **Download fastq files**"
      ]
    },
    {
      "cell_type": "code",
      "execution_count": null,
      "metadata": {
        "id": "9cO5ObJU9gCL"
      },
      "outputs": [],
      "source": [
        "%cd /content/tutorial/fastq/"
      ]
    },
    {
      "cell_type": "code",
      "source": [
        "! aws s3 cp --no-sign-request s3://sg-nex-data/data/data_tutorial/fastq/HepG2_directRNA_sample1.fastq.gz .\n",
        "! aws s3 cp --no-sign-request s3://sg-nex-data/data/data_tutorial/fastq/HepG2_directRNA_sample2.fastq.gz .\n",
        "! aws s3 cp --no-sign-request s3://sg-nex-data/data/data_tutorial/fastq/HepG2_directRNA_sample3.fastq.gz .\n",
        "! aws s3 cp --no-sign-request s3://sg-nex-data/data/data_tutorial/fastq/A549_directRNA_sample1.fastq.gz .\n",
        "! aws s3 cp --no-sign-request s3://sg-nex-data/data/data_tutorial/fastq/A549_directRNA_sample2.fastq.gz .\n",
        "! aws s3 cp --no-sign-request s3://sg-nex-data/data/data_tutorial/fastq/A549_directRNA_sample3.fastq.gz .\n",
        "! gzip -d HepG2_directRNA_sample1.fastq.gz\n",
        "! gzip -d HepG2_directRNA_sample2.fastq.gz\n",
        "! gzip -d HepG2_directRNA_sample3.fastq.gz\n",
        "! gzip -d A549_directRNA_sample1.fastq.gz\n",
        "! gzip -d A549_directRNA_sample2.fastq.gz\n",
        "! gzip -d A549_directRNA_sample3.fastq.gz\n",
        "! ls -lh"
      ],
      "metadata": {
        "id": "9PY1WhFGvoEV"
      },
      "execution_count": null,
      "outputs": []
    },
    {
      "cell_type": "code",
      "source": [
        "%cd /content/tutorial/"
      ],
      "metadata": {
        "id": "TwsJnN7lxIoZ"
      },
      "execution_count": null,
      "outputs": []
    },
    {
      "cell_type": "markdown",
      "source": [
        "In order for FLAIR to create a comprehensive transcriptome that contains the transcripts in all of your samples and allows you to compare between them, we need to start by combining all of our reads"
      ],
      "metadata": {
        "id": "BKmMHHnPuFmX"
      }
    },
    {
      "cell_type": "code",
      "execution_count": null,
      "metadata": {
        "id": "Ln42KF9fpLrj"
      },
      "outputs": [],
      "source": [
        "! cat fastq/*.fastq > combined_samples.fastq"
      ]
    },
    {
      "cell_type": "markdown",
      "metadata": {
        "id": "CNdUaWSbfaBZ"
      },
      "source": [
        "## **Running software**\n",
        "\n",
        "Now that we have combined our reads, we can use FLAIR align to align them. If you prefer, you can align them yourself using minimap2 to align and bedtools to convert the aligned bam file to a bed file. FLAIR align just carries what we consider to be optimal parameters for long read RNA transcript alignment."
      ]
    },
    {
      "cell_type": "code",
      "source": [
        "! source activate flair && flair align -g ./reference/hg38_chr22.fa -r combined_samples.fastq -o combined_samples.flair.aligned\n",
        "! ls -lh"
      ],
      "metadata": {
        "id": "LwFiAl5Sg7gZ"
      },
      "execution_count": null,
      "outputs": []
    },
    {
      "cell_type": "markdown",
      "source": [
        "Next we run FLAIR correct which takes the bed file of aligned reads and corrects alignments to the annotated splice sites. If you have short read junctions, you can pass those to FLAIR with --shortread for even more precision. You can run FLAIR without the correct step, but you may find more novel transcripts that are different by only a couple of bases at the splice site, likely due to initial misalignment of reads.\n",
"Note that this step takes about 7.5 mins."
      ],
      "metadata": {
        "id": "miBwDn2TuuLM"
      }
    },
    {
      "cell_type": "code",
      "source": [
        "! source activate flair && flair correct -g ./reference/hg38_chr22.fa --gtf ./reference/hg38_chr22.gtf -q combined_samples.flair.aligned.bed -o combined_samples.flair\n",
        "! ls -lh"
      ],
      "metadata": {
        "id": "5zHqi905w108"
      },
      "execution_count": null,
      "outputs": []
    },
    {
      "cell_type": "markdown",
      "source": [
        "FLAIR collapse is next, which does the actual isoform identification. We will run it with a couple of non-standard options which are reccommended\n",
        "\n",
        "--generate_map generates a file showing which reads support which isoforms\n",
        "\n",
        "--stringent requires that all reads supporting an isoform cover >= 80% of the isoform, best id you are confident you don't have too many truncated reads\n",
        "\n",
        "--annotation_reliant first checks for reads that match well to the reference annotation, then identifies novel transcripts from the rest. This reduces novel isoform discovery.\n",
        "\n",
        "--check_splice might be the most important one - it requires good coverage of the bases at the splice sites and ensures that reads confidently support the correct intron chain\n",
        "\n",
        "\n",
        "Your output from FLAIR-collapse will consist of a number of files, but the most important are:\n",
        "\n",
        "prefix.isoforms.gtf - your custom transcriptome which you can align to if you want\n",
        "\n",
        "prefix.isoforms.bed - the easiest way to visualize your isoforms on the UCSC genome browser or IGV, can also be useful for FLAIR-quantify\n",
        "\n",
        "prefix.combined.isoform.read.map.txt - all detected isoforms associated with the reads that support them\n"
      ],
      "metadata": {
        "id": "RaT9ocyqvSnG"
      }
    },
    {
      "cell_type": "code",
      "source": [
        "! source activate flair && flair collapse -g ./reference/hg38_chr22.fa --gtf ./reference/hg38_chr22.gtf -q combined_samples.flair_all_corrected.bed -r combined_samples.fastq --annotation_reliant generate --generate_map --check_splice --stringent --output combined_samples.flair.collapse\n",
        "\n",
        "! ls -lh"
      ],
      "metadata": {
        "id": "ExeMeBmdxSGL"
      },
      "execution_count": null,
      "outputs": []
    },
    {
      "cell_type": "markdown",
      "source": [
        "Here we are building a sample manifest file that contains the locations of the reads belonging to our individual samples. If you are planning on running diffExp or diffSplice, make sure your second column (the condition column) matches the different conditions you want to test. Also make sure your sample identifiers (first column) don't contain underlines."
      ],
      "metadata": {
        "id": "lOTDowfrwzrL"
      }
    },
    {
      "cell_type": "code",
      "source": [
        "samples = ['HepG2_directRNA_sample1.fastq', 'HepG2_directRNA_sample2.fastq', 'HepG2_directRNA_sample3.fastq', 'A549_directRNA_sample1.fastq', 'A549_directRNA_sample2.fastq', 'A549_directRNA_sample3.fastq']\n",
        "\n",
        "path = \"sample_manifest.tsv\"\n",
        "with open(path, 'w') as f:\n",
        "  for s in samples:\n",
        "    f.write('\\t'.join([s.split('_')[0] + '-' + s.split('.')[0].split('sample')[1], s.split('_')[0], 'batch1', '/content/tutorial/fastq/' + s]) + '\\n')\n",
        "  #  f.write(sample_manifest)\n",
        "\n",
        "! cat sample_manifest.tsv"
      ],
      "metadata": {
        "id": "2w8UYBvjxcZa"
      },
      "execution_count": null,
      "outputs": []
    },
    {
      "cell_type": "markdown",
      "source": [
        "FLAIR quantify will realign the reads from each sample to your custom transcriptome that you created with FLAIR-collapse and quantify them accordingly. --stringent and --check_splice work as described above - if you have truncated or shorter reads, these may be more stringent than you'd like."
      ],
      "metadata": {
        "id": "bm5NTej0xVFX"
      }
    },
    {
      "cell_type": "code",
      "source": [
        "! source activate flair && flair quantify -r sample_manifest.tsv -i combined_samples.flair.collapse.isoforms.fa --generate_map --isoform_bed combined_samples.flair.collapse.isoforms.bed --stringent --check_splice\n",
        "! ls -lht | head -n 2"
      ],
      "metadata": {
        "id": "6Tk9XRFq3KCp"
      },
      "execution_count": null,
      "outputs": []
    },
    {
      "cell_type": "code",
      "source": [
        "! head flair.quantify.counts.tsv"
      ],
      "metadata": {
        "id": "dTujazLiXdK7"
      },
      "execution_count": null,
      "outputs": []
    },
    {
      "cell_type": "markdown",
      "source": [
        "Normally after FLAIR quantify, we would run FLAIR diffExp and/or diffSplice to identify transcripts and splice sites with differential usage. However, since we are currently running on small subsets, these modules won't work. Therefore I will quickly show a comparison between these two cell lines using t-tests. Please keep in mind that you will only be seeing a small subset of the differences between these samples"
      ],
      "metadata": {
        "id": "8c4xwTy6xr2T"
      }
    },
    {
      "cell_type": "code",
      "source": [
        "! pip install pandas\n",
        "! pip install scipy"
      ],
      "metadata": {
        "id": "zuP9hUbwX0FQ"
      },
      "execution_count": null,
      "outputs": []
    },
    {
      "cell_type": "code",
      "source": [
        "import pandas as pd\n",
        "from scipy import stats\n",
        "\n",
        "df = pd.read_csv(\"flair.quantify.counts.tsv\", sep=\"\\t\")\n",
        "df"
      ],
      "metadata": {
        "id": "XdFDeK6yYICm"
      },
      "execution_count": null,
      "outputs": []
    },
    {
      "cell_type": "code",
      "source": [
        "hepcol = df.columns[df.columns.str.startswith('HepG2')]\n",
        "a549col = df.columns[df.columns.str.startswith('A549')]"
      ],
      "metadata": {
        "id": "o9VZAGlDbc7J"
      },
      "execution_count": null,
      "outputs": []
    },
    {
      "cell_type": "code",
      "source": [
        "# newcol = df.apply(lambda row: row[hepcol], axis=1)\n",
        "df['ttest_pval'] = df.apply(lambda row: stats.ttest_ind(list(row[hepcol]), list(row[a549col])).pvalue, axis=1)\n",
        "df"
      ],
      "metadata": {
        "id": "XWXj6md1bigS"
      },
      "execution_count": null,
      "outputs": []
    },
    {
      "cell_type": "markdown",
      "source": [
        "Below we identify isoforms that are differentially expressed (p<0.05) according to our t-test. We can see that this filters them down significantly. I hope that after going through this tutorial, you feel ready to run FLAIR on bigger datasets and discover novel insights about transcriptomic changes and diversity!"
      ],
      "metadata": {
        "id": "petcIFCzyISi"
      }
    },
    {
      "cell_type": "code",
      "source": [
        "df_filtered = df.loc[df['ttest_pval'] < 0.05].copy()\n",
        "df_filtered[['IsoName', 'GeneName']] = df_filtered.ids.str.split(\"_\", expand = True)\n",
        "df_filtered = df_filtered.sort_values(by=['GeneName'])\n",
        "df_filtered"
      ],
      "metadata": {
        "id": "I_dNFMMddR6G"
      },
      "execution_count": null,
      "outputs": []
    },
    {
      "cell_type": "markdown",
      "metadata": {
        "id": "d194n7lTfaBZ"
      },
      "source": [
        "## **Reference**\n",
        "\n",
        "The paper describing FLAIR can be found at: https://rdcu.be/djHvm\n",
        "\n",
        "The FLAIR documentation can be found at: https://flair.readthedocs.io/en/latest/index.html\n",
        "\n",
        "If you use the dataset from SG-NEx in your work, please cite the following paper.\n",
        "\n",
        "Chen, Ying, et al. “A systematic benchmark of Nanopore long read RNA\n",
        "sequencing for transcript level analysis in human cell lines.” bioRxiv\n",
        "(2021). doi: <https://doi.org/10.1101/2021.04.21.440736>"
      ]
    }
  ],
  "metadata": {
    "colab": {
      "private_outputs": true,
      "provenance": []
    },
    "gpuClass": "standard",
    "kernelspec": {
      "display_name": "Python 3",
      "language": "python",
      "name": "python3"
    },
    "language_info": {
      "name": "python",
      "version": "3.6.9"
    },
    "vscode": {
      "interpreter": {
        "hash": "31f2aee4e71d21fbe5cf8b01ff0e069b9275f58929596ceb00d14d90e3e16cd6"
      }
    }
  },
  "nbformat": 4,
  "nbformat_minor": 0
}
