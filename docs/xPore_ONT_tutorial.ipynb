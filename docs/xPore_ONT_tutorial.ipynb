{
 "cells": [
  {
   "cell_type": "markdown",
   "id": "a6510848",
   "metadata": {},
   "source": [
    "# RNA modification analysis tutorial with xPore"
   ]
  },
  {
   "cell_type": "markdown",
   "id": "ab53952a",
   "metadata": {},
   "source": [
    "This tutorial is intended as a simple guide for performing RNA modification analysis using xPore, a software that performs differential RNA modification analysis. The tutorial will use an eventalign.txt file outputted from nanopolish to demonstrate how to preprocess these files and perform differnetial RNA modification analysis.\n",
    "\n",
    "The tutorial provides a HEK293T wildtype (HEK293_WT), a HEK293T METTL3 knockout (HEK293T_KO), and subsetted reference fasta and gtf, and the workflow can be used to address such questions as:\n",
    "\n",
    "<ul><li>How to find differential RNA modification sites?</li></ul>\n",
    "Methods used in this tutorial include:\n",
    "<ul>\n",
    "<li>Basecalling with guppy (command provided but will not be run)</li>\n",
    "<li>Alignment of the basecalled.fastq file to a transcriptome.fasta using minimap2 (command provided but will not be run)</li>\n",
    "<li>Segmentation of the current signals (fast5) with nanopolish (command provided but will not be run)</li>\n",
    "<li>Preparing data with xpore dataprep</li>\n",
    "<li>Finding Differential RNA modification sites with xpore diffmod</li>\n",
    "<li>Postprocessing xpore diffmod output table with xpore postprocessing</li>\n",
    "</ul>\n",
    "Computational requirements for this tutorial include:\n",
    "<ul>\n",
    "<li>Computer running the EPI2ME Labs notebook Server</li>\n",
    "<li>At least 8 Gb RAM</li>\n",
    "</ul>\n",
    "\n",
    "## Data preparation from raw reads\n",
    "### Basecalling with guppy\n"
   ]
  },
  {
   "cell_type": "code",
   "execution_count": 1,
   "id": "de13d65c",
   "metadata": {},
   "outputs": [],
   "source": [
    "## basecalling with guppy\n",
    "# guppy_basecaller -i </PATH/TO/FAST5> -s </PATH/TO/FASTQ> --flowcell <FLOWCELL_ID> --kit <KIT_ID> --device auto -q 0 -r"
   ]
  },
  {
   "cell_type": "markdown",
   "id": "f7d44387",
   "metadata": {},
   "source": [
    "### Alignment of the basecalled.fastq file to a transcriptome.fasta using minimap2"
   ]
  },
  {
   "cell_type": "code",
   "execution_count": 2,
   "id": "1bb8c5fa",
   "metadata": {},
   "outputs": [],
   "source": [
    "## index transcriptome fasta\n",
    "# minimap2 -ax map-ont -uf -t 3 --secondary=no -d <MMI> <TRANSCRIPTOME.FASTA>\n",
    "\n",
    "## align fastq to transcriptome\n",
    "# minimap2 -ax map-ont -uf -t 3 --secondary=no <MMI> <PATH/TO/FASTQ.GZ> > <PATH/TO/SAM> 2>> <PATH/TO/SAM_LOG>\n",
    "\n",
    "## convert .sam file from minimap2 to bam using samtools view\n",
    "# samtools view -Sb <PATH/TO/SAM> | samtools sort -o <PATH/TO/BAM> - &>> <PATH/TO/BAM_LOG>\n",
    "\n",
    "## index bam file with samtools index\n",
    "# samtools index <PATH/TO/BAM> &>> <PATH/TO/BAM_INDEX_LOG>"
   ]
  },
  {
   "cell_type": "markdown",
   "id": "5de85fb5",
   "metadata": {},
   "source": [
    "### Segmentation of the current signals (fast5) with nanopolish"
   ]
  },
  {
   "cell_type": "code",
   "execution_count": 3,
   "id": "69e471c3",
   "metadata": {},
   "outputs": [],
   "source": [
    "## index fastq reads with fast5 files\n",
    "# nanopolish index -d <PATH/TO/FAST5_DIR> <PATH/TO/FASTQ_FILE>\n",
    "\n",
    "## run nanopolish eventalign\n",
    "# nanopolish eventalign --reads <PATH/TO/FASTQ_FILE> \\\n",
    "# --bam <PATH/TO/BAM_FILE> \\\n",
    "# --genome <PATH/TO/FASTA_FILE \\\n",
    "# --signal-index \\\n",
    "# --scale-events \\\n",
    "# --summary <PATH/TO/summary.txt> \\\n",
    "# --threads 32 > <PATH/TO/eventalign.txt>"
   ]
  },
  {
   "cell_type": "markdown",
   "id": "ddc36007",
   "metadata": {},
   "source": [
    "## xPore differential RNA modification analysis\n",
    "### Download test dataset"
   ]
  },
  {
   "cell_type": "code",
   "execution_count": 27,
   "id": "27ff5f27",
   "metadata": {},
   "outputs": [
    {
     "name": "stdout",
     "output_type": "stream",
     "text": [
      "--2021-11-01 18:03:43--  https://zenodo.org/record/5162402/files/demo.tar.gz\n",
      "Resolving zenodo.org (zenodo.org)... 137.138.76.77\n",
      "Connecting to zenodo.org (zenodo.org)|137.138.76.77|:443... connected.\n",
      "HTTP request sent, awaiting response... 200 OK\n",
      "Length: 84504086 (81M) [application/octet-stream]\n",
      "Saving to: ‘demo.tar.gz’\n",
      "\n",
      "demo.tar.gz         100%[===================>]  80.59M  1.52MB/s    in 6m 5s   \n",
      "\n",
      "2021-11-01 18:09:50 (226 KB/s) - ‘demo.tar.gz’ saved [84504086/84504086]\n",
      "\n"
     ]
    }
   ],
   "source": [
    "!wget https://zenodo.org/record/5162402/files/demo.tar.gz\n",
    "!tar -xf demo.tar.gz\n",
    "!mv ./demo/* ."
   ]
  },
  {
   "cell_type": "markdown",
   "id": "5bcadbb7",
   "metadata": {},
   "source": [
    "We can have a look at the data"
   ]
  },
  {
   "cell_type": "code",
   "execution_count": 29,
   "id": "2589387e",
   "metadata": {},
   "outputs": [
    {
     "name": "stdout",
     "output_type": "stream",
     "text": [
      "data/HEK293T-METTL3-KO-rep1:\r\n",
      "bamtx  fast5  fastq  nanopolish\r\n",
      "\r\n",
      "data/HEK293T-WT-rep1:\r\n",
      "bamtx  fast5  fastq  nanopolish\r\n"
     ]
    }
   ],
   "source": [
    "!ls data/*"
   ]
  },
  {
   "cell_type": "markdown",
   "id": "c1e9f60f",
   "metadata": {},
   "source": [
    "xpore uses the eventalign.txt from nanopolish as input"
   ]
  },
  {
   "cell_type": "code",
   "execution_count": 30,
   "id": "c796dc71",
   "metadata": {},
   "outputs": [
    {
     "name": "stdout",
     "output_type": "stream",
     "text": [
      "data/HEK293T-METTL3-KO-rep1/nanopolish:\r\n",
      "eventalign.txt\tsummary.txt\r\n",
      "\r\n",
      "data/HEK293T-WT-rep1/nanopolish:\r\n",
      "eventalign.txt\tsummary.txt\r\n"
     ]
    }
   ],
   "source": [
    "!ls data/*/nanopolish"
   ]
  },
  {
   "cell_type": "markdown",
   "id": "75dac3fe",
   "metadata": {},
   "source": [
    "### Install xPore"
   ]
  },
  {
   "cell_type": "code",
   "execution_count": 31,
   "id": "0393bc52",
   "metadata": {},
   "outputs": [],
   "source": [
    "!pip install xpore"
   ]
  },
  {
   "cell_type": "markdown",
   "id": "ce3fd4ba",
   "metadata": {},
   "source": [
    "You can check xPore's version by typing the following:"
   ]
  },
  {
   "cell_type": "code",
   "execution_count": 32,
   "id": "8df25308",
   "metadata": {},
   "outputs": [
    {
     "name": "stdout",
     "output_type": "stream",
     "text": [
      "xpore 2.0\r\n"
     ]
    }
   ],
   "source": [
    "!xpore --version"
   ]
  },
  {
   "cell_type": "markdown",
   "id": "1a3e3b16",
   "metadata": {},
   "source": [
    "#### xPore contains the following functions: \n",
    "##### 1) dataprep"
   ]
  },
  {
   "cell_type": "code",
   "execution_count": 33,
   "id": "be423ad1",
   "metadata": {},
   "outputs": [
    {
     "name": "stdout",
     "output_type": "stream",
     "text": [
      "usage: xpore dataprep [-h] --eventalign EVENTALIGN --out_dir OUT_DIR\r\n",
      "                      [--gtf_or_gff GTF_OR_GFF]\r\n",
      "                      [--transcript_fasta TRANSCRIPT_FASTA]\r\n",
      "                      [--skip_eventalign_indexing] [--genome]\r\n",
      "                      [--n_processes N_PROCESSES] [--chunk_size CHUNK_SIZE]\r\n",
      "                      [--readcount_min READCOUNT_MIN]\r\n",
      "                      [--readcount_max READCOUNT_MAX] [--resume]\r\n",
      "\r\n",
      "required arguments:\r\n",
      "  --eventalign EVENTALIGN\r\n",
      "                        eventalign filepath, the output from nanopolish.\r\n",
      "  --out_dir OUT_DIR     output directory.\r\n",
      "\r\n",
      "optional arguments:\r\n",
      "  -h, --help            show this help message and exit\r\n",
      "  --gtf_or_gff GTF_OR_GFF\r\n",
      "                        GTF or GFF file path.\r\n",
      "  --transcript_fasta TRANSCRIPT_FASTA\r\n",
      "                        transcript FASTA path.\r\n",
      "  --skip_eventalign_indexing\r\n",
      "                        skip indexing the eventalign nanopolish output.\r\n",
      "  --genome              to run on Genomic coordinates. Without this argument,\r\n",
      "                        the program will run on transcriptomic coordinates\r\n",
      "  --n_processes N_PROCESSES\r\n",
      "                        number of processes to run.\r\n",
      "  --chunk_size CHUNK_SIZE\r\n",
      "                        number of lines from nanopolish eventalign.txt for\r\n",
      "                        processing.\r\n",
      "  --readcount_min READCOUNT_MIN\r\n",
      "                        minimum read counts per gene.\r\n",
      "  --readcount_max READCOUNT_MAX\r\n",
      "                        maximum read counts per gene.\r\n",
      "  --resume              with this argument, the program will resume from the\r\n",
      "                        previous run.\r\n"
     ]
    }
   ],
   "source": [
    "!xpore dataprep -h"
   ]
  },
  {
   "cell_type": "markdown",
   "id": "05343517",
   "metadata": {},
   "source": [
    "##### 2) diffmod"
   ]
  },
  {
   "cell_type": "code",
   "execution_count": 34,
   "id": "b7ad6bd0",
   "metadata": {},
   "outputs": [
    {
     "name": "stdout",
     "output_type": "stream",
     "text": [
      "usage: xpore diffmod [-h] --config CONFIG [--n_processes N_PROCESSES]\r\n",
      "                     [--save_models] [--resume] [--ids [IDS [IDS ...]]]\r\n",
      "\r\n",
      "required arguments:\r\n",
      "  --config CONFIG       YAML configuraion filepath.\r\n",
      "\r\n",
      "optional arguments:\r\n",
      "  -h, --help            show this help message and exit\r\n",
      "  --n_processes N_PROCESSES\r\n",
      "                        number of processes to run.\r\n",
      "  --save_models         with this argument, the program will save the model\r\n",
      "                        parameters for each id.\r\n",
      "  --resume              with this argument, the program will resume from the\r\n",
      "                        previous run.\r\n",
      "  --ids [IDS [IDS ...]]\r\n",
      "                        gene or transcript ids to model.\r\n"
     ]
    }
   ],
   "source": [
    "!xpore diffmod -h"
   ]
  },
  {
   "cell_type": "markdown",
   "id": "3681b967",
   "metadata": {},
   "source": [
    "##### 3) postprocessing"
   ]
  },
  {
   "cell_type": "code",
   "execution_count": 35,
   "id": "41656fb8",
   "metadata": {},
   "outputs": [
    {
     "name": "stdout",
     "output_type": "stream",
     "text": [
      "usage: xpore postprocessing [-h] --diffmod_dir DIFFMOD_DIR\r\n",
      "\r\n",
      "optional arguments:\r\n",
      "  -h, --help            show this help message and exit\r\n",
      "\r\n",
      "required arguments:\r\n",
      "  --diffmod_dir DIFFMOD_DIR\r\n",
      "                        diffmod directory path, the output from xpore-diffmod.\r\n"
     ]
    }
   ],
   "source": [
    "!xpore postprocessing -h"
   ]
  },
  {
   "cell_type": "markdown",
   "id": "96ba0f0f",
   "metadata": {},
   "source": [
    "### Preparing data with xpore dataprep\n",
    "Preprocess the data for each data set using xpore dataprep. Note that the --gtf_path_or_url and --transcript_fasta_paths_or_urls arguments are required to map transcriptomic to genomic coordinates when the --genome option is chosen, so that xPore can run based on genome coordinates. (This step will take approximately 5h for 1 million reads). The warning messages can be ignore:"
   ]
  },
  {
   "cell_type": "code",
   "execution_count": null,
   "id": "a8d9a63b",
   "metadata": {},
   "outputs": [],
   "source": [
    "## genome alignment -- entries are in genomic position\n",
    "# preprocess HEK293T-METTL3-KO-rep1\n",
    "!xpore dataprep --eventalign data/HEK293T-METTL3-KO-rep1/nanopolish/eventalign.txt\\\n",
    "--out_dir data/HEK293T-METTL3-KO-rep1/gene_dataprep\\\n",
    "--genome\\\n",
    "--gtf_or_gff demo.gtf\\\n",
    "--transcript_fasta demo.fa\n",
    "# preprocess HEK293T-WT-rep1\n",
    "!xpore dataprep --eventalign data/HEK293T-WT-rep1/nanopolish/eventalign.txt\\\n",
    "--out_dir data/HEK293T-WT-rep1/gene_dataprep\\\n",
    "--genome\\\n",
    "--gtf_or_gff demo.gtf\\\n",
    "--transcript_fasta demo.fa\n",
    "\n",
    "## transcript alignment -- entries are in transcriptomic position\n",
    "# preprocess HEK293T-METTL3-KO-rep1\n",
    "!xpore dataprep --eventalign data/HEK293T-METTL3-KO-rep1/nanopolish/eventalign.txt\\\n",
    "--out_dir data/HEK293T-METTL3-KO-rep1/dataprep\n",
    "# preprocess HEK293T-WT-rep1\n",
    "!xpore dataprep --eventalign data/HEK293T-WT-rep1/nanopolish/eventalign.txt\\\n",
    "--out_dir data/HEK293T-WT-rep1/dataprep"
   ]
  },
  {
   "cell_type": "markdown",
   "id": "821dcdca",
   "metadata": {},
   "source": [
    "The output files are stored under dataprep in each dataset directory:\n",
    "<ul>\n",
    "<li>eventalign.index : Index file to access eventalign.txt, the output from nanopolish eventalign</li>\n",
    "<li>data.json : Preprocessed data for xpore-diffmod</li>\n",
    "<li>data.index : File index of data.json for random access per gene</li>\n",
    "<li>data.readcount : Summary of readcounts per gene</li>\n",
    "<li>data.log : Log file</li>\n",
    "</ul>"
   ]
  },
  {
   "cell_type": "code",
   "execution_count": 39,
   "id": "f21081e7",
   "metadata": {},
   "outputs": [
    {
     "name": "stdout",
     "output_type": "stream",
     "text": [
      "data/HEK293T-METTL3-KO-rep1/dataprep:\r\n",
      "total 1.9M\r\n",
      "-rw-rw-r-- 1 wanyk wanyk  411 Nov  1 18:14 data.index\r\n",
      "-rw-rw-r-- 1 wanyk wanyk 1.8M Nov  1 18:14 data.json\r\n",
      "-rw-rw-r-- 1 wanyk wanyk  353 Nov  1 18:14 data.log\r\n",
      "-rw-rw-r-- 1 wanyk wanyk  259 Nov  1 18:14 data.readcount\r\n",
      "-rw-rw-r-- 1 wanyk wanyk  12K Nov  1 18:14 eventalign.index\r\n",
      "\r\n",
      "data/HEK293T-METTL3-KO-rep1/gene_dataprep:\r\n",
      "total 1.7M\r\n",
      "-rw-rw-r-- 1 wanyk wanyk   70 Nov  1 18:13 data.index\r\n",
      "-rw-rw-r-- 1 wanyk wanyk 1.6M Nov  1 18:13 data.json\r\n",
      "-rw-rw-r-- 1 wanyk wanyk   89 Nov  1 18:13 data.log\r\n",
      "-rw-rw-r-- 1 wanyk wanyk   52 Nov  1 18:13 data.readcount\r\n",
      "-rw-rw-r-- 1 wanyk wanyk  12K Nov  1 18:13 eventalign.index\r\n",
      "\r\n",
      "data/HEK293T-WT-rep1/dataprep:\r\n",
      "total 1.1M\r\n",
      "-rw-rw-r-- 1 wanyk wanyk  337 Nov  1 18:14 data.index\r\n",
      "-rw-rw-r-- 1 wanyk wanyk 1.1M Nov  1 18:14 data.json\r\n",
      "-rw-rw-r-- 1 wanyk wanyk  303 Nov  1 18:14 data.log\r\n",
      "-rw-rw-r-- 1 wanyk wanyk  215 Nov  1 18:14 data.readcount\r\n",
      "-rw-rw-r-- 1 wanyk wanyk 6.3K Nov  1 18:14 eventalign.index\r\n",
      "\r\n",
      "data/HEK293T-WT-rep1/gene_dataprep:\r\n",
      "total 952K\r\n",
      "-rw-rw-r-- 1 wanyk wanyk   99 Nov  1 18:14 data.index\r\n",
      "-rw-rw-r-- 1 wanyk wanyk 931K Nov  1 18:14 data.json\r\n",
      "-rw-rw-r-- 1 wanyk wanyk  111 Nov  1 18:14 data.log\r\n",
      "-rw-rw-r-- 1 wanyk wanyk   68 Nov  1 18:14 data.readcount\r\n",
      "-rw-rw-r-- 1 wanyk wanyk 6.3K Nov  1 18:13 eventalign.index\r\n"
     ]
    }
   ],
   "source": [
    "!ls -lh data/*/*dataprep"
   ]
  },
  {
   "cell_type": "markdown",
   "id": "c9cd4a52",
   "metadata": {},
   "source": [
    "### Finding Differential RNA modification sites with xpore diffmod\n",
    "Prepare a .yml configuration file. With this YAML file, you can specify the information of your design experiment, the data directories, the output directory, and the method options. In the demo directory, there is an example configuration file Hek293T_config.yaml available that you can use as a starting template. Below is how it looks like:"
   ]
  },
  {
   "cell_type": "code",
   "execution_count": 40,
   "id": "907ae57c",
   "metadata": {},
   "outputs": [
    {
     "name": "stdout",
     "output_type": "stream",
     "text": [
      "notes: Pairwise comparison without replicates with default parameter setting.\r\n",
      "\r\n",
      "data:\r\n",
      "    KO:\r\n",
      "        rep1: ./data/HEK293T-METTL3-KO-rep1/dataprep\r\n",
      "    WT:\r\n",
      "        rep1: ./data/HEK293T-WT-rep1/dataprep    \r\n",
      "    \r\n",
      "out: ./out\r\n",
      "\r\n",
      "method:\r\n",
      "    prefiltering:\r\n",
      "        method: t-test\r\n",
      "        threshold: 0.1\r\n",
      "\r\n"
     ]
    }
   ],
   "source": [
    "!cat Hek293T_config.yml"
   ]
  },
  {
   "cell_type": "markdown",
   "id": "059b46e8",
   "metadata": {},
   "source": [
    "Now that we have the data and the configuration file ready for modelling differential modifications using xpore-diffmod."
   ]
  },
  {
   "cell_type": "code",
   "execution_count": 41,
   "id": "326ef6bd",
   "metadata": {},
   "outputs": [
    {
     "name": "stdout",
     "output_type": "stream",
     "text": [
      "Using the signal of unmodified RNA from /usr/local/lib/python3.6/dist-packages/xpore-2.0-py3.6.egg/xpore/diffmod/model_kmer.csv\n",
      "8 ids to be testing ...\n"
     ]
    }
   ],
   "source": [
    "!xpore diffmod --config Hek293T_config.yml --n_processes 1"
   ]
  },
  {
   "cell_type": "markdown",
   "id": "99fda5f8",
   "metadata": {},
   "source": [
    "The output files are generated within the out directory:\n",
    "<ul>\n",
    "<li>diffmod.table : Result table of differential RNA modification across all tested positions</li>\n",
    "<li>diffmod.log : Log file</li>\n",
    "</ul>"
   ]
  },
  {
   "cell_type": "code",
   "execution_count": 42,
   "id": "ba0625cc",
   "metadata": {},
   "outputs": [
    {
     "name": "stdout",
     "output_type": "stream",
     "text": [
      "diffmod.log  diffmod.table  models\r\n"
     ]
    }
   ],
   "source": [
    "!ls out"
   ]
  },
  {
   "cell_type": "markdown",
   "id": "3d943695",
   "metadata": {},
   "source": [
    "### Postprocessing xpore diffmod output table with xpore postprocessing\n",
    "(Optional) We can consider only one modification type per k-mer by finding the majority mod_assignment of each k-mer. For example, the majority of the modification means of GGACT (mu_mod) is lower than the non-modification counterpart (mu_unmod). We can filter out those positions whose mod_assigment values are not in line with those of the majority in order to restrict ourselves with one modification type per kmer in the analysis. This can be done by running xpore postprocessing."
   ]
  },
  {
   "cell_type": "code",
   "execution_count": 43,
   "id": "4c6e6034",
   "metadata": {},
   "outputs": [],
   "source": [
    "!xpore postprocessing --diffmod out"
   ]
  },
  {
   "cell_type": "markdown",
   "id": "c954b430",
   "metadata": {},
   "source": [
    "An addtional majority_direction_kmer_diffmod.table is generated in the out directory:"
   ]
  },
  {
   "cell_type": "code",
   "execution_count": 44,
   "id": "b35adc5b",
   "metadata": {},
   "outputs": [
    {
     "name": "stdout",
     "output_type": "stream",
     "text": [
      "diffmod.log  diffmod.table  majority_direction_kmer_diffmod.table  models\r\n"
     ]
    }
   ],
   "source": [
    "!ls out"
   ]
  },
  {
   "cell_type": "markdown",
   "id": "2bc55856",
   "metadata": {},
   "source": [
    "The steps above demonstrated how to run xPore to obtain the differential RNA modification result table using a test dataset. \n",
    "\n",
    "# Analyze the differential RNA modification results\n",
    "The steps below will show the analysis of a full dataset based on Supplementary Data 3 from [xPore's publication](https://www.nature.com/articles/s41587-021-00949-w). This Supplementary table merges the xPore diffmod outputs of all sites tested in HEK293T KO, HEK293T KD, and HEK293T WT samples and has an additional column called m6ACE-Seq, which is the ground truth used in the study and is not a part of the xpore diffmod output. \n",
    "\n",
    "The following analysis will compare only HEK293T KO and HEK293T WT to show how to interpret the differential modification rate (DMR).\n",
    "\n",
    "### Download xpore diffmod result table of a full dataset"
   ]
  },
  {
   "cell_type": "code",
   "execution_count": 45,
   "id": "48f8025c",
   "metadata": {},
   "outputs": [
    {
     "name": "stdout",
     "output_type": "stream",
     "text": [
      "--2021-11-01 18:15:16--  https://static-content.springer.com/esm/art%3A10.1038%2Fs41587-021-00949-w/MediaObjects/41587_2021_949_MOESM5_ESM.csv\n",
      "Resolving static-content.springer.com (static-content.springer.com)... 199.232.44.95\n",
      "Connecting to static-content.springer.com (static-content.springer.com)|199.232.44.95|:443... connected.\n",
      "HTTP request sent, awaiting response... 200 OK\n",
      "Length: 32602029 (31M) [application/octet-stream]\n",
      "Saving to: ‘41587_2021_949_MOESM5_ESM.csv’\n",
      "\n",
      "41587_2021_949_MOES 100%[===================>]  31.09M  12.2MB/s    in 2.5s    \n",
      "\n",
      "2021-11-01 18:15:19 (12.2 MB/s) - ‘41587_2021_949_MOESM5_ESM.csv’ saved [32602029/32602029]\n",
      "\n"
     ]
    }
   ],
   "source": [
    "!wget https://static-content.springer.com/esm/art%3A10.1038%2Fs41587-021-00949-w/MediaObjects/41587_2021_949_MOESM5_ESM.csv\n",
    "!mv 41587_2021_949_MOESM5_ESM.csv test_diffmod.table"
   ]
  },
  {
   "cell_type": "markdown",
   "id": "cab3496d",
   "metadata": {},
   "source": [
    "Let's look at the first three lines of the table, which includes the header and two xPore reported sites:"
   ]
  },
  {
   "cell_type": "code",
   "execution_count": 46,
   "id": "014e1f4c",
   "metadata": {},
   "outputs": [
    {
     "name": "stdout",
     "output_type": "stream",
     "text": [
      "chr,id,position,kmer,m6ACE-Seq,coverage_HEK293T-KO-rep1,coverage_HEK293T-KO-rep2,coverage_HEK293T-KO-rep3,coverage_HEK293T-KD-rep1,coverage_HEK293T-KD-rep2,coverage_HEK293T-KD-rep3,coverage_HEK293T-WT-rep1,coverage_HEK293T-WT-rep2,coverage_HEK293T-WT-rep3,mod_rate_HEK293T-KO-rep1,mod_rate_HEK293T-KO-rep2,mod_rate_HEK293T-KO-rep3,mod_rate_HEK293T-KD-rep1,mod_rate_HEK293T-KD-rep2,mod_rate_HEK293T-KD-rep3,mod_rate_HEK293T-WT-rep1,mod_rate_HEK293T-WT-rep2,mod_rate_HEK293T-WT-rep3,diff_mod_rate_HEK293T-KO_vs_HEK293T-WT,diff_mod_rate_HEK293T-KD_vs_HEK293T-KO,diff_mod_rate_HEK293T-KD_vs_HEK293T-WT,z_score_HEK293T-KO_vs_HEK293T-WT,z_score_HEK293T-KD_vs_HEK293T-KO,z_score_HEK293T-KD_vs_HEK293T-WT,pval_HEK293T-KO_vs_HEK293T-WT,pval_HEK293T-KD_vs_HEK293T-KO,pval_HEK293T-KD_vs_HEK293T-WT,mu_unmod,mu_mod,sigma2_unmod,sigma2_mod,conf_mu_unmod,conf_mu_mod,mod_assignment\r\n",
      "12,ENSG00000075415,98601549,GGACT,True,883.0000000000008,970.0,961.9999999999992,964.0,753.0000000000003,449.00000000000017,759.0000000000008,528.9999999999997,950.0000000000006,0.1174992227409669,0.14227810490894174,0.11683554484192013,0.5292641111026364,0.5321483044467121,0.5453002169806328,0.9050938504815992,0.9052809614129697,0.917548644693242,-0.7837701946986607,0.4100332533460509,-0.3737369413526098,-51.954350989966656,19.08593708565689,-17.520025458199814,0.0,3.3049639696816513e-81,1.0078029612484277e-68,124.42803203933708,119.53760542388024,5.011897831359781,18.563279407777628,0.9006422136171917,0.3701909311434241,lower\r\n",
      "12,ENSG00000088986,120498219,GGACT,True,439.99999999999983,552.9999999999999,534.9999999999994,654.0000000000006,485.99999999999983,287.00000000000017,278.0,176.0,308.0,0.278415296644308,0.2390748535471082,0.22422744962584484,0.6213819576208723,0.553917130574971,0.6610166775252643,0.9999964029035764,0.9999943182463836,0.999996753267836,-0.7527566248668448,0.36486605530128224,-0.38789056956556256,-39.36557082564842,12.409764128089154,-17.36742930617769,0.0,2.313332724926541e-35,1.4560461497906267e-67,125.19628196475969,120.15006750516257,5.63320479373965,21.317377217065026,0.7754630975478745,0.4423368140724465,lower\r\n"
     ]
    }
   ],
   "source": [
    "!head -n 3 test_diffmod.table"
   ]
  },
  {
   "cell_type": "markdown",
   "id": "b9d1a563",
   "metadata": {},
   "source": [
    "### Scatter plot of the p-value and the differential modification rate of nnAnn kmers\n",
    "Here we plot the -log10(p-value) against the differential modification rate (DMR) on a scatter plot. As xPore diffmod outputs conditions in alphabetical order (ex. KO_vs_WT as \"K\" comes before \"W\"), we have to switch the DMR direction back to WT_vs_KO by -1*(KO_vs_WT DMR). Users can define DMR and p-value thresholds to identify differentially modified positions. Here we use DMR > 0.5 and p-value < 0.001 as thresholds, where the top right quadrant shows the sites that are identified as differentially modified. "
   ]
  },
  {
   "cell_type": "code",
   "execution_count": 47,
   "id": "710d7b21",
   "metadata": {},
   "outputs": [
    {
     "data": {
      "text/plain": [
       "<matplotlib.lines.Line2D at 0x7fa6869068e0>"
      ]
     },
     "execution_count": 47,
     "metadata": {},
     "output_type": "execute_result"
    },
    {
     "data": {
      "image/png": "[encoded data removed]",
      "text/plain": [
       "<Figure size 432x288 with 1 Axes>"
      ]
     },
     "metadata": {
      "needs_background": "light"
     },
     "output_type": "display_data"
    }
   ],
   "source": [
    "import warnings\n",
    "warnings.filterwarnings('ignore')\n",
    "\n",
    "import pandas as pd\n",
    "import numpy as np\n",
    "import matplotlib.pyplot as plt\n",
    "from itertools import product\n",
    "\n",
    "df = pd.read_csv(\"test_diffmod.table\", header=0)\n",
    "# note: xpore outputs conditions in alphabetical order (ex. KO_vs_WT)\n",
    "pval_KOvsWT = -np.log10(np.array(df['pval_HEK293T-KO_vs_HEK293T-WT']))\n",
    "dmr_KOvsWT  = np.array(df['diff_mod_rate_HEK293T-KO_vs_HEK293T-WT'])\n",
    "# requires to invert dmr_KOvsWT to convert to the WT vs KO direction\n",
    "pval_WTvsKO,dmr_WTvsKO  = pval_KOvsWT, -dmr_KOvsWT \n",
    "plt.scatter(dmr_WTvsKO, pval_WTvsKO,10)\n",
    "plt.xlim(-1,1)\n",
    "plt.xlabel(\"DMR\")\n",
    "plt.ylabel(\"-log10(p-value)\")\n",
    "## users can define the threshold for DMR and p-value\n",
    "dmr_threshold = 0.5\n",
    "pval_threshold = 0.001\n",
    "plt.axvline(dmr_threshold, color='gray', linestyle='-')\n",
    "plt.axhline(-np.log10(pval_threshold), color='gray', linestyle='-')"
   ]
  },
  {
   "cell_type": "markdown",
   "id": "33444ec6",
   "metadata": {},
   "source": [
    "### Frequency of the top ten k-mers at significantly differentially modified positions.\n",
    "Using only the differentially modified sites (DMR > 0.5 and p-value < 0.001) shown in the top right quadrant of the previous plot, we plotted a barplot showing the top 10 most frequently found kmers and the number of differentially modified sites for each kmer."
   ]
  },
  {
   "cell_type": "code",
   "execution_count": 48,
   "id": "23bf3bdc",
   "metadata": {
    "scrolled": true
   },
   "outputs": [
    {
     "data": {
      "text/plain": [
       "Text(0, 0.5, 'Frequency')"
      ]
     },
     "execution_count": 48,
     "metadata": {},
     "output_type": "execute_result"
    },
    {
     "data": {
      "image/png": "[encoded data removed]",
      "text/plain": [
       "<Figure size 720x360 with 1 Axes>"
      ]
     },
     "metadata": {
      "needs_background": "light"
     },
     "output_type": "display_data"
    }
   ],
   "source": [
    "## filtering entries based on the p-value and dmr thresholds\n",
    "dmr_threshold = 0.5\n",
    "pval_threshold = 0.001\n",
    "filtered_df = df.loc[(df['diff_mod_rate_HEK293T-KO_vs_HEK293T-WT'] <  pval_threshold) &\n",
    "                     (abs(df['diff_mod_rate_HEK293T-KO_vs_HEK293T-WT']) > dmr_threshold)]\n",
    "kmer = filtered_df['kmer']\n",
    "unique, counts = np.unique(kmer, return_counts=True)\n",
    "kmer_count_dict = dict(zip(unique, counts))\n",
    "kmer_count_list = [(kmer,kmer_count_dict[kmer]) for kmer in kmer_count_dict]\n",
    "kmer_count_list.sort(key=lambda tup: tup[1], reverse=True)\n",
    "## plot bar plot\n",
    "top10_kmers = kmer_count_list[:10]\n",
    "selected_kmers = [kmer_count[0] for kmer_count in top10_kmers]\n",
    "selected_kmer_counts =  [kmer_count[1] for kmer_count in top10_kmers]\n",
    "fig = plt.figure(figsize = (10, 5))\n",
    "plt.bar(selected_kmers, selected_kmer_counts)\n",
    "plt.xlabel(\"top 10 kmers\")\n",
    "plt.ylabel(\"Frequency\")"
   ]
  },
  {
   "cell_type": "markdown",
   "id": "cf8db2c7",
   "metadata": {},
   "source": [
    "### Modification rate heatmap of the top 50 significant genes ranked by DMRs\n",
    "Here we rank the diffmod table based on the DMR between WT and KO. Then, we plot the modification rates of all replicates in the WT and KO samples of the 50 most significant genes in a heatmap."
   ]
  },
  {
   "cell_type": "code",
   "execution_count": 49,
   "id": "3d896b4a",
   "metadata": {
    "scrolled": true
   },
   "outputs": [
    {
     "data": {
      "text/plain": [
       "Text(204.0, 0.5, 'sample replicate')"
      ]
     },
     "execution_count": 49,
     "metadata": {},
     "output_type": "execute_result"
    },
    {
     "data": {
      "image/png": "[encoded data removed]",
      "text/plain": [
       "<Figure size 1800x360 with 2 Axes>"
      ]
     },
     "metadata": {
      "needs_background": "light"
     },
     "output_type": "display_data"
    }
   ],
   "source": [
    "import seaborn as sns\n",
    "dmr_ranked_df = filtered_df.sort_values('diff_mod_rate_HEK293T-KO_vs_HEK293T-WT',ascending=True)\n",
    "dmr_ranked_df = dmr_ranked_df[[\"id\",\"kmer\",\"diff_mod_rate_HEK293T-KO_vs_HEK293T-WT\",\n",
    "                               \"mod_rate_HEK293T-WT-rep1\",\"mod_rate_HEK293T-WT-rep2\",\"mod_rate_HEK293T-WT-rep3\",\n",
    "                               \"mod_rate_HEK293T-KO-rep1\",\"mod_rate_HEK293T-KO-rep2\",\"mod_rate_HEK293T-KO-rep3\"]]\n",
    "modrate_array = np.array(dmr_ranked_df.dropna())\n",
    "cdict={}\n",
    "for entry in modrate_array[:51]: ##this gives 50 genes\n",
    "    g_id, mod_rates = entry[0], list(entry[3:])\n",
    "    if g_id not in cdict: ##keep the site with the highest DMR in each gene\n",
    "        cdict[g_id]= mod_rates\n",
    "modrate_data=[[g_id]+cdict[g_id] for g_id in cdict]\n",
    "\n",
    "##plot heatmap\n",
    "modrate_heatmap_df = pd.DataFrame.from_records(modrate_data, \n",
    "                                               columns = [\"gene\",\"WT1\",\"WT2\",\"WT3\",\"KO1\",\"KO2\",\"KO3\"],\n",
    "                                               index = \"gene\").T\n",
    "fig = plt.figure(figsize = (25, 5))\n",
    "sns.heatmap(modrate_heatmap_df, cmap=\"YlGnBu\")\n",
    "plt.ylabel('sample replicate')"
   ]
  },
  {
   "cell_type": "markdown",
   "id": "fb5cdaaa",
   "metadata": {},
   "source": [
    "### The number of modified A sites of the top 50 significant genes ranked by DMRs\n",
    "Here we count the number of the modified A sites of the top 50 significant genes determined by DMR (please see above) and present the information as a count heatmap."
   ]
  },
  {
   "cell_type": "code",
   "execution_count": 50,
   "id": "ee44ea4b",
   "metadata": {},
   "outputs": [
    {
     "data": {
      "text/plain": [
       "Text(0.5, 24.0, 'gene')"
      ]
     },
     "execution_count": 50,
     "metadata": {},
     "output_type": "execute_result"
    },
    {
     "data": {
      "image/png": "[encoded data removed]",
      "text/plain": [
       "<Figure size 1800x360 with 2 Axes>"
      ]
     },
     "metadata": {
      "needs_background": "light"
     },
     "output_type": "display_data"
    }
   ],
   "source": [
    "## limit the count heatmap to the top 5 kmers\n",
    "top5_kmers = [kmer[0] for kmer in top10_kmers[:5]]\n",
    "## get the genes plotted in the heatmap above\n",
    "top50_genes=list(cdict.keys())\n",
    "dmr_ranked_df = dmr_ranked_df[dmr_ranked_df['id'].isin(top50_genes)]\n",
    "## count the occurence of each kmer\n",
    "ndict={}\n",
    "for id,kmer in np.array(dmr_ranked_df[[\"id\",\"kmer\"]]).tolist():\n",
    "    if kmer not in ndict:\n",
    "        ndict[kmer]={}\n",
    "        ndict[kmer][id]=1\n",
    "    else:\n",
    "        if id in ndict[kmer]:\n",
    "            ndict[kmer][id]+=1\n",
    "        else:\n",
    "            ndict[kmer][id]=1\n",
    "\n",
    "kmer_gene_counts = []\n",
    "for kmer in top5_kmers:\n",
    "    tmp=[kmer]\n",
    "    for g_id in top50_genes:\n",
    "        if g_id in ndict[kmer]:\n",
    "            tmp.append(ndict[kmer][g_id])\n",
    "        else:\n",
    "            tmp.append(np.nan)\n",
    "    kmer_gene_counts.append(tmp)\n",
    "\n",
    "## plot a subset of kmers and genes for illustration\n",
    "kmer_count_heatmap_df = pd.DataFrame.from_records(kmer_gene_counts,\n",
    "                                                  columns=[\"kmer\"]+top50_genes,\n",
    "                                                  index=\"kmer\")\n",
    "fig = plt.figure(figsize = (25, 5))\n",
    "sns.heatmap(kmer_count_heatmap_df, annot=True, cmap=\"YlGnBu\")\n",
    "plt.xlabel('gene')"
   ]
  }
 ],
 "metadata": {
  "kernelspec": {
   "display_name": "Python 3",
   "language": "python",
   "name": "python3"
  },
  "language_info": {
   "codemirror_mode": {
    "name": "ipython",
    "version": 3
   },
   "file_extension": ".py",
   "mimetype": "text/x-python",
   "name": "python",
   "nbconvert_exporter": "python",
   "pygments_lexer": "ipython3",
   "version": "3.8.8"
  }
 },
 "nbformat": 4,
 "nbformat_minor": 5
}
