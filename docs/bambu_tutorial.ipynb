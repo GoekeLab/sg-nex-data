{
  "nbformat": 4,
  "nbformat_minor": 0,
  "metadata": {
    "colab": {
      "provenance": []
    },
    "kernelspec": {
      "name": "ir",
      "display_name": "R"
    },
    "language_info": {
      "name": "R"
    }
  },
  "cells": [
    {
      "cell_type": "markdown",
      "source": [
        "<a target=\"_blank\" href=\"https://colab.research.google.com/github/N-Hoffmann/sg-nex-data/blob/master/docs/bambu_tutorial.ipynb\">\n",
        "  <img src=\"https://colab.research.google.com/assets/colab-badge.svg\" alt=\"Open In Colab\"/>\n",
        "</a>"
      ],
      "metadata": {
        "id": "62CaDcmWxQcI"
      }
    },
    {
      "cell_type": "markdown",
      "source": [
        "# **Transcript discovery and quantification of SG-NEx samples**\n",
        "\n",
        "In this tutorial, we will perform novel transcript discovery and\n",
        "quantification on the SG-NEx samples. We will be using six Nanopore direct RNA-Sequencing\n",
        "samples, three replicates each from the A549 and\n",
        "HepG2 cell lines. The A549 cell line was extracted from lung tissues\n",
        "from a patient with lung cancer whereas HepG2 was extracted from\n",
        "hepatocellular carcinoma from a patient with liver cancer. We will use\n",
        "Bambu, a R package hosted on the Bioconductor platform to identify and\n",
        "quantify novel isoforms in these cell lines. \n",
        "\n",
        "**Note: This tutorial may take 10 minutes to complete.**\n"
      ],
      "metadata": {
        "id": "PGQmY2jOfMI8"
      }
    },
    {
      "cell_type": "markdown",
      "source": [
        "## **Content**\n",
        "\n",
        "- [Installation](#installation)\n",
        "- [Data Access and Preparation](#data-access-and-preparation) \n",
        "- [Running Bambu](#running-bambu)\n",
        "- [Reference](#reference)\n"
      ],
      "metadata": {
        "id": "X9VkcDQnfxPf"
      }
    },
    {
      "cell_type": "markdown",
      "source": [
        "## **Installation**"
      ],
      "metadata": {
        "id": "bqgd3kkRf9sS"
      }
    },
    {
      "cell_type": "markdown",
      "source": [
        "First, we have to install Bambu. Before that, make sure you have R (version >= 4.1) installed on your machine. We can install Bambu using the following command:"
      ],
      "metadata": {
        "id": "el3CJ2eGkpch"
      }
    },
    {
      "cell_type": "code",
      "execution_count": null,
      "metadata": {
        "colab": {
          "base_uri": "https://localhost:8080/"
        },
        "id": "YndO9JzGsBHT",
        "outputId": "93261d72-9141-4683-eb39-7bd94f803015"
      },
      "outputs": [
        {
          "output_type": "stream",
          "name": "stderr",
          "text": [
            "Installing package into ‘/usr/local/lib/R/site-library’\n",
            "(as ‘lib’ is unspecified)\n",
            "\n",
            "'getOption(\"repos\")' replaces Bioconductor standard repositories, see\n",
            "'help(\"repositories\", package = \"BiocManager\")' for details.\n",
            "Replacement repositories:\n",
            "    CRAN: https://cran.rstudio.com\n",
            "\n",
            "Bioconductor version 3.16 (BiocManager 1.30.20), R 4.2.3 (2023-03-15)\n",
            "\n",
            "Installing package(s) 'BiocVersion', 'bambu'\n",
            "\n",
            "also installing the dependencies ‘rjson’, ‘formatR’, ‘png’, ‘filelock’, ‘XML’, ‘restfulr’, ‘lambda.r’, ‘futile.options’, ‘KEGGREST’, ‘plogr’, ‘BiocFileCache’, ‘MatrixGenerics’, ‘Biobase’, ‘DelayedArray’, ‘Biostrings’, ‘rtracklayer’, ‘matrixStats’, ‘XVector’, ‘futile.logger’, ‘snow’, ‘BH’, ‘RCurl’, ‘GenomeInfoDbData’, ‘AnnotationDbi’, ‘RSQLite’, ‘BiocIO’, ‘biomaRt’, ‘zlibbioc’, ‘bitops’, ‘Rhtslib’, ‘SummarizedExperiment’, ‘S4Vectors’, ‘BSgenome’, ‘IRanges’, ‘BiocGenerics’, ‘BiocParallel’, ‘GenomeInfoDb’, ‘GenomicAlignments’, ‘GenomicFeatures’, ‘GenomicRanges’, ‘Rsamtools’, ‘Rcpp’, ‘xgboost’, ‘RcppArmadillo’\n",
            "\n",
            "\n"
          ]
        }
      ],
      "source": [
        "if (!requireNamespace(\"BiocManager\", quietly = TRUE))\n",
        "    install.packages(\"BiocManager\")\n",
        "\n",
        "BiocManager::install(\"bambu\", update = FALSE)"
      ]
    },
    {
      "cell_type": "markdown",
      "source": [
        "If you want a more recent version of Bambu, you may refer to the Bambu Github repository [here](https://github.com/GoekeLab/bambu). "
      ],
      "metadata": {
        "id": "jEShAjw3ktnI"
      }
    },
    {
      "cell_type": "markdown",
      "source": [
        "\n",
        "## **Data Access and Preparation**\n",
        "### **Download Data for Bambu**\n",
        "Next, we will need to download the required data to run Bambu. The required data include:\n",
        "\n",
        "-   a set of aligned reads to the genome from the A549 and HepG2 cell lines (bam files),\n",
        "-   reference human genome annotations (gtf file, TxDb object, or Bambu\n",
        "    Annotation object),\n",
        "-   reference human genome sequence (fasta file or BSgenome).\n",
        "\n",
        "Generally, you may want to learn how to get access to these data using the [data\n",
        "access\n",
        "tutorial](AWS_data_access_tutorial.md). Below we only show the necessary steps to download the required data. The following command requires you to have [AWS CLI](https://aws.amazon.com/cli/) installed."
      ],
      "metadata": {
        "id": "uOVH1uPGgLZ6"
      }
    },
    {
      "cell_type": "code",
      "source": [
        "# install AWS CLI\n",
        "system(\"sudo apt install awscli\")"
      ],
      "metadata": {
        "id": "NPdFZL70YT-D"
      },
      "execution_count": null,
      "outputs": []
    },
    {
      "cell_type": "code",
      "source": [
        "# create a directory to store the data\n",
        "system(\"mkdir bambu_tutorial\")\n",
        "# download genome fasta file \n",
        "system(\"aws s3 cp --no-sign-request s3://sg-nex-data/data/data_tutorial/annotations/hg38_chr22.fa ./bambu_tutorial\")\n",
        "# download genome index fastai file \n",
        "system(\"aws s3 cp --no-sign-request s3://sg-nex-data/data/data_tutorial/annotations/hg38_chr22.fa.fai ./bambu_tutorial\")\n",
        "# download gtf file\n",
        "system(\"aws s3 cp --no-sign-request s3://sg-nex-data/data/data_tutorial/annotations/hg38_chr22.gtf ./bambu_tutorial\")\n",
        "# download aligned bam files for A549 samples and HepG2 samples\n",
        "system(\"aws s3 sync --no-sign-request s3://sg-nex-data/data/data_tutorial/bam ./bambu_tutorial --include *.bam \")"
      ],
      "metadata": {
        "id": "drRIHMvfXW15"
      },
      "execution_count": null,
      "outputs": []
    },
    {
      "cell_type": "markdown",
      "source": [
        "**NOTE: We have downsampled the Hg38 genome, A549 and HepG2 samples to ensure this tutorial can be completed in 10 minutes. If you want to run Bambu on the original samples, you can find the sample name [here](https://github.com/GoekeLab/sg-nex-data/blob/master/docs/samples.tsv) and amend it into the following code chunk:**"
      ],
      "metadata": {
        "id": "8kKjAsbjhZK0"
      }
    },
    {
      "cell_type": "code",
      "source": [
        "# Note: Please make sure to replace the \"sample_alias\" with your sample name \n",
        "# To download genome bam files\n",
        "system(\"aws s3 sync --no-sign-request s3://sg-nex-data/data/sequencing_data_ont/bam/genome/<sample_alias> ./bambu_tutorial\")"
      ],
      "metadata": {
        "id": "M_rJd7k5iD8V"
      },
      "execution_count": null,
      "outputs": []
    },
    {
      "cell_type": "markdown",
      "source": [
        "### **Prepare Data for Bambu**\n",
        "\n",
        "All required data are now stored in the `bambu_tutorial` folder of the\n",
        "current working directory. Next, we prepare the data to run Bambu."
      ],
      "metadata": {
        "id": "C132aNAQhjKs"
      }
    },
    {
      "cell_type": "code",
      "source": [
        "# set work directory if you are in a different directory\n",
        "setwd(\"bambu_tutorial\")\n",
        "\n",
        "# data preparation\n",
        "library(bambu)\n",
        "fa.file <- \"hg38_chr22.fa\"\n",
        "gtf.file <- \"hg38_chr22.gtf\"\n",
        "annotations <- prepareAnnotations(gtf.file) # This function creates a reference annotation object which is used for transcript discovery and quantification in Bambu.\n",
        "samples.bam <- list.files(\".\", pattern = \".bam$\", full.names = TRUE)"
      ],
      "metadata": {
        "id": "8FZLA9plajvw",
        "colab": {
          "base_uri": "https://localhost:8080/"
        },
        "outputId": "9dbc32b1-d3cf-4610-ae3b-f6ad10589016"
      },
      "execution_count": null,
      "outputs": [
        {
          "output_type": "stream",
          "name": "stderr",
          "text": [
            "Loading required package: SummarizedExperiment\n",
            "\n",
            "Loading required package: MatrixGenerics\n",
            "\n",
            "Loading required package: matrixStats\n",
            "\n",
            "\n",
            "Attaching package: ‘MatrixGenerics’\n",
            "\n",
            "\n",
            "The following objects are masked from ‘package:matrixStats’:\n",
            "\n",
            "    colAlls, colAnyNAs, colAnys, colAvgsPerRowSet, colCollapse,\n",
            "    colCounts, colCummaxs, colCummins, colCumprods, colCumsums,\n",
            "    colDiffs, colIQRDiffs, colIQRs, colLogSumExps, colMadDiffs,\n",
            "    colMads, colMaxs, colMeans2, colMedians, colMins, colOrderStats,\n",
            "    colProds, colQuantiles, colRanges, colRanks, colSdDiffs, colSds,\n",
            "    colSums2, colTabulates, colVarDiffs, colVars, colWeightedMads,\n",
            "    colWeightedMeans, colWeightedMedians, colWeightedSds,\n",
            "    colWeightedVars, rowAlls, rowAnyNAs, rowAnys, rowAvgsPerColSet,\n",
            "    rowCollapse, rowCounts, rowCummaxs, rowCummins, rowCumprods,\n",
            "    rowCumsums, rowDiffs, rowIQRDiffs, rowIQRs, rowLogSumExps,\n",
            "    rowMadDiffs, rowMads, rowMaxs, rowMeans2, rowMedians, rowMins,\n",
            "    rowOrderStats, rowProds, rowQuantiles, rowRanges, rowRanks,\n",
            "    rowSdDiffs, rowSds, rowSums2, rowTabulates, rowVarDiffs, rowVars,\n",
            "    rowWeightedMads, rowWeightedMeans, rowWeightedMedians,\n",
            "    rowWeightedSds, rowWeightedVars\n",
            "\n",
            "\n",
            "Loading required package: GenomicRanges\n",
            "\n",
            "Loading required package: stats4\n",
            "\n",
            "Loading required package: BiocGenerics\n",
            "\n",
            "\n",
            "Attaching package: ‘BiocGenerics’\n",
            "\n",
            "\n",
            "The following objects are masked from ‘package:stats’:\n",
            "\n",
            "    IQR, mad, sd, var, xtabs\n",
            "\n",
            "\n",
            "The following objects are masked from ‘package:base’:\n",
            "\n",
            "    anyDuplicated, aperm, append, as.data.frame, basename, cbind,\n",
            "    colnames, dirname, do.call, duplicated, eval, evalq, Filter, Find,\n",
            "    get, grep, grepl, intersect, is.unsorted, lapply, Map, mapply,\n",
            "    match, mget, order, paste, pmax, pmax.int, pmin, pmin.int,\n",
            "    Position, rank, rbind, Reduce, rownames, sapply, setdiff, sort,\n",
            "    table, tapply, union, unique, unsplit, which.max, which.min\n",
            "\n",
            "\n",
            "Loading required package: S4Vectors\n",
            "\n",
            "\n",
            "Attaching package: ‘S4Vectors’\n",
            "\n",
            "\n",
            "The following objects are masked from ‘package:base’:\n",
            "\n",
            "    expand.grid, I, unname\n",
            "\n",
            "\n",
            "Loading required package: IRanges\n",
            "\n",
            "Loading required package: GenomeInfoDb\n",
            "\n",
            "Loading required package: Biobase\n",
            "\n",
            "Welcome to Bioconductor\n",
            "\n",
            "    Vignettes contain introductory material; view with\n",
            "    'browseVignettes()'. To cite Bioconductor, see\n",
            "    'citation(\"Biobase\")', and for packages 'citation(\"pkgname\")'.\n",
            "\n",
            "\n",
            "\n",
            "Attaching package: ‘Biobase’\n",
            "\n",
            "\n",
            "The following object is masked from ‘package:MatrixGenerics’:\n",
            "\n",
            "    rowMedians\n",
            "\n",
            "\n",
            "The following objects are masked from ‘package:matrixStats’:\n",
            "\n",
            "    anyMissing, rowMedians\n",
            "\n",
            "\n",
            "Loading required package: BSgenome\n",
            "\n",
            "Loading required package: Biostrings\n",
            "\n",
            "Loading required package: XVector\n",
            "\n",
            "\n",
            "Attaching package: ‘Biostrings’\n",
            "\n",
            "\n",
            "The following object is masked from ‘package:base’:\n",
            "\n",
            "    strsplit\n",
            "\n",
            "\n",
            "Loading required package: rtracklayer\n",
            "\n"
          ]
        }
      ]
    },
    {
      "cell_type": "markdown",
      "source": [
        "## **Running Bambu**\n",
        "\n",
        "Now we can run Bambu with these data. For a\n",
        "faster running speed, you can increase the `ncore` parameter up\n",
        "to the total number of samples at your availability. "
      ],
      "metadata": {
        "id": "9BxbQWlKizDI"
      }
    },
    {
      "cell_type": "code",
      "source": [
        "# running Bambu \n",
        "se <- bambu(reads = samples.bam, annotations = annotations, genome = fa.file, ncore = 2)"
      ],
      "metadata": {
        "id": "xOYMAFl7iJB-",
        "colab": {
          "base_uri": "https://localhost:8080/"
        },
        "outputId": "153f43af-bf67-4000-d56c-efc8edfbcd08"
      },
      "execution_count": null,
      "outputs": [
        {
          "output_type": "stream",
          "name": "stderr",
          "text": [
            "WARNING - If you change the number of cores (ncore) between Bambu runs and there is no progress please restart your R session to resolve the issue that originates from the XGboost package.\n",
            "\n",
            "--- Start generating read class files ---\n",
            "\n",
            "'getOption(\"repos\")' replaces Bioconductor standard repositories, see\n",
            "'help(\"repositories\", package = \"BiocManager\")' for details.\n",
            "Replacement repositories:\n",
            "    CRAN: https://cran.rstudio.com\n",
            "\n"
          ]
        },
        {
          "output_type": "stream",
          "name": "stdout",
          "text": [
            "  |                                                                      |   0%[04:26:36] WARNING: src/learner.cc:553: \n",
            "  If you are loading a serialized model (like pickle in Python, RDS in R) generated by\n",
            "  older XGBoost, please export the model by calling `Booster.save_model` from that version\n",
            "  first, then load it back in current version. See:\n",
            "\n",
            "    https://xgboost.readthedocs.io/en/latest/tutorials/saving_model.html\n",
            "\n",
            "  for more details about differences between saving model and serializing.\n",
            "\n",
            "[04:26:36] WARNING: src/learner.cc:553: \n",
            "  If you are loading a serialized model (like pickle in Python, RDS in R) generated by\n",
            "  older XGBoost, please export the model by calling `Booster.save_model` from that version\n",
            "  first, then load it back in current version. See:\n",
            "\n",
            "    https://xgboost.readthedocs.io/en/latest/tutorials/saving_model.html\n",
            "\n",
            "  for more details about differences between saving model and serializing.\n",
            "\n",
            "[04:26:36] WARNING: src/learner.cc:553: \n",
            "  If you are loading a serialized model (like pickle in Python, RDS in R) generated by\n",
            "  older XGBoost, please export the model by calling `Booster.save_model` from that version\n",
            "  first, then load it back in current version. See:\n",
            "\n",
            "    https://xgboost.readthedocs.io/en/latest/tutorials/saving_model.html\n",
            "\n",
            "  for more details about differences between saving model and serializing.\n",
            "\n",
            "[04:26:36] WARNING: src/learner.cc:553: \n",
            "  If you are loading a serialized model (like pickle in Python, RDS in R) generated by\n",
            "  older XGBoost, please export the model by calling `Booster.save_model` from that version\n",
            "  first, then load it back in current version. See:\n",
            "\n",
            "    https://xgboost.readthedocs.io/en/latest/tutorials/saving_model.html\n",
            "\n",
            "  for more details about differences between saving model and serializing.\n",
            "\n",
            "[04:26:44] WARNING: src/learner.cc:553: \n",
            "  If you are loading a serialized model (like pickle in Python, RDS in R) generated by\n",
            "  older XGBoost, please export the model by calling `Booster.save_model` from that version\n",
            "  first, then load it back in current version. See:\n",
            "\n",
            "    https://xgboost.readthedocs.io/en/latest/tutorials/saving_model.html\n",
            "\n",
            "  for more details about differences between saving model and serializing.\n",
            "\n",
            "[04:26:44] WARNING: src/learner.cc:553: \n",
            "  If you are loading a serialized model (like pickle in Python, RDS in R) generated by\n",
            "  older XGBoost, please export the model by calling `Booster.save_model` from that version\n",
            "  first, then load it back in current version. See:\n",
            "\n",
            "    https://xgboost.readthedocs.io/en/latest/tutorials/saving_model.html\n",
            "\n",
            "  for more details about differences between saving model and serializing.\n",
            "\n",
            "  |======================================================================| 100%\n",
            "\n"
          ]
        },
        {
          "output_type": "stream",
          "name": "stderr",
          "text": [
            "Detected 15 warnings across the samples during read class construction. Access warnings with metadata(bambuOutput)$warnings\n",
            "\n",
            "--- Start extending annotations ---\n",
            "\n",
            "Warning message:\n",
            "“\u001b[1m\u001b[22mReturning more (or less) than 1 row per `summarise()` group was deprecated in\n",
            "dplyr 1.1.0.\n",
            "\u001b[36mℹ\u001b[39m Please use `reframe()` instead.\n",
            "\u001b[36mℹ\u001b[39m When switching from `summarise()` to `reframe()`, remember that `reframe()`\n",
            "  always returns an ungrouped data frame and adjust accordingly.\n",
            "\u001b[36mℹ\u001b[39m The deprecated feature was likely used in the \u001b[34mbambu\u001b[39m package.\n",
            "  Please report the issue to the authors.”\n",
            "Using a novel discovery rate (NDR) of: 0.129\n",
            "\n",
            "--- Start isoform quantification ---\n",
            "\n",
            "--- Finished running Bambu ---\n",
            "\n"
          ]
        }
      ]
    },
    {
      "cell_type": "markdown",
      "source": [
        "Bambu returns a `SummarizedExperiment` object with the genomic\n",
        "coordinates of the annotated & novel transcripts and their expression\n",
        "estimates. They can be assessed using the following code:"
      ],
      "metadata": {
        "id": "T8MkkL_3kIDm"
      }
    },
    {
      "cell_type": "code",
      "source": [
        "assays(se) #returns the transcript abundance estimates as counts or CPM."
      ],
      "metadata": {
        "id": "cpt-Kq2YjPuH",
        "colab": {
          "base_uri": "https://localhost:8080/",
          "height": 98
        },
        "outputId": "75c426a2-7f90-45e9-a93f-d52961ba8d5f"
      },
      "execution_count": 1,
      "outputs": [
        {
          "output_type": "error",
          "ename": "ERROR",
          "evalue": "ignored",
          "traceback": [
            "Error in assays(se): could not find function \"assays\"\nTraceback:\n"
          ]
        }
      ]
    },
    {
      "cell_type": "code",
      "source": [
        "rowRanges(se) #returns a GRangesList (with genomic coordinates) with all annotated and newly discovered transcripts."
      ],
      "metadata": {
        "colab": {
          "base_uri": "https://localhost:8080/",
          "height": 803
        },
        "id": "URa-i0o4sZ85",
        "outputId": "37258901-1230-4093-f0ed-7f45ed649427"
      },
      "execution_count": null,
      "outputs": [
        {
          "output_type": "display_data",
          "data": {
            "text/plain": [
              "GRangesList object of length 4547:\n",
              "$BambuTx1\n",
              "GRanges object with 3 ranges and 2 metadata columns:\n",
              "      seqnames            ranges strand | exon_rank exon_endRank\n",
              "         <Rle>         <IRanges>  <Rle> | <integer>    <integer>\n",
              "  [1]       22 15784968-15785057      + |         1            3\n",
              "  [2]       22 15788820-15788931      + |         2            2\n",
              "  [3]       22 15852990-15853424      + |         3            1\n",
              "  -------\n",
              "  seqinfo: 1 sequence from an unspecified genome; no seqlengths\n",
              "\n",
              "$BambuTx2\n",
              "GRanges object with 7 ranges and 2 metadata columns:\n",
              "      seqnames            ranges strand | exon_rank exon_endRank\n",
              "         <Rle>         <IRanges>  <Rle> | <integer>    <integer>\n",
              "  [1]       22 15784971-15785057      + |         1            7\n",
              "  [2]       22 15787172-15787282      + |         2            6\n",
              "  [3]       22 15788552-15788699      + |         3            5\n",
              "  [4]       22 15788820-15788931      + |         4            4\n",
              "  [5]       22 15790661-15790798      + |         5            3\n",
              "  [6]       22 15791017-15791152      + |         6            2\n",
              "  [7]       22 15852990-15855952      + |         7            1\n",
              "  -------\n",
              "  seqinfo: 1 sequence from an unspecified genome; no seqlengths\n",
              "\n",
              "$BambuTx3\n",
              "GRanges object with 10 ranges and 2 metadata columns:\n",
              "       seqnames            ranges strand | exon_rank exon_endRank\n",
              "          <Rle>         <IRanges>  <Rle> | <integer>    <integer>\n",
              "   [1]       22 19450621-19450744      - |        10            1\n",
              "   [2]       22 19454749-19454830      - |         9            2\n",
              "   [3]       22 19455680-19455768      - |         8            3\n",
              "   [4]       22 19456587-19456634      - |         7            4\n",
              "   [5]       22 19456853-19456918      - |         6            5\n",
              "   [6]       22 19458071-19458139      - |         5            6\n",
              "   [7]       22 19465202-19465274      - |         4            7\n",
              "   [8]       22 19467873-19468003      - |         3            8\n",
              "   [9]       22 19471687-19471808      - |         2            9\n",
              "  [10]       22 19479083-19479175      - |         1           10\n",
              "  -------\n",
              "  seqinfo: 1 sequence from an unspecified genome; no seqlengths\n",
              "\n",
              "...\n",
              "<4544 more elements>"
            ]
          },
          "metadata": {}
        }
      ]
    },
    {
      "cell_type": "code",
      "source": [
        "rowData(se) #returns additional information about each transcript such as the gene name and the class of the newly discovered transcript."
      ],
      "metadata": {
        "id": "pChAhm_nsbUL",
        "outputId": "d8feb707-229f-4dbd-81a1-fc965de54652",
        "colab": {
          "base_uri": "https://localhost:8080/",
          "height": 732
        }
      },
      "execution_count": null,
      "outputs": [
        {
          "output_type": "display_data",
          "data": {
            "text/plain": [
              "DataFrame with 4547 rows and 11 columns\n",
              "                         TXNAME          GENEID        NDR novelGene\n",
              "                    <character>     <character>  <numeric> <logical>\n",
              "BambuTx1               BambuTx1 ENSG00000223875 0.00632911     FALSE\n",
              "BambuTx2               BambuTx2 ENSG00000206195 0.11159737     FALSE\n",
              "BambuTx3               BambuTx3 ENSG00000070010 0.01312336     FALSE\n",
              "BambuTx4               BambuTx4 ENSG00000128185 0.03818616     FALSE\n",
              "BambuTx5               BambuTx5 ENSG00000272779 0.00354610     FALSE\n",
              "...                         ...             ...        ...       ...\n",
              "ENST00000641859 ENST00000641859 ENSG00000284633         NA     FALSE\n",
              "ENST00000641915 ENST00000641915 ENSG00000284665         NA     FALSE\n",
              "ENST00000641933 ENST00000641933 ENSG00000284651         NA     FALSE\n",
              "ENST00000641967 ENST00000641967 ENSG00000284630         NA     FALSE\n",
              "ENST00000642075 ENST00000642075 ENSG00000284633         NA     FALSE\n",
              "                novelTranscript     txClassDescription readCount relReadCount\n",
              "                      <logical>            <character> <integer>    <numeric>\n",
              "BambuTx1                   TRUE                 allNew         3    1.0000000\n",
              "BambuTx2                   TRUE newLastJunction:newJ..        11    0.4400000\n",
              "BambuTx3                   TRUE              newWithin        56    0.1272727\n",
              "BambuTx4                   TRUE            newJunction         5    0.0215517\n",
              "BambuTx5                   TRUE newFirstJunction:new..        24    0.3428571\n",
              "...                         ...                    ...       ...          ...\n",
              "ENST00000641859           FALSE             annotation        NA           NA\n",
              "ENST00000641915           FALSE             annotation        NA           NA\n",
              "ENST00000641933           FALSE             annotation        NA           NA\n",
              "ENST00000641967           FALSE             annotation        NA           NA\n",
              "ENST00000642075           FALSE             annotation        NA           NA\n",
              "                relSubsetCount      txid   eqClassById\n",
              "                     <numeric> <integer> <IntegerList>\n",
              "BambuTx1                     1         1             1\n",
              "BambuTx2                     1         2             2\n",
              "BambuTx3                     1         3             3\n",
              "BambuTx4                     1         4             4\n",
              "BambuTx5                     1         5             5\n",
              "...                        ...       ...           ...\n",
              "ENST00000641859             NA      4543          4543\n",
              "ENST00000641915             NA      4544          4544\n",
              "ENST00000641933             NA      4545          4545\n",
              "ENST00000641967             NA      4546          4546\n",
              "ENST00000642075             NA      4547          4547"
            ]
          },
          "metadata": {}
        }
      ]
    },
    {
      "cell_type": "markdown",
      "source": [
        "This `SummarizedExperiment` object can also be used for further downstream analysis (eg. [DESeq](http://bioconductor.org/packages/devel/bioc/vignettes/DESeq2/inst/doc/DESeq2.html)). If you want to save the transcript &  genomic annotations and their expression\n",
        "estimates, you can then write them into an `output` folder using the `writeBambuOutput` function."
      ],
      "metadata": {
        "id": "DxcPEYdNkPwt"
      }
    },
    {
      "cell_type": "code",
      "source": [
        "writeBambuOutput(se, path = \"./output\")"
      ],
      "metadata": {
        "id": "rC2_ufxGjgBu"
      },
      "execution_count": null,
      "outputs": []
    },
    {
      "cell_type": "markdown",
      "source": [
        "The files in the `output` folder is described below:\n",
        "\n",
        "| Output file name                | Description                                                             |\n",
        "|:----------------------------|:------------------------------------------|\n",
        "| extended_annotations.gtf        | Extended transcript & gene annotations for the genome using long reads data.        |\n",
        "| counts_transcript.txt           | Total read counts estimates for each transcript in each sample.        |\n",
        "| CPM_transcript.txt              | Counts per million (CPM) estimates for each transcript in each sample. |\n",
        "| fullLengthCounts_transcript.txt | Full length read counts estimates for each transcript in each sample.  |\n",
        "| uniqueCounts_transcript.txt                | Unique read counts estimates for each transcript in each sample.       |\n",
        "| counts_gene.txt                 | Gene read counts estimates for each transcript in each sample.         |\n",
        "\n",
        "**NOTE: This is a short tutorial to demonstrate the usage of Bambu on the SG-NEx data. Please refer to the [Bambu documentation](https://github.com/GoekeLab/bambu) for a more complete workflow in novel transcript discovery and quantification.**"
      ],
      "metadata": {
        "id": "xZWp9HDDkXVn"
      }
    },
    {
      "cell_type": "markdown",
      "source": [
        "## **Reference**\n",
        "\n",
        "In this tutorial, we extended the existing transcript & gene annotations\n",
        "on the [SGNEx](https://github.com/GoekeLab/sg-nex-data) dataset using\n",
        "[Bambu](https://github.com/GoekeLab/bambu). If you use Bambu and the\n",
        "dataset from SG-NEx in your work, please cite the following paper.\n",
        "\n",
        "Chen, Ying, et al. “A systematic benchmark of Nanopore long read RNA\n",
        "sequencing for transcript level analysis in human cell lines.” bioRxiv\n",
        "(2021). doi: <https://doi.org/10.1101/2021.04.21.440736>"
      ],
      "metadata": {
        "id": "d1XCLTgKkZMR"
      }
    }
  ]
}