{
  "cells": [
    {
      "cell_type": "markdown",
      "metadata": {
        "id": "view-in-github",
        "colab_type": "text"
      },
      "source": [
        "<a href=\"https://colab.research.google.com/github/GoekeLab/sg-nex-data/blob/update_tutorials/docs/colab/Introduction_Genomics_2_GoogleColab.ipynb\" target=\"_parent\"><img src=\"https://colab.research.google.com/assets/colab-badge.svg\" alt=\"Open In Colab\"/></a>"
      ]
    },
    {
      "cell_type": "markdown",
      "metadata": {
        "id": "PCj1dmcGwjYQ"
      },
      "source": [
        "# Genomics Workshop 2: Transcript Discovery and Quantification\n",
        "\n",
        "In this workshop we will learn how to quantify gene expression and transcript expression from RNA-Seq data. We will also learn how to identify new genes and transcripts. We will be using long read Nanopore RNA-Seq data from the Singapore Nanpore Expression Project (SG-NEx). This workshop follows the [online tutorial on Bambu](https://github.com/GoekeLab/sg-nex-data/blob/master/docs/SG-NEx_Bambu_tutorial.md)\n",
        "\n",
        "\n",
        "### Using Google Colab\n",
        "\n",
        "This tutorial requires access to a shell (i.e. Linux, MacOS, or the Windows Subsystem for Linux/WSL). If you do not have access to any shell, you can run this tutorial on Google Colab by clicking the badge on top.\n",
        "\n",
        "If you use Google Colab, you have to add `!` before any shell command to execute it in a subshell. Changing working directories requires to add `%` instead, which executes the command globally.\n",
        "\n",
        "\n",
        "To execute R, you can run the following code:"
      ]
    },
    {
      "cell_type": "code",
      "execution_count": null,
      "metadata": {
        "id": "I11D6W3UyvHU"
      },
      "outputs": [],
      "source": [
        "! pip install rpy2==3.4.2\n",
        "%load_ext rpy2.ipython"
      ]
    },
    {
      "cell_type": "markdown",
      "metadata": {
        "id": "CA7ElYdewjYV"
      },
      "source": [
        "You can now access R through Google Colab as illustrated with this small example code:"
      ]
    },
    {
      "cell_type": "code",
      "execution_count": null,
      "metadata": {
        "id": "e5QwDJp8wjYV"
      },
      "outputs": [],
      "source": [
        "%%R\n",
        "x<-2\n",
        "show(x^2)"
      ]
    },
    {
      "cell_type": "markdown",
      "metadata": {
        "id": "mRYKdxwqwjYW"
      },
      "source": [
        "## Installation"
      ]
    },
    {
      "cell_type": "code",
      "execution_count": null,
      "metadata": {
        "id": "tA7dGO9n1XSU"
      },
      "outputs": [],
      "source": [
        "%%R\n",
        "if (!require(\"BiocManager\", quietly = TRUE))\n",
        "    install.packages(\"BiocManager\")\n",
        "\n",
        "BiocManager::install(\"bambu\", update=FALSE)"
      ]
    },
    {
      "cell_type": "code",
      "execution_count": null,
      "metadata": {
        "id": "MUusKEDIspXH"
      },
      "outputs": [],
      "source": [
        "! sudo apt install awscli"
      ]
    },
    {
      "cell_type": "markdown",
      "metadata": {
        "id": "xxaM0nyFwjYX"
      },
      "source": [
        "Test that bambu can be loaded in R"
      ]
    },
    {
      "cell_type": "code",
      "execution_count": null,
      "metadata": {
        "id": "9c5wKNnH1cR1"
      },
      "outputs": [],
      "source": [
        "%%R\n",
        "library(bambu)\n"
      ]
    },
    {
      "cell_type": "markdown",
      "metadata": {
        "id": "FBXgzYeDwjYY"
      },
      "source": [
        "### Data Download \n",
        "\n",
        "The Singapore Nanopore Expression Project (SG-NEx) has generated a comprehensive resource of long read RNA-Sequencing data using the Oxford Nanopore Sequencing third generation sequencing platform. The data is hosted on the [AWS Open Data Registry](https://registry.opendata.aws/sgnex/) and described in detail here: <https://github.com/GoekeLab/sg-nex-data>\n",
        "\n",
        "For this workshop we will be using a reduced data set which only includes data from the human chromosome 22. The data can be accessed using the AWS command line interface (or using direct links, which you can find in the online documentation)."
      ]
    },
    {
      "cell_type": "code",
      "execution_count": null,
      "metadata": {
        "id": "5o2AfleXwjYY"
      },
      "outputs": [],
      "source": [
        "! aws s3 ls --no-sign-request s3://sg-nex-data/data/data_tutorial/"
      ]
    },
    {
      "cell_type": "code",
      "execution_count": null,
      "metadata": {
        "id": "4tFKiTWiquzg"
      },
      "outputs": [],
      "source": [
        "! mkdir -p workshop/reference\n",
        "! mkdir workshop/fastq\n",
        "! mkdir workshop/bam\n",
        "! mkdir workshop/bambu"
      ]
    },
    {
      "cell_type": "code",
      "execution_count": null,
      "metadata": {
        "id": "py-m4xNKqr2K"
      },
      "outputs": [],
      "source": [
        "! aws s3 cp --no-sign-request s3://sg-nex-data/data/data_tutorial/annotations/hg38_chr22.fa workshop/reference/\n",
        "! aws s3 cp --no-sign-request s3://sg-nex-data/data/data_tutorial/annotations/hg38_chr22.fa.fai workshop/reference/\n",
        "! aws s3 cp --no-sign-request s3://sg-nex-data/data/data_tutorial/annotations/hg38_chr22.gtf workshop/reference/\n"
      ]
    },
    {
      "cell_type": "code",
      "execution_count": null,
      "metadata": {
        "id": "iiXVuCN3rEAN"
      },
      "outputs": [],
      "source": [
        "! aws s3 sync --no-sign-request s3://sg-nex-data/data/data_tutorial/bam/ workshop/bam/"
      ]
    },
    {
      "cell_type": "markdown",
      "metadata": {
        "id": "AF1zxdY1wjYZ"
      },
      "source": [
        " ### Transcript Discovery and Quantification with Bambu"
      ]
    },
    {
      "cell_type": "code",
      "execution_count": null,
      "metadata": {
        "id": "MMNsvJEF10yo"
      },
      "outputs": [],
      "source": [
        "%%R\n",
        "library(bambu)\n",
        "fa.file <- 'workshop/reference/hg38_chr22.fa'\n",
        "gtf.file <- 'workshop/reference/hg38_chr22.gtf'\n",
        "annotations <- prepareAnnotations(gtf.file) # This function creates a reference annotation object which is used for transcript discovery and quantification in Bambu.\n",
        "samples.bam <- list.files(\"workshop/bam/\", pattern = \".bam$\", full.names = TRUE)"
      ]
    },
    {
      "cell_type": "code",
      "execution_count": null,
      "metadata": {
        "id": "IxdLxK2BmMhK"
      },
      "outputs": [],
      "source": [
        "%%R\n",
        "se <- bambu(reads = samples.bam, annotations = annotations, genome = fa.file, ncore = 2)  \n"
      ]
    },
    {
      "cell_type": "markdown",
      "metadata": {
        "id": "pV8BA3oDwjYa"
      },
      "source": [
        "### The SummarizedExperiment object\n",
        "\n",
        "Bambu returns a SummarizedExperiment object. The SummarizedExperiment object stores the quantification results and transcript annotations for the analysis. In addition to the main data matrix, additional information is stored to describe the rows (transcripts or genes) and columns (samples). You can find out more [here]())https://bioconductor.org/help/course-materials/2019/BSS2019/04_Practical_CoreApproachesInBioconductor.html)\n"
      ]
    },
    {
      "cell_type": "code",
      "execution_count": null,
      "metadata": {
        "id": "56zG5ljYnppj"
      },
      "outputs": [],
      "source": [
        "%%R\n",
        "se"
      ]
    },
    {
      "cell_type": "code",
      "execution_count": null,
      "metadata": {
        "id": "57-oxDbjwjYb"
      },
      "outputs": [],
      "source": [
        "%%R\n",
        "colData(se)"
      ]
    },
    {
      "cell_type": "code",
      "execution_count": null,
      "metadata": {
        "id": "CNM62YDrn47S"
      },
      "outputs": [],
      "source": [
        "%%R\n",
        "rowRanges(se) #returns a GRangesList (with genomic coordinates) with all annotated and newly discovered transcripts."
      ]
    },
    {
      "cell_type": "code",
      "execution_count": null,
      "metadata": {
        "id": "S3mYNp7BwjYb"
      },
      "outputs": [],
      "source": [
        "%%R\n",
        "rowData(se) #returns additional information about each transcript such as the gene name and the class of the newly discovered transcript."
      ]
    },
    {
      "cell_type": "code",
      "execution_count": null,
      "metadata": {
        "id": "_kjYyaDEwjYb"
      },
      "outputs": [],
      "source": [
        "%%R\n",
        "assays(se) #returns the transcript abundance estimates as counts or CPM."
      ]
    },
    {
      "cell_type": "code",
      "execution_count": null,
      "metadata": {
        "id": "63wxDftBwjYb"
      },
      "outputs": [],
      "source": [
        "%%R\n",
        "head(assays(se)$CPM) #returns the first 6 rows of the CPM matrix."
      ]
    },
    {
      "cell_type": "markdown",
      "metadata": {
        "id": "5Ud2Nd0XwjYc"
      },
      "source": [
        "### Novel transcripts and genes"
      ]
    },
    {
      "cell_type": "code",
      "execution_count": null,
      "metadata": {
        "id": "kvkTsbwEwjYc"
      },
      "outputs": [],
      "source": [
        "%%R\n",
        "show(table(mcols(se)$novelTranscript))\n",
        "show(which(mcols(se)$novelGene)) # lists new gene candidates\n",
        "show(rowRanges(se)[which(mcols(se)$novelGene)[1]]) # shows the ranges of a transcript from a novel gene candidate"
      ]
    },
    {
      "cell_type": "markdown",
      "metadata": {
        "id": "COZLPUbwwjYc"
      },
      "source": [
        "### Which BCR transcript is expressed?\n",
        "\n",
        ">Exercise: Which transcript form the BCR gene (ENSG00000186716) is most highly expressed? How many full length reads support this transcript? Visualise the data in the [UCSC Genome Browser](https://genome.ucsc.edu/cgi-bin/hgGateway) using these custom tracks for the HepG2 direct RNA-Seq data set:\n",
        "\n",
        "```\n",
        "track type=bigWig name=\"SGNex_HepG2_directRNA_replicate1_run3.bigwig\" description=\"SGNex_HepG2_directRNA_replicate1_run3.bigwig\" bigDataUrl=http://sg-nex-data.s3.amazonaws.com/data/sequencing_data_ont/genome_browser_data/bigwig/SGNex_HepG2_directRNA_replicate1_run3.bigwig\n",
        "\n",
        "track type=bigBed name=\"SGNex_HepG2_directRNA_replicate1_run3.bigbed\" description=\"SGNex_HepG2_directRNA_replicate1_run3.bigbed\" bigDataUrl=http://sg-nex-data.s3.amazonaws.com/data/sequencing_data_ont/genome_browser_data/bigbed/SGNex_HepG2_directRNA_replicate1_run3.bigbed"
      ]
    },
    {
      "cell_type": "code",
      "execution_count": null,
      "metadata": {
        "id": "6qjIXj8HwjYc"
      },
      "outputs": [],
      "source": [
        "%%R\n",
        "round(assays(se)$counts[grep('ENSG00000186716', rowData(se)$GENEID),],4)"
      ]
    },
    {
      "cell_type": "code",
      "execution_count": null,
      "metadata": {
        "id": "AImKYWsYwjYc"
      },
      "outputs": [],
      "source": [
        "%%R\n",
        "round(assays(se)$fullLengthCounts[grep('ENSG00000186716', rowData(se)$GENEID),],4)"
      ]
    },
    {
      "cell_type": "markdown",
      "metadata": {
        "id": "l0cLK_lqwjYc"
      },
      "source": [
        "### Transcript and Gene Expression"
      ]
    },
    {
      "cell_type": "code",
      "execution_count": null,
      "metadata": {
        "id": "wb-QHImTwjYd"
      },
      "outputs": [],
      "source": [
        "%%R\n",
        "se_gene <- transcriptToGeneExpression(se)"
      ]
    },
    {
      "cell_type": "markdown",
      "metadata": {
        "id": "U755uXQWwjYd"
      },
      "source": [
        "### Export the output"
      ]
    },
    {
      "cell_type": "code",
      "execution_count": null,
      "metadata": {
        "id": "BM13oLU-875U"
      },
      "outputs": [],
      "source": [
        "%%R\n",
        "writeBambuOutput(se, path = \"./workshop/bambu/\")"
      ]
    },
    {
      "cell_type": "code",
      "execution_count": null,
      "metadata": {
        "id": "Pk3jHm2Bn69Z"
      },
      "outputs": [],
      "source": [
        "! ls workshop/bambu/\n",
        "! head workshop/bambu/*"
      ]
    }
  ],
  "metadata": {
    "colab": {
      "name": "Introduction_Genomics_2_GoogleColab.ipynb",
      "private_outputs": true,
      "provenance": [],
      "include_colab_link": true
    },
    "gpuClass": "standard",
    "kernelspec": {
      "display_name": "Python 3",
      "language": "python",
      "name": "python3"
    },
    "language_info": {
      "name": "python",
      "version": "3.6.9"
    },
    "vscode": {
      "interpreter": {
        "hash": "31f2aee4e71d21fbe5cf8b01ff0e069b9275f58929596ceb00d14d90e3e16cd6"
      }
    }
  },
  "nbformat": 4,
  "nbformat_minor": 0
}