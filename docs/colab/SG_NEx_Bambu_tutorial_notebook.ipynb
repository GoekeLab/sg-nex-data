{
  "cells": [
    {
      "cell_type": "markdown",
      "metadata": {
        "id": "K6Kfw4h-0S09"
      },
      "source": [
        "[![Open In Colab](https://colab.research.google.com/assets/colab-badge.svg)](https://colab.research.google.com/github/GoekeLab/sg-nex-data/blob/master/docs/SG-NEx_Bambu_tutorial_notebook.ipynb)\n",
        "\n"
      ]
    },
    {
      "cell_type": "markdown",
      "metadata": {
        "id": "PGQmY2jOfMI8"
      },
      "source": [
        "# **Transcript discovery and quantification using Bambu for long read RNA-sequencing samples**\n",
        "\n",
        "In this tutorial, we will perform novel transcript discovery and\n",
        "quantification on the SG-NEx samples. We will be using six Nanopore direct RNA-Sequencing\n",
        "samples, with three replicates each from the A549 and\n",
        "HepG2 cell lines. The A549 cell line was extracted from lung tissues\n",
        "of a patient with lung cancer whereas HepG2 was extracted from\n",
        "hepatocellular carcinoma of a patient with liver cancer. We will use\n",
        "[Bambu](http://bioconductor.org/packages/bambu/), a R package hosted on the Bioconductor platform to identify and\n",
        "quantify novel isoforms in these cell lines.\n",
        "\n",
        "**Note: This tutorial may take 10 minutes to complete. The installation of Bambu on this notebook may take up to 20 minutes. If you have bambu installed locally, you can also copy the commands to run it locally.**\n"
      ]
    },
    {
      "cell_type": "markdown",
      "metadata": {
        "id": "X9VkcDQnfxPf"
      },
      "source": [
        "## **Content**\n",
        "\n",
        "- [Installation](#installation)\n",
        "- [Data Access and Preparation](#data-access-and-preparation)\n",
        "- [Running Bambu](#running-bambu)\n",
        "- [Reference](#reference)\n"
      ]
    },
    {
      "cell_type": "markdown",
      "metadata": {
        "id": "bqgd3kkRf9sS"
      },
      "source": [
        "## **Installation**"
      ]
    },
    {
      "cell_type": "markdown",
      "metadata": {
        "id": "el3CJ2eGkpch"
      },
      "source": [
        "To install **bambu**, make sure you have **R** (version >= 4.2) installed on your machine. Then you can install **bambu** using the following commands:"
      ]
    },
    {
      "cell_type": "code",
      "execution_count": null,
      "metadata": {
        "id": "YndO9JzGsBHT",
        "vscode": {
          "languageId": "r"
        }
      },
      "outputs": [],
      "source": [
        "if (!requireNamespace(\"BiocManager\", quietly = TRUE))\n",
        "    install.packages(\"BiocManager\")\n",
        "\n",
        "BiocManager::install(\"bambu\", update = FALSE)"
      ]
    },
    {
      "cell_type": "code",
      "source": [
        "## later we will need to do some plotting. which require some plotting packages\n",
        "BiocManager::install(\"ggbio\")\n",
        "BiocManager::install(\"ggplot2\")\n",
        "BiocManager::install(\"gridExtra\")\n",
        "BiocManager::install(\"circlize\")\n",
        "BiocManager::install(\"ComplexHeatmap\")\n",
        "BiocManager::install(\"grid\")"
      ],
      "metadata": {
        "id": "ZmdWaMVs7Dmo",
        "colab": {
          "base_uri": "https://localhost:8080/"
        },
        "outputId": "8d30fa27-d667-4730-87cf-eaadcb993641"
      },
      "execution_count": null,
      "outputs": [
        {
          "metadata": {
            "tags": null
          },
          "name": "stderr",
          "output_type": "stream",
          "text": [
            "'getOption(\"repos\")' replaces Bioconductor standard repositories, see\n",
            "'help(\"repositories\", package = \"BiocManager\")' for details.\n",
            "Replacement repositories:\n",
            "    CRAN: https://cran.rstudio.com\n",
            "\n",
            "Bioconductor version 3.17 (BiocManager 1.30.21), R 4.3.1 (2023-06-16)\n",
            "\n",
            "Installing package(s) 'ggbio'\n",
            "\n",
            "also installing the dependencies ‘checkmate’, ‘htmlwidgets’, ‘plyr’, ‘htmlTable’, ‘viridis’, ‘Formula’, ‘dichromat’, ‘graph’, ‘RBGL’, ‘reshape’, ‘ProtGenerics’, ‘lazyeval’, ‘gridExtra’, ‘reshape2’, ‘Hmisc’, ‘biovizBase’, ‘VariantAnnotation’, ‘OrganismDbi’, ‘GGally’, ‘ensembldb’, ‘AnnotationFilter’\n",
            "\n",
            "\n"
          ]
        }
      ]
    },
    {
      "cell_type": "markdown",
      "metadata": {
        "id": "jEShAjw3ktnI"
      },
      "source": [
        "If you want a more recent version of Bambu, you may refer to the [Bambu Github repository](https://github.com/GoekeLab/bambu). Note that if you are running command locally with **bambu** pre-installed, you may skip this section."
      ]
    },
    {
      "cell_type": "markdown",
      "metadata": {
        "id": "uOVH1uPGgLZ6"
      },
      "source": [
        "\n",
        "## **Data Access and Preparation**\n",
        "\n",
        "\n",
        "\n"
      ]
    },
    {
      "cell_type": "markdown",
      "metadata": {
        "id": "osU2ZgPrpgdf"
      },
      "source": [
        "Generally, you may want to learn how to get access to these data using the [data\n",
        "access\n",
        "tutorial](AWS_data_access_tutorial.md). Below we only show the necessary steps to download the required data. The following command requires you to have [AWS CLI](https://aws.amazon.com/cli/) installed."
      ]
    },
    {
      "cell_type": "markdown",
      "metadata": {
        "id": "PLn04xKepgdf"
      },
      "source": [
        "But for this tutorial, we provide another approach to use *AWS CLI* within *R*"
      ]
    },
    {
      "cell_type": "code",
      "execution_count": null,
      "metadata": {
        "vscode": {
          "languageId": "r"
        },
        "colab": {
          "base_uri": "https://localhost:8080/"
        },
        "id": "W2pStYfhpgdg",
        "outputId": "67c5b40f-388c-4213-8810-9bf53dff901c"
      },
      "outputs": [
        {
          "output_type": "stream",
          "name": "stderr",
          "text": [
            "Installing package into '/usr/local/lib/R/site-library'\n",
            "(as 'lib' is unspecified)\n",
            "\n"
          ]
        }
      ],
      "source": [
        "# install AWS for R\n",
        "install.packages(\"aws.s3\")\n",
        "# set region for AWS\n",
        "Sys.setenv(\"AWS_DEFAULT_REGION\" = 'ap-southeast-1')"
      ]
    },
    {
      "cell_type": "markdown",
      "metadata": {
        "id": "7595cxzlpgdg"
      },
      "source": [
        "### **Download reference genome and annotations**\n",
        "\n",
        "The default mode to run Bambu is using a set of aligned reads (bam files), reference genome annotations (gtf file, TxDb object, or bambuAnnotation object), and reference genome sequence (fasta file or BSgenome). Here we use the ensembl GRCh 38 genome sequence and annotation files, which we have downloaded and stored in the SG-NEx data open S3 bucket."
      ]
    },
    {
      "cell_type": "code",
      "source": [
        "# create a directory to store the data\n",
        "dir.create(\"bambu_tutorial\")"
      ],
      "metadata": {
        "colab": {
          "base_uri": "https://localhost:8080/"
        },
        "id": "0yiOyYw6t7iu",
        "outputId": "a9611bf7-63cc-403b-8ba4-ac68f02a5996"
      },
      "execution_count": null,
      "outputs": [
        {
          "output_type": "stream",
          "name": "stderr",
          "text": [
            "Warning message in dir.create(\"bambu_tutorial\"):\n",
            "\"'bambu_tutorial' already exists\"\n"
          ]
        }
      ]
    },
    {
      "cell_type": "code",
      "source": [
        "setwd(\"./bambu_tutorial\")"
      ],
      "metadata": {
        "id": "NmHT2bUut8JD"
      },
      "execution_count": null,
      "outputs": []
    },
    {
      "cell_type": "code",
      "execution_count": null,
      "metadata": {
        "vscode": {
          "languageId": "r"
        },
        "colab": {
          "base_uri": "https://localhost:8080/",
          "height": 69
        },
        "id": "f6HJqusfpgdh",
        "outputId": "270f594b-2c3b-40ff-9222-561c9d19d51e"
      },
      "outputs": [
        {
          "output_type": "display_data",
          "data": {
            "text/html": [
              "'hg38_chr22.fa'"
            ],
            "text/markdown": "'hg38_chr22.fa'",
            "text/latex": "'hg38\\_chr22.fa'",
            "text/plain": [
              "[1] \"hg38_chr22.fa\""
            ]
          },
          "metadata": {}
        },
        {
          "output_type": "display_data",
          "data": {
            "text/html": [
              "'hg38_chr22.fa.fai'"
            ],
            "text/markdown": "'hg38_chr22.fa.fai'",
            "text/latex": "'hg38\\_chr22.fa.fai'",
            "text/plain": [
              "[1] \"hg38_chr22.fa.fai\""
            ]
          },
          "metadata": {}
        },
        {
          "output_type": "display_data",
          "data": {
            "text/html": [
              "'hg38_chr22.gtf'"
            ],
            "text/markdown": "'hg38_chr22.gtf'",
            "text/latex": "'hg38\\_chr22.gtf'",
            "text/plain": [
              "[1] \"hg38_chr22.gtf\""
            ]
          },
          "metadata": {}
        }
      ],
      "source": [
        "# download genome fasta file\n",
        "aws.s3::save_object(\n",
        "  object=\"data/data_tutorial/annotations/hg38_chr22.fa\",\n",
        "  bucket=\"sg-nex-data\",\n",
        "  file=\"hg38_chr22.fa\")\n",
        "# download genome index fastai file\n",
        "aws.s3::save_object(\n",
        "  object=\"data/data_tutorial/annotations/hg38_chr22.fa.fai\",\n",
        "  bucket=\"sg-nex-data\",\n",
        "  file=\"hg38_chr22.fa.fai\")\n",
        "# download gtf file\n",
        "aws.s3::save_object(\n",
        "  object=\"data/data_tutorial/annotations/hg38_chr22.gtf\",\n",
        "  bucket=\"sg-nex-data\",\n",
        "  file=\"hg38_chr22.gtf\")"
      ]
    },
    {
      "cell_type": "markdown",
      "metadata": {
        "id": "kLUPyup9pgdh"
      },
      "source": [
        "### **Download raw fastq file and perform alignment**\n",
        "\n",
        "The SG-NEx project provides aligned reads that can be used directly with Bambu, however sometimes, raw fastq reads might be provided instead of aligned reads."
      ]
    },
    {
      "cell_type": "code",
      "execution_count": null,
      "metadata": {
        "vscode": {
          "languageId": "r"
        },
        "id": "qxfk0dRIpgdh"
      },
      "outputs": [],
      "source": [
        "fastq_list=c(\"A549_directRNA_sample1.fastq.gz\",\n",
        "           \"A549_directRNA_sample2.fastq.gz\",\n",
        "           \"A549_directRNA_sample3.fastq.gz\",\n",
        "           \"HepG2_directRNA_sample1.fastq.gz\",\n",
        "           \"HepG2_directRNA_sample2.fastq.gz\",\n",
        "           \"HepG2_directRNA_sample3.fastq.gz\")\n",
        "for (fastq in fastq_list[1]){ # here we try with one sample\n",
        "  aws.s3::save_object(\n",
        "    object=paste0(\"data/data_tutorial/fastq/\",fastq),\n",
        "    bucket = \"sg-nex-data\",\n",
        "    file=basename(fastq))\n",
        "}"
      ]
    },
    {
      "cell_type": "code",
      "source": [
        "# visualizing fastq file\n",
        "message <- system(\"zcat A549_directRNA_sample1.fastq.gz | head -8\", intern = TRUE)\n",
        "print(message)"
      ],
      "metadata": {
        "colab": {
          "base_uri": "https://localhost:8080/",
          "height": 211
        },
        "id": "OGlFnrtsyjYP",
        "outputId": "a720ccf9-8879-435b-8d16-dd48c1d3af2d"
      },
      "execution_count": null,
      "outputs": [
        {
          "output_type": "display_data",
          "data": {
            "text/html": [
              "'/content/bambu_tutorial/bambu_tutorial/bambu_tutorial/bambu_tutorial'"
            ],
            "text/markdown": "'/content/bambu_tutorial/bambu_tutorial/bambu_tutorial/bambu_tutorial'",
            "text/latex": "'/content/bambu\\_tutorial/bambu\\_tutorial/bambu\\_tutorial/bambu\\_tutorial'",
            "text/plain": [
              "[1] \"/content/bambu_tutorial/bambu_tutorial/bambu_tutorial/bambu_tutorial\""
            ]
          },
          "metadata": {}
        },
        {
          "output_type": "display_data",
          "data": {
            "text/html": [
              "TRUE"
            ],
            "text/markdown": "TRUE",
            "text/latex": "TRUE",
            "text/plain": [
              "[1] TRUE"
            ]
          },
          "metadata": {}
        },
        {
          "output_type": "stream",
          "name": "stdout",
          "text": [
            "[1] \"@a041389b-3e9d-45ce-8f99-f30642354559\"                                                                                                                                                                                                                                                                                                                                                                                                                                                                                                                                                                                                                                                                                                                                                                                                                                                                                                                                                                                                                                                                                                                                                                                       \n",
            "[2] \"CTCGGAAGCGGTGCACCCAGAGGCGGTCCTGTAGCCGGGCAAGCACTGGGCTTTGGTTTATGTCCCTGCGGTCGGTGCAAAGGGCGAAGAGGAACCCTTGGGCCGGGGAAACGCCGGGCCGGGCCAGTGACACACCCTCCCTAGTTGTGGGAGCAGACGCGTGGGCCATTGCGGGCGGGCAGGCCTGAAGTGCAGCTATCGTTCAGTGTCCTTGGGTGTTCCAAGAGCAACAAGAAACGAAATAAATCTCTGTTGAAGATACCATTTGACTTTTAGAGATGGCTGTATGCAAACTCTGAAACATTGAATTCACTTCTGCAGTTTCCACAGAAGTCTCCAATCACAATTTCAGTGTATGAAAGCACAGATTCCTGAAAGAATGGCCTCTCAAATGAGACTCCAGGAGTGGGAGCTTACCGTTATCCCTGCTCCTGAAAAACAAGCTAACTGGAAGTTCCATTCACCTGCCACCAGCAACGTTACCACTACACTACCCATTGAACTACCTTCGGTTGATCTGCCAGCTAATTCATGCCCCTGACCCAGCCCACATGGCTTTGGGAAGGACATTCAGTGAACTGTGAAAGAGACCGGAGATTCACTCTGTTGCCAGGCATTGGAGTGCAATGGCACAATTTCGGCTATCCACAATTTCTGTCTCCCCAGATCAAGCTATTTACCTCTGCCACTGTACCCCTAAGGAGAATAAAGGACTACAGATGAAGCACCATTAACGTAGACAGAAGAGCACAAAGTCAAACCTTTGTTGTCGAAGCGTCTTACGAGTCCATCACAAACTGTTCACAAAAATATGAAACCCAGGCAAAGGTTCAGACATACGACGTTTGTTTTAAAATCACCTTTACAGCCTTGTATACCTTACCTTTTAAAATGTGTTATGAGTTTTATTTAGACTAACATCATACGATTAATTGATACGCCAGTATTCAGTTGCTGTGTTTGATGAATCAAATGGTAAATCAATTTGTGTACTTTAATAAAGTATATCGAATGCAAAATCCCCACCCCATCCCACCATTCATATCCATTCCCCCATCTACCATCCCAAAATCCTTCCAGG\"                                                                                                   \n",
            "[3] \"+\"                                                                                                                                                                                                                                                                                                                                                                                                                                                                                                                                                                                                                                                                                                                                                                                                                                                                                                                                                                                                                                                                                                                                                                                                                           \n",
            "[4] \"##&'(*')%&)()))4/+(&(*,)-.-21,**++,),.,),+*(&%$$*,')&-70++*').0)61('%))'(*-+0.11/'72'+,-**,.-0,--.+)**(%$(**)+(&#(*)1/((-1*1/),,,(,.+(//&%-5,&&/1,,,14,)))**+/(&(%(+,*'(/+,*)36&&).\\\"$&,(/)-+*')*++/0.)($%%&($+2-+2((-+40)')'+*21../0-0+,0'*0('*+9-,090+',+*+)+(..12..2-**.4,1,(/-&)'(**,*-++*))*-/9<3**&/,/7.*),2&,7'+%$$&,$()((-26(0+(&))'0''%'23-9)%#)*++**'/012129),2.'((**0.4+/---08/)0,$(,+,''')05-,'%%&&$/(&.*''%&*.)*%%$#&-(.0--343-1*)*()+2:<8/0204-,5+')--&*-03-+*)'%$).',-.(*,///&($#\\\"$&((%%%$%%%&(+4/)&*)+,'*(,+%#%&)'**+,),-32,+*)+-),*./2(5/1'/++21-.28,((&'&,#'-1+//&()('&$&'*(*--40.//3.31,()(''(-0+)'*%&&$'$)&37596/0-)&)')'),..-,)(00*+,.+*(--+1+(+(..,-++'((%(*(&%(9<2132/(,/)&/+,.)$'.%%*-4/*),+&$(-3*'#(')%''&%).&/)+%()()++++)-&((/('+()$\\\"##()&*+*)++,,,0008-,--/70+(&(+&&%(%$$($''(#%'+%)(--**/'&'%'(/+*+++-((*3:87**+*+4/')-++/-*/4.2-//)%*'&'#%%&'''(*++.763,5;1('&*&$%%&***-6)&'%&$\\\"&'&+$,(*-,+)<<-,00-775211-483.//---/.,+/-*+(()(%'#%%&$%&*)),-,,/2-020241-/06/66--+/622213:5,,-15*(..)0,)%*,/2('&''&$*0-&)(%''&&&%$$#&)-**&(,+*&)22*&&,/%$$%(1#$&%%%#$%%&&(&%&$&(1-%#%#$&%&$&()$*))#&++(,.$$$\"                                                                                               \n",
            "[5] \"@199662f2-6160-4c41-a236-e93eeec6fbb0\"                                                                                                                                                                                                                                                                                                                                                                                                                                                                                                                                                                                                                                                                                                                                                                                                                                                                                                                                                                                                                                                                                                                                                                                       \n",
            "[6] \"GCTTGCGAGGCCCTAAAAGCAGCAGCGGCGTGGTCGGCAGAGCGAGCTCGGAGAAGCAGTAGTGGGTTCCATGTGAGATGGTGGAGTAGGCAGGTCTCCGCGCTACTTTGAAACATAGACATTTGTGTGTGTTTAGTTAGTCACCCTGCTGTGGAATAGAGGCCAGAAACTGATCAGTTTCATCAAAGAGTAACTTTGTACCCATCACTGAGTATTCCTTCAAAGAACTGCCCTTTCCCAGCAGCTTTAAGTTACTCATGTGGCAAAGATGGCAGGGATTTCCCAAAGGTTTTCTGGCTGAAACATATTCCGTGGGTGTATCTGGTCACAGCAGTTTCCTCATCCCCTGCAGCTGTTAAGAAACAGGTCATGCTGTCCTTCCAGGTTCAACAGTATGGCTCCAAAGGATGAAATTTCATTCTGATTTTCTGGCTGAAGACTATTATTTCTCTTGCAGGCATGCACCACAGTTACTTATCCTCCACATATCCGTTGATGAGGCAGTTCCGCTGACTCGCCACAGGCTGAGTGCAGGCAGTGGCATGATCTCAGCTCTATTGCAAGCTCTGCTCCTGGGTTCACGCCATTCTCCTGCCTACAGCCTCCTTGAGTAGCTGATTACAGGCACCCGCTTCCGCCCAGCTGGTTGGTGGAGAATCTGAACTGGAGATGAACATTATCCAGGATGCTGAGAGTATAATACGCAAGACAGAGCTTTTAGAGCACTGTGACGTAACATGCACATGGCAGAAAATGGAAGCATGTTTACAGCCATCATATGAAAAGTGTTTGGAATGTCAGACTAGCACAAGAAGTTGCTAATTAACAAGACTGCTGAAAAATGAGTGCTGTGGATGACCGAGTAGCAGGTATGGGGTTGATTGTTAGGGGAAGTATAACTTAAAAGTTTATAAAGTTTCACTTCTATATTTATAGGTAATGTAGATTTGTTGACACTACTTTGATTTAAAATAAATGGAAATGTATGGAAATTTTACTTTATTATCGAAAACCTGAAGAGTGAAAGTGAAGAAAAATAACCTATAGTAGACAATATAAACTGCCGTTGTTCATAAATTTAGAAAATATTCAGTACGGAGTGCTATGAAATCTATCAGAAAATAACAGTATTTTATGGTAAATCCCTACCCACCATCATCCATCCCAAATCCCTCCAG\"  \n",
            "[7] \"+\"                                                                                                                                                                                                                                                                                                                                                                                                                                                                                                                                                                                                                                                                                                                                                                                                                                                                                                                                                                                                                                                                                                                                                                                                                           \n",
            "[8] \"#(#)*,-'++*/,%'-//))+-32/.3/+*))2(($('()*+*+.))-+(,,++0+*)*)$+(+,+/0521-,*)((**&-+0,+((&(*$$/*%&$&*(***,/+/-.)+4.'()%'$$&(),*))(++-(-*#*-5*+'$#(44+20310/1/0,()&(+(/,.,:,$%''*0.,.*)$&&&'.'&&%&0*(++,-0.1534($##%&%'$''&,*&+&&'(*)-,//66+)*,,96110,,((+%(--))'&)(),,-21.-*+*((*2'&(+(%(,),3)'1/(2(3*(%'%%$*(+7-((((-,)('%+4-*+--/$*/+(&(&)')/133-(1'&(')493(%%()0**()%,-14+*(+,%&$$#'+/*+.&'**))2+++0.,,/11.60/-1-/4*1,,-*26'.,'$%%(%./--+,(&$&'&),-2..,,)+*+.+*$'%)-'&#)-'(,/-$)(%)0/0-**00,+.($-'#$$$%&')'+,+-.*'(,'**+'&(&&()'(('%%'\\\"(&)1)*-*+,-,$-%$$*).3)))*())')))-($'$'(%$%%&*)%')%*),(*.+2)&')*-.-(*&&&*))..*'((,.,(,,'/,,+*+,)'('*,('%),('*52'$&&'*$*5,+//*.102990/++(*3/,)()/%'')(+*+*.&%$'))+-0*10,--),.(((((**,+'(())+,*+*--.-),42-/.+*)%&&',++***,%&%%&%'%%$%('')(/.*)(-(*%&#&&&*-$%()*1*)%%'((*,04,(),6639+2(**((**./0%)(')-.((,('((%'&,*)+0*.0**'),1.,-5793-/+-*##,(*0-0//-+(('&#&)''.-,(*-32+/1-/9/)*,&(-10'-(+((,-(-)09:-)/80))(5,',-($$$&($'$&$+('$'&*1+-+*..--/04/+3,**+(%((()(*+-:81:,:2''7/,/,42+*(')++1-:5*85)('-*&%$*&($&)0.2/4--0/)+**)-*&'#&)+)2<850/1.'&&&(&/(++,042&)),/*&+))%)+0),,%$&+/+*/1&*3:70*+3-.''())+---./*/00,07-*(')&%('*622*/-(&()'*2/*%'%&&*.-)./,($')&$'+($#$%$$##%&'%(($%*(#&+\\\"#\"\n"
          ]
        }
      ]
    },
    {
      "cell_type": "markdown",
      "metadata": {
        "id": "KtVh26Prpgdi"
      },
      "source": [
        " In that case, alignment must be done first and can be done as follows:"
      ]
    },
    {
      "cell_type": "code",
      "source": [
        "# install minimap2\n",
        "system(\"curl -L https://github.com/lh3/minimap2/releases/download/v2.26/minimap2-2.26_x64-linux.tar.bz2 | tar -jxvf - \")\n",
        "system(\"./minimap2-2.26_x64-linux/minimap2\")"
      ],
      "metadata": {
        "colab": {
          "base_uri": "https://localhost:8080/"
        },
        "id": "as6g_F6rqZ8P",
        "outputId": "395b1069-56b7-48f5-abf7-68969dd3cd8c"
      },
      "execution_count": null,
      "outputs": [
        {
          "output_type": "stream",
          "name": "stdout",
          "text": [
            " [1] \"minimap2-2.26_x64-linux/\"            \n",
            " [2] \"minimap2-2.26_x64-linux/FAQ.md\"      \n",
            " [3] \"minimap2-2.26_x64-linux/minimap2\"    \n",
            " [4] \"minimap2-2.26_x64-linux/README.md\"   \n",
            " [5] \"minimap2-2.26_x64-linux/NEWS.md\"     \n",
            " [6] \"minimap2-2.26_x64-linux/LICENSE.txt\" \n",
            " [7] \"minimap2-2.26_x64-linux/k8\"          \n",
            " [8] \"minimap2-2.26_x64-linux/paftools.js\" \n",
            " [9] \"minimap2-2.26_x64-linux/cookbook.md\" \n",
            "[10] \"minimap2-2.26_x64-linux/minimap2.1\"  \n",
            "[11] \"minimap2-2.26_x64-linux/README-js.md\"\n"
          ]
        },
        {
          "output_type": "stream",
          "name": "stderr",
          "text": [
            "Warning message in system(\"./minimap2-2.26_x64-linux/minimap2\", intern = TRUE):\n",
            "\"running command './minimap2-2.26_x64-linux/minimap2' had status 1\"\n"
          ]
        },
        {
          "output_type": "stream",
          "name": "stdout",
          "text": [
            "character(0)\n",
            "attr(,\"status\")\n",
            "[1] 1\n",
            "attr(,\"errmsg\")\n",
            "[1] \"Resource temporarily unavailable\"\n"
          ]
        }
      ]
    },
    {
      "cell_type": "code",
      "source": [
        "# install samtools\n",
        "system(\"sudo apt install samtools\")"
      ],
      "metadata": {
        "id": "ujyqeW5XsJGf"
      },
      "execution_count": null,
      "outputs": []
    },
    {
      "cell_type": "code",
      "source": [
        "system(\"samtools --version\")"
      ],
      "metadata": {
        "colab": {
          "base_uri": "https://localhost:8080/"
        },
        "id": "rM5eGP4oyB2n",
        "outputId": "69155a2e-f737-46ff-f1a6-59806c89b93c"
      },
      "execution_count": null,
      "outputs": [
        {
          "output_type": "stream",
          "name": "stdout",
          "text": [
            "[1] \"samtools 1.10\"                          \n",
            "[2] \"Using htslib 1.10.2-3ubuntu0.1\"         \n",
            "[3] \"Copyright (C) 2019 Genome Research Ltd.\"\n"
          ]
        }
      ]
    },
    {
      "cell_type": "code",
      "execution_count": null,
      "metadata": {
        "vscode": {
          "languageId": "r"
        },
        "colab": {
          "base_uri": "https://localhost:8080/"
        },
        "id": "-A0TOntRu0-r",
        "outputId": "22f91f59-1dc2-4147-87c0-3b58193c1c8f"
      },
      "outputs": [
        {
          "output_type": "stream",
          "name": "stderr",
          "text": [
            "Warning message in system(\"./minimap2-2.24_x64-linux/minimap2 -ax splice -uf -k14 hg_chr22.fa A549_directRNA_sample1.fastq.gz > A549_directRNA_sample1_test.sam \"):\n",
            "\"error in running command\"\n"
          ]
        }
      ],
      "source": [
        "system(\"./minimap2-2.24_x64-linux/minimap2 -ax splice -uf -k14 hg_chr22.fa A549_directRNA_sample1.fastq.gz > A549_directRNA_sample1_test.sam \")"
      ]
    },
    {
      "cell_type": "code",
      "source": [
        "system(\"samtools view -Sb A549_directRNA_sample1_test.sam | samtools  sort -o A549_directRNA_sample1_test.bam \", intern = TRUE)"
      ],
      "metadata": {
        "id": "uUkbq4F4u80K"
      },
      "execution_count": null,
      "outputs": []
    },
    {
      "cell_type": "code",
      "execution_count": null,
      "metadata": {
        "vscode": {
          "languageId": "r"
        },
        "id": "2MgYcu00pgdi"
      },
      "outputs": [],
      "source": [
        "system(\"samtools index A549_directRNA_sample1_test.bam\")"
      ]
    },
    {
      "cell_type": "markdown",
      "metadata": {
        "id": "YjL0aLUqpgdi"
      },
      "source": [
        "***Note that we are aligning the reads to the genome fasta and not the transcriptome fasta as `Bambu` uses intron junctions to distinguish novel transcripts.***"
      ]
    },
    {
      "cell_type": "code",
      "source": [
        "file.exists(\"A549_directRNA_sample1_test.bam\")"
      ],
      "metadata": {
        "colab": {
          "base_uri": "https://localhost:8080/",
          "height": 34
        },
        "id": "1NldhnqJum3T",
        "outputId": "9ab9c8f2-be9e-4b70-fe2b-0b1f263661b3"
      },
      "execution_count": null,
      "outputs": [
        {
          "output_type": "display_data",
          "data": {
            "text/html": [
              "FALSE"
            ],
            "text/markdown": "FALSE",
            "text/latex": "FALSE",
            "text/plain": [
              "[1] FALSE"
            ]
          },
          "metadata": {}
        }
      ]
    },
    {
      "cell_type": "markdown",
      "metadata": {
        "id": "-a7LQ2p0pgdi"
      },
      "source": [
        "### **Or download data for bambu directly**\n",
        "Next, we will need to download the required data to run Bambu. The required data include:\n",
        "\n",
        "-   a set of aligned reads to the genome from the A549 and HepG2 cell lines (bam files),\n",
        "-   reference human genome annotations (gtf file, TxDb object, or Bambu\n",
        "    Annotation object),\n",
        "-   reference human genome sequence (fasta file or BSgenome).\n",
        "\n"
      ]
    },
    {
      "cell_type": "code",
      "execution_count": null,
      "metadata": {
        "id": "NPdFZL70YT-D",
        "vscode": {
          "languageId": "r"
        }
      },
      "outputs": [],
      "source": [
        "# download aligned bam files for A549 samples and HepG2 samples\n",
        "bam_list=c(\"A549_directRNA_sample1.bam\",\n",
        "           \"A549_directRNA_sample2.bam\",\n",
        "           \"A549_directRNA_sample3.bam\",\n",
        "           \"HepG2_directRNA_sample1.bam\",\n",
        "           \"HepG2_directRNA_sample2.bam\",\n",
        "           \"HepG2_directRNA_sample3.bam\")\n",
        "for (bam in bam_list){\n",
        "  aws.s3::save_object(\n",
        "    object=paste0(\"data/data_tutorial/bam/\",bam),\n",
        "    bucket = \"sg-nex-data\",\n",
        "    file=basename(bam))\n",
        "}"
      ]
    },
    {
      "cell_type": "markdown",
      "metadata": {
        "id": "8kKjAsbjhZK0"
      },
      "source": [
        "**NOTE: We have downsampled the Hg38 genome, A549 and HepG2 samples to ensure this tutorial can be completed in 10 minutes. If you want to run Bambu on the original samples, you can find the sample name [here](https://github.com/GoekeLab/sg-nex-data/blob/master/docs/samples.tsv) and amend it into the following code chunk:**"
      ]
    },
    {
      "cell_type": "code",
      "execution_count": null,
      "metadata": {
        "id": "M_rJd7k5iD8V",
        "vscode": {
          "languageId": "plaintext"
        }
      },
      "outputs": [],
      "source": [
        "# Do not run unless you have specified the sample_alias with the sample of interest in the SG-NEx bukcet as recommended.\n",
        "aws.s3::save_object(\n",
        "  object=\"data/sequencing_data_ont/bam/genome/<sample_alias>\",\n",
        "  bucket=\"sg-nex-data\",\n",
        "  file=\"./bambu/tutorial/<sample_alias>\")"
      ]
    },
    {
      "cell_type": "markdown",
      "metadata": {
        "id": "SiDmElNKpgdj"
      },
      "source": [
        "### **Quality control**\n",
        "***Samtools stats*** can be used to quickly check the read accuracy and read mappability in the bam files, in the example below, we checked the aligned bam file for the SGNex_A549_directRNA_replicate1_run1 sample."
      ]
    },
    {
      "cell_type": "code",
      "execution_count": null,
      "metadata": {
        "vscode": {
          "languageId": "plaintext"
        },
        "id": "yq9li73opgdk"
      },
      "outputs": [],
      "source": [
        "system(\"samtools stats A549_directRNA_sample1.bam | head -46 \")"
      ]
    },
    {
      "cell_type": "markdown",
      "metadata": {
        "id": "wlNLOURBpgdk"
      },
      "source": [
        "This bam file has a read mappability of `150602/184107 (81.8%)` by taking the ratio between reads mapped and raw total sequences and a read accuracy of `1-0.178599 (0.821%)` by minusing 1 with the error rate. Usually we consider a sample with a mappability of 80% above as relatively good, and the read accuracy is also common for Nanopore reads."
      ]
    },
    {
      "cell_type": "markdown",
      "metadata": {
        "id": "C132aNAQhjKs"
      },
      "source": [
        "### **Preparing data for ***Bambu*****\n",
        "\n",
        "All required data are now stored in the `bambu_tutorial` folder of the\n",
        "current working directory. Next, we prepare the data to run Bambu."
      ]
    },
    {
      "cell_type": "code",
      "execution_count": null,
      "metadata": {
        "id": "8FZLA9plajvw",
        "vscode": {
          "languageId": "r"
        }
      },
      "outputs": [],
      "source": [
        "# set work directory if you are in a different directory\n",
        "setwd(\"bambu_tutorial\")\n",
        "\n",
        "# data preparation\n",
        "library(bambu)\n",
        "fa.file <- \"hg38_chr22.fa\"\n",
        "gtf.file <- \"hg38_chr22.gtf\"\n",
        "annotations <- prepareAnnotations(gtf.file) # This function creates a reference annotation object which is used for transcript discovery and quantification in Bambu.\n",
        "samples.bam <- list.files(\".\", pattern = \".bam$\", full.names = TRUE)"
      ]
    },
    {
      "cell_type": "markdown",
      "metadata": {
        "id": "9BxbQWlKizDI"
      },
      "source": [
        "## **Running Bambu**\n",
        "\n",
        "Now we can run Bambu with these data. For a\n",
        "faster running speed, you can increase the `ncore` parameter up\n",
        "to the total number of samples at your availability."
      ]
    },
    {
      "cell_type": "code",
      "execution_count": null,
      "metadata": {
        "colab": {
          "base_uri": "https://localhost:8080/"
        },
        "id": "xOYMAFl7iJB-",
        "outputId": "b8d29747-7d52-43f6-bfbe-34cca9a45eb5",
        "vscode": {
          "languageId": "r"
        }
      },
      "outputs": [
        {
          "output_type": "stream",
          "name": "stderr",
          "text": [
            "WARNING - If you change the number of cores (ncore) between Bambu runs and there is no progress please restart your R session to resolve the issue that originates from the XGboost package.\n",
            "\n",
            "--- Start generating read class files ---\n",
            "\n",
            "'getOption(\"repos\")' replaces Bioconductor standard repositories, see\n",
            "'help(\"repositories\", package = \"BiocManager\")' for details.\n",
            "Replacement repositories:\n",
            "    CRAN: https://cran.rstudio.com\n",
            "\n"
          ]
        },
        {
          "output_type": "stream",
          "name": "stdout",
          "text": [
            "\r  |                                                                            \r  |                                                                      |   0%"
          ]
        },
        {
          "output_type": "stream",
          "name": "stderr",
          "text": [
            "Warning message:\n",
            "\"\u001b[1m\u001b[22mThere was 1 warning in `filter()`.\n",
            "\u001b[1m\u001b[22m\u001b[36mℹ\u001b[39m In argument: `newGeneId == min(newGeneId)`.\n",
            "Caused by warning in `min()`:\n",
            "\u001b[33m!\u001b[39m no non-missing arguments to min; returning Inf\"\n",
            "Warning message:\n",
            "\"\u001b[1m\u001b[22mThere was 1 warning in `summarise()`.\n",
            "\u001b[1m\u001b[22m\u001b[36mℹ\u001b[39m In argument: `intersectWidth = max(intersectWidth)`.\n",
            "Caused by warning in `max()`:\n",
            "\u001b[33m!\u001b[39m no non-missing arguments to max; returning -Inf\"\n",
            "Warning message:\n",
            "\"\u001b[1m\u001b[22mThere was 1 warning in `filter()`.\n",
            "\u001b[1m\u001b[22m\u001b[36mℹ\u001b[39m In argument: `newGeneId == min(newGeneId)`.\n",
            "Caused by warning in `min()`:\n",
            "\u001b[33m!\u001b[39m no non-missing arguments to min; returning Inf\"\n",
            "Warning message:\n",
            "\"\u001b[1m\u001b[22mThere was 1 warning in `summarise()`.\n",
            "\u001b[1m\u001b[22m\u001b[36mℹ\u001b[39m In argument: `intersectWidth = max(intersectWidth)`.\n",
            "Caused by warning in `max()`:\n",
            "\u001b[33m!\u001b[39m no non-missing arguments to max; returning -Inf\"\n",
            "Warning message:\n",
            "\"\u001b[1m\u001b[22mThere was 1 warning in `filter()`.\n",
            "\u001b[1m\u001b[22m\u001b[36mℹ\u001b[39m In argument: `newGeneId == min(newGeneId)`.\n",
            "Caused by warning in `min()`:\n",
            "\u001b[33m!\u001b[39m no non-missing arguments to min; returning Inf\"\n"
          ]
        },
        {
          "output_type": "stream",
          "name": "stdout",
          "text": [
            "\r  |                                                                            \r  |===================================                                   |  50%"
          ]
        },
        {
          "output_type": "stream",
          "name": "stderr",
          "text": [
            "Warning message:\n",
            "\"\u001b[1m\u001b[22mThere was 1 warning in `summarise()`.\n",
            "\u001b[1m\u001b[22m\u001b[36mℹ\u001b[39m In argument: `intersectWidth = max(intersectWidth)`.\n",
            "Caused by warning in `max()`:\n",
            "\u001b[33m!\u001b[39m no non-missing arguments to max; returning -Inf\"\n",
            "Warning message:\n",
            "\"\u001b[1m\u001b[22mThere was 1 warning in `filter()`.\n",
            "\u001b[1m\u001b[22m\u001b[36mℹ\u001b[39m In argument: `newGeneId == min(newGeneId)`.\n",
            "Caused by warning in `min()`:\n",
            "\u001b[33m!\u001b[39m no non-missing arguments to min; returning Inf\"\n",
            "Warning message:\n",
            "\"\u001b[1m\u001b[22mThere was 1 warning in `filter()`.\n",
            "\u001b[1m\u001b[22m\u001b[36mℹ\u001b[39m In argument: `newGeneId == min(newGeneId)`.\n",
            "Caused by warning in `min()`:\n",
            "\u001b[33m!\u001b[39m no non-missing arguments to min; returning Inf\"\n",
            "Warning message:\n",
            "\"\u001b[1m\u001b[22mThere was 1 warning in `filter()`.\n",
            "\u001b[1m\u001b[22m\u001b[36mℹ\u001b[39m In argument: `newGeneId == min(newGeneId)`.\n",
            "Caused by warning in `min()`:\n",
            "\u001b[33m!\u001b[39m no non-missing arguments to min; returning Inf\"\n",
            "Warning message:\n",
            "\"\u001b[1m\u001b[22mThere was 1 warning in `filter()`.\n",
            "\u001b[1m\u001b[22m\u001b[36mℹ\u001b[39m In argument: `newGeneId == min(newGeneId)`.\n",
            "Caused by warning in `min()`:\n",
            "\u001b[33m!\u001b[39m no non-missing arguments to min; returning Inf\"\n",
            "Warning message:\n",
            "\"\u001b[1m\u001b[22mThere was 1 warning in `summarise()`.\n",
            "\u001b[1m\u001b[22m\u001b[36mℹ\u001b[39m In argument: `intersectWidth = max(intersectWidth)`.\n",
            "Caused by warning in `max()`:\n",
            "\u001b[33m!\u001b[39m no non-missing arguments to max; returning -Inf\"\n",
            "Warning message:\n",
            "\"\u001b[1m\u001b[22mThere was 1 warning in `filter()`.\n",
            "\u001b[1m\u001b[22m\u001b[36mℹ\u001b[39m In argument: `newGeneId == min(newGeneId)`.\n",
            "Caused by warning in `min()`:\n",
            "\u001b[33m!\u001b[39m no non-missing arguments to min; returning Inf\"\n"
          ]
        },
        {
          "output_type": "stream",
          "name": "stdout",
          "text": [
            "\r  |                                                                            \r  |======================================================================| 100%\n",
            "\n"
          ]
        },
        {
          "output_type": "stream",
          "name": "stderr",
          "text": [
            "Detected 15 warnings across the samples during read class construction. Access warnings with metadata(bambuOutput)$warnings\n",
            "\n",
            "--- Start extending annotations ---\n",
            "\n",
            "Warning message:\n",
            "\"\u001b[1m\u001b[22mThere was 1 warning in `summarise()`.\n",
            "\u001b[1m\u001b[22m\u001b[36mℹ\u001b[39m In argument: `intersectWidth = max(intersectWidth)`.\n",
            "Caused by warning in `max()`:\n",
            "\u001b[33m!\u001b[39m no non-missing arguments to max; returning -Inf\"\n",
            "Warning message:\n",
            "\"\u001b[1m\u001b[22mThere was 1 warning in `filter()`.\n",
            "\u001b[1m\u001b[22m\u001b[36mℹ\u001b[39m In argument: `newGeneId == min(newGeneId)`.\n",
            "Caused by warning in `min()`:\n",
            "\u001b[33m!\u001b[39m no non-missing arguments to min; returning Inf\"\n",
            "Using a novel discovery rate (NDR) of: 0.129\n",
            "\n",
            "--- Start isoform quantification ---\n",
            "\n",
            "Warning message:\n",
            "\"\u001b[1m\u001b[22mThere was 1 warning in `filter()`.\n",
            "\u001b[1m\u001b[22m\u001b[36mℹ\u001b[39m In argument: `newGeneId == min(newGeneId)`.\n",
            "Caused by warning in `min()`:\n",
            "\u001b[33m!\u001b[39m no non-missing arguments to min; returning Inf\"\n",
            "Warning message:\n",
            "\"\u001b[1m\u001b[22mThere was 1 warning in `filter()`.\n",
            "\u001b[1m\u001b[22m\u001b[36mℹ\u001b[39m In argument: `newGeneId == min(newGeneId)`.\n",
            "Caused by warning in `min()`:\n",
            "\u001b[33m!\u001b[39m no non-missing arguments to min; returning Inf\"\n",
            "Warning message:\n",
            "\"\u001b[1m\u001b[22mThere was 1 warning in `filter()`.\n",
            "\u001b[1m\u001b[22m\u001b[36mℹ\u001b[39m In argument: `newGeneId == min(newGeneId)`.\n",
            "Caused by warning in `min()`:\n",
            "\u001b[33m!\u001b[39m no non-missing arguments to min; returning Inf\"\n",
            "--- Finished running Bambu ---\n",
            "\n"
          ]
        }
      ],
      "source": [
        "# running Bambu\n",
        "se <- bambu(reads = samples.bam, annotations = annotations, genome = fa.file, ncore = 2)"
      ]
    },
    {
      "cell_type": "markdown",
      "metadata": {
        "id": "T8MkkL_3kIDm"
      },
      "source": [
        "Bambu returns a `SummarizedExperiment` object with the genomic\n",
        "coordinates of the annotated & novel transcripts and their expression\n",
        "estimates. They can be assessed using the following code:"
      ]
    },
    {
      "cell_type": "code",
      "execution_count": null,
      "metadata": {
        "id": "cpt-Kq2YjPuH",
        "vscode": {
          "languageId": "r"
        },
        "colab": {
          "base_uri": "https://localhost:8080/",
          "height": 52
        },
        "outputId": "8dbaefc9-7a57-40e9-91a8-cdbd70317082"
      },
      "outputs": [
        {
          "output_type": "display_data",
          "data": {
            "text/plain": [
              "List of length 4\n",
              "names(4): counts CPM fullLengthCounts uniqueCounts"
            ]
          },
          "metadata": {}
        }
      ],
      "source": [
        "assays(se) #returns the transcript abundance estimates as counts or CPM."
      ]
    },
    {
      "cell_type": "code",
      "source": [
        "head(assays(se)$counts)"
      ],
      "metadata": {
        "colab": {
          "base_uri": "https://localhost:8080/",
          "height": 255
        },
        "id": "ob7-ZYo641CE",
        "outputId": "38887c36-dce4-4991-9d86-468ecb94bc4f"
      },
      "execution_count": null,
      "outputs": [
        {
          "output_type": "display_data",
          "data": {
            "text/html": [
              "<table class=\"dataframe\">\n",
              "<caption>A matrix: 6 × 6 of type dbl</caption>\n",
              "<thead>\n",
              "\t<tr><th></th><th scope=col>A549_directRNA_sample1</th><th scope=col>A549_directRNA_sample2</th><th scope=col>A549_directRNA_sample3</th><th scope=col>HepG2_directRNA_sample1</th><th scope=col>HepG2_directRNA_sample2</th><th scope=col>HepG2_directRNA_sample3</th></tr>\n",
              "</thead>\n",
              "<tbody>\n",
              "\t<tr><th scope=row>BambuTx1</th><td>2.00000</td><td> 0.00000</td><td> 0.00000</td><td> 1.0</td><td>0.00000</td><td>0</td></tr>\n",
              "\t<tr><th scope=row>BambuTx2</th><td>2.00000</td><td>30.33452</td><td>10.76898</td><td>13.0</td><td>0.00000</td><td>0</td></tr>\n",
              "\t<tr><th scope=row>BambuTx3</th><td>4.64865</td><td>37.47735</td><td>24.52301</td><td>11.8</td><td>2.57143</td><td>0</td></tr>\n",
              "\t<tr><th scope=row>BambuTx4</th><td>2.27273</td><td> 3.22869</td><td> 1.08501</td><td> 0.0</td><td>0.00000</td><td>0</td></tr>\n",
              "\t<tr><th scope=row>BambuTx5</th><td>2.00000</td><td>35.00000</td><td>11.00000</td><td> 4.0</td><td>0.00000</td><td>1</td></tr>\n",
              "\t<tr><th scope=row>BambuTx6</th><td>2.00000</td><td>23.00000</td><td> 4.80000</td><td> 2.0</td><td>1.00000</td><td>0</td></tr>\n",
              "</tbody>\n",
              "</table>\n"
            ],
            "text/markdown": "\nA matrix: 6 × 6 of type dbl\n\n| <!--/--> | A549_directRNA_sample1 | A549_directRNA_sample2 | A549_directRNA_sample3 | HepG2_directRNA_sample1 | HepG2_directRNA_sample2 | HepG2_directRNA_sample3 |\n|---|---|---|---|---|---|---|\n| BambuTx1 | 2.00000 |  0.00000 |  0.00000 |  1.0 | 0.00000 | 0 |\n| BambuTx2 | 2.00000 | 30.33452 | 10.76898 | 13.0 | 0.00000 | 0 |\n| BambuTx3 | 4.64865 | 37.47735 | 24.52301 | 11.8 | 2.57143 | 0 |\n| BambuTx4 | 2.27273 |  3.22869 |  1.08501 |  0.0 | 0.00000 | 0 |\n| BambuTx5 | 2.00000 | 35.00000 | 11.00000 |  4.0 | 0.00000 | 1 |\n| BambuTx6 | 2.00000 | 23.00000 |  4.80000 |  2.0 | 1.00000 | 0 |\n\n",
            "text/latex": "A matrix: 6 × 6 of type dbl\n\\begin{tabular}{r|llllll}\n  & A549\\_directRNA\\_sample1 & A549\\_directRNA\\_sample2 & A549\\_directRNA\\_sample3 & HepG2\\_directRNA\\_sample1 & HepG2\\_directRNA\\_sample2 & HepG2\\_directRNA\\_sample3\\\\\n\\hline\n\tBambuTx1 & 2.00000 &  0.00000 &  0.00000 &  1.0 & 0.00000 & 0\\\\\n\tBambuTx2 & 2.00000 & 30.33452 & 10.76898 & 13.0 & 0.00000 & 0\\\\\n\tBambuTx3 & 4.64865 & 37.47735 & 24.52301 & 11.8 & 2.57143 & 0\\\\\n\tBambuTx4 & 2.27273 &  3.22869 &  1.08501 &  0.0 & 0.00000 & 0\\\\\n\tBambuTx5 & 2.00000 & 35.00000 & 11.00000 &  4.0 & 0.00000 & 1\\\\\n\tBambuTx6 & 2.00000 & 23.00000 &  4.80000 &  2.0 & 1.00000 & 0\\\\\n\\end{tabular}\n",
            "text/plain": [
              "         A549_directRNA_sample1 A549_directRNA_sample2 A549_directRNA_sample3\n",
              "BambuTx1 2.00000                 0.00000                0.00000              \n",
              "BambuTx2 2.00000                30.33452               10.76898              \n",
              "BambuTx3 4.64865                37.47735               24.52301              \n",
              "BambuTx4 2.27273                 3.22869                1.08501              \n",
              "BambuTx5 2.00000                35.00000               11.00000              \n",
              "BambuTx6 2.00000                23.00000                4.80000              \n",
              "         HepG2_directRNA_sample1 HepG2_directRNA_sample2\n",
              "BambuTx1  1.0                    0.00000                \n",
              "BambuTx2 13.0                    0.00000                \n",
              "BambuTx3 11.8                    2.57143                \n",
              "BambuTx4  0.0                    0.00000                \n",
              "BambuTx5  4.0                    0.00000                \n",
              "BambuTx6  2.0                    1.00000                \n",
              "         HepG2_directRNA_sample3\n",
              "BambuTx1 0                      \n",
              "BambuTx2 0                      \n",
              "BambuTx3 0                      \n",
              "BambuTx4 0                      \n",
              "BambuTx5 1                      \n",
              "BambuTx6 0                      "
            ]
          },
          "metadata": {}
        }
      ]
    },
    {
      "cell_type": "code",
      "execution_count": null,
      "metadata": {
        "id": "URa-i0o4sZ85",
        "vscode": {
          "languageId": "r"
        },
        "colab": {
          "base_uri": "https://localhost:8080/",
          "height": 780
        },
        "outputId": "79451239-d2ae-4c56-9087-1650b6b2862d"
      },
      "outputs": [
        {
          "output_type": "display_data",
          "data": {
            "text/plain": [
              "GRangesList object of length 4547:\n",
              "$BambuTx1\n",
              "GRanges object with 3 ranges and 2 metadata columns:\n",
              "      seqnames            ranges strand | exon_rank exon_endRank\n",
              "         <Rle>         <IRanges>  <Rle> | <integer>    <integer>\n",
              "  [1]       22 15784968-15785057      + |         1            3\n",
              "  [2]       22 15788820-15788931      + |         2            2\n",
              "  [3]       22 15852990-15853424      + |         3            1\n",
              "  -------\n",
              "  seqinfo: 1 sequence from an unspecified genome; no seqlengths\n",
              "\n",
              "$BambuTx2\n",
              "GRanges object with 7 ranges and 2 metadata columns:\n",
              "      seqnames            ranges strand | exon_rank exon_endRank\n",
              "         <Rle>         <IRanges>  <Rle> | <integer>    <integer>\n",
              "  [1]       22 15784971-15785057      + |         1            7\n",
              "  [2]       22 15787172-15787282      + |         2            6\n",
              "  [3]       22 15788552-15788699      + |         3            5\n",
              "  [4]       22 15788820-15788931      + |         4            4\n",
              "  [5]       22 15790661-15790798      + |         5            3\n",
              "  [6]       22 15791017-15791152      + |         6            2\n",
              "  [7]       22 15852990-15855952      + |         7            1\n",
              "  -------\n",
              "  seqinfo: 1 sequence from an unspecified genome; no seqlengths\n",
              "\n",
              "$BambuTx3\n",
              "GRanges object with 10 ranges and 2 metadata columns:\n",
              "       seqnames            ranges strand | exon_rank exon_endRank\n",
              "          <Rle>         <IRanges>  <Rle> | <integer>    <integer>\n",
              "   [1]       22 19450621-19450744      - |        10            1\n",
              "   [2]       22 19454749-19454830      - |         9            2\n",
              "   [3]       22 19455680-19455768      - |         8            3\n",
              "   [4]       22 19456587-19456634      - |         7            4\n",
              "   [5]       22 19456853-19456918      - |         6            5\n",
              "   [6]       22 19458071-19458139      - |         5            6\n",
              "   [7]       22 19465202-19465274      - |         4            7\n",
              "   [8]       22 19467873-19468003      - |         3            8\n",
              "   [9]       22 19471687-19471808      - |         2            9\n",
              "  [10]       22 19479083-19479175      - |         1           10\n",
              "  -------\n",
              "  seqinfo: 1 sequence from an unspecified genome; no seqlengths\n",
              "\n",
              "...\n",
              "<4544 more elements>"
            ]
          },
          "metadata": {}
        }
      ],
      "source": [
        "rowRanges(se) #returns a GRangesList (with genomic coordinates) with all annotated and newly discovered transcripts."
      ]
    },
    {
      "cell_type": "code",
      "execution_count": null,
      "metadata": {
        "id": "pChAhm_nsbUL",
        "vscode": {
          "languageId": "r"
        },
        "colab": {
          "base_uri": "https://localhost:8080/",
          "height": 711
        },
        "outputId": "f8f71059-35c6-478d-98d8-5a547bab7380"
      },
      "outputs": [
        {
          "output_type": "display_data",
          "data": {
            "text/plain": [
              "DataFrame with 4547 rows and 11 columns\n",
              "                         TXNAME          GENEID        NDR novelGene\n",
              "                    <character>     <character>  <numeric> <logical>\n",
              "BambuTx1               BambuTx1 ENSG00000223875 0.00632911     FALSE\n",
              "BambuTx2               BambuTx2 ENSG00000206195 0.11159737     FALSE\n",
              "BambuTx3               BambuTx3 ENSG00000070010 0.01312336     FALSE\n",
              "BambuTx4               BambuTx4 ENSG00000128185 0.03818616     FALSE\n",
              "BambuTx5               BambuTx5 ENSG00000272779 0.00354610     FALSE\n",
              "...                         ...             ...        ...       ...\n",
              "ENST00000641859 ENST00000641859 ENSG00000284633         NA     FALSE\n",
              "ENST00000641915 ENST00000641915 ENSG00000284665         NA     FALSE\n",
              "ENST00000641933 ENST00000641933 ENSG00000284651         NA     FALSE\n",
              "ENST00000641967 ENST00000641967 ENSG00000284630         NA     FALSE\n",
              "ENST00000642075 ENST00000642075 ENSG00000284633         NA     FALSE\n",
              "                novelTranscript     txClassDescription readCount relReadCount\n",
              "                      <logical>            <character> <integer>    <numeric>\n",
              "BambuTx1                   TRUE                 allNew         3    1.0000000\n",
              "BambuTx2                   TRUE newLastJunction:newJ..        11    0.4400000\n",
              "BambuTx3                   TRUE              newWithin        56    0.1272727\n",
              "BambuTx4                   TRUE            newJunction         5    0.0215517\n",
              "BambuTx5                   TRUE newFirstJunction:new..        24    0.3428571\n",
              "...                         ...                    ...       ...          ...\n",
              "ENST00000641859           FALSE             annotation        NA           NA\n",
              "ENST00000641915           FALSE             annotation        NA           NA\n",
              "ENST00000641933           FALSE             annotation        NA           NA\n",
              "ENST00000641967           FALSE             annotation        NA           NA\n",
              "ENST00000642075           FALSE             annotation        NA           NA\n",
              "                relSubsetCount      txid   eqClassById\n",
              "                     <numeric> <integer> <IntegerList>\n",
              "BambuTx1                     1         1             1\n",
              "BambuTx2                     1         2             2\n",
              "BambuTx3                     1         3             3\n",
              "BambuTx4                     1         4             4\n",
              "BambuTx5                     1         5             5\n",
              "...                        ...       ...           ...\n",
              "ENST00000641859             NA      4543          4543\n",
              "ENST00000641915             NA      4544          4544\n",
              "ENST00000641933             NA      4545          4545\n",
              "ENST00000641967             NA      4546          4546\n",
              "ENST00000642075             NA      4547          4547"
            ]
          },
          "metadata": {}
        }
      ],
      "source": [
        "rowData(se) #returns additional information about each transcript such as the gene name and the class of the newly discovered transcript."
      ]
    },
    {
      "cell_type": "markdown",
      "metadata": {
        "id": "DxcPEYdNkPwt"
      },
      "source": [
        "This `SummarizedExperiment` object can also be used for further downstream analysis (eg. [DESeq](http://bioconductor.org/packages/devel/bioc/vignettes/DESeq2/inst/doc/DESeq2.html)). If you want to save the transcript &  genomic annotations and their expression\n",
        "estimates, you can then write them into an `output` folder using the `writeBambuOutput` function."
      ]
    },
    {
      "cell_type": "code",
      "execution_count": null,
      "metadata": {
        "id": "rC2_ufxGjgBu",
        "vscode": {
          "languageId": "r"
        }
      },
      "outputs": [],
      "source": [
        "writeBambuOutput(se, path = \"./output\")"
      ]
    },
    {
      "cell_type": "markdown",
      "metadata": {
        "id": "xZWp9HDDkXVn"
      },
      "source": [
        "The files in the `output` folder is described below:\n",
        "\n",
        "| Output file name                | Description                                                             |\n",
        "|:----------------------------|:------------------------------------------|\n",
        "| extended_annotations.gtf        | Extended transcript & gene annotations for the genome using long reads data.        |\n",
        "| counts_transcript.txt           | Total read counts estimates for each transcript in each sample.        |\n",
        "| CPM_transcript.txt              | Counts per million (CPM) estimates for each transcript in each sample. |\n",
        "| fullLengthCounts_transcript.txt | Full length read counts estimates for each transcript in each sample.  |\n",
        "| uniqueCounts_transcript.txt                | Unique read counts estimates for each transcript in each sample.       |\n",
        "| counts_gene.txt                 | Gene read counts estimates for each transcript in each sample.         |\n",
        "\n",
        "**NOTE: This is a short tutorial to demonstrate the usage of Bambu on the SG-NEx data. Please refer to the [Bambu documentation](https://github.com/GoekeLab/bambu) for a more complete workflow in novel transcript discovery and quantification.**"
      ]
    },
    {
      "cell_type": "markdown",
      "metadata": {
        "id": "hVZOr8_mpgdm"
      },
      "source": [
        "## **Identifying sample-specific novel transcripts**\n",
        "Now let's find some novel transcripts that occur uniquely in A549 but not in HepG2 and visualise them. First we will filter the annotations to remove the reference annotations. Then we can sort them by the `txNDR`, which ranks them by how likely they are a real transcript.\n",
        "\n",
        "Firstly, novel transcripts in novel genes:\n",
        "\n"
      ]
    },
    {
      "cell_type": "code",
      "source": [
        "se.filtered <- se[mcols(rowRanges(se))$novelTranscript == TRUE,]\n",
        "#investigate high confidence novel isoforms\n",
        "head(mcols(rowRanges(se.filtered))[order(mcols(rowRanges(se.filtered[]))$NDR),])\n",
        "\n",
        "\n",
        "plotBambu(se, type = \"annotation\", gene_id = \"BambuGene1\")"
      ],
      "metadata": {
        "colab": {
          "base_uri": "https://localhost:8080/",
          "height": 1000
        },
        "id": "Ea7ho8qB5HME",
        "outputId": "c9098b6c-68b9-470d-e513-1d040d33f7c0"
      },
      "execution_count": null,
      "outputs": [
        {
          "output_type": "display_data",
          "data": {
            "text/plain": [
              "DataFrame with 2 rows and 11 columns\n",
              "               TXNAME      GENEID       NDR novelGene novelTranscript\n",
              "          <character> <character> <numeric> <logical>       <logical>\n",
              "BambuTx47   BambuTx47  BambuGene1 0.0201005      TRUE            TRUE\n",
              "BambuTx48   BambuTx48  BambuGene3 0.0314770      TRUE            TRUE\n",
              "          txClassDescription readCount relReadCount relSubsetCount      txid\n",
              "                 <character> <integer>    <numeric>      <numeric> <integer>\n",
              "BambuTx47    newGene-spliced         2            1              1        47\n",
              "BambuTx48    newGene-spliced         2            1              1        48\n",
              "            eqClassById\n",
              "          <IntegerList>\n",
              "BambuTx47            47\n",
              "BambuTx48            48"
            ]
          },
          "metadata": {}
        },
        {
          "output_type": "stream",
          "name": "stderr",
          "text": [
            "'getOption(\"repos\")' replaces Bioconductor standard repositories, see\n",
            "'help(\"repositories\", package = \"BiocManager\")' for details.\n",
            "Replacement repositories:\n",
            "    CRAN: https://cran.rstudio.com\n",
            "\n",
            "Bioconductor version 3.17 (BiocManager 1.30.21), R 4.3.1 (2023-06-16)\n",
            "\n",
            "Installing package(s) 'ggbio'\n",
            "\n",
            "also installing the dependencies ‘checkmate’, ‘htmlwidgets’, ‘plyr’, ‘htmlTable’, ‘viridis’, ‘Formula’, ‘dichromat’, ‘graph’, ‘RBGL’, ‘reshape’, ‘ProtGenerics’, ‘lazyeval’, ‘gridExtra’, ‘reshape2’, ‘Hmisc’, ‘biovizBase’, ‘VariantAnnotation’, ‘OrganismDbi’, ‘GGally’, ‘ensembldb’, ‘AnnotationFilter’\n",
            "\n",
            "\n",
            "Registered S3 method overwritten by 'GGally':\n",
            "  method from   \n",
            "  +.gg   ggplot2\n",
            "\n",
            "\u001b[1m\u001b[22mScale for \u001b[32my\u001b[39m is already present.\n",
            "Adding another scale for \u001b[32my\u001b[39m, which will replace the existing scale.\n"
          ]
        },
        {
          "output_type": "display_data",
          "data": {
            "text/plain": [
              "[[1]]\n",
              "TableGrob (3 x 1) \"arrange\": 3 grobs\n",
              "  z     cells    name               grob\n",
              "1 1 (2-2,1-1) arrange     gtable[layout]\n",
              "2 2 (3-3,1-1) arrange     gtable[layout]\n",
              "3 3 (1-1,1-1) arrange text[GRID.text.98]\n"
            ]
          },
          "metadata": {}
        },
        {
          "output_type": "display_data",
          "data": {
            "text/plain": [
              "plot without title"
            ],
            "image/png": "[encoded data removed]"
          },
          "metadata": {
            "image/png": {
              "width": 420,
              "height": 420
            }
          }
        }
      ]
    },
    {
      "cell_type": "code",
      "source": [
        "se.filtered <- se[mcols(rowRanges(se))$novelTranscript == TRUE,]\n",
        "#investigate high confidence novel isoforms in novel genes\n",
        "se.filtered.NovelGene = se.filtered[rowData(se.filtered)$novelGene == TRUE,]\n",
        "head(mcols(rowRanges(se.filtered.NovelGene))[order(mcols(rowRanges(se.filtered.NovelGene))$NDR),])\n",
        "\n",
        "\n",
        "plotBambu(se, type = \"annotation\", gene_id = \"BambuGene1\")"
      ],
      "metadata": {
        "colab": {
          "base_uri": "https://localhost:8080/",
          "height": 1000
        },
        "outputId": "c9098b6c-68b9-470d-e513-1d040d33f7c0",
        "id": "wMuy-_Ka_Ztk"
      },
      "execution_count": null,
      "outputs": [
        {
          "output_type": "display_data",
          "data": {
            "text/plain": [
              "DataFrame with 2 rows and 11 columns\n",
              "               TXNAME      GENEID       NDR novelGene novelTranscript\n",
              "          <character> <character> <numeric> <logical>       <logical>\n",
              "BambuTx47   BambuTx47  BambuGene1 0.0201005      TRUE            TRUE\n",
              "BambuTx48   BambuTx48  BambuGene3 0.0314770      TRUE            TRUE\n",
              "          txClassDescription readCount relReadCount relSubsetCount      txid\n",
              "                 <character> <integer>    <numeric>      <numeric> <integer>\n",
              "BambuTx47    newGene-spliced         2            1              1        47\n",
              "BambuTx48    newGene-spliced         2            1              1        48\n",
              "            eqClassById\n",
              "          <IntegerList>\n",
              "BambuTx47            47\n",
              "BambuTx48            48"
            ]
          },
          "metadata": {}
        },
        {
          "output_type": "stream",
          "name": "stderr",
          "text": [
            "'getOption(\"repos\")' replaces Bioconductor standard repositories, see\n",
            "'help(\"repositories\", package = \"BiocManager\")' for details.\n",
            "Replacement repositories:\n",
            "    CRAN: https://cran.rstudio.com\n",
            "\n",
            "Bioconductor version 3.17 (BiocManager 1.30.21), R 4.3.1 (2023-06-16)\n",
            "\n",
            "Installing package(s) 'ggbio'\n",
            "\n",
            "also installing the dependencies ‘checkmate’, ‘htmlwidgets’, ‘plyr’, ‘htmlTable’, ‘viridis’, ‘Formula’, ‘dichromat’, ‘graph’, ‘RBGL’, ‘reshape’, ‘ProtGenerics’, ‘lazyeval’, ‘gridExtra’, ‘reshape2’, ‘Hmisc’, ‘biovizBase’, ‘VariantAnnotation’, ‘OrganismDbi’, ‘GGally’, ‘ensembldb’, ‘AnnotationFilter’\n",
            "\n",
            "\n",
            "Registered S3 method overwritten by 'GGally':\n",
            "  method from   \n",
            "  +.gg   ggplot2\n",
            "\n",
            "\u001b[1m\u001b[22mScale for \u001b[32my\u001b[39m is already present.\n",
            "Adding another scale for \u001b[32my\u001b[39m, which will replace the existing scale.\n"
          ]
        },
        {
          "output_type": "display_data",
          "data": {
            "text/plain": [
              "[[1]]\n",
              "TableGrob (3 x 1) \"arrange\": 3 grobs\n",
              "  z     cells    name               grob\n",
              "1 1 (2-2,1-1) arrange     gtable[layout]\n",
              "2 2 (3-3,1-1) arrange     gtable[layout]\n",
              "3 3 (1-1,1-1) arrange text[GRID.text.98]\n"
            ]
          },
          "metadata": {}
        },
        {
          "output_type": "display_data",
          "data": {
            "text/plain": [
              "plot without title"
            ],
            "image/png": "[encoded data removed]"
          },
          "metadata": {
            "image/png": {
              "width": 420,
              "height": 420
            }
          }
        }
      ]
    },
    {
      "cell_type": "markdown",
      "metadata": {
        "id": "5Yz7gXvdpgdp"
      },
      "source": [
        "Or novel transcripts in annotated genes"
      ]
    },
    {
      "cell_type": "code",
      "execution_count": null,
      "metadata": {
        "vscode": {
          "languageId": "r"
        },
        "id": "1XRQzmMm_z6J"
      },
      "outputs": [],
      "source": [
        "se.filtered.noNovelGene <- se.filtered[rowData(se.filtered)$novelGene == FALSE,]\n",
        "head(mcols(rowRanges(se.filtered.noNovelGene))[order(mcols(rowRanges(se.filtered.noNovelGene))$NDR),])\n",
        "\n",
        "plotBambu(se, type = \"annotation\", gene_id = \"ENSG00000272779\")"
      ]
    },
    {
      "cell_type": "markdown",
      "metadata": {
        "id": "xfO3AGyPpgd0"
      },
      "source": [
        "If we want to find out the ones that are unique based on counts"
      ]
    },
    {
      "cell_type": "code",
      "execution_count": null,
      "metadata": {
        "vscode": {
          "languageId": "r"
        },
        "id": "hxLQFK2vpgd0"
      },
      "outputs": [],
      "source": [
        "#find which ones are unique based on counts\n",
        "expression.A549 <- apply(assays(se.filtered)$counts[,grep(\"A549\",colnames(se.filtered))],1,mean)\n",
        "expression.HepG2 <- apply(assays(se.filtered)$counts[,grep(\"HepG2\",colnames(se.filtered))],1,mean)\n",
        "\n",
        "\n",
        "se.filtered[expression.A549>=1 &(expression.HepG2==0)] # unique in A549\n",
        "se.filtered[expression.A549==0 &(expression.HepG2>=1)] # unique in HepG2"
      ]
    },
    {
      "cell_type": "markdown",
      "source": [
        "## UCSC browser visualization\n",
        "\n",
        "We can visualise these novel transcripts using a genome browser such as IGV or the UCSC genome browser. For this tutorial we will use the UCSC genome browser.\n"
      ],
      "metadata": {
        "id": "4SyCGQ8a6zQF"
      }
    },
    {
      "cell_type": "code",
      "source": [
        "annotations.UCSC = rowRanges(se.filtered)\n",
        "seqlevelsStyle(annotations.UCSC) <- \"UCSC\" #this reformats the chromosome names\n",
        "annotations.UCSC = keepStandardChromosomes(annotations.UCSC, pruning.mode=\"coarse\") #removes chromosomes UCSC doesn't have\n",
        "writeToGTF(annotations.UCSC, \"novel_annotations.UCSC_10July.gtf\")"
      ],
      "metadata": {
        "id": "0_fEk6mt79uV"
      },
      "execution_count": null,
      "outputs": []
    },
    {
      "cell_type": "markdown",
      "source": [
        "Now go to https://genome.ucsc.edu/ in your browser\n",
        "\n",
        "My data > Custom Tracks > add custom tracks\n",
        "\n",
        "In the box labeled \"Paste URLs or data\" copy in path of the file you copied onto your bucket. For the tutorial, as we have the annotation gtf uploaded already. For future usage, you will need to copy the gtf to a public s3 bucket and then visualize."
      ],
      "metadata": {
        "id": "M5nx-hbl7-Wk"
      }
    },
    {
      "cell_type": "code",
      "source": [
        "http://sg-nex-data.s3.amazonaws.com/data/data_tutorial/annotations/novel_annotations.UCSC_10July.gtf"
      ],
      "metadata": {
        "id": "XjiDmQdc6zGP"
      },
      "execution_count": null,
      "outputs": []
    },
    {
      "cell_type": "markdown",
      "metadata": {
        "id": "mlwgUyQTpgd0"
      },
      "source": [
        "## **Downstream analysis**\n",
        "### Identifying differentially expressed genes {#DESeq2}\n",
        "One of the most common tasks when analysing RNA-Seq data is the analysis of\n",
        "differential gene expression across a condition of intertest. Here we use\n",
        "*DESeq2* to find the differentially expressed genes between MCF7 and K562 cell\n",
        "lines. Similar to using results from *Salmon*, estimates from *bambu* will\n",
        "first be rounded.\n"
      ]
    },
    {
      "cell_type": "code",
      "source": [
        "seGene <- transcriptToGeneExpression(se)\n",
        "colData(seGene)$condition <- as.factor(rep(c(\"A549\",\"HepG2\"),each = 3))"
      ],
      "metadata": {
        "colab": {
          "base_uri": "https://localhost:8080/",
          "height": 100
        },
        "id": "hjaJHWRSDLaP",
        "outputId": "2f351b80-67fe-409f-c748-3cd2f1e673cd"
      },
      "execution_count": 2,
      "outputs": [
        {
          "output_type": "error",
          "ename": "ERROR",
          "evalue": "ignored",
          "traceback": [
            "Error in transcriptToGeneExpression(se): could not find function \"transcriptToGeneExpression\"\nTraceback:\n"
          ]
        }
      ]
    },
    {
      "cell_type": "code",
      "execution_count": null,
      "metadata": {
        "vscode": {
          "languageId": "r"
        },
        "id": "97ea_JGOpgd0"
      },
      "outputs": [],
      "source": [
        "\n",
        "library(DESeq2)\n",
        "dds <- DESeqDataSetFromMatrix(round(assays(seGene)$counts),\n",
        "                                    colData = colData(seGene),\n",
        "                                    design = ~ condition)\n",
        "dds.deseq <- DESeq(dds)\n",
        "deGeneRes <- DESeq2::results(dds.deseq, independentFiltering = FALSE)\n",
        "head(deGeneRes[order(deGeneRes$padj),])\n"
      ]
    },
    {
      "cell_type": "markdown",
      "metadata": {
        "id": "Gb8QFqhZpgd1"
      },
      "source": [
        "A quick summary of differentially expressed genes"
      ]
    },
    {
      "cell_type": "code",
      "execution_count": null,
      "metadata": {
        "vscode": {
          "languageId": "r"
        },
        "id": "BOm8Xm1_pgd1"
      },
      "outputs": [],
      "source": [
        "\n",
        "summary(deGeneRes)"
      ]
    },
    {
      "cell_type": "markdown",
      "metadata": {
        "id": "Eb_D4C5_pgd1"
      },
      "source": [
        "We can also visualise the MA-plot for differentially used isoforms using\n",
        "`plotMA(deGeneRes)`. However, visualizing the MA-plots using the original\n",
        "log-fold change results will be affected by the noise associated with log2 fold\n",
        "changes from low count genes without requiring arbitrary filtering thresholds.\n",
        "As recommended in the\n",
        "[*DESeq2* tutorial](http://bioconductor.org/packages/devel/bioc/vignettes/DESeq2/inst/doc/DESeq2.html#alternative-shrinkage-estimators).\n",
        "we applied the same shrinkage to effect sizes to\n",
        "improve the visualization."
      ]
    },
    {
      "cell_type": "code",
      "execution_count": null,
      "metadata": {
        "vscode": {
          "languageId": "r"
        },
        "id": "dsqbLkD9pgd1"
      },
      "outputs": [],
      "source": [
        "library(apeglm)\n",
        "resLFC <- lfcShrink(dds.deseq, coef = \"condition_HepG2_vs_A549\", type = \"apeglm\")\n",
        "plotMA(resLFC, ylim = c(-3,3))"
      ]
    },
    {
      "cell_type": "markdown",
      "metadata": {
        "id": "KAOt9-zOpgd1"
      },
      "source": [
        "### Identifying differential transcript usage {#DEXSeq}\n",
        "We used *DEXSeq* to detect alternative used isoforms.\n"
      ]
    },
    {
      "cell_type": "code",
      "execution_count": null,
      "metadata": {
        "vscode": {
          "languageId": "r"
        },
        "id": "zDQyVEAYpgd1"
      },
      "outputs": [],
      "source": [
        "library(DEXSeq)\n",
        "colData(se)$condition <- as.factor(rep(c(\"A549\",\"HepG2\"),each = 3))\n",
        "dxd <- DEXSeqDataSet(countData = round(assays(se)$counts),\n",
        "sampleData = as.data.frame(colData(se)),\n",
        "design = ~sample + exon + condition:exon,\n",
        "featureID = rowData(se)$TXNAME,\n",
        "groupID = rowData(se)$GENEID)\n",
        "dxr <- DEXSeq(dxd)\n",
        "head(dxr)"
      ]
    },
    {
      "cell_type": "markdown",
      "metadata": {
        "id": "tuZPLJorpgd2"
      },
      "source": [
        "We can visualize the MA-plot"
      ]
    },
    {
      "cell_type": "code",
      "execution_count": null,
      "metadata": {
        "vscode": {
          "languageId": "r"
        },
        "id": "eCxss-tHpgd2"
      },
      "outputs": [],
      "source": [
        "plotMA(dxr, cex = 0.8 )"
      ]
    },
    {
      "cell_type": "markdown",
      "metadata": {
        "id": "d1XCLTgKkZMR"
      },
      "source": [
        "## **Reference**\n",
        "\n",
        "In this tutorial, we extended the existing transcript & gene annotations\n",
        "on the [SGNEx](https://github.com/GoekeLab/sg-nex-data) dataset using\n",
        "[Bambu](https://github.com/GoekeLab/bambu). If you use **Bambu** and the\n",
        "dataset from **SG-NEx** in your work, please cite the following paper.\n",
        "\n",
        "Chen, Ying, et al. “A systematic benchmark of Nanopore long read RNA\n",
        "sequencing for transcript level analysis in human cell lines.” bioRxiv\n",
        "(2021). doi: <https://doi.org/10.1101/2021.04.21.440736>\n",
        "\n",
        "\n",
        "Chen, Ying, Sim, Andre, et al. Context-aware transcript quantification from long-read RNA-seq data with Bambu. Nat Methods (2023). doi: <https://doi.org/10.1038/s41592-023-01908-w>"
      ]
    }
  ],
  "metadata": {
    "colab": {
      "provenance": []
    },
    "kernelspec": {
      "display_name": "R",
      "name": "ir"
    },
    "language_info": {
      "name": "R"
    }
  },
  "nbformat": 4,
  "nbformat_minor": 0
}