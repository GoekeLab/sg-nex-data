{
  "cells": [
    {
      "cell_type": "markdown",
      "metadata": {
        "id": "K6Kfw4h-0S09"
      },
      "source": [
        "[![Open In Colab](https://colab.research.google.com/assets/colab-badge.svg)](https://colab.research.google.com/github/GoekeLab/sg-nex-data/blob/CDM5104_RNASeq/docs/colab/SG_NEx_Bambu_tutorial_notebook.ipynb)\n",
        "\n"
      ]
    },
    {
      "cell_type": "markdown",
      "metadata": {
        "id": "PGQmY2jOfMI8"
      },
      "source": [
        "# **Transcript discovery and quantification using Bambu for long read RNA-sequencing samples**\n",
        "\n",
        "In this tutorial, we will perform novel transcript discovery and\n",
        "quantification on the SG-NEx samples. We will be using six Nanopore direct RNA-Sequencing\n",
        "samples, with three replicates each from the A549 and\n",
        "HepG2 cell lines. The A549 cell line was extracted from lung tissues\n",
        "of a patient with lung cancer whereas HepG2 was extracted from\n",
        "hepatocellular carcinoma of a patient with liver cancer. We will use\n",
        "[Bambu](http://bioconductor.org/packages/bambu/), a R package hosted on the Bioconductor platform to identify and\n",
        "quantify novel isoforms in these cell lines.\n",
        "\n",
        "**Note: This tutorial may take 10 minutes to complete. The installation of Bambu on this notebook may take up to 20 minutes. If you have bambu installed locally, you can also copy the commands to run it locally.**\n"
      ]
    },
    {
      "cell_type": "markdown",
      "metadata": {
        "id": "X9VkcDQnfxPf"
      },
      "source": [
        "## **Content**\n",
        "\n",
        "- [Installation](#installation)\n",
        "- [Data Access and Preparation](#data-access-and-preparation)\n",
        "- [Running Bambu](#running-bambu)\n",
        "- [Reference](#reference)\n"
      ]
    },
    {
      "cell_type": "markdown",
      "metadata": {
        "id": "bqgd3kkRf9sS"
      },
      "source": [
        "## **Installation**"
      ]
    },
    {
      "cell_type": "markdown",
      "metadata": {
        "id": "el3CJ2eGkpch"
      },
      "source": [
        "To install **bambu**, make sure you have **R** (version >= 4.2) installed on your machine. Then you can install **bambu** using the following commands:"
      ]
    },
    {
      "cell_type": "code",
      "execution_count": null,
      "metadata": {
        "id": "YndO9JzGsBHT",
        "vscode": {
          "languageId": "r"
        }
      },
      "outputs": [],
      "source": [
        "if (!requireNamespace(\"BiocManager\", quietly = TRUE))\n",
        "    install.packages(\"BiocManager\")\n",
        "\n",
        "BiocManager::install(\"bambu\", update = FALSE)"
      ]
    },
    {
      "cell_type": "markdown",
      "metadata": {},
      "source": [
        "Note the above step takes about 17 mins."
      ]
    },
    {
      "cell_type": "code",
      "execution_count": null,
      "metadata": {
        "colab": {
          "base_uri": "https://localhost:8080/"
        },
        "id": "ZmdWaMVs7Dmo",
        "outputId": "8d30fa27-d667-4730-87cf-eaadcb993641",
        "vscode": {
          "languageId": "r"
        }
      },
      "outputs": [
        {
          "name": "stderr",
          "output_type": "stream",
          "text": [
            "'getOption(\"repos\")' replaces Bioconductor standard repositories, see\n",
            "'help(\"repositories\", package = \"BiocManager\")' for details.\n",
            "Replacement repositories:\n",
            "    CRAN: https://cran.rstudio.com\n",
            "\n",
            "Bioconductor version 3.17 (BiocManager 1.30.21), R 4.3.1 (2023-06-16)\n",
            "\n",
            "Installing package(s) 'ggbio'\n",
            "\n",
            "also installing the dependencies ‘checkmate’, ‘htmlwidgets’, ‘plyr’, ‘htmlTable’, ‘viridis’, ‘Formula’, ‘dichromat’, ‘graph’, ‘RBGL’, ‘reshape’, ‘ProtGenerics’, ‘lazyeval’, ‘gridExtra’, ‘reshape2’, ‘Hmisc’, ‘biovizBase’, ‘VariantAnnotation’, ‘OrganismDbi’, ‘GGally’, ‘ensembldb’, ‘AnnotationFilter’\n",
            "\n",
            "\n"
          ]
        }
      ],
      "source": [
        "## later we will need to do some plotting. which require some plotting packages\n",
        "BiocManager::install(\"ggbio\")\n",
        "BiocManager::install(\"ggplot2\")\n",
        "BiocManager::install(\"gridExtra\")\n",
        "BiocManager::install(\"circlize\")\n",
        "BiocManager::install(\"ComplexHeatmap\")\n",
        "BiocManager::install(\"grid\")"
      ]
    },
    {
      "cell_type": "markdown",
      "metadata": {},
      "source": [
        "Note the steps above take about 7 mins."
      ]
    },
    {
      "cell_type": "code",
      "execution_count": null,
      "metadata": {
        "vscode": {
          "languageId": "r"
        }
      },
      "outputs": [],
      "source": [
        "# For post-bambu downstream analysis, we will need the following packages.\n",
        "BiocManager::install(\"DESeq2\", update = FALSE)\n",
        "BiocManager::install(\"apeglm\", update = FALSE)\n",
        "BiocManager::install(\"DEXSeq\", update = FALSE)"
      ]
    },
    {
      "cell_type": "markdown",
      "metadata": {},
      "source": [
        "Note that the above steps take about 5 mins"
      ]
    },
    {
      "cell_type": "markdown",
      "metadata": {
        "id": "jEShAjw3ktnI"
      },
      "source": [
        "If you want a more recent version of Bambu, you may refer to the [Bambu Github repository](https://github.com/GoekeLab/bambu). Note that if you are running command locally with **bambu** pre-installed, you may skip this section."
      ]
    },
    {
      "cell_type": "markdown",
      "metadata": {
        "id": "uOVH1uPGgLZ6"
      },
      "source": [
        "\n",
        "## **Data Access and Preparation**\n",
        "\n",
        "\n",
        "\n"
      ]
    },
    {
      "cell_type": "markdown",
      "metadata": {
        "id": "osU2ZgPrpgdf"
      },
      "source": [
        "Generally, you may want to learn how to get access to these data using the [data\n",
        "access\n",
        "tutorial](AWS_data_access_tutorial.md). Below we only show the necessary steps to download the required data. The following command requires you to have [AWS CLI](https://aws.amazon.com/cli/) installed."
      ]
    },
    {
      "cell_type": "markdown",
      "metadata": {
        "id": "PLn04xKepgdf"
      },
      "source": [
        "But for this tutorial, we provide another approach to use *AWS CLI* within *R*"
      ]
    },
    {
      "cell_type": "code",
      "execution_count": 1,
      "metadata": {
        "colab": {
          "base_uri": "https://localhost:8080/"
        },
        "id": "W2pStYfhpgdg",
        "outputId": "4f2fd127-2eef-456e-b6dd-01357611924d",
        "vscode": {
          "languageId": "r"
        }
      },
      "outputs": [
        {
          "name": "stderr",
          "output_type": "stream",
          "text": [
            "Installing package into ‘/usr/local/lib/R/site-library’\n",
            "(as ‘lib’ is unspecified)\n",
            "\n"
          ]
        }
      ],
      "source": [
        "# install AWS for R\n",
        "install.packages(\"aws.s3\")\n",
        "# set region for AWS\n",
        "Sys.setenv(\"AWS_DEFAULT_REGION\" = 'ap-southeast-1')"
      ]
    },
    {
      "cell_type": "markdown",
      "metadata": {
        "id": "7595cxzlpgdg"
      },
      "source": [
        "### **Download reference genome and annotations**\n",
        "\n",
        "The default mode to run Bambu is using a set of aligned reads (bam files), reference genome annotations (gtf file, TxDb object, or bambuAnnotation object), and reference genome sequence (fasta file or BSgenome). Here we use the ensembl GRCh 38 genome sequence and annotation files, which we have downloaded and stored in the SG-NEx data open S3 bucket."
      ]
    },
    {
      "cell_type": "code",
      "execution_count": 2,
      "metadata": {
        "colab": {
          "base_uri": "https://localhost:8080/"
        },
        "id": "0yiOyYw6t7iu",
        "outputId": "72a6d258-3b6f-46db-c655-36b8b855fee0",
        "vscode": {
          "languageId": "r"
        }
      },
      "outputs": [
        {
          "name": "stderr",
          "output_type": "stream",
          "text": [
            "Warning message in dir.create(\"bambu_tutorial\"):\n",
            "“'bambu_tutorial' already exists”\n"
          ]
        }
      ],
      "source": [
        "# create a directory to store the data\n",
        "#dir.create(\"bambu_tutorial\")\n",
        "#setwd(\"./bambu_tutorial\") # if running locally good habit to do this "
      ]
    },
    {
      "cell_type": "code",
      "execution_count": 4,
      "metadata": {
        "colab": {
          "base_uri": "https://localhost:8080/",
          "height": 69
        },
        "id": "f6HJqusfpgdh",
        "outputId": "40a7ed20-bd9c-44fb-caf0-525fea7618f4",
        "vscode": {
          "languageId": "r"
        }
      },
      "outputs": [
        {
          "data": {
            "text/html": [
              "'hg38_chr22.fa'"
            ],
            "text/latex": [
              "'hg38\\_chr22.fa'"
            ],
            "text/markdown": [
              "'hg38_chr22.fa'"
            ],
            "text/plain": [
              "[1] \"hg38_chr22.fa\""
            ]
          },
          "metadata": {},
          "output_type": "display_data"
        },
        {
          "data": {
            "text/html": [
              "'hg38_chr22.fa.fai'"
            ],
            "text/latex": [
              "'hg38\\_chr22.fa.fai'"
            ],
            "text/markdown": [
              "'hg38_chr22.fa.fai'"
            ],
            "text/plain": [
              "[1] \"hg38_chr22.fa.fai\""
            ]
          },
          "metadata": {},
          "output_type": "display_data"
        },
        {
          "data": {
            "text/html": [
              "'hg38_chr22.gtf'"
            ],
            "text/latex": [
              "'hg38\\_chr22.gtf'"
            ],
            "text/markdown": [
              "'hg38_chr22.gtf'"
            ],
            "text/plain": [
              "[1] \"hg38_chr22.gtf\""
            ]
          },
          "metadata": {},
          "output_type": "display_data"
        }
      ],
      "source": [
        "# download genome fasta file\n",
        "aws.s3::save_object(\n",
        "  object=\"data/data_tutorial/annotations/hg38_chr22.fa\",\n",
        "  bucket=\"sg-nex-data\",\n",
        "  region=\"ap-southeast-1\",\n",
        "  file=\"hg38_chr22.fa\")\n",
        "# download genome index fastai file\n",
        "aws.s3::save_object(\n",
        "  object=\"data/data_tutorial/annotations/hg38_chr22.fa.fai\",\n",
        "  bucket=\"sg-nex-data\",\n",
        "  region=\"ap-southeast-1\",\n",
        "  file=\"hg38_chr22.fa.fai\")\n",
        "# download gtf file\n",
        "aws.s3::save_object(\n",
        "  object=\"data/data_tutorial/annotations/hg38_chr22.gtf\",\n",
        "  bucket=\"sg-nex-data\",\n",
        "  region=\"ap-southeast-1\",\n",
        "  file=\"hg38_chr22.gtf\")"
      ]
    },
    {
      "cell_type": "markdown",
      "metadata": {
        "id": "kLUPyup9pgdh"
      },
      "source": [
        "### **Download raw fastq file and perform alignment**\n",
        "\n",
        "The SG-NEx project provides aligned reads that can be used directly with Bambu, however sometimes, raw fastq reads might be provided instead of aligned reads."
      ]
    },
    {
      "cell_type": "code",
      "execution_count": 5,
      "metadata": {
        "id": "qxfk0dRIpgdh",
        "vscode": {
          "languageId": "r"
        }
      },
      "outputs": [],
      "source": [
        "fastq_list=c(\"A549_directRNA_sample1.fastq.gz\",\n",
        "           \"A549_directRNA_sample2.fastq.gz\",\n",
        "           \"A549_directRNA_sample3.fastq.gz\",\n",
        "           \"HepG2_directRNA_sample1.fastq.gz\",\n",
        "           \"HepG2_directRNA_sample2.fastq.gz\",\n",
        "           \"HepG2_directRNA_sample3.fastq.gz\")\n",
        "for (fastq in fastq_list[1]){ # here we try with one sample\n",
        "  aws.s3::save_object(\n",
        "    object=paste0(\"data/data_tutorial/fastq/\",fastq),\n",
        "    bucket = \"sg-nex-data\",\n",
        "    region=\"ap-southeast-1\",\n",
        "    file=basename(fastq))\n",
        "}"
      ]
    },
    {
      "cell_type": "code",
      "execution_count": 6,
      "metadata": {
        "colab": {
          "base_uri": "https://localhost:8080/",
          "height": 280
        },
        "id": "OGlFnrtsyjYP",
        "outputId": "ca7baa73-cd8d-4c95-df7b-d66a0cba5da9",
        "vscode": {
          "languageId": "r"
        }
      },
      "outputs": [
        {
          "data": {
            "text/html": [
              "<style>\n",
              ".list-inline {list-style: none; margin:0; padding: 0}\n",
              ".list-inline>li {display: inline-block}\n",
              ".list-inline>li:not(:last-child)::after {content: \"\\00b7\"; padding: 0 .5ex}\n",
              "</style>\n",
              "<ol class=list-inline><li>'@a041389b-3e9d-45ce-8f99-f30642354559'</li><li>'CTCGGAAGCGGTGCACCCAGAGGCGGTCCTGTAGCCGGGCAAGCACTGGGCTTTGGTTTATGTCCCTGCGGTCGGTGCAAAGGGCGAAGAGGAACCCTTGGGCCGGGGAAACGCCGGGCCGGGCCAGTGACACACCCTCCCTAGTTGTGGGAGCAGACGCGTGGGCCATTGCGGGCGGGCAGGCCTGAAGTGCAGCTATCGTTCAGTGTCCTTGGGTGTTCCAAGAGCAACAAGAAACGAAATAAATCTCTGTTGAAGATACCATTTGACTTTTAGAGATGGCTGTATGCAAACTCTGAAACATTGAATTCACTTCTGCAGTTTCCACAGAAGTCTCCAATCACAATTTCAGTGTATGAAAGCACAGATTCCTGAAAGAATGGCCTCTCAAATGAGACTCCAGGAGTGGGAGCTTACCGTTATCCCTGCTCCTGAAAAACAAGCTAACTGGAAGTTCCATTCACCTGCCACCAGCAACGTTACCACTACACTACCCATTGAACTACCTTCGGTTGATCTGCCAGCTAATTCATGCCCCTGACCCAGCCCACATGGCTTTGGGAAGGACATTCAGTGAACTGTGAAAGAGACCGGAGATTCACTCTGTTGCCAGGCATTGGAGTGCAATGGCACAATTTCGGCTATCCACAATTTCTGTCTCCCCAGATCAAGCTATTTACCTCTGCCACTGTACCCCTAAGGAGAATAAAGGACTACAGATGAAGCACCATTAACGTAGACAGAAGAGCACAAAGTCAAACCTTTGTTGTCGAAGCGTCTTACGAGTCCATCACAAACTGTTCACAAAAATATGAAACCCAGGCAAAGGTTCAGACATACGACGTTTGTTTTAAAATCACCTTTACAGCCTTGTATACCTTACCTTTTAAAATGTGTTATGAGTTTTATTTAGACTAACATCATACGATTAATTGATACGCCAGTATTCAGTTGCTGTGTTTGATGAATCAAATGGTAAATCAATTTGTGTACTTTAATAAAGTATATCGAATGCAAAATCCCCACCCCATCCCACCATTCATATCCATTCCCCCATCTACCATCCCAAAATCCTTCCAGG'</li><li>'+'</li><li>'##&amp;\\'(*\\')%&amp;)()))4/+(&amp;(*,)-.-21,**++,),.,),+*(&amp;%$$*,\\')&amp;-70++*\\').0)61(\\'%))\\'(*-+0.11/\\'72\\'+,-**,.-0,--.+)**(%$(**)+(&amp;#(*)1/((-1*1/),,,(,.+(//&amp;%-5,&amp;&amp;/1,,,14,)))**+/(&amp;(%(+,*\\'(/+,*)36&amp;&amp;).\"$&amp;,(/)-+*\\')*++/0.)($%%&amp;($+2-+2((-+40)\\')\\'+*21../0-0+,0\\'*0(\\'*+9-,090+\\',+*+)+(..12..2-**.4,1,(/-&amp;)\\'(**,*-++*))*-/9&lt;3**&amp;/,/7.*),2&amp;,7\\'+%$$&amp;,$()((-26(0+(&amp;))\\'0\\'\\'%\\'23-9)%#)*++**\\'/012129),2.\\'((**0.4+/---08/)0,$(,+,\\'\\'\\')05-,\\'%%&amp;&amp;$/(&amp;.*\\'\\'%&amp;*.)*%%$#&amp;-(.0--343-1*)*()+2:&lt;8/0204-,5+\\')--&amp;*-03-+*)\\'%$).\\',-.(*,///&amp;($#\"$&amp;((%%%$%%%&amp;(+4/)&amp;*)+,\\'*(,+%#%&amp;)\\'**+,),-32,+*)+-),*./2(5/1\\'/++21-.28,((&amp;\\'&amp;,#\\'-1+//&amp;()(\\'&amp;$&amp;\\'*(*--40.//3.31,()(\\'\\'(-0+)\\'*%&amp;&amp;$\\'$)&amp;37596/0-)&amp;)\\')\\'),..-,)(00*+,.+*(--+1+(+(..,-++\\'((%(*(&amp;%(9&lt;2132/(,/)&amp;/+,.)$\\'.%%*-4/*),+&amp;$(-3*\\'#(\\')%\\'\\'&amp;%).&amp;/)+%()()++++)-&amp;((/(\\'+()$\"##()&amp;*+*)++,,,0008-,--/70+(&amp;(+&amp;&amp;%(%$$($\\'\\'(#%\\'+%)(--**/\\'&amp;\\'%\\'(/+*+++-((*3:87**+*+4/\\')-++/-*/4.2-//)%*\\'&amp;\\'#%%&amp;\\'\\'\\'(*++.763,5;1(\\'&amp;*&amp;$%%&amp;***-6)&amp;\\'%&amp;$\"&amp;\\'&amp;+$,(*-,+)&lt;&lt;-,00-775211-483.//---/.,+/-*+(()(%\\'#%%&amp;$%&amp;*)),-,,/2-020241-/06/66--+/622213:5,,-15*(..)0,)%*,/2(\\'&amp;\\'\\'&amp;$*0-&amp;)(%\\'\\'&amp;&amp;&amp;%$$#&amp;)-**&amp;(,+*&amp;)22*&amp;&amp;,/%$$%(1#$&amp;%%%#$%%&amp;&amp;(&amp;%&amp;$&amp;(1-%#%#$&amp;%&amp;$&amp;()$*))#&amp;++(,.$$$'</li><li>'@199662f2-6160-4c41-a236-e93eeec6fbb0'</li><li>'GCTTGCGAGGCCCTAAAAGCAGCAGCGGCGTGGTCGGCAGAGCGAGCTCGGAGAAGCAGTAGTGGGTTCCATGTGAGATGGTGGAGTAGGCAGGTCTCCGCGCTACTTTGAAACATAGACATTTGTGTGTGTTTAGTTAGTCACCCTGCTGTGGAATAGAGGCCAGAAACTGATCAGTTTCATCAAAGAGTAACTTTGTACCCATCACTGAGTATTCCTTCAAAGAACTGCCCTTTCCCAGCAGCTTTAAGTTACTCATGTGGCAAAGATGGCAGGGATTTCCCAAAGGTTTTCTGGCTGAAACATATTCCGTGGGTGTATCTGGTCACAGCAGTTTCCTCATCCCCTGCAGCTGTTAAGAAACAGGTCATGCTGTCCTTCCAGGTTCAACAGTATGGCTCCAAAGGATGAAATTTCATTCTGATTTTCTGGCTGAAGACTATTATTTCTCTTGCAGGCATGCACCACAGTTACTTATCCTCCACATATCCGTTGATGAGGCAGTTCCGCTGACTCGCCACAGGCTGAGTGCAGGCAGTGGCATGATCTCAGCTCTATTGCAAGCTCTGCTCCTGGGTTCACGCCATTCTCCTGCCTACAGCCTCCTTGAGTAGCTGATTACAGGCACCCGCTTCCGCCCAGCTGGTTGGTGGAGAATCTGAACTGGAGATGAACATTATCCAGGATGCTGAGAGTATAATACGCAAGACAGAGCTTTTAGAGCACTGTGACGTAACATGCACATGGCAGAAAATGGAAGCATGTTTACAGCCATCATATGAAAAGTGTTTGGAATGTCAGACTAGCACAAGAAGTTGCTAATTAACAAGACTGCTGAAAAATGAGTGCTGTGGATGACCGAGTAGCAGGTATGGGGTTGATTGTTAGGGGAAGTATAACTTAAAAGTTTATAAAGTTTCACTTCTATATTTATAGGTAATGTAGATTTGTTGACACTACTTTGATTTAAAATAAATGGAAATGTATGGAAATTTTACTTTATTATCGAAAACCTGAAGAGTGAAAGTGAAGAAAAATAACCTATAGTAGACAATATAAACTGCCGTTGTTCATAAATTTAGAAAATATTCAGTACGGAGTGCTATGAAATCTATCAGAAAATAACAGTATTTTATGGTAAATCCCTACCCACCATCATCCATCCCAAATCCCTCCAG'</li><li>'+'</li><li>'#(#)*,-\\'++*/,%\\'-//))+-32/.3/+*))2(($(\\'()*+*+.))-+(,,++0+*)*)$+(+,+/0521-,*)((**&amp;-+0,+((&amp;(*$$/*%&amp;$&amp;*(***,/+/-.)+4.\\'()%\\'$$&amp;(),*))(++-(-*#*-5*+\\'$#(44+20310/1/0,()&amp;(+(/,.,:,$%\\'\\'*0.,.*)$&amp;&amp;&amp;\\'.\\'&amp;&amp;%&amp;0*(++,-0.1534($##%&amp;%\\'$\\'\\'&amp;,*&amp;+&amp;&amp;\\'(*)-,//66+)*,,96110,,((+%(--))\\'&amp;)(),,-21.-*+*((*2\\'&amp;(+(%(,),3)\\'1/(2(3*(%\\'%%$*(+7-((((-,)(\\'%+4-*+--/$*/+(&amp;(&amp;)\\')/133-(1\\'&amp;(\\')493(%%()0**()%,-14+*(+,%&amp;$$#\\'+/*+.&amp;\\'**))2+++0.,,/11.60/-1-/4*1,,-*26\\'.,\\'$%%(%./--+,(&amp;$&amp;\\'&amp;),-2..,,)+*+.+*$\\'%)-\\'&amp;#)-\\'(,/-$)(%)0/0-**00,+.($-\\'#$$$%&amp;\\')\\'+,+-.*\\'(,\\'**+\\'&amp;(&amp;&amp;()\\'((\\'%%\\'\"(&amp;)1)*-*+,-,$-%$$*).3)))*())\\')))-($\\'$\\'(%$%%&amp;*)%\\')%*),(*.+2)&amp;\\')*-.-(*&amp;&amp;&amp;*))..*\\'((,.,(,,\\'/,,+*+,)\\'(\\'*,(\\'%),(\\'*52\\'$&amp;&amp;\\'*$*5,+//*.102990/++(*3/,)()/%\\'\\')(+*+*.&amp;%$\\'))+-0*10,--),.(((((**,+\\'(())+,*+*--.-),42-/.+*)%&amp;&amp;\\',++***,%&amp;%%&amp;%\\'%%$%(\\'\\')(/.*)(-(*%&amp;#&amp;&amp;&amp;*-$%()*1*)%%\\'((*,04,(),6639+2(**((**./0%)(\\')-.((,(\\'((%\\'&amp;,*)+0*.0**\\'),1.,-5793-/+-*##,(*0-0//-+((\\'&amp;#&amp;)\\'\\'.-,(*-32+/1-/9/)*,&amp;(-10\\'-(+((,-(-)09:-)/80))(5,\\',-($$$&amp;($\\'$&amp;$+(\\'$\\'&amp;*1+-+*..--/04/+3,**+(%((()(*+-:81:,:2\\'\\'7/,/,42+*(\\')++1-:5*85)(\\'-*&amp;%$*&amp;($&amp;)0.2/4--0/)+**)-*&amp;\\'#&amp;)+)2&lt;850/1.\\'&amp;&amp;&amp;(&amp;/(++,042&amp;)),/*&amp;+))%)+0),,%$&amp;+/+*/1&amp;*3:70*+3-.\\'\\'())+---./*/00,07-*(\\')&amp;%(\\'*622*/-(&amp;()\\'*2/*%\\'%&amp;&amp;*.-)./,($\\')&amp;$\\'+($#$%$$##%&amp;\\'%(($%*(#&amp;+\"#'</li></ol>\n"
            ],
            "text/latex": [
              "\\begin{enumerate*}\n",
              "\\item '@a041389b-3e9d-45ce-8f99-f30642354559'\n",
              "\\item 'CTCGGAAGCGGTGCACCCAGAGGCGGTCCTGTAGCCGGGCAAGCACTGGGCTTTGGTTTATGTCCCTGCGGTCGGTGCAAAGGGCGAAGAGGAACCCTTGGGCCGGGGAAACGCCGGGCCGGGCCAGTGACACACCCTCCCTAGTTGTGGGAGCAGACGCGTGGGCCATTGCGGGCGGGCAGGCCTGAAGTGCAGCTATCGTTCAGTGTCCTTGGGTGTTCCAAGAGCAACAAGAAACGAAATAAATCTCTGTTGAAGATACCATTTGACTTTTAGAGATGGCTGTATGCAAACTCTGAAACATTGAATTCACTTCTGCAGTTTCCACAGAAGTCTCCAATCACAATTTCAGTGTATGAAAGCACAGATTCCTGAAAGAATGGCCTCTCAAATGAGACTCCAGGAGTGGGAGCTTACCGTTATCCCTGCTCCTGAAAAACAAGCTAACTGGAAGTTCCATTCACCTGCCACCAGCAACGTTACCACTACACTACCCATTGAACTACCTTCGGTTGATCTGCCAGCTAATTCATGCCCCTGACCCAGCCCACATGGCTTTGGGAAGGACATTCAGTGAACTGTGAAAGAGACCGGAGATTCACTCTGTTGCCAGGCATTGGAGTGCAATGGCACAATTTCGGCTATCCACAATTTCTGTCTCCCCAGATCAAGCTATTTACCTCTGCCACTGTACCCCTAAGGAGAATAAAGGACTACAGATGAAGCACCATTAACGTAGACAGAAGAGCACAAAGTCAAACCTTTGTTGTCGAAGCGTCTTACGAGTCCATCACAAACTGTTCACAAAAATATGAAACCCAGGCAAAGGTTCAGACATACGACGTTTGTTTTAAAATCACCTTTACAGCCTTGTATACCTTACCTTTTAAAATGTGTTATGAGTTTTATTTAGACTAACATCATACGATTAATTGATACGCCAGTATTCAGTTGCTGTGTTTGATGAATCAAATGGTAAATCAATTTGTGTACTTTAATAAAGTATATCGAATGCAAAATCCCCACCCCATCCCACCATTCATATCCATTCCCCCATCTACCATCCCAAAATCCTTCCAGG'\n",
              "\\item '+'\n",
              "\\item '\\#\\#\\&\\textbackslash{}'(*\\textbackslash{}')\\%\\&)()))4/+(\\&(*,)-.-21,**++,),.,),+*(\\&\\%\\$\\$*,\\textbackslash{}')\\&-70++*\\textbackslash{}').0)61(\\textbackslash{}'\\%))\\textbackslash{}'(*-+0.11/\\textbackslash{}'72\\textbackslash{}'+,-**,.-0,--.+)**(\\%\\$(**)+(\\&\\#(*)1/((-1*1/),,,(,.+(//\\&\\%-5,\\&\\&/1,,,14,)))**+/(\\&(\\%(+,*\\textbackslash{}'(/+,*)36\\&\\&).\"\\$\\&,(/)-+*\\textbackslash{}')*++/0.)(\\$\\%\\%\\&(\\$+2-+2((-+40)\\textbackslash{}')\\textbackslash{}'+*21../0-0+,0\\textbackslash{}'*0(\\textbackslash{}'*+9-,090+\\textbackslash{}',+*+)+(..12..2-**.4,1,(/-\\&)\\textbackslash{}'(**,*-++*))*-/9<3**\\&/,/7.*),2\\&,7\\textbackslash{}'+\\%\\$\\$\\&,\\$()((-26(0+(\\&))\\textbackslash{}'0\\textbackslash{}'\\textbackslash{}'\\%\\textbackslash{}'23-9)\\%\\#)*++**\\textbackslash{}'/012129),2.\\textbackslash{}'((**0.4+/---08/)0,\\$(,+,\\textbackslash{}'\\textbackslash{}'\\textbackslash{}')05-,\\textbackslash{}'\\%\\%\\&\\&\\$/(\\&.*\\textbackslash{}'\\textbackslash{}'\\%\\&*.)*\\%\\%\\$\\#\\&-(.0--343-1*)*()+2:<8/0204-,5+\\textbackslash{}')--\\&*-03-+*)\\textbackslash{}'\\%\\$).\\textbackslash{}',-.(*,///\\&(\\$\\#\"\\$\\&((\\%\\%\\%\\$\\%\\%\\%\\&(+4/)\\&*)+,\\textbackslash{}'*(,+\\%\\#\\%\\&)\\textbackslash{}'**+,),-32,+*)+-),*./2(5/1\\textbackslash{}'/++21-.28,((\\&\\textbackslash{}'\\&,\\#\\textbackslash{}'-1+//\\&()(\\textbackslash{}'\\&\\$\\&\\textbackslash{}'*(*--40.//3.31,()(\\textbackslash{}'\\textbackslash{}'(-0+)\\textbackslash{}'*\\%\\&\\&\\$\\textbackslash{}'\\$)\\&37596/0-)\\&)\\textbackslash{}')\\textbackslash{}'),..-,)(00*+,.+*(--+1+(+(..,-++\\textbackslash{}'((\\%(*(\\&\\%(9<2132/(,/)\\&/+,.)\\$\\textbackslash{}'.\\%\\%*-4/*),+\\&\\$(-3*\\textbackslash{}'\\#(\\textbackslash{}')\\%\\textbackslash{}'\\textbackslash{}'\\&\\%).\\&/)+\\%()()++++)-\\&((/(\\textbackslash{}'+()\\$\"\\#\\#()\\&*+*)++,,,0008-,--/70+(\\&(+\\&\\&\\%(\\%\\$\\$(\\$\\textbackslash{}'\\textbackslash{}'(\\#\\%\\textbackslash{}'+\\%)(--**/\\textbackslash{}'\\&\\textbackslash{}'\\%\\textbackslash{}'(/+*+++-((*3:87**+*+4/\\textbackslash{}')-++/-*/4.2-//)\\%*\\textbackslash{}'\\&\\textbackslash{}'\\#\\%\\%\\&\\textbackslash{}'\\textbackslash{}'\\textbackslash{}'(*++.763,5;1(\\textbackslash{}'\\&*\\&\\$\\%\\%\\&***-6)\\&\\textbackslash{}'\\%\\&\\$\"\\&\\textbackslash{}'\\&+\\$,(*-,+)<<-,00-775211-483.//---/.,+/-*+(()(\\%\\textbackslash{}'\\#\\%\\%\\&\\$\\%\\&*)),-,,/2-020241-/06/66--+/622213:5,,-15*(..)0,)\\%*,/2(\\textbackslash{}'\\&\\textbackslash{}'\\textbackslash{}'\\&\\$*0-\\&)(\\%\\textbackslash{}'\\textbackslash{}'\\&\\&\\&\\%\\$\\$\\#\\&)-**\\&(,+*\\&)22*\\&\\&,/\\%\\$\\$\\%(1\\#\\$\\&\\%\\%\\%\\#\\$\\%\\%\\&\\&(\\&\\%\\&\\$\\&(1-\\%\\#\\%\\#\\$\\&\\%\\&\\$\\&()\\$*))\\#\\&++(,.\\$\\$\\$'\n",
              "\\item '@199662f2-6160-4c41-a236-e93eeec6fbb0'\n",
              "\\item 'GCTTGCGAGGCCCTAAAAGCAGCAGCGGCGTGGTCGGCAGAGCGAGCTCGGAGAAGCAGTAGTGGGTTCCATGTGAGATGGTGGAGTAGGCAGGTCTCCGCGCTACTTTGAAACATAGACATTTGTGTGTGTTTAGTTAGTCACCCTGCTGTGGAATAGAGGCCAGAAACTGATCAGTTTCATCAAAGAGTAACTTTGTACCCATCACTGAGTATTCCTTCAAAGAACTGCCCTTTCCCAGCAGCTTTAAGTTACTCATGTGGCAAAGATGGCAGGGATTTCCCAAAGGTTTTCTGGCTGAAACATATTCCGTGGGTGTATCTGGTCACAGCAGTTTCCTCATCCCCTGCAGCTGTTAAGAAACAGGTCATGCTGTCCTTCCAGGTTCAACAGTATGGCTCCAAAGGATGAAATTTCATTCTGATTTTCTGGCTGAAGACTATTATTTCTCTTGCAGGCATGCACCACAGTTACTTATCCTCCACATATCCGTTGATGAGGCAGTTCCGCTGACTCGCCACAGGCTGAGTGCAGGCAGTGGCATGATCTCAGCTCTATTGCAAGCTCTGCTCCTGGGTTCACGCCATTCTCCTGCCTACAGCCTCCTTGAGTAGCTGATTACAGGCACCCGCTTCCGCCCAGCTGGTTGGTGGAGAATCTGAACTGGAGATGAACATTATCCAGGATGCTGAGAGTATAATACGCAAGACAGAGCTTTTAGAGCACTGTGACGTAACATGCACATGGCAGAAAATGGAAGCATGTTTACAGCCATCATATGAAAAGTGTTTGGAATGTCAGACTAGCACAAGAAGTTGCTAATTAACAAGACTGCTGAAAAATGAGTGCTGTGGATGACCGAGTAGCAGGTATGGGGTTGATTGTTAGGGGAAGTATAACTTAAAAGTTTATAAAGTTTCACTTCTATATTTATAGGTAATGTAGATTTGTTGACACTACTTTGATTTAAAATAAATGGAAATGTATGGAAATTTTACTTTATTATCGAAAACCTGAAGAGTGAAAGTGAAGAAAAATAACCTATAGTAGACAATATAAACTGCCGTTGTTCATAAATTTAGAAAATATTCAGTACGGAGTGCTATGAAATCTATCAGAAAATAACAGTATTTTATGGTAAATCCCTACCCACCATCATCCATCCCAAATCCCTCCAG'\n",
              "\\item '+'\n",
              "\\item '\\#(\\#)*,-\\textbackslash{}'++*/,\\%\\textbackslash{}'-//))+-32/.3/+*))2((\\$(\\textbackslash{}'()*+*+.))-+(,,++0+*)*)\\$+(+,+/0521-,*)((**\\&-+0,+((\\&(*\\$\\$/*\\%\\&\\$\\&*(***,/+/-.)+4.\\textbackslash{}'()\\%\\textbackslash{}'\\$\\$\\&(),*))(++-(-*\\#*-5*+\\textbackslash{}'\\$\\#(44+20310/1/0,()\\&(+(/,.,:,\\$\\%\\textbackslash{}'\\textbackslash{}'*0.,.*)\\$\\&\\&\\&\\textbackslash{}'.\\textbackslash{}'\\&\\&\\%\\&0*(++,-0.1534(\\$\\#\\#\\%\\&\\%\\textbackslash{}'\\$\\textbackslash{}'\\textbackslash{}'\\&,*\\&+\\&\\&\\textbackslash{}'(*)-,//66+)*,,96110,,((+\\%(--))\\textbackslash{}'\\&)(),,-21.-*+*((*2\\textbackslash{}'\\&(+(\\%(,),3)\\textbackslash{}'1/(2(3*(\\%\\textbackslash{}'\\%\\%\\$*(+7-((((-,)(\\textbackslash{}'\\%+4-*+--/\\$*/+(\\&(\\&)\\textbackslash{}')/133-(1\\textbackslash{}'\\&(\\textbackslash{}')493(\\%\\%()0**()\\%,-14+*(+,\\%\\&\\$\\$\\#\\textbackslash{}'+/*+.\\&\\textbackslash{}'**))2+++0.,,/11.60/-1-/4*1,,-*26\\textbackslash{}'.,\\textbackslash{}'\\$\\%\\%(\\%./--+,(\\&\\$\\&\\textbackslash{}'\\&),-2..,,)+*+.+*\\$\\textbackslash{}'\\%)-\\textbackslash{}'\\&\\#)-\\textbackslash{}'(,/-\\$)(\\%)0/0-**00,+.(\\$-\\textbackslash{}'\\#\\$\\$\\$\\%\\&\\textbackslash{}')\\textbackslash{}'+,+-.*\\textbackslash{}'(,\\textbackslash{}'**+\\textbackslash{}'\\&(\\&\\&()\\textbackslash{}'((\\textbackslash{}'\\%\\%\\textbackslash{}'\"(\\&)1)*-*+,-,\\$-\\%\\$\\$*).3)))*())\\textbackslash{}')))-(\\$\\textbackslash{}'\\$\\textbackslash{}'(\\%\\$\\%\\%\\&*)\\%\\textbackslash{}')\\%*),(*.+2)\\&\\textbackslash{}')*-.-(*\\&\\&\\&*))..*\\textbackslash{}'((,.,(,,\\textbackslash{}'/,,+*+,)\\textbackslash{}'(\\textbackslash{}'*,(\\textbackslash{}'\\%),(\\textbackslash{}'*52\\textbackslash{}'\\$\\&\\&\\textbackslash{}'*\\$*5,+//*.102990/++(*3/,)()/\\%\\textbackslash{}'\\textbackslash{}')(+*+*.\\&\\%\\$\\textbackslash{}'))+-0*10,--),.(((((**,+\\textbackslash{}'(())+,*+*--.-),42-/.+*)\\%\\&\\&\\textbackslash{}',++***,\\%\\&\\%\\%\\&\\%\\textbackslash{}'\\%\\%\\$\\%(\\textbackslash{}'\\textbackslash{}')(/.*)(-(*\\%\\&\\#\\&\\&\\&*-\\$\\%()*1*)\\%\\%\\textbackslash{}'((*,04,(),6639+2(**((**./0\\%)(\\textbackslash{}')-.((,(\\textbackslash{}'((\\%\\textbackslash{}'\\&,*)+0*.0**\\textbackslash{}'),1.,-5793-/+-*\\#\\#,(*0-0//-+((\\textbackslash{}'\\&\\#\\&)\\textbackslash{}'\\textbackslash{}'.-,(*-32+/1-/9/)*,\\&(-10\\textbackslash{}'-(+((,-(-)09:-)/80))(5,\\textbackslash{}',-(\\$\\$\\$\\&(\\$\\textbackslash{}'\\$\\&\\$+(\\textbackslash{}'\\$\\textbackslash{}'\\&*1+-+*..--/04/+3,**+(\\%((()(*+-:81:,:2\\textbackslash{}'\\textbackslash{}'7/,/,42+*(\\textbackslash{}')++1-:5*85)(\\textbackslash{}'-*\\&\\%\\$*\\&(\\$\\&)0.2/4--0/)+**)-*\\&\\textbackslash{}'\\#\\&)+)2<850/1.\\textbackslash{}'\\&\\&\\&(\\&/(++,042\\&)),/*\\&+))\\%)+0),,\\%\\$\\&+/+*/1\\&*3:70*+3-.\\textbackslash{}'\\textbackslash{}'())+---./*/00,07-*(\\textbackslash{}')\\&\\%(\\textbackslash{}'*622*/-(\\&()\\textbackslash{}'*2/*\\%\\textbackslash{}'\\%\\&\\&*.-)./,(\\$\\textbackslash{}')\\&\\$\\textbackslash{}'+(\\$\\#\\$\\%\\$\\$\\#\\#\\%\\&\\textbackslash{}'\\%((\\$\\%*(\\#\\&+\"\\#'\n",
              "\\end{enumerate*}\n"
            ],
            "text/markdown": [
              "1. '@a041389b-3e9d-45ce-8f99-f30642354559'\n",
              "2. 'CTCGGAAGCGGTGCACCCAGAGGCGGTCCTGTAGCCGGGCAAGCACTGGGCTTTGGTTTATGTCCCTGCGGTCGGTGCAAAGGGCGAAGAGGAACCCTTGGGCCGGGGAAACGCCGGGCCGGGCCAGTGACACACCCTCCCTAGTTGTGGGAGCAGACGCGTGGGCCATTGCGGGCGGGCAGGCCTGAAGTGCAGCTATCGTTCAGTGTCCTTGGGTGTTCCAAGAGCAACAAGAAACGAAATAAATCTCTGTTGAAGATACCATTTGACTTTTAGAGATGGCTGTATGCAAACTCTGAAACATTGAATTCACTTCTGCAGTTTCCACAGAAGTCTCCAATCACAATTTCAGTGTATGAAAGCACAGATTCCTGAAAGAATGGCCTCTCAAATGAGACTCCAGGAGTGGGAGCTTACCGTTATCCCTGCTCCTGAAAAACAAGCTAACTGGAAGTTCCATTCACCTGCCACCAGCAACGTTACCACTACACTACCCATTGAACTACCTTCGGTTGATCTGCCAGCTAATTCATGCCCCTGACCCAGCCCACATGGCTTTGGGAAGGACATTCAGTGAACTGTGAAAGAGACCGGAGATTCACTCTGTTGCCAGGCATTGGAGTGCAATGGCACAATTTCGGCTATCCACAATTTCTGTCTCCCCAGATCAAGCTATTTACCTCTGCCACTGTACCCCTAAGGAGAATAAAGGACTACAGATGAAGCACCATTAACGTAGACAGAAGAGCACAAAGTCAAACCTTTGTTGTCGAAGCGTCTTACGAGTCCATCACAAACTGTTCACAAAAATATGAAACCCAGGCAAAGGTTCAGACATACGACGTTTGTTTTAAAATCACCTTTACAGCCTTGTATACCTTACCTTTTAAAATGTGTTATGAGTTTTATTTAGACTAACATCATACGATTAATTGATACGCCAGTATTCAGTTGCTGTGTTTGATGAATCAAATGGTAAATCAATTTGTGTACTTTAATAAAGTATATCGAATGCAAAATCCCCACCCCATCCCACCATTCATATCCATTCCCCCATCTACCATCCCAAAATCCTTCCAGG'\n",
              "3. '+'\n",
              "4. '##&amp;\\'(*\\')%&amp;)()))4/+(&amp;(*,)-.-21,**++,),.,),+*(&amp;%$$*,\\')&amp;-70++*\\').0)61(\\'%))\\'(*-+0.11/\\'72\\'+,-**,.-0,--.+)**(%$(**)+(&amp;#(*)1/((-1*1/),,,(,.+(//&amp;%-5,&amp;&amp;/1,,,14,)))**+/(&amp;(%(+,*\\'(/+,*)36&amp;&amp;).\"$&amp;,(/)-+*\\')*++/0.)($%%&amp;($+2-+2((-+40)\\')\\'+*21../0-0+,0\\'*0(\\'*+9-,090+\\',+*+)+(..12..2-**.4,1,(/-&amp;)\\'(**,*-++*))*-/9&lt;3**&amp;/,/7.*),2&amp;,7\\'+%$$&amp;,$()((-26(0+(&amp;))\\'0\\'\\'%\\'23-9)%#)*++**\\'/012129),2.\\'((**0.4+/---08/)0,$(,+,\\'\\'\\')05-,\\'%%&amp;&amp;$/(&amp;.*\\'\\'%&amp;*.)*%%$#&amp;-(.0--343-1*)*()+2:&lt;8/0204-,5+\\')--&amp;*-03-+*)\\'%$).\\',-.(*,///&amp;($#\"$&amp;((%%%$%%%&amp;(+4/)&amp;*)+,\\'*(,+%#%&amp;)\\'**+,),-32,+*)+-),*./2(5/1\\'/++21-.28,((&amp;\\'&amp;,#\\'-1+//&amp;()(\\'&amp;$&amp;\\'*(*--40.//3.31,()(\\'\\'(-0+)\\'*%&amp;&amp;$\\'$)&amp;37596/0-)&amp;)\\')\\'),..-,)(00*+,.+*(--+1+(+(..,-++\\'((%(*(&amp;%(9&lt;2132/(,/)&amp;/+,.)$\\'.%%*-4/*),+&amp;$(-3*\\'#(\\')%\\'\\'&amp;%).&amp;/)+%()()++++)-&amp;((/(\\'+()$\"##()&amp;*+*)++,,,0008-,--/70+(&amp;(+&amp;&amp;%(%$$($\\'\\'(#%\\'+%)(--**/\\'&amp;\\'%\\'(/+*+++-((*3:87**+*+4/\\')-++/-*/4.2-//)%*\\'&amp;\\'#%%&amp;\\'\\'\\'(*++.763,5;1(\\'&amp;*&amp;$%%&amp;***-6)&amp;\\'%&amp;$\"&amp;\\'&amp;+$,(*-,+)&lt;&lt;-,00-775211-483.//---/.,+/-*+(()(%\\'#%%&amp;$%&amp;*)),-,,/2-020241-/06/66--+/622213:5,,-15*(..)0,)%*,/2(\\'&amp;\\'\\'&amp;$*0-&amp;)(%\\'\\'&amp;&amp;&amp;%$$#&amp;)-**&amp;(,+*&amp;)22*&amp;&amp;,/%$$%(1#$&amp;%%%#$%%&amp;&amp;(&amp;%&amp;$&amp;(1-%#%#$&amp;%&amp;$&amp;()$*))#&amp;++(,.$$$'\n",
              "5. '@199662f2-6160-4c41-a236-e93eeec6fbb0'\n",
              "6. 'GCTTGCGAGGCCCTAAAAGCAGCAGCGGCGTGGTCGGCAGAGCGAGCTCGGAGAAGCAGTAGTGGGTTCCATGTGAGATGGTGGAGTAGGCAGGTCTCCGCGCTACTTTGAAACATAGACATTTGTGTGTGTTTAGTTAGTCACCCTGCTGTGGAATAGAGGCCAGAAACTGATCAGTTTCATCAAAGAGTAACTTTGTACCCATCACTGAGTATTCCTTCAAAGAACTGCCCTTTCCCAGCAGCTTTAAGTTACTCATGTGGCAAAGATGGCAGGGATTTCCCAAAGGTTTTCTGGCTGAAACATATTCCGTGGGTGTATCTGGTCACAGCAGTTTCCTCATCCCCTGCAGCTGTTAAGAAACAGGTCATGCTGTCCTTCCAGGTTCAACAGTATGGCTCCAAAGGATGAAATTTCATTCTGATTTTCTGGCTGAAGACTATTATTTCTCTTGCAGGCATGCACCACAGTTACTTATCCTCCACATATCCGTTGATGAGGCAGTTCCGCTGACTCGCCACAGGCTGAGTGCAGGCAGTGGCATGATCTCAGCTCTATTGCAAGCTCTGCTCCTGGGTTCACGCCATTCTCCTGCCTACAGCCTCCTTGAGTAGCTGATTACAGGCACCCGCTTCCGCCCAGCTGGTTGGTGGAGAATCTGAACTGGAGATGAACATTATCCAGGATGCTGAGAGTATAATACGCAAGACAGAGCTTTTAGAGCACTGTGACGTAACATGCACATGGCAGAAAATGGAAGCATGTTTACAGCCATCATATGAAAAGTGTTTGGAATGTCAGACTAGCACAAGAAGTTGCTAATTAACAAGACTGCTGAAAAATGAGTGCTGTGGATGACCGAGTAGCAGGTATGGGGTTGATTGTTAGGGGAAGTATAACTTAAAAGTTTATAAAGTTTCACTTCTATATTTATAGGTAATGTAGATTTGTTGACACTACTTTGATTTAAAATAAATGGAAATGTATGGAAATTTTACTTTATTATCGAAAACCTGAAGAGTGAAAGTGAAGAAAAATAACCTATAGTAGACAATATAAACTGCCGTTGTTCATAAATTTAGAAAATATTCAGTACGGAGTGCTATGAAATCTATCAGAAAATAACAGTATTTTATGGTAAATCCCTACCCACCATCATCCATCCCAAATCCCTCCAG'\n",
              "7. '+'\n",
              "8. '#(#)*,-\\'++*/,%\\'-//))+-32/.3/+*))2(($(\\'()*+*+.))-+(,,++0+*)*)$+(+,+/0521-,*)((**&amp;-+0,+((&amp;(*$$/*%&amp;$&amp;*(***,/+/-.)+4.\\'()%\\'$$&amp;(),*))(++-(-*#*-5*+\\'$#(44+20310/1/0,()&amp;(+(/,.,:,$%\\'\\'*0.,.*)$&amp;&amp;&amp;\\'.\\'&amp;&amp;%&amp;0*(++,-0.1534($##%&amp;%\\'$\\'\\'&amp;,*&amp;+&amp;&amp;\\'(*)-,//66+)*,,96110,,((+%(--))\\'&amp;)(),,-21.-*+*((*2\\'&amp;(+(%(,),3)\\'1/(2(3*(%\\'%%$*(+7-((((-,)(\\'%+4-*+--/$*/+(&amp;(&amp;)\\')/133-(1\\'&amp;(\\')493(%%()0**()%,-14+*(+,%&amp;$$#\\'+/*+.&amp;\\'**))2+++0.,,/11.60/-1-/4*1,,-*26\\'.,\\'$%%(%./--+,(&amp;$&amp;\\'&amp;),-2..,,)+*+.+*$\\'%)-\\'&amp;#)-\\'(,/-$)(%)0/0-**00,+.($-\\'#$$$%&amp;\\')\\'+,+-.*\\'(,\\'**+\\'&amp;(&amp;&amp;()\\'((\\'%%\\'\"(&amp;)1)*-*+,-,$-%$$*).3)))*())\\')))-($\\'$\\'(%$%%&amp;*)%\\')%*),(*.+2)&amp;\\')*-.-(*&amp;&amp;&amp;*))..*\\'((,.,(,,\\'/,,+*+,)\\'(\\'*,(\\'%),(\\'*52\\'$&amp;&amp;\\'*$*5,+//*.102990/++(*3/,)()/%\\'\\')(+*+*.&amp;%$\\'))+-0*10,--),.(((((**,+\\'(())+,*+*--.-),42-/.+*)%&amp;&amp;\\',++***,%&amp;%%&amp;%\\'%%$%(\\'\\')(/.*)(-(*%&amp;#&amp;&amp;&amp;*-$%()*1*)%%\\'((*,04,(),6639+2(**((**./0%)(\\')-.((,(\\'((%\\'&amp;,*)+0*.0**\\'),1.,-5793-/+-*##,(*0-0//-+((\\'&amp;#&amp;)\\'\\'.-,(*-32+/1-/9/)*,&amp;(-10\\'-(+((,-(-)09:-)/80))(5,\\',-($$$&amp;($\\'$&amp;$+(\\'$\\'&amp;*1+-+*..--/04/+3,**+(%((()(*+-:81:,:2\\'\\'7/,/,42+*(\\')++1-:5*85)(\\'-*&amp;%$*&amp;($&amp;)0.2/4--0/)+**)-*&amp;\\'#&amp;)+)2&lt;850/1.\\'&amp;&amp;&amp;(&amp;/(++,042&amp;)),/*&amp;+))%)+0),,%$&amp;+/+*/1&amp;*3:70*+3-.\\'\\'())+---./*/00,07-*(\\')&amp;%(\\'*622*/-(&amp;()\\'*2/*%\\'%&amp;&amp;*.-)./,($\\')&amp;$\\'+($#$%$$##%&amp;\\'%(($%*(#&amp;+\"#'\n",
              "\n",
              "\n"
            ],
            "text/plain": [
              "[1] \"@a041389b-3e9d-45ce-8f99-f30642354559\"                                                                                                                                                                                                                                                                                                                                                                                                                                                                                                                                                                                                                                                                                                                                                                                                                                                                                                                                                                                                                                                                                                                                                                                       \n",
              "[2] \"CTCGGAAGCGGTGCACCCAGAGGCGGTCCTGTAGCCGGGCAAGCACTGGGCTTTGGTTTATGTCCCTGCGGTCGGTGCAAAGGGCGAAGAGGAACCCTTGGGCCGGGGAAACGCCGGGCCGGGCCAGTGACACACCCTCCCTAGTTGTGGGAGCAGACGCGTGGGCCATTGCGGGCGGGCAGGCCTGAAGTGCAGCTATCGTTCAGTGTCCTTGGGTGTTCCAAGAGCAACAAGAAACGAAATAAATCTCTGTTGAAGATACCATTTGACTTTTAGAGATGGCTGTATGCAAACTCTGAAACATTGAATTCACTTCTGCAGTTTCCACAGAAGTCTCCAATCACAATTTCAGTGTATGAAAGCACAGATTCCTGAAAGAATGGCCTCTCAAATGAGACTCCAGGAGTGGGAGCTTACCGTTATCCCTGCTCCTGAAAAACAAGCTAACTGGAAGTTCCATTCACCTGCCACCAGCAACGTTACCACTACACTACCCATTGAACTACCTTCGGTTGATCTGCCAGCTAATTCATGCCCCTGACCCAGCCCACATGGCTTTGGGAAGGACATTCAGTGAACTGTGAAAGAGACCGGAGATTCACTCTGTTGCCAGGCATTGGAGTGCAATGGCACAATTTCGGCTATCCACAATTTCTGTCTCCCCAGATCAAGCTATTTACCTCTGCCACTGTACCCCTAAGGAGAATAAAGGACTACAGATGAAGCACCATTAACGTAGACAGAAGAGCACAAAGTCAAACCTTTGTTGTCGAAGCGTCTTACGAGTCCATCACAAACTGTTCACAAAAATATGAAACCCAGGCAAAGGTTCAGACATACGACGTTTGTTTTAAAATCACCTTTACAGCCTTGTATACCTTACCTTTTAAAATGTGTTATGAGTTTTATTTAGACTAACATCATACGATTAATTGATACGCCAGTATTCAGTTGCTGTGTTTGATGAATCAAATGGTAAATCAATTTGTGTACTTTAATAAAGTATATCGAATGCAAAATCCCCACCCCATCCCACCATTCATATCCATTCCCCCATCTACCATCCCAAAATCCTTCCAGG\"                                                                                                   \n",
              "[3] \"+\"                                                                                                                                                                                                                                                                                                                                                                                                                                                                                                                                                                                                                                                                                                                                                                                                                                                                                                                                                                                                                                                                                                                                                                                                                           \n",
              "[4] \"##&'(*')%&)()))4/+(&(*,)-.-21,**++,),.,),+*(&%$$*,')&-70++*').0)61('%))'(*-+0.11/'72'+,-**,.-0,--.+)**(%$(**)+(&#(*)1/((-1*1/),,,(,.+(//&%-5,&&/1,,,14,)))**+/(&(%(+,*'(/+,*)36&&).\\\"$&,(/)-+*')*++/0.)($%%&($+2-+2((-+40)')'+*21../0-0+,0'*0('*+9-,090+',+*+)+(..12..2-**.4,1,(/-&)'(**,*-++*))*-/9<3**&/,/7.*),2&,7'+%$$&,$()((-26(0+(&))'0''%'23-9)%#)*++**'/012129),2.'((**0.4+/---08/)0,$(,+,''')05-,'%%&&$/(&.*''%&*.)*%%$#&-(.0--343-1*)*()+2:<8/0204-,5+')--&*-03-+*)'%$).',-.(*,///&($#\\\"$&((%%%$%%%&(+4/)&*)+,'*(,+%#%&)'**+,),-32,+*)+-),*./2(5/1'/++21-.28,((&'&,#'-1+//&()('&$&'*(*--40.//3.31,()(''(-0+)'*%&&$'$)&37596/0-)&)')'),..-,)(00*+,.+*(--+1+(+(..,-++'((%(*(&%(9<2132/(,/)&/+,.)$'.%%*-4/*),+&$(-3*'#(')%''&%).&/)+%()()++++)-&((/('+()$\\\"##()&*+*)++,,,0008-,--/70+(&(+&&%(%$$($''(#%'+%)(--**/'&'%'(/+*+++-((*3:87**+*+4/')-++/-*/4.2-//)%*'&'#%%&'''(*++.763,5;1('&*&$%%&***-6)&'%&$\\\"&'&+$,(*-,+)<<-,00-775211-483.//---/.,+/-*+(()(%'#%%&$%&*)),-,,/2-020241-/06/66--+/622213:5,,-15*(..)0,)%*,/2('&''&$*0-&)(%''&&&%$$#&)-**&(,+*&)22*&&,/%$$%(1#$&%%%#$%%&&(&%&$&(1-%#%#$&%&$&()$*))#&++(,.$$$\"                                                                                               \n",
              "[5] \"@199662f2-6160-4c41-a236-e93eeec6fbb0\"                                                                                                                                                                                                                                                                                                                                                                                                                                                                                                                                                                                                                                                                                                                                                                                                                                                                                                                                                                                                                                                                                                                                                                                       \n",
              "[6] \"GCTTGCGAGGCCCTAAAAGCAGCAGCGGCGTGGTCGGCAGAGCGAGCTCGGAGAAGCAGTAGTGGGTTCCATGTGAGATGGTGGAGTAGGCAGGTCTCCGCGCTACTTTGAAACATAGACATTTGTGTGTGTTTAGTTAGTCACCCTGCTGTGGAATAGAGGCCAGAAACTGATCAGTTTCATCAAAGAGTAACTTTGTACCCATCACTGAGTATTCCTTCAAAGAACTGCCCTTTCCCAGCAGCTTTAAGTTACTCATGTGGCAAAGATGGCAGGGATTTCCCAAAGGTTTTCTGGCTGAAACATATTCCGTGGGTGTATCTGGTCACAGCAGTTTCCTCATCCCCTGCAGCTGTTAAGAAACAGGTCATGCTGTCCTTCCAGGTTCAACAGTATGGCTCCAAAGGATGAAATTTCATTCTGATTTTCTGGCTGAAGACTATTATTTCTCTTGCAGGCATGCACCACAGTTACTTATCCTCCACATATCCGTTGATGAGGCAGTTCCGCTGACTCGCCACAGGCTGAGTGCAGGCAGTGGCATGATCTCAGCTCTATTGCAAGCTCTGCTCCTGGGTTCACGCCATTCTCCTGCCTACAGCCTCCTTGAGTAGCTGATTACAGGCACCCGCTTCCGCCCAGCTGGTTGGTGGAGAATCTGAACTGGAGATGAACATTATCCAGGATGCTGAGAGTATAATACGCAAGACAGAGCTTTTAGAGCACTGTGACGTAACATGCACATGGCAGAAAATGGAAGCATGTTTACAGCCATCATATGAAAAGTGTTTGGAATGTCAGACTAGCACAAGAAGTTGCTAATTAACAAGACTGCTGAAAAATGAGTGCTGTGGATGACCGAGTAGCAGGTATGGGGTTGATTGTTAGGGGAAGTATAACTTAAAAGTTTATAAAGTTTCACTTCTATATTTATAGGTAATGTAGATTTGTTGACACTACTTTGATTTAAAATAAATGGAAATGTATGGAAATTTTACTTTATTATCGAAAACCTGAAGAGTGAAAGTGAAGAAAAATAACCTATAGTAGACAATATAAACTGCCGTTGTTCATAAATTTAGAAAATATTCAGTACGGAGTGCTATGAAATCTATCAGAAAATAACAGTATTTTATGGTAAATCCCTACCCACCATCATCCATCCCAAATCCCTCCAG\"  \n",
              "[7] \"+\"                                                                                                                                                                                                                                                                                                                                                                                                                                                                                                                                                                                                                                                                                                                                                                                                                                                                                                                                                                                                                                                                                                                                                                                                                           \n",
              "[8] \"#(#)*,-'++*/,%'-//))+-32/.3/+*))2(($('()*+*+.))-+(,,++0+*)*)$+(+,+/0521-,*)((**&-+0,+((&(*$$/*%&$&*(***,/+/-.)+4.'()%'$$&(),*))(++-(-*#*-5*+'$#(44+20310/1/0,()&(+(/,.,:,$%''*0.,.*)$&&&'.'&&%&0*(++,-0.1534($##%&%'$''&,*&+&&'(*)-,//66+)*,,96110,,((+%(--))'&)(),,-21.-*+*((*2'&(+(%(,),3)'1/(2(3*(%'%%$*(+7-((((-,)('%+4-*+--/$*/+(&(&)')/133-(1'&(')493(%%()0**()%,-14+*(+,%&$$#'+/*+.&'**))2+++0.,,/11.60/-1-/4*1,,-*26'.,'$%%(%./--+,(&$&'&),-2..,,)+*+.+*$'%)-'&#)-'(,/-$)(%)0/0-**00,+.($-'#$$$%&')'+,+-.*'(,'**+'&(&&()'(('%%'\\\"(&)1)*-*+,-,$-%$$*).3)))*())')))-($'$'(%$%%&*)%')%*),(*.+2)&')*-.-(*&&&*))..*'((,.,(,,'/,,+*+,)'('*,('%),('*52'$&&'*$*5,+//*.102990/++(*3/,)()/%'')(+*+*.&%$'))+-0*10,--),.(((((**,+'(())+,*+*--.-),42-/.+*)%&&',++***,%&%%&%'%%$%('')(/.*)(-(*%&#&&&*-$%()*1*)%%'((*,04,(),6639+2(**((**./0%)(')-.((,('((%'&,*)+0*.0**'),1.,-5793-/+-*##,(*0-0//-+(('&#&)''.-,(*-32+/1-/9/)*,&(-10'-(+((,-(-)09:-)/80))(5,',-($$$&($'$&$+('$'&*1+-+*..--/04/+3,**+(%((()(*+-:81:,:2''7/,/,42+*(')++1-:5*85)('-*&%$*&($&)0.2/4--0/)+**)-*&'#&)+)2<850/1.'&&&(&/(++,042&)),/*&+))%)+0),,%$&+/+*/1&*3:70*+3-.''())+---./*/00,07-*(')&%('*622*/-(&()'*2/*%'%&&*.-)./,($')&$'+($#$%$$##%&'%(($%*(#&+\\\"#\""
            ]
          },
          "metadata": {},
          "output_type": "display_data"
        }
      ],
      "source": [
        "# visualizing fastq file\n",
        "system(\"zcat A549_directRNA_sample1.fastq.gz | head -8\", intern = TRUE)"
      ]
    },
    {
      "cell_type": "markdown",
      "metadata": {
        "id": "KtVh26Prpgdi"
      },
      "source": [
        " In that case, alignment must be done first and can be done as follows:"
      ]
    },
    {
      "cell_type": "code",
      "execution_count": 30,
      "metadata": {
        "colab": {
          "base_uri": "https://localhost:8080/"
        },
        "id": "as6g_F6rqZ8P",
        "outputId": "2ecac4e1-2693-4162-dc94-2bf0504b0326",
        "vscode": {
          "languageId": "r"
        }
      },
      "outputs": [
        {
          "name": "stdout",
          "output_type": "stream",
          "text": [
            "minimap2-2.26_x64-linux/\n",
            "minimap2-2.26_x64-linux/FAQ.md\n",
            "minimap2-2.26_x64-linux/minimap2\n",
            "minimap2-2.26_x64-linux/README.md\n",
            "minimap2-2.26_x64-linux/NEWS.md\n",
            "minimap2-2.26_x64-linux/LICENSE.txt\n",
            "minimap2-2.26_x64-linux/k8\n",
            "minimap2-2.26_x64-linux/paftools.js\n",
            "minimap2-2.26_x64-linux/cookbook.md\n",
            "minimap2-2.26_x64-linux/minimap2.1\n",
            "minimap2-2.26_x64-linux/README-js.md\n"
          ]
        },
        {
          "name": "stderr",
          "output_type": "stream",
          "text": [
            "Warning message in system(\"./minimap2-2.26_x64-linux/minimap2\", intern = TRUE):\n",
            "“running command './minimap2-2.26_x64-linux/minimap2' had status 1”\n"
          ]
        },
        {
          "name": "stdout",
          "output_type": "stream",
          "text": [
            "\n"
          ]
        }
      ],
      "source": [
        "# install minimap2\n",
        "cat(system(\"curl -L https://github.com/lh3/minimap2/releases/download/v2.26/minimap2-2.26_x64-linux.tar.bz2 | tar -jxvf - \", intern = TRUE), sep = \"\\n\")\n",
        "cat(system(\"./minimap2-2.26_x64-linux/minimap2 --version\", intern = TRUE), sep = \"\\n\")"
      ]
    },
    {
      "cell_type": "code",
      "execution_count": 24,
      "metadata": {
        "colab": {
          "base_uri": "https://localhost:8080/",
          "height": 1000
        },
        "id": "ujyqeW5XsJGf",
        "outputId": "2a0c8543-e0b9-454f-8155-dc5d9b222139",
        "vscode": {
          "languageId": "r"
        }
      },
      "outputs": [
        {
          "data": {
            "text/html": [
              "<style>\n",
              ".list-inline {list-style: none; margin:0; padding: 0}\n",
              ".list-inline>li {display: inline-block}\n",
              ".list-inline>li:not(:last-child)::after {content: \"\\00b7\"; padding: 0 .5ex}\n",
              "</style>\n",
              "<ol class=list-inline><li>'Reading package lists...'</li><li>'Building dependency tree...'</li><li>'Reading state information...'</li><li>'The following additional packages will be installed:'</li><li><span style=white-space:pre-wrap>'  cwltool fonts-glyphicons-halflings libc-ares2 libhts3 libjs-bootstrap'</span></li><li><span style=white-space:pre-wrap>'  libnode64 nodejs nodejs-doc python3-bs4 python3-cachecontrol'</span></li><li><span style=white-space:pre-wrap>'  python3-coloredlogs python3-dateutil python3-decorator python3-html5lib'</span></li><li><span style=white-space:pre-wrap>'  python3-humanfriendly python3-isodate python3-lockfile python3-lxml'</span></li><li><span style=white-space:pre-wrap>'  python3-mistune python3-msgpack python3-mypy-extensions python3-networkx'</span></li><li><span style=white-space:pre-wrap>'  python3-numpy python3-prov python3-psutil python3-pyparsing python3-rdflib'</span></li><li><span style=white-space:pre-wrap>'  python3-rdflib-jsonld python3-ruamel.yaml python3-schema-salad'</span></li><li><span style=white-space:pre-wrap>'  python3-shellescape python3-soupsieve python3-sparqlwrapper'</span></li><li><span style=white-space:pre-wrap>'  python3-typing-extensions python3-webencodings python3-yaml'</span></li><li>'Suggested packages:'</li><li><span style=white-space:pre-wrap>'  docker.io | singularity-container npm python3-genshi python-lockfile-doc'</span></li><li><span style=white-space:pre-wrap>'  python3-lxml-dbg python-lxml-doc python-networkx-doc python3-gdal'</span></li><li><span style=white-space:pre-wrap>'  python3-matplotlib python3-pygraphviz | python3-pydot python3-scipy'</span></li><li><span style=white-space:pre-wrap>'  python-numpy-doc python3-pytest python3-numpy-dbg python-prov-doc'</span></li><li><span style=white-space:pre-wrap>'  python3-pydot python-psutil-doc python-pyparsing-doc python-rdflib-doc'</span></li><li>'The following NEW packages will be installed:'</li><li><span style=white-space:pre-wrap>'  cwltool fonts-glyphicons-halflings libc-ares2 libhts3 libjs-bootstrap'</span></li><li><span style=white-space:pre-wrap>'  libnode64 nodejs nodejs-doc python3-bs4 python3-cachecontrol'</span></li><li><span style=white-space:pre-wrap>'  python3-coloredlogs python3-dateutil python3-decorator python3-html5lib'</span></li><li><span style=white-space:pre-wrap>'  python3-humanfriendly python3-isodate python3-lockfile python3-lxml'</span></li><li><span style=white-space:pre-wrap>'  python3-mistune python3-msgpack python3-mypy-extensions python3-networkx'</span></li><li><span style=white-space:pre-wrap>'  python3-numpy python3-prov python3-psutil python3-pyparsing python3-rdflib'</span></li><li><span style=white-space:pre-wrap>'  python3-rdflib-jsonld python3-ruamel.yaml python3-schema-salad'</span></li><li><span style=white-space:pre-wrap>'  python3-shellescape python3-soupsieve python3-sparqlwrapper'</span></li><li><span style=white-space:pre-wrap>'  python3-typing-extensions python3-webencodings python3-yaml samtools'</span></li><li>'0 upgraded, 37 newly installed, 0 to remove and 15 not upgraded.'</li><li>'Need to get 14.8 MB of archives.'</li><li>'After this operation, 72.9 MB of additional disk space will be used.'</li><li>'Get:1 http://archive.ubuntu.com/ubuntu focal-updates/main amd64 python3-yaml amd64 5.3.1-1ubuntu0.1 [136 kB]'</li><li>'Get:2 http://archive.ubuntu.com/ubuntu focal/universe amd64 python3-humanfriendly all 4.18-2 [60.8 kB]'</li><li>'Get:3 http://archive.ubuntu.com/ubuntu focal/universe amd64 python3-coloredlogs all 7.3-2 [28.0 kB]'</li><li>'Get:4 http://archive.ubuntu.com/ubuntu focal/universe amd64 python3-mypy-extensions all 0.4.3-1 [5,436 B]'</li><li>'Get:5 http://archive.ubuntu.com/ubuntu focal/main amd64 python3-dateutil all 2.7.3-3ubuntu1 [63.3 kB]'</li><li>'Get:6 http://archive.ubuntu.com/ubuntu focal-updates/main amd64 python3-lxml amd64 4.5.0-1ubuntu0.5 [1,384 kB]'</li><li>'Get:7 http://archive.ubuntu.com/ubuntu focal/main amd64 python3-decorator all 4.4.2-0ubuntu1 [10.3 kB]'</li><li>'Get:8 http://archive.ubuntu.com/ubuntu focal/main amd64 python3-networkx all 2.4-3ubuntu1 [855 kB]'</li><li>'Get:9 http://archive.ubuntu.com/ubuntu focal/universe amd64 python3-isodate all 0.6.0-2 [24.0 kB]'</li><li>'Get:10 http://archive.ubuntu.com/ubuntu focal/main amd64 python3-pyparsing all 2.4.6-1 [61.3 kB]'</li><li>'Get:11 http://archive.ubuntu.com/ubuntu focal/universe amd64 python3-rdflib all 4.2.2-5 [241 kB]'</li><li>'Get:12 http://archive.ubuntu.com/ubuntu focal/universe amd64 python3-prov all 1.5.2-2 [92.8 kB]'</li><li>'Get:13 http://archive.ubuntu.com/ubuntu focal/main amd64 python3-psutil amd64 5.5.1-1ubuntu4 [141 kB]'</li><li>'Get:14 http://archive.ubuntu.com/ubuntu focal/universe amd64 python3-ruamel.yaml amd64 0.15.89-3build1 [228 kB]'</li><li>'Get:15 http://archive.ubuntu.com/ubuntu focal/main amd64 python3-msgpack amd64 0.6.2-1 [73.5 kB]'</li><li>'Get:16 http://archive.ubuntu.com/ubuntu focal/main amd64 python3-lockfile all 1:0.12.2-2ubuntu2 [14.6 kB]'</li><li>'Get:17 http://archive.ubuntu.com/ubuntu focal/universe amd64 python3-cachecontrol all 0.12.6-1ubuntu2 [16.7 kB]'</li><li>'Get:18 http://archive.ubuntu.com/ubuntu focal/universe amd64 python3-mistune all 0.8.4-2 [14.3 kB]'</li><li>'Get:19 http://archive.ubuntu.com/ubuntu focal/universe amd64 python3-rdflib-jsonld all 0.4.0-5 [12.4 kB]'</li><li>'Get:20 http://archive.ubuntu.com/ubuntu focal/universe amd64 python3-typing-extensions all 3.7.4.1-1 [27.5 kB]'</li><li>'Get:21 http://archive.ubuntu.com/ubuntu focal/universe amd64 fonts-glyphicons-halflings all 1.009~3.4.1+dfsg-1 [117 kB]'</li><li>'Get:22 http://archive.ubuntu.com/ubuntu focal/universe amd64 libjs-bootstrap all 3.4.1+dfsg-1 [124 kB]'</li><li>'Get:23 http://archive.ubuntu.com/ubuntu focal/universe amd64 python3-schema-salad all 5.0.20200220195218-1 [295 kB]'</li><li>'Get:24 http://archive.ubuntu.com/ubuntu focal/universe amd64 python3-shellescape all 3.4.1-4 [4,928 B]'</li><li>'Get:25 http://archive.ubuntu.com/ubuntu focal/universe amd64 cwltool all 2.0.20200224214940+dfsg-1 [203 kB]'</li><li>'Get:26 http://archive.ubuntu.com/ubuntu focal-updates/universe amd64 libhts3 amd64 1.10.2-3ubuntu0.1 [350 kB]'</li><li>'Get:27 http://archive.ubuntu.com/ubuntu focal-updates/main amd64 libc-ares2 amd64 1.15.0-1ubuntu0.3 [36.8 kB]'</li><li>'Get:28 http://archive.ubuntu.com/ubuntu focal/universe amd64 libnode64 amd64 10.19.0~dfsg-3ubuntu1 [5,765 kB]'</li><li>'Get:29 http://archive.ubuntu.com/ubuntu focal/universe amd64 nodejs-doc all 10.19.0~dfsg-3ubuntu1 [942 kB]'</li><li>'Get:30 http://archive.ubuntu.com/ubuntu focal/main amd64 python3-soupsieve all 1.9.5+dfsg-1 [29.1 kB]'</li><li>'Get:31 http://archive.ubuntu.com/ubuntu focal/main amd64 python3-bs4 all 4.8.2-1 [83.0 kB]'</li><li>'Get:32 http://archive.ubuntu.com/ubuntu focal/main amd64 python3-webencodings all 0.5.1-1ubuntu1 [11.0 kB]'</li><li>'Get:33 http://archive.ubuntu.com/ubuntu focal/main amd64 python3-html5lib all 1.0.1-2 [84.3 kB]'</li><li>'Get:34 http://archive.ubuntu.com/ubuntu focal-updates/main amd64 python3-numpy amd64 1:1.17.4-5ubuntu3.1 [2,724 kB]'</li><li>'Get:35 http://archive.ubuntu.com/ubuntu focal/universe amd64 python3-sparqlwrapper all 1.8.5-1 [32.3 kB]'</li><li>'Get:36 http://archive.ubuntu.com/ubuntu focal/universe amd64 samtools amd64 1.10-3 [496 kB]'</li><li>'Get:37 http://archive.ubuntu.com/ubuntu focal/universe amd64 nodejs amd64 10.19.0~dfsg-3ubuntu1 [61.1 kB]'</li><li>'Fetched 14.8 MB in 9s (1,689 kB/s)'</li><li>'Selecting previously unselected package python3-yaml.\\r'</li><li>'(Reading database ... \\r(Reading database ... 5%\\r(Reading database ... 10%\\r(Reading database ... 15%\\r(Reading database ... 20%\\r(Reading database ... 25%\\r(Reading database ... 30%\\r(Reading database ... 35%\\r(Reading database ... 40%\\r(Reading database ... 45%\\r(Reading database ... 50%\\r(Reading database ... 55%\\r(Reading database ... 60%\\r(Reading database ... 65%\\r(Reading database ... 70%\\r(Reading database ... 75%\\r(Reading database ... 80%\\r(Reading database ... 85%\\r(Reading database ... 90%\\r(Reading database ... 95%\\r(Reading database ... 100%\\r(Reading database ... 123105 files and directories currently installed.)\\r'</li><li>'Preparing to unpack .../00-python3-yaml_5.3.1-1ubuntu0.1_amd64.deb ...\\r'</li><li>'Unpacking python3-yaml (5.3.1-1ubuntu0.1) ...\\r'</li><li>'Selecting previously unselected package python3-humanfriendly.\\r'</li><li>'Preparing to unpack .../01-python3-humanfriendly_4.18-2_all.deb ...\\r'</li><li>'Unpacking python3-humanfriendly (4.18-2) ...\\r'</li><li>'Selecting previously unselected package python3-coloredlogs.\\r'</li><li>'Preparing to unpack .../02-python3-coloredlogs_7.3-2_all.deb ...\\r'</li><li>'Unpacking python3-coloredlogs (7.3-2) ...\\r'</li><li>'Selecting previously unselected package python3-mypy-extensions.\\r'</li><li>'Preparing to unpack .../03-python3-mypy-extensions_0.4.3-1_all.deb ...\\r'</li><li>'Unpacking python3-mypy-extensions (0.4.3-1) ...\\r'</li><li>'Selecting previously unselected package python3-dateutil.\\r'</li><li>'Preparing to unpack .../04-python3-dateutil_2.7.3-3ubuntu1_all.deb ...\\r'</li><li>'Unpacking python3-dateutil (2.7.3-3ubuntu1) ...\\r'</li><li>'Selecting previously unselected package python3-lxml:amd64.\\r'</li><li>'Preparing to unpack .../05-python3-lxml_4.5.0-1ubuntu0.5_amd64.deb ...\\r'</li><li>'Unpacking python3-lxml:amd64 (4.5.0-1ubuntu0.5) ...\\r'</li><li>'Selecting previously unselected package python3-decorator.\\r'</li><li>'Preparing to unpack .../06-python3-decorator_4.4.2-0ubuntu1_all.deb ...\\r'</li><li>'Unpacking python3-decorator (4.4.2-0ubuntu1) ...\\r'</li><li>'Selecting previously unselected package python3-networkx.\\r'</li><li>'Preparing to unpack .../07-python3-networkx_2.4-3ubuntu1_all.deb ...\\r'</li><li>'Unpacking python3-networkx (2.4-3ubuntu1) ...\\r'</li><li>'Selecting previously unselected package python3-isodate.\\r'</li><li>'Preparing to unpack .../08-python3-isodate_0.6.0-2_all.deb ...\\r'</li><li>'Unpacking python3-isodate (0.6.0-2) ...\\r'</li><li>'Selecting previously unselected package python3-pyparsing.\\r'</li><li>'Preparing to unpack .../09-python3-pyparsing_2.4.6-1_all.deb ...\\r'</li><li>'Unpacking python3-pyparsing (2.4.6-1) ...\\r'</li><li>'Selecting previously unselected package python3-rdflib.\\r'</li><li>'Preparing to unpack .../10-python3-rdflib_4.2.2-5_all.deb ...\\r'</li><li>'Unpacking python3-rdflib (4.2.2-5) ...\\r'</li><li>'Selecting previously unselected package python3-prov.\\r'</li><li>'Preparing to unpack .../11-python3-prov_1.5.2-2_all.deb ...\\r'</li><li>'Unpacking python3-prov (1.5.2-2) ...\\r'</li><li>'Selecting previously unselected package python3-psutil.\\r'</li><li>'Preparing to unpack .../12-python3-psutil_5.5.1-1ubuntu4_amd64.deb ...\\r'</li><li>'Unpacking python3-psutil (5.5.1-1ubuntu4) ...\\r'</li><li>'Selecting previously unselected package python3-ruamel.yaml.\\r'</li><li>'Preparing to unpack .../13-python3-ruamel.yaml_0.15.89-3build1_amd64.deb ...\\r'</li><li>'Unpacking python3-ruamel.yaml (0.15.89-3build1) ...\\r'</li><li>'Selecting previously unselected package python3-msgpack.\\r'</li><li>'Preparing to unpack .../14-python3-msgpack_0.6.2-1_amd64.deb ...\\r'</li><li>'Unpacking python3-msgpack (0.6.2-1) ...\\r'</li><li>'Selecting previously unselected package python3-lockfile.\\r'</li><li>'Preparing to unpack .../15-python3-lockfile_1%3a0.12.2-2ubuntu2_all.deb ...\\r'</li><li>'Unpacking python3-lockfile (1:0.12.2-2ubuntu2) ...\\r'</li><li>'Selecting previously unselected package python3-cachecontrol.\\r'</li><li>'Preparing to unpack .../16-python3-cachecontrol_0.12.6-1ubuntu2_all.deb ...\\r'</li><li>'Unpacking python3-cachecontrol (0.12.6-1ubuntu2) ...\\r'</li><li>'Selecting previously unselected package python3-mistune.\\r'</li><li>'Preparing to unpack .../17-python3-mistune_0.8.4-2_all.deb ...\\r'</li><li>'Unpacking python3-mistune (0.8.4-2) ...\\r'</li><li>'Selecting previously unselected package python3-rdflib-jsonld.\\r'</li><li>'Preparing to unpack .../18-python3-rdflib-jsonld_0.4.0-5_all.deb ...\\r'</li><li>'Unpacking python3-rdflib-jsonld (0.4.0-5) ...\\r'</li><li>'Selecting previously unselected package python3-typing-extensions.\\r'</li><li>'Preparing to unpack .../19-python3-typing-extensions_3.7.4.1-1_all.deb ...\\r'</li><li>'Unpacking python3-typing-extensions (3.7.4.1-1) ...\\r'</li><li>'Selecting previously unselected package fonts-glyphicons-halflings.\\r'</li><li>'Preparing to unpack .../20-fonts-glyphicons-halflings_1.009~3.4.1+dfsg-1_all.deb ...\\r'</li><li>'Unpacking fonts-glyphicons-halflings (1.009~3.4.1+dfsg-1) ...\\r'</li><li>'Selecting previously unselected package libjs-bootstrap.\\r'</li><li>'Preparing to unpack .../21-libjs-bootstrap_3.4.1+dfsg-1_all.deb ...\\r'</li><li>'Unpacking libjs-bootstrap (3.4.1+dfsg-1) ...\\r'</li><li>'Selecting previously unselected package python3-schema-salad.\\r'</li><li>'Preparing to unpack .../22-python3-schema-salad_5.0.20200220195218-1_all.deb ...\\r'</li><li>'Unpacking python3-schema-salad (5.0.20200220195218-1) ...\\r'</li><li>'Selecting previously unselected package python3-shellescape.\\r'</li><li>'Preparing to unpack .../23-python3-shellescape_3.4.1-4_all.deb ...\\r'</li><li>'Unpacking python3-shellescape (3.4.1-4) ...\\r'</li><li>'Selecting previously unselected package cwltool.\\r'</li><li>'Preparing to unpack .../24-cwltool_2.0.20200224214940+dfsg-1_all.deb ...\\r'</li><li>'Unpacking cwltool (2.0.20200224214940+dfsg-1) ...\\r'</li><li>'Selecting previously unselected package libhts3:amd64.\\r'</li><li>'Preparing to unpack .../25-libhts3_1.10.2-3ubuntu0.1_amd64.deb ...\\r'</li><li>'Unpacking libhts3:amd64 (1.10.2-3ubuntu0.1) ...\\r'</li><li>'Selecting previously unselected package libc-ares2:amd64.\\r'</li><li>'Preparing to unpack .../26-libc-ares2_1.15.0-1ubuntu0.3_amd64.deb ...\\r'</li><li>'Unpacking libc-ares2:amd64 (1.15.0-1ubuntu0.3) ...\\r'</li><li>'Selecting previously unselected package libnode64:amd64.\\r'</li><li>'Preparing to unpack .../27-libnode64_10.19.0~dfsg-3ubuntu1_amd64.deb ...\\r'</li><li>'Unpacking libnode64:amd64 (10.19.0~dfsg-3ubuntu1) ...\\r'</li><li>'Selecting previously unselected package nodejs-doc.\\r'</li><li>'Preparing to unpack .../28-nodejs-doc_10.19.0~dfsg-3ubuntu1_all.deb ...\\r'</li><li>'Unpacking nodejs-doc (10.19.0~dfsg-3ubuntu1) ...\\r'</li><li>'Selecting previously unselected package python3-soupsieve.\\r'</li><li>'Preparing to unpack .../29-python3-soupsieve_1.9.5+dfsg-1_all.deb ...\\r'</li><li>'Unpacking python3-soupsieve (1.9.5+dfsg-1) ...\\r'</li><li>'Selecting previously unselected package python3-bs4.\\r'</li><li>'Preparing to unpack .../30-python3-bs4_4.8.2-1_all.deb ...\\r'</li><li>'Unpacking python3-bs4 (4.8.2-1) ...\\r'</li><li>'Selecting previously unselected package python3-webencodings.\\r'</li><li>'Preparing to unpack .../31-python3-webencodings_0.5.1-1ubuntu1_all.deb ...\\r'</li><li>'Unpacking python3-webencodings (0.5.1-1ubuntu1) ...\\r'</li><li>'Selecting previously unselected package python3-html5lib.\\r'</li><li>'Preparing to unpack .../32-python3-html5lib_1.0.1-2_all.deb ...\\r'</li><li>'Unpacking python3-html5lib (1.0.1-2) ...\\r'</li><li>'Selecting previously unselected package python3-numpy.\\r'</li><li>'Preparing to unpack .../33-python3-numpy_1%3a1.17.4-5ubuntu3.1_amd64.deb ...\\r'</li><li>'Unpacking python3-numpy (1:1.17.4-5ubuntu3.1) ...\\r'</li><li>'Selecting previously unselected package python3-sparqlwrapper.\\r'</li><li>'Preparing to unpack .../34-python3-sparqlwrapper_1.8.5-1_all.deb ...\\r'</li><li>'Unpacking python3-sparqlwrapper (1.8.5-1) ...\\r'</li><li>'Selecting previously unselected package samtools.\\r'</li><li>'Preparing to unpack .../35-samtools_1.10-3_amd64.deb ...\\r'</li><li>'Unpacking samtools (1.10-3) ...\\r'</li><li>'Selecting previously unselected package nodejs.\\r'</li><li>'Preparing to unpack .../36-nodejs_10.19.0~dfsg-3ubuntu1_amd64.deb ...\\r'</li><li>'Unpacking nodejs (10.19.0~dfsg-3ubuntu1) ...\\r'</li><li>'Setting up python3-lockfile (1:0.12.2-2ubuntu2) ...\\r'</li><li>'Setting up libhts3:amd64 (1.10.2-3ubuntu0.1) ...\\r'</li><li>'Setting up fonts-glyphicons-halflings (1.009~3.4.1+dfsg-1) ...\\r'</li><li>'Setting up python3-mypy-extensions (0.4.3-1) ...\\r'</li><li>'Setting up python3-yaml (5.3.1-1ubuntu0.1) ...\\r'</li><li>'Setting up libc-ares2:amd64 (1.15.0-1ubuntu0.3) ...\\r'</li><li>'Setting up python3-webencodings (0.5.1-1ubuntu1) ...\\r'</li><li>'Setting up python3-psutil (5.5.1-1ubuntu4) ...\\r'</li><li>'Setting up samtools (1.10-3) ...\\r'</li><li>'Setting up python3-isodate (0.6.0-2) ...\\r'</li><li>'Setting up python3-decorator (4.4.2-0ubuntu1) ...\\r'</li><li>'Setting up python3-pyparsing (2.4.6-1) ...\\r'</li><li>'Setting up python3-humanfriendly (4.18-2) ...\\r'</li><li>'Setting up libnode64:amd64 (10.19.0~dfsg-3ubuntu1) ...\\r'</li><li>'Setting up python3-typing-extensions (3.7.4.1-1) ...\\r'</li><li>'Setting up python3-html5lib (1.0.1-2) ...\\r'</li><li>'Setting up python3-numpy (1:1.17.4-5ubuntu3.1) ...\\r'</li><li>'Setting up nodejs-doc (10.19.0~dfsg-3ubuntu1) ...\\r'</li><li>'Setting up python3-ruamel.yaml (0.15.89-3build1) ...\\r'</li><li>'Setting up python3-lxml:amd64 (4.5.0-1ubuntu0.5) ...\\r'</li><li>'Setting up python3-rdflib (4.2.2-5) ...\\r'</li><li>'/usr/lib/python3/dist-packages/rdflib/plugins/memory.py:354: SyntaxWarning: \"is\" with a literal. Did you mean \"==\"?\\r'</li><li><span style=white-space:pre-wrap>'  if triple is None or triple is (None,None,None):\\r'</span></li><li>'Setting up python3-dateutil (2.7.3-3ubuntu1) ...\\r'</li><li>'Setting up python3-msgpack (0.6.2-1) ...\\r'</li><li>'Setting up python3-cachecontrol (0.12.6-1ubuntu2) ...\\r'</li><li>'Setting up python3-shellescape (3.4.1-4) ...\\r'</li><li>'Setting up python3-coloredlogs (7.3-2) ...\\r'</li><li>'Setting up python3-mistune (0.8.4-2) ...\\r'</li><li>'Setting up python3-soupsieve (1.9.5+dfsg-1) ...\\r'</li><li>'Setting up libjs-bootstrap (3.4.1+dfsg-1) ...\\r'</li><li>'Setting up python3-rdflib-jsonld (0.4.0-5) ...\\r'</li><li>'Setting up python3-sparqlwrapper (1.8.5-1) ...\\r'</li><li>'Setting up python3-schema-salad (5.0.20200220195218-1) ...\\r'</li><li>'Setting up nodejs (10.19.0~dfsg-3ubuntu1) ...\\r'</li><li>'update-alternatives: using /usr/bin/nodejs to provide /usr/bin/js (js) in auto mode\\r'</li><li>'Setting up python3-networkx (2.4-3ubuntu1) ...\\r'</li><li>'/usr/lib/python3/dist-packages/networkx/readwrite/tests/test_graphml.py:933: SyntaxWarning: \"is\" with a literal. Did you mean \"==\"?\\r'</li><li><span style=white-space:pre-wrap>'  assert H.nodes[\\'n1\\'][\\'special\\'] is 0\\r'</span></li><li>'/usr/lib/python3/dist-packages/networkx/readwrite/tests/test_graphml.py:935: SyntaxWarning: \"is\" with a literal. Did you mean \"==\"?\\r'</li><li><span style=white-space:pre-wrap>'  assert H.edges[\\'n0\\',\\'n1\\',1][\\'special\\'] is 0\\r'</span></li><li>'Setting up python3-bs4 (4.8.2-1) ...\\r'</li><li>'Setting up python3-prov (1.5.2-2) ...\\r'</li><li>'Setting up cwltool (2.0.20200224214940+dfsg-1) ...\\r'</li><li>'/usr/lib/python3/dist-packages/cwltool/docker.py:423: SyntaxWarning: \"is\" with a literal. Did you mean \"==\"?\\r'</li><li><span style=white-space:pre-wrap>'  if res_req is not None and (\"ramMin\" in res_req or \"ramMax\" is res_req):\\r'</span></li><li>'Processing triggers for fontconfig (2.13.1-2ubuntu3) ...\\r'</li><li>'Processing triggers for libc-bin (2.31-0ubuntu9.9) ...\\r'</li><li>'Processing triggers for man-db (2.9.1-1) ...\\r'</li></ol>\n"
            ],
            "text/latex": [
              "\\begin{enumerate*}\n",
              "\\item 'Reading package lists...'\n",
              "\\item 'Building dependency tree...'\n",
              "\\item 'Reading state information...'\n",
              "\\item 'The following additional packages will be installed:'\n",
              "\\item '  cwltool fonts-glyphicons-halflings libc-ares2 libhts3 libjs-bootstrap'\n",
              "\\item '  libnode64 nodejs nodejs-doc python3-bs4 python3-cachecontrol'\n",
              "\\item '  python3-coloredlogs python3-dateutil python3-decorator python3-html5lib'\n",
              "\\item '  python3-humanfriendly python3-isodate python3-lockfile python3-lxml'\n",
              "\\item '  python3-mistune python3-msgpack python3-mypy-extensions python3-networkx'\n",
              "\\item '  python3-numpy python3-prov python3-psutil python3-pyparsing python3-rdflib'\n",
              "\\item '  python3-rdflib-jsonld python3-ruamel.yaml python3-schema-salad'\n",
              "\\item '  python3-shellescape python3-soupsieve python3-sparqlwrapper'\n",
              "\\item '  python3-typing-extensions python3-webencodings python3-yaml'\n",
              "\\item 'Suggested packages:'\n",
              "\\item '  docker.io \\textbar{} singularity-container npm python3-genshi python-lockfile-doc'\n",
              "\\item '  python3-lxml-dbg python-lxml-doc python-networkx-doc python3-gdal'\n",
              "\\item '  python3-matplotlib python3-pygraphviz \\textbar{} python3-pydot python3-scipy'\n",
              "\\item '  python-numpy-doc python3-pytest python3-numpy-dbg python-prov-doc'\n",
              "\\item '  python3-pydot python-psutil-doc python-pyparsing-doc python-rdflib-doc'\n",
              "\\item 'The following NEW packages will be installed:'\n",
              "\\item '  cwltool fonts-glyphicons-halflings libc-ares2 libhts3 libjs-bootstrap'\n",
              "\\item '  libnode64 nodejs nodejs-doc python3-bs4 python3-cachecontrol'\n",
              "\\item '  python3-coloredlogs python3-dateutil python3-decorator python3-html5lib'\n",
              "\\item '  python3-humanfriendly python3-isodate python3-lockfile python3-lxml'\n",
              "\\item '  python3-mistune python3-msgpack python3-mypy-extensions python3-networkx'\n",
              "\\item '  python3-numpy python3-prov python3-psutil python3-pyparsing python3-rdflib'\n",
              "\\item '  python3-rdflib-jsonld python3-ruamel.yaml python3-schema-salad'\n",
              "\\item '  python3-shellescape python3-soupsieve python3-sparqlwrapper'\n",
              "\\item '  python3-typing-extensions python3-webencodings python3-yaml samtools'\n",
              "\\item '0 upgraded, 37 newly installed, 0 to remove and 15 not upgraded.'\n",
              "\\item 'Need to get 14.8 MB of archives.'\n",
              "\\item 'After this operation, 72.9 MB of additional disk space will be used.'\n",
              "\\item 'Get:1 http://archive.ubuntu.com/ubuntu focal-updates/main amd64 python3-yaml amd64 5.3.1-1ubuntu0.1 {[}136 kB{]}'\n",
              "\\item 'Get:2 http://archive.ubuntu.com/ubuntu focal/universe amd64 python3-humanfriendly all 4.18-2 {[}60.8 kB{]}'\n",
              "\\item 'Get:3 http://archive.ubuntu.com/ubuntu focal/universe amd64 python3-coloredlogs all 7.3-2 {[}28.0 kB{]}'\n",
              "\\item 'Get:4 http://archive.ubuntu.com/ubuntu focal/universe amd64 python3-mypy-extensions all 0.4.3-1 {[}5,436 B{]}'\n",
              "\\item 'Get:5 http://archive.ubuntu.com/ubuntu focal/main amd64 python3-dateutil all 2.7.3-3ubuntu1 {[}63.3 kB{]}'\n",
              "\\item 'Get:6 http://archive.ubuntu.com/ubuntu focal-updates/main amd64 python3-lxml amd64 4.5.0-1ubuntu0.5 {[}1,384 kB{]}'\n",
              "\\item 'Get:7 http://archive.ubuntu.com/ubuntu focal/main amd64 python3-decorator all 4.4.2-0ubuntu1 {[}10.3 kB{]}'\n",
              "\\item 'Get:8 http://archive.ubuntu.com/ubuntu focal/main amd64 python3-networkx all 2.4-3ubuntu1 {[}855 kB{]}'\n",
              "\\item 'Get:9 http://archive.ubuntu.com/ubuntu focal/universe amd64 python3-isodate all 0.6.0-2 {[}24.0 kB{]}'\n",
              "\\item 'Get:10 http://archive.ubuntu.com/ubuntu focal/main amd64 python3-pyparsing all 2.4.6-1 {[}61.3 kB{]}'\n",
              "\\item 'Get:11 http://archive.ubuntu.com/ubuntu focal/universe amd64 python3-rdflib all 4.2.2-5 {[}241 kB{]}'\n",
              "\\item 'Get:12 http://archive.ubuntu.com/ubuntu focal/universe amd64 python3-prov all 1.5.2-2 {[}92.8 kB{]}'\n",
              "\\item 'Get:13 http://archive.ubuntu.com/ubuntu focal/main amd64 python3-psutil amd64 5.5.1-1ubuntu4 {[}141 kB{]}'\n",
              "\\item 'Get:14 http://archive.ubuntu.com/ubuntu focal/universe amd64 python3-ruamel.yaml amd64 0.15.89-3build1 {[}228 kB{]}'\n",
              "\\item 'Get:15 http://archive.ubuntu.com/ubuntu focal/main amd64 python3-msgpack amd64 0.6.2-1 {[}73.5 kB{]}'\n",
              "\\item 'Get:16 http://archive.ubuntu.com/ubuntu focal/main amd64 python3-lockfile all 1:0.12.2-2ubuntu2 {[}14.6 kB{]}'\n",
              "\\item 'Get:17 http://archive.ubuntu.com/ubuntu focal/universe amd64 python3-cachecontrol all 0.12.6-1ubuntu2 {[}16.7 kB{]}'\n",
              "\\item 'Get:18 http://archive.ubuntu.com/ubuntu focal/universe amd64 python3-mistune all 0.8.4-2 {[}14.3 kB{]}'\n",
              "\\item 'Get:19 http://archive.ubuntu.com/ubuntu focal/universe amd64 python3-rdflib-jsonld all 0.4.0-5 {[}12.4 kB{]}'\n",
              "\\item 'Get:20 http://archive.ubuntu.com/ubuntu focal/universe amd64 python3-typing-extensions all 3.7.4.1-1 {[}27.5 kB{]}'\n",
              "\\item 'Get:21 http://archive.ubuntu.com/ubuntu focal/universe amd64 fonts-glyphicons-halflings all 1.009\\textasciitilde{}3.4.1+dfsg-1 {[}117 kB{]}'\n",
              "\\item 'Get:22 http://archive.ubuntu.com/ubuntu focal/universe amd64 libjs-bootstrap all 3.4.1+dfsg-1 {[}124 kB{]}'\n",
              "\\item 'Get:23 http://archive.ubuntu.com/ubuntu focal/universe amd64 python3-schema-salad all 5.0.20200220195218-1 {[}295 kB{]}'\n",
              "\\item 'Get:24 http://archive.ubuntu.com/ubuntu focal/universe amd64 python3-shellescape all 3.4.1-4 {[}4,928 B{]}'\n",
              "\\item 'Get:25 http://archive.ubuntu.com/ubuntu focal/universe amd64 cwltool all 2.0.20200224214940+dfsg-1 {[}203 kB{]}'\n",
              "\\item 'Get:26 http://archive.ubuntu.com/ubuntu focal-updates/universe amd64 libhts3 amd64 1.10.2-3ubuntu0.1 {[}350 kB{]}'\n",
              "\\item 'Get:27 http://archive.ubuntu.com/ubuntu focal-updates/main amd64 libc-ares2 amd64 1.15.0-1ubuntu0.3 {[}36.8 kB{]}'\n",
              "\\item 'Get:28 http://archive.ubuntu.com/ubuntu focal/universe amd64 libnode64 amd64 10.19.0\\textasciitilde{}dfsg-3ubuntu1 {[}5,765 kB{]}'\n",
              "\\item 'Get:29 http://archive.ubuntu.com/ubuntu focal/universe amd64 nodejs-doc all 10.19.0\\textasciitilde{}dfsg-3ubuntu1 {[}942 kB{]}'\n",
              "\\item 'Get:30 http://archive.ubuntu.com/ubuntu focal/main amd64 python3-soupsieve all 1.9.5+dfsg-1 {[}29.1 kB{]}'\n",
              "\\item 'Get:31 http://archive.ubuntu.com/ubuntu focal/main amd64 python3-bs4 all 4.8.2-1 {[}83.0 kB{]}'\n",
              "\\item 'Get:32 http://archive.ubuntu.com/ubuntu focal/main amd64 python3-webencodings all 0.5.1-1ubuntu1 {[}11.0 kB{]}'\n",
              "\\item 'Get:33 http://archive.ubuntu.com/ubuntu focal/main amd64 python3-html5lib all 1.0.1-2 {[}84.3 kB{]}'\n",
              "\\item 'Get:34 http://archive.ubuntu.com/ubuntu focal-updates/main amd64 python3-numpy amd64 1:1.17.4-5ubuntu3.1 {[}2,724 kB{]}'\n",
              "\\item 'Get:35 http://archive.ubuntu.com/ubuntu focal/universe amd64 python3-sparqlwrapper all 1.8.5-1 {[}32.3 kB{]}'\n",
              "\\item 'Get:36 http://archive.ubuntu.com/ubuntu focal/universe amd64 samtools amd64 1.10-3 {[}496 kB{]}'\n",
              "\\item 'Get:37 http://archive.ubuntu.com/ubuntu focal/universe amd64 nodejs amd64 10.19.0\\textasciitilde{}dfsg-3ubuntu1 {[}61.1 kB{]}'\n",
              "\\item 'Fetched 14.8 MB in 9s (1,689 kB/s)'\n",
              "\\item 'Selecting previously unselected package python3-yaml.\\textbackslash{}r'\n",
              "\\item '(Reading database ... \\textbackslash{}r(Reading database ... 5\\%\\textbackslash{}r(Reading database ... 10\\%\\textbackslash{}r(Reading database ... 15\\%\\textbackslash{}r(Reading database ... 20\\%\\textbackslash{}r(Reading database ... 25\\%\\textbackslash{}r(Reading database ... 30\\%\\textbackslash{}r(Reading database ... 35\\%\\textbackslash{}r(Reading database ... 40\\%\\textbackslash{}r(Reading database ... 45\\%\\textbackslash{}r(Reading database ... 50\\%\\textbackslash{}r(Reading database ... 55\\%\\textbackslash{}r(Reading database ... 60\\%\\textbackslash{}r(Reading database ... 65\\%\\textbackslash{}r(Reading database ... 70\\%\\textbackslash{}r(Reading database ... 75\\%\\textbackslash{}r(Reading database ... 80\\%\\textbackslash{}r(Reading database ... 85\\%\\textbackslash{}r(Reading database ... 90\\%\\textbackslash{}r(Reading database ... 95\\%\\textbackslash{}r(Reading database ... 100\\%\\textbackslash{}r(Reading database ... 123105 files and directories currently installed.)\\textbackslash{}r'\n",
              "\\item 'Preparing to unpack .../00-python3-yaml\\_5.3.1-1ubuntu0.1\\_amd64.deb ...\\textbackslash{}r'\n",
              "\\item 'Unpacking python3-yaml (5.3.1-1ubuntu0.1) ...\\textbackslash{}r'\n",
              "\\item 'Selecting previously unselected package python3-humanfriendly.\\textbackslash{}r'\n",
              "\\item 'Preparing to unpack .../01-python3-humanfriendly\\_4.18-2\\_all.deb ...\\textbackslash{}r'\n",
              "\\item 'Unpacking python3-humanfriendly (4.18-2) ...\\textbackslash{}r'\n",
              "\\item 'Selecting previously unselected package python3-coloredlogs.\\textbackslash{}r'\n",
              "\\item 'Preparing to unpack .../02-python3-coloredlogs\\_7.3-2\\_all.deb ...\\textbackslash{}r'\n",
              "\\item 'Unpacking python3-coloredlogs (7.3-2) ...\\textbackslash{}r'\n",
              "\\item 'Selecting previously unselected package python3-mypy-extensions.\\textbackslash{}r'\n",
              "\\item 'Preparing to unpack .../03-python3-mypy-extensions\\_0.4.3-1\\_all.deb ...\\textbackslash{}r'\n",
              "\\item 'Unpacking python3-mypy-extensions (0.4.3-1) ...\\textbackslash{}r'\n",
              "\\item 'Selecting previously unselected package python3-dateutil.\\textbackslash{}r'\n",
              "\\item 'Preparing to unpack .../04-python3-dateutil\\_2.7.3-3ubuntu1\\_all.deb ...\\textbackslash{}r'\n",
              "\\item 'Unpacking python3-dateutil (2.7.3-3ubuntu1) ...\\textbackslash{}r'\n",
              "\\item 'Selecting previously unselected package python3-lxml:amd64.\\textbackslash{}r'\n",
              "\\item 'Preparing to unpack .../05-python3-lxml\\_4.5.0-1ubuntu0.5\\_amd64.deb ...\\textbackslash{}r'\n",
              "\\item 'Unpacking python3-lxml:amd64 (4.5.0-1ubuntu0.5) ...\\textbackslash{}r'\n",
              "\\item 'Selecting previously unselected package python3-decorator.\\textbackslash{}r'\n",
              "\\item 'Preparing to unpack .../06-python3-decorator\\_4.4.2-0ubuntu1\\_all.deb ...\\textbackslash{}r'\n",
              "\\item 'Unpacking python3-decorator (4.4.2-0ubuntu1) ...\\textbackslash{}r'\n",
              "\\item 'Selecting previously unselected package python3-networkx.\\textbackslash{}r'\n",
              "\\item 'Preparing to unpack .../07-python3-networkx\\_2.4-3ubuntu1\\_all.deb ...\\textbackslash{}r'\n",
              "\\item 'Unpacking python3-networkx (2.4-3ubuntu1) ...\\textbackslash{}r'\n",
              "\\item 'Selecting previously unselected package python3-isodate.\\textbackslash{}r'\n",
              "\\item 'Preparing to unpack .../08-python3-isodate\\_0.6.0-2\\_all.deb ...\\textbackslash{}r'\n",
              "\\item 'Unpacking python3-isodate (0.6.0-2) ...\\textbackslash{}r'\n",
              "\\item 'Selecting previously unselected package python3-pyparsing.\\textbackslash{}r'\n",
              "\\item 'Preparing to unpack .../09-python3-pyparsing\\_2.4.6-1\\_all.deb ...\\textbackslash{}r'\n",
              "\\item 'Unpacking python3-pyparsing (2.4.6-1) ...\\textbackslash{}r'\n",
              "\\item 'Selecting previously unselected package python3-rdflib.\\textbackslash{}r'\n",
              "\\item 'Preparing to unpack .../10-python3-rdflib\\_4.2.2-5\\_all.deb ...\\textbackslash{}r'\n",
              "\\item 'Unpacking python3-rdflib (4.2.2-5) ...\\textbackslash{}r'\n",
              "\\item 'Selecting previously unselected package python3-prov.\\textbackslash{}r'\n",
              "\\item 'Preparing to unpack .../11-python3-prov\\_1.5.2-2\\_all.deb ...\\textbackslash{}r'\n",
              "\\item 'Unpacking python3-prov (1.5.2-2) ...\\textbackslash{}r'\n",
              "\\item 'Selecting previously unselected package python3-psutil.\\textbackslash{}r'\n",
              "\\item 'Preparing to unpack .../12-python3-psutil\\_5.5.1-1ubuntu4\\_amd64.deb ...\\textbackslash{}r'\n",
              "\\item 'Unpacking python3-psutil (5.5.1-1ubuntu4) ...\\textbackslash{}r'\n",
              "\\item 'Selecting previously unselected package python3-ruamel.yaml.\\textbackslash{}r'\n",
              "\\item 'Preparing to unpack .../13-python3-ruamel.yaml\\_0.15.89-3build1\\_amd64.deb ...\\textbackslash{}r'\n",
              "\\item 'Unpacking python3-ruamel.yaml (0.15.89-3build1) ...\\textbackslash{}r'\n",
              "\\item 'Selecting previously unselected package python3-msgpack.\\textbackslash{}r'\n",
              "\\item 'Preparing to unpack .../14-python3-msgpack\\_0.6.2-1\\_amd64.deb ...\\textbackslash{}r'\n",
              "\\item 'Unpacking python3-msgpack (0.6.2-1) ...\\textbackslash{}r'\n",
              "\\item 'Selecting previously unselected package python3-lockfile.\\textbackslash{}r'\n",
              "\\item 'Preparing to unpack .../15-python3-lockfile\\_1\\%3a0.12.2-2ubuntu2\\_all.deb ...\\textbackslash{}r'\n",
              "\\item 'Unpacking python3-lockfile (1:0.12.2-2ubuntu2) ...\\textbackslash{}r'\n",
              "\\item 'Selecting previously unselected package python3-cachecontrol.\\textbackslash{}r'\n",
              "\\item 'Preparing to unpack .../16-python3-cachecontrol\\_0.12.6-1ubuntu2\\_all.deb ...\\textbackslash{}r'\n",
              "\\item 'Unpacking python3-cachecontrol (0.12.6-1ubuntu2) ...\\textbackslash{}r'\n",
              "\\item 'Selecting previously unselected package python3-mistune.\\textbackslash{}r'\n",
              "\\item 'Preparing to unpack .../17-python3-mistune\\_0.8.4-2\\_all.deb ...\\textbackslash{}r'\n",
              "\\item 'Unpacking python3-mistune (0.8.4-2) ...\\textbackslash{}r'\n",
              "\\item 'Selecting previously unselected package python3-rdflib-jsonld.\\textbackslash{}r'\n",
              "\\item 'Preparing to unpack .../18-python3-rdflib-jsonld\\_0.4.0-5\\_all.deb ...\\textbackslash{}r'\n",
              "\\item 'Unpacking python3-rdflib-jsonld (0.4.0-5) ...\\textbackslash{}r'\n",
              "\\item 'Selecting previously unselected package python3-typing-extensions.\\textbackslash{}r'\n",
              "\\item 'Preparing to unpack .../19-python3-typing-extensions\\_3.7.4.1-1\\_all.deb ...\\textbackslash{}r'\n",
              "\\item 'Unpacking python3-typing-extensions (3.7.4.1-1) ...\\textbackslash{}r'\n",
              "\\item 'Selecting previously unselected package fonts-glyphicons-halflings.\\textbackslash{}r'\n",
              "\\item 'Preparing to unpack .../20-fonts-glyphicons-halflings\\_1.009\\textasciitilde{}3.4.1+dfsg-1\\_all.deb ...\\textbackslash{}r'\n",
              "\\item 'Unpacking fonts-glyphicons-halflings (1.009\\textasciitilde{}3.4.1+dfsg-1) ...\\textbackslash{}r'\n",
              "\\item 'Selecting previously unselected package libjs-bootstrap.\\textbackslash{}r'\n",
              "\\item 'Preparing to unpack .../21-libjs-bootstrap\\_3.4.1+dfsg-1\\_all.deb ...\\textbackslash{}r'\n",
              "\\item 'Unpacking libjs-bootstrap (3.4.1+dfsg-1) ...\\textbackslash{}r'\n",
              "\\item 'Selecting previously unselected package python3-schema-salad.\\textbackslash{}r'\n",
              "\\item 'Preparing to unpack .../22-python3-schema-salad\\_5.0.20200220195218-1\\_all.deb ...\\textbackslash{}r'\n",
              "\\item 'Unpacking python3-schema-salad (5.0.20200220195218-1) ...\\textbackslash{}r'\n",
              "\\item 'Selecting previously unselected package python3-shellescape.\\textbackslash{}r'\n",
              "\\item 'Preparing to unpack .../23-python3-shellescape\\_3.4.1-4\\_all.deb ...\\textbackslash{}r'\n",
              "\\item 'Unpacking python3-shellescape (3.4.1-4) ...\\textbackslash{}r'\n",
              "\\item 'Selecting previously unselected package cwltool.\\textbackslash{}r'\n",
              "\\item 'Preparing to unpack .../24-cwltool\\_2.0.20200224214940+dfsg-1\\_all.deb ...\\textbackslash{}r'\n",
              "\\item 'Unpacking cwltool (2.0.20200224214940+dfsg-1) ...\\textbackslash{}r'\n",
              "\\item 'Selecting previously unselected package libhts3:amd64.\\textbackslash{}r'\n",
              "\\item 'Preparing to unpack .../25-libhts3\\_1.10.2-3ubuntu0.1\\_amd64.deb ...\\textbackslash{}r'\n",
              "\\item 'Unpacking libhts3:amd64 (1.10.2-3ubuntu0.1) ...\\textbackslash{}r'\n",
              "\\item 'Selecting previously unselected package libc-ares2:amd64.\\textbackslash{}r'\n",
              "\\item 'Preparing to unpack .../26-libc-ares2\\_1.15.0-1ubuntu0.3\\_amd64.deb ...\\textbackslash{}r'\n",
              "\\item 'Unpacking libc-ares2:amd64 (1.15.0-1ubuntu0.3) ...\\textbackslash{}r'\n",
              "\\item 'Selecting previously unselected package libnode64:amd64.\\textbackslash{}r'\n",
              "\\item 'Preparing to unpack .../27-libnode64\\_10.19.0\\textasciitilde{}dfsg-3ubuntu1\\_amd64.deb ...\\textbackslash{}r'\n",
              "\\item 'Unpacking libnode64:amd64 (10.19.0\\textasciitilde{}dfsg-3ubuntu1) ...\\textbackslash{}r'\n",
              "\\item 'Selecting previously unselected package nodejs-doc.\\textbackslash{}r'\n",
              "\\item 'Preparing to unpack .../28-nodejs-doc\\_10.19.0\\textasciitilde{}dfsg-3ubuntu1\\_all.deb ...\\textbackslash{}r'\n",
              "\\item 'Unpacking nodejs-doc (10.19.0\\textasciitilde{}dfsg-3ubuntu1) ...\\textbackslash{}r'\n",
              "\\item 'Selecting previously unselected package python3-soupsieve.\\textbackslash{}r'\n",
              "\\item 'Preparing to unpack .../29-python3-soupsieve\\_1.9.5+dfsg-1\\_all.deb ...\\textbackslash{}r'\n",
              "\\item 'Unpacking python3-soupsieve (1.9.5+dfsg-1) ...\\textbackslash{}r'\n",
              "\\item 'Selecting previously unselected package python3-bs4.\\textbackslash{}r'\n",
              "\\item 'Preparing to unpack .../30-python3-bs4\\_4.8.2-1\\_all.deb ...\\textbackslash{}r'\n",
              "\\item 'Unpacking python3-bs4 (4.8.2-1) ...\\textbackslash{}r'\n",
              "\\item 'Selecting previously unselected package python3-webencodings.\\textbackslash{}r'\n",
              "\\item 'Preparing to unpack .../31-python3-webencodings\\_0.5.1-1ubuntu1\\_all.deb ...\\textbackslash{}r'\n",
              "\\item 'Unpacking python3-webencodings (0.5.1-1ubuntu1) ...\\textbackslash{}r'\n",
              "\\item 'Selecting previously unselected package python3-html5lib.\\textbackslash{}r'\n",
              "\\item 'Preparing to unpack .../32-python3-html5lib\\_1.0.1-2\\_all.deb ...\\textbackslash{}r'\n",
              "\\item 'Unpacking python3-html5lib (1.0.1-2) ...\\textbackslash{}r'\n",
              "\\item 'Selecting previously unselected package python3-numpy.\\textbackslash{}r'\n",
              "\\item 'Preparing to unpack .../33-python3-numpy\\_1\\%3a1.17.4-5ubuntu3.1\\_amd64.deb ...\\textbackslash{}r'\n",
              "\\item 'Unpacking python3-numpy (1:1.17.4-5ubuntu3.1) ...\\textbackslash{}r'\n",
              "\\item 'Selecting previously unselected package python3-sparqlwrapper.\\textbackslash{}r'\n",
              "\\item 'Preparing to unpack .../34-python3-sparqlwrapper\\_1.8.5-1\\_all.deb ...\\textbackslash{}r'\n",
              "\\item 'Unpacking python3-sparqlwrapper (1.8.5-1) ...\\textbackslash{}r'\n",
              "\\item 'Selecting previously unselected package samtools.\\textbackslash{}r'\n",
              "\\item 'Preparing to unpack .../35-samtools\\_1.10-3\\_amd64.deb ...\\textbackslash{}r'\n",
              "\\item 'Unpacking samtools (1.10-3) ...\\textbackslash{}r'\n",
              "\\item 'Selecting previously unselected package nodejs.\\textbackslash{}r'\n",
              "\\item 'Preparing to unpack .../36-nodejs\\_10.19.0\\textasciitilde{}dfsg-3ubuntu1\\_amd64.deb ...\\textbackslash{}r'\n",
              "\\item 'Unpacking nodejs (10.19.0\\textasciitilde{}dfsg-3ubuntu1) ...\\textbackslash{}r'\n",
              "\\item 'Setting up python3-lockfile (1:0.12.2-2ubuntu2) ...\\textbackslash{}r'\n",
              "\\item 'Setting up libhts3:amd64 (1.10.2-3ubuntu0.1) ...\\textbackslash{}r'\n",
              "\\item 'Setting up fonts-glyphicons-halflings (1.009\\textasciitilde{}3.4.1+dfsg-1) ...\\textbackslash{}r'\n",
              "\\item 'Setting up python3-mypy-extensions (0.4.3-1) ...\\textbackslash{}r'\n",
              "\\item 'Setting up python3-yaml (5.3.1-1ubuntu0.1) ...\\textbackslash{}r'\n",
              "\\item 'Setting up libc-ares2:amd64 (1.15.0-1ubuntu0.3) ...\\textbackslash{}r'\n",
              "\\item 'Setting up python3-webencodings (0.5.1-1ubuntu1) ...\\textbackslash{}r'\n",
              "\\item 'Setting up python3-psutil (5.5.1-1ubuntu4) ...\\textbackslash{}r'\n",
              "\\item 'Setting up samtools (1.10-3) ...\\textbackslash{}r'\n",
              "\\item 'Setting up python3-isodate (0.6.0-2) ...\\textbackslash{}r'\n",
              "\\item 'Setting up python3-decorator (4.4.2-0ubuntu1) ...\\textbackslash{}r'\n",
              "\\item 'Setting up python3-pyparsing (2.4.6-1) ...\\textbackslash{}r'\n",
              "\\item 'Setting up python3-humanfriendly (4.18-2) ...\\textbackslash{}r'\n",
              "\\item 'Setting up libnode64:amd64 (10.19.0\\textasciitilde{}dfsg-3ubuntu1) ...\\textbackslash{}r'\n",
              "\\item 'Setting up python3-typing-extensions (3.7.4.1-1) ...\\textbackslash{}r'\n",
              "\\item 'Setting up python3-html5lib (1.0.1-2) ...\\textbackslash{}r'\n",
              "\\item 'Setting up python3-numpy (1:1.17.4-5ubuntu3.1) ...\\textbackslash{}r'\n",
              "\\item 'Setting up nodejs-doc (10.19.0\\textasciitilde{}dfsg-3ubuntu1) ...\\textbackslash{}r'\n",
              "\\item 'Setting up python3-ruamel.yaml (0.15.89-3build1) ...\\textbackslash{}r'\n",
              "\\item 'Setting up python3-lxml:amd64 (4.5.0-1ubuntu0.5) ...\\textbackslash{}r'\n",
              "\\item 'Setting up python3-rdflib (4.2.2-5) ...\\textbackslash{}r'\n",
              "\\item '/usr/lib/python3/dist-packages/rdflib/plugins/memory.py:354: SyntaxWarning: \"is\" with a literal. Did you mean \"==\"?\\textbackslash{}r'\n",
              "\\item '  if triple is None or triple is (None,None,None):\\textbackslash{}r'\n",
              "\\item 'Setting up python3-dateutil (2.7.3-3ubuntu1) ...\\textbackslash{}r'\n",
              "\\item 'Setting up python3-msgpack (0.6.2-1) ...\\textbackslash{}r'\n",
              "\\item 'Setting up python3-cachecontrol (0.12.6-1ubuntu2) ...\\textbackslash{}r'\n",
              "\\item 'Setting up python3-shellescape (3.4.1-4) ...\\textbackslash{}r'\n",
              "\\item 'Setting up python3-coloredlogs (7.3-2) ...\\textbackslash{}r'\n",
              "\\item 'Setting up python3-mistune (0.8.4-2) ...\\textbackslash{}r'\n",
              "\\item 'Setting up python3-soupsieve (1.9.5+dfsg-1) ...\\textbackslash{}r'\n",
              "\\item 'Setting up libjs-bootstrap (3.4.1+dfsg-1) ...\\textbackslash{}r'\n",
              "\\item 'Setting up python3-rdflib-jsonld (0.4.0-5) ...\\textbackslash{}r'\n",
              "\\item 'Setting up python3-sparqlwrapper (1.8.5-1) ...\\textbackslash{}r'\n",
              "\\item 'Setting up python3-schema-salad (5.0.20200220195218-1) ...\\textbackslash{}r'\n",
              "\\item 'Setting up nodejs (10.19.0\\textasciitilde{}dfsg-3ubuntu1) ...\\textbackslash{}r'\n",
              "\\item 'update-alternatives: using /usr/bin/nodejs to provide /usr/bin/js (js) in auto mode\\textbackslash{}r'\n",
              "\\item 'Setting up python3-networkx (2.4-3ubuntu1) ...\\textbackslash{}r'\n",
              "\\item '/usr/lib/python3/dist-packages/networkx/readwrite/tests/test\\_graphml.py:933: SyntaxWarning: \"is\" with a literal. Did you mean \"==\"?\\textbackslash{}r'\n",
              "\\item '  assert H.nodes{[}\\textbackslash{}'n1\\textbackslash{}'{]}{[}\\textbackslash{}'special\\textbackslash{}'{]} is 0\\textbackslash{}r'\n",
              "\\item '/usr/lib/python3/dist-packages/networkx/readwrite/tests/test\\_graphml.py:935: SyntaxWarning: \"is\" with a literal. Did you mean \"==\"?\\textbackslash{}r'\n",
              "\\item '  assert H.edges{[}\\textbackslash{}'n0\\textbackslash{}',\\textbackslash{}'n1\\textbackslash{}',1{]}{[}\\textbackslash{}'special\\textbackslash{}'{]} is 0\\textbackslash{}r'\n",
              "\\item 'Setting up python3-bs4 (4.8.2-1) ...\\textbackslash{}r'\n",
              "\\item 'Setting up python3-prov (1.5.2-2) ...\\textbackslash{}r'\n",
              "\\item 'Setting up cwltool (2.0.20200224214940+dfsg-1) ...\\textbackslash{}r'\n",
              "\\item '/usr/lib/python3/dist-packages/cwltool/docker.py:423: SyntaxWarning: \"is\" with a literal. Did you mean \"==\"?\\textbackslash{}r'\n",
              "\\item '  if res\\_req is not None and (\"ramMin\" in res\\_req or \"ramMax\" is res\\_req):\\textbackslash{}r'\n",
              "\\item 'Processing triggers for fontconfig (2.13.1-2ubuntu3) ...\\textbackslash{}r'\n",
              "\\item 'Processing triggers for libc-bin (2.31-0ubuntu9.9) ...\\textbackslash{}r'\n",
              "\\item 'Processing triggers for man-db (2.9.1-1) ...\\textbackslash{}r'\n",
              "\\end{enumerate*}\n"
            ],
            "text/markdown": [
              "1. 'Reading package lists...'\n",
              "2. 'Building dependency tree...'\n",
              "3. 'Reading state information...'\n",
              "4. 'The following additional packages will be installed:'\n",
              "5. <span style=white-space:pre-wrap>'  cwltool fonts-glyphicons-halflings libc-ares2 libhts3 libjs-bootstrap'</span>\n",
              "6. <span style=white-space:pre-wrap>'  libnode64 nodejs nodejs-doc python3-bs4 python3-cachecontrol'</span>\n",
              "7. <span style=white-space:pre-wrap>'  python3-coloredlogs python3-dateutil python3-decorator python3-html5lib'</span>\n",
              "8. <span style=white-space:pre-wrap>'  python3-humanfriendly python3-isodate python3-lockfile python3-lxml'</span>\n",
              "9. <span style=white-space:pre-wrap>'  python3-mistune python3-msgpack python3-mypy-extensions python3-networkx'</span>\n",
              "10. <span style=white-space:pre-wrap>'  python3-numpy python3-prov python3-psutil python3-pyparsing python3-rdflib'</span>\n",
              "11. <span style=white-space:pre-wrap>'  python3-rdflib-jsonld python3-ruamel.yaml python3-schema-salad'</span>\n",
              "12. <span style=white-space:pre-wrap>'  python3-shellescape python3-soupsieve python3-sparqlwrapper'</span>\n",
              "13. <span style=white-space:pre-wrap>'  python3-typing-extensions python3-webencodings python3-yaml'</span>\n",
              "14. 'Suggested packages:'\n",
              "15. <span style=white-space:pre-wrap>'  docker.io | singularity-container npm python3-genshi python-lockfile-doc'</span>\n",
              "16. <span style=white-space:pre-wrap>'  python3-lxml-dbg python-lxml-doc python-networkx-doc python3-gdal'</span>\n",
              "17. <span style=white-space:pre-wrap>'  python3-matplotlib python3-pygraphviz | python3-pydot python3-scipy'</span>\n",
              "18. <span style=white-space:pre-wrap>'  python-numpy-doc python3-pytest python3-numpy-dbg python-prov-doc'</span>\n",
              "19. <span style=white-space:pre-wrap>'  python3-pydot python-psutil-doc python-pyparsing-doc python-rdflib-doc'</span>\n",
              "20. 'The following NEW packages will be installed:'\n",
              "21. <span style=white-space:pre-wrap>'  cwltool fonts-glyphicons-halflings libc-ares2 libhts3 libjs-bootstrap'</span>\n",
              "22. <span style=white-space:pre-wrap>'  libnode64 nodejs nodejs-doc python3-bs4 python3-cachecontrol'</span>\n",
              "23. <span style=white-space:pre-wrap>'  python3-coloredlogs python3-dateutil python3-decorator python3-html5lib'</span>\n",
              "24. <span style=white-space:pre-wrap>'  python3-humanfriendly python3-isodate python3-lockfile python3-lxml'</span>\n",
              "25. <span style=white-space:pre-wrap>'  python3-mistune python3-msgpack python3-mypy-extensions python3-networkx'</span>\n",
              "26. <span style=white-space:pre-wrap>'  python3-numpy python3-prov python3-psutil python3-pyparsing python3-rdflib'</span>\n",
              "27. <span style=white-space:pre-wrap>'  python3-rdflib-jsonld python3-ruamel.yaml python3-schema-salad'</span>\n",
              "28. <span style=white-space:pre-wrap>'  python3-shellescape python3-soupsieve python3-sparqlwrapper'</span>\n",
              "29. <span style=white-space:pre-wrap>'  python3-typing-extensions python3-webencodings python3-yaml samtools'</span>\n",
              "30. '0 upgraded, 37 newly installed, 0 to remove and 15 not upgraded.'\n",
              "31. 'Need to get 14.8 MB of archives.'\n",
              "32. 'After this operation, 72.9 MB of additional disk space will be used.'\n",
              "33. 'Get:1 http://archive.ubuntu.com/ubuntu focal-updates/main amd64 python3-yaml amd64 5.3.1-1ubuntu0.1 [136 kB]'\n",
              "34. 'Get:2 http://archive.ubuntu.com/ubuntu focal/universe amd64 python3-humanfriendly all 4.18-2 [60.8 kB]'\n",
              "35. 'Get:3 http://archive.ubuntu.com/ubuntu focal/universe amd64 python3-coloredlogs all 7.3-2 [28.0 kB]'\n",
              "36. 'Get:4 http://archive.ubuntu.com/ubuntu focal/universe amd64 python3-mypy-extensions all 0.4.3-1 [5,436 B]'\n",
              "37. 'Get:5 http://archive.ubuntu.com/ubuntu focal/main amd64 python3-dateutil all 2.7.3-3ubuntu1 [63.3 kB]'\n",
              "38. 'Get:6 http://archive.ubuntu.com/ubuntu focal-updates/main amd64 python3-lxml amd64 4.5.0-1ubuntu0.5 [1,384 kB]'\n",
              "39. 'Get:7 http://archive.ubuntu.com/ubuntu focal/main amd64 python3-decorator all 4.4.2-0ubuntu1 [10.3 kB]'\n",
              "40. 'Get:8 http://archive.ubuntu.com/ubuntu focal/main amd64 python3-networkx all 2.4-3ubuntu1 [855 kB]'\n",
              "41. 'Get:9 http://archive.ubuntu.com/ubuntu focal/universe amd64 python3-isodate all 0.6.0-2 [24.0 kB]'\n",
              "42. 'Get:10 http://archive.ubuntu.com/ubuntu focal/main amd64 python3-pyparsing all 2.4.6-1 [61.3 kB]'\n",
              "43. 'Get:11 http://archive.ubuntu.com/ubuntu focal/universe amd64 python3-rdflib all 4.2.2-5 [241 kB]'\n",
              "44. 'Get:12 http://archive.ubuntu.com/ubuntu focal/universe amd64 python3-prov all 1.5.2-2 [92.8 kB]'\n",
              "45. 'Get:13 http://archive.ubuntu.com/ubuntu focal/main amd64 python3-psutil amd64 5.5.1-1ubuntu4 [141 kB]'\n",
              "46. 'Get:14 http://archive.ubuntu.com/ubuntu focal/universe amd64 python3-ruamel.yaml amd64 0.15.89-3build1 [228 kB]'\n",
              "47. 'Get:15 http://archive.ubuntu.com/ubuntu focal/main amd64 python3-msgpack amd64 0.6.2-1 [73.5 kB]'\n",
              "48. 'Get:16 http://archive.ubuntu.com/ubuntu focal/main amd64 python3-lockfile all 1:0.12.2-2ubuntu2 [14.6 kB]'\n",
              "49. 'Get:17 http://archive.ubuntu.com/ubuntu focal/universe amd64 python3-cachecontrol all 0.12.6-1ubuntu2 [16.7 kB]'\n",
              "50. 'Get:18 http://archive.ubuntu.com/ubuntu focal/universe amd64 python3-mistune all 0.8.4-2 [14.3 kB]'\n",
              "51. 'Get:19 http://archive.ubuntu.com/ubuntu focal/universe amd64 python3-rdflib-jsonld all 0.4.0-5 [12.4 kB]'\n",
              "52. 'Get:20 http://archive.ubuntu.com/ubuntu focal/universe amd64 python3-typing-extensions all 3.7.4.1-1 [27.5 kB]'\n",
              "53. 'Get:21 http://archive.ubuntu.com/ubuntu focal/universe amd64 fonts-glyphicons-halflings all 1.009~3.4.1+dfsg-1 [117 kB]'\n",
              "54. 'Get:22 http://archive.ubuntu.com/ubuntu focal/universe amd64 libjs-bootstrap all 3.4.1+dfsg-1 [124 kB]'\n",
              "55. 'Get:23 http://archive.ubuntu.com/ubuntu focal/universe amd64 python3-schema-salad all 5.0.20200220195218-1 [295 kB]'\n",
              "56. 'Get:24 http://archive.ubuntu.com/ubuntu focal/universe amd64 python3-shellescape all 3.4.1-4 [4,928 B]'\n",
              "57. 'Get:25 http://archive.ubuntu.com/ubuntu focal/universe amd64 cwltool all 2.0.20200224214940+dfsg-1 [203 kB]'\n",
              "58. 'Get:26 http://archive.ubuntu.com/ubuntu focal-updates/universe amd64 libhts3 amd64 1.10.2-3ubuntu0.1 [350 kB]'\n",
              "59. 'Get:27 http://archive.ubuntu.com/ubuntu focal-updates/main amd64 libc-ares2 amd64 1.15.0-1ubuntu0.3 [36.8 kB]'\n",
              "60. 'Get:28 http://archive.ubuntu.com/ubuntu focal/universe amd64 libnode64 amd64 10.19.0~dfsg-3ubuntu1 [5,765 kB]'\n",
              "61. 'Get:29 http://archive.ubuntu.com/ubuntu focal/universe amd64 nodejs-doc all 10.19.0~dfsg-3ubuntu1 [942 kB]'\n",
              "62. 'Get:30 http://archive.ubuntu.com/ubuntu focal/main amd64 python3-soupsieve all 1.9.5+dfsg-1 [29.1 kB]'\n",
              "63. 'Get:31 http://archive.ubuntu.com/ubuntu focal/main amd64 python3-bs4 all 4.8.2-1 [83.0 kB]'\n",
              "64. 'Get:32 http://archive.ubuntu.com/ubuntu focal/main amd64 python3-webencodings all 0.5.1-1ubuntu1 [11.0 kB]'\n",
              "65. 'Get:33 http://archive.ubuntu.com/ubuntu focal/main amd64 python3-html5lib all 1.0.1-2 [84.3 kB]'\n",
              "66. 'Get:34 http://archive.ubuntu.com/ubuntu focal-updates/main amd64 python3-numpy amd64 1:1.17.4-5ubuntu3.1 [2,724 kB]'\n",
              "67. 'Get:35 http://archive.ubuntu.com/ubuntu focal/universe amd64 python3-sparqlwrapper all 1.8.5-1 [32.3 kB]'\n",
              "68. 'Get:36 http://archive.ubuntu.com/ubuntu focal/universe amd64 samtools amd64 1.10-3 [496 kB]'\n",
              "69. 'Get:37 http://archive.ubuntu.com/ubuntu focal/universe amd64 nodejs amd64 10.19.0~dfsg-3ubuntu1 [61.1 kB]'\n",
              "70. 'Fetched 14.8 MB in 9s (1,689 kB/s)'\n",
              "71. 'Selecting previously unselected package python3-yaml.\\r'\n",
              "72. '(Reading database ... \\r(Reading database ... 5%\\r(Reading database ... 10%\\r(Reading database ... 15%\\r(Reading database ... 20%\\r(Reading database ... 25%\\r(Reading database ... 30%\\r(Reading database ... 35%\\r(Reading database ... 40%\\r(Reading database ... 45%\\r(Reading database ... 50%\\r(Reading database ... 55%\\r(Reading database ... 60%\\r(Reading database ... 65%\\r(Reading database ... 70%\\r(Reading database ... 75%\\r(Reading database ... 80%\\r(Reading database ... 85%\\r(Reading database ... 90%\\r(Reading database ... 95%\\r(Reading database ... 100%\\r(Reading database ... 123105 files and directories currently installed.)\\r'\n",
              "73. 'Preparing to unpack .../00-python3-yaml_5.3.1-1ubuntu0.1_amd64.deb ...\\r'\n",
              "74. 'Unpacking python3-yaml (5.3.1-1ubuntu0.1) ...\\r'\n",
              "75. 'Selecting previously unselected package python3-humanfriendly.\\r'\n",
              "76. 'Preparing to unpack .../01-python3-humanfriendly_4.18-2_all.deb ...\\r'\n",
              "77. 'Unpacking python3-humanfriendly (4.18-2) ...\\r'\n",
              "78. 'Selecting previously unselected package python3-coloredlogs.\\r'\n",
              "79. 'Preparing to unpack .../02-python3-coloredlogs_7.3-2_all.deb ...\\r'\n",
              "80. 'Unpacking python3-coloredlogs (7.3-2) ...\\r'\n",
              "81. 'Selecting previously unselected package python3-mypy-extensions.\\r'\n",
              "82. 'Preparing to unpack .../03-python3-mypy-extensions_0.4.3-1_all.deb ...\\r'\n",
              "83. 'Unpacking python3-mypy-extensions (0.4.3-1) ...\\r'\n",
              "84. 'Selecting previously unselected package python3-dateutil.\\r'\n",
              "85. 'Preparing to unpack .../04-python3-dateutil_2.7.3-3ubuntu1_all.deb ...\\r'\n",
              "86. 'Unpacking python3-dateutil (2.7.3-3ubuntu1) ...\\r'\n",
              "87. 'Selecting previously unselected package python3-lxml:amd64.\\r'\n",
              "88. 'Preparing to unpack .../05-python3-lxml_4.5.0-1ubuntu0.5_amd64.deb ...\\r'\n",
              "89. 'Unpacking python3-lxml:amd64 (4.5.0-1ubuntu0.5) ...\\r'\n",
              "90. 'Selecting previously unselected package python3-decorator.\\r'\n",
              "91. 'Preparing to unpack .../06-python3-decorator_4.4.2-0ubuntu1_all.deb ...\\r'\n",
              "92. 'Unpacking python3-decorator (4.4.2-0ubuntu1) ...\\r'\n",
              "93. 'Selecting previously unselected package python3-networkx.\\r'\n",
              "94. 'Preparing to unpack .../07-python3-networkx_2.4-3ubuntu1_all.deb ...\\r'\n",
              "95. 'Unpacking python3-networkx (2.4-3ubuntu1) ...\\r'\n",
              "96. 'Selecting previously unselected package python3-isodate.\\r'\n",
              "97. 'Preparing to unpack .../08-python3-isodate_0.6.0-2_all.deb ...\\r'\n",
              "98. 'Unpacking python3-isodate (0.6.0-2) ...\\r'\n",
              "99. 'Selecting previously unselected package python3-pyparsing.\\r'\n",
              "100. 'Preparing to unpack .../09-python3-pyparsing_2.4.6-1_all.deb ...\\r'\n",
              "101. 'Unpacking python3-pyparsing (2.4.6-1) ...\\r'\n",
              "102. 'Selecting previously unselected package python3-rdflib.\\r'\n",
              "103. 'Preparing to unpack .../10-python3-rdflib_4.2.2-5_all.deb ...\\r'\n",
              "104. 'Unpacking python3-rdflib (4.2.2-5) ...\\r'\n",
              "105. 'Selecting previously unselected package python3-prov.\\r'\n",
              "106. 'Preparing to unpack .../11-python3-prov_1.5.2-2_all.deb ...\\r'\n",
              "107. 'Unpacking python3-prov (1.5.2-2) ...\\r'\n",
              "108. 'Selecting previously unselected package python3-psutil.\\r'\n",
              "109. 'Preparing to unpack .../12-python3-psutil_5.5.1-1ubuntu4_amd64.deb ...\\r'\n",
              "110. 'Unpacking python3-psutil (5.5.1-1ubuntu4) ...\\r'\n",
              "111. 'Selecting previously unselected package python3-ruamel.yaml.\\r'\n",
              "112. 'Preparing to unpack .../13-python3-ruamel.yaml_0.15.89-3build1_amd64.deb ...\\r'\n",
              "113. 'Unpacking python3-ruamel.yaml (0.15.89-3build1) ...\\r'\n",
              "114. 'Selecting previously unselected package python3-msgpack.\\r'\n",
              "115. 'Preparing to unpack .../14-python3-msgpack_0.6.2-1_amd64.deb ...\\r'\n",
              "116. 'Unpacking python3-msgpack (0.6.2-1) ...\\r'\n",
              "117. 'Selecting previously unselected package python3-lockfile.\\r'\n",
              "118. 'Preparing to unpack .../15-python3-lockfile_1%3a0.12.2-2ubuntu2_all.deb ...\\r'\n",
              "119. 'Unpacking python3-lockfile (1:0.12.2-2ubuntu2) ...\\r'\n",
              "120. 'Selecting previously unselected package python3-cachecontrol.\\r'\n",
              "121. 'Preparing to unpack .../16-python3-cachecontrol_0.12.6-1ubuntu2_all.deb ...\\r'\n",
              "122. 'Unpacking python3-cachecontrol (0.12.6-1ubuntu2) ...\\r'\n",
              "123. 'Selecting previously unselected package python3-mistune.\\r'\n",
              "124. 'Preparing to unpack .../17-python3-mistune_0.8.4-2_all.deb ...\\r'\n",
              "125. 'Unpacking python3-mistune (0.8.4-2) ...\\r'\n",
              "126. 'Selecting previously unselected package python3-rdflib-jsonld.\\r'\n",
              "127. 'Preparing to unpack .../18-python3-rdflib-jsonld_0.4.0-5_all.deb ...\\r'\n",
              "128. 'Unpacking python3-rdflib-jsonld (0.4.0-5) ...\\r'\n",
              "129. 'Selecting previously unselected package python3-typing-extensions.\\r'\n",
              "130. 'Preparing to unpack .../19-python3-typing-extensions_3.7.4.1-1_all.deb ...\\r'\n",
              "131. 'Unpacking python3-typing-extensions (3.7.4.1-1) ...\\r'\n",
              "132. 'Selecting previously unselected package fonts-glyphicons-halflings.\\r'\n",
              "133. 'Preparing to unpack .../20-fonts-glyphicons-halflings_1.009~3.4.1+dfsg-1_all.deb ...\\r'\n",
              "134. 'Unpacking fonts-glyphicons-halflings (1.009~3.4.1+dfsg-1) ...\\r'\n",
              "135. 'Selecting previously unselected package libjs-bootstrap.\\r'\n",
              "136. 'Preparing to unpack .../21-libjs-bootstrap_3.4.1+dfsg-1_all.deb ...\\r'\n",
              "137. 'Unpacking libjs-bootstrap (3.4.1+dfsg-1) ...\\r'\n",
              "138. 'Selecting previously unselected package python3-schema-salad.\\r'\n",
              "139. 'Preparing to unpack .../22-python3-schema-salad_5.0.20200220195218-1_all.deb ...\\r'\n",
              "140. 'Unpacking python3-schema-salad (5.0.20200220195218-1) ...\\r'\n",
              "141. 'Selecting previously unselected package python3-shellescape.\\r'\n",
              "142. 'Preparing to unpack .../23-python3-shellescape_3.4.1-4_all.deb ...\\r'\n",
              "143. 'Unpacking python3-shellescape (3.4.1-4) ...\\r'\n",
              "144. 'Selecting previously unselected package cwltool.\\r'\n",
              "145. 'Preparing to unpack .../24-cwltool_2.0.20200224214940+dfsg-1_all.deb ...\\r'\n",
              "146. 'Unpacking cwltool (2.0.20200224214940+dfsg-1) ...\\r'\n",
              "147. 'Selecting previously unselected package libhts3:amd64.\\r'\n",
              "148. 'Preparing to unpack .../25-libhts3_1.10.2-3ubuntu0.1_amd64.deb ...\\r'\n",
              "149. 'Unpacking libhts3:amd64 (1.10.2-3ubuntu0.1) ...\\r'\n",
              "150. 'Selecting previously unselected package libc-ares2:amd64.\\r'\n",
              "151. 'Preparing to unpack .../26-libc-ares2_1.15.0-1ubuntu0.3_amd64.deb ...\\r'\n",
              "152. 'Unpacking libc-ares2:amd64 (1.15.0-1ubuntu0.3) ...\\r'\n",
              "153. 'Selecting previously unselected package libnode64:amd64.\\r'\n",
              "154. 'Preparing to unpack .../27-libnode64_10.19.0~dfsg-3ubuntu1_amd64.deb ...\\r'\n",
              "155. 'Unpacking libnode64:amd64 (10.19.0~dfsg-3ubuntu1) ...\\r'\n",
              "156. 'Selecting previously unselected package nodejs-doc.\\r'\n",
              "157. 'Preparing to unpack .../28-nodejs-doc_10.19.0~dfsg-3ubuntu1_all.deb ...\\r'\n",
              "158. 'Unpacking nodejs-doc (10.19.0~dfsg-3ubuntu1) ...\\r'\n",
              "159. 'Selecting previously unselected package python3-soupsieve.\\r'\n",
              "160. 'Preparing to unpack .../29-python3-soupsieve_1.9.5+dfsg-1_all.deb ...\\r'\n",
              "161. 'Unpacking python3-soupsieve (1.9.5+dfsg-1) ...\\r'\n",
              "162. 'Selecting previously unselected package python3-bs4.\\r'\n",
              "163. 'Preparing to unpack .../30-python3-bs4_4.8.2-1_all.deb ...\\r'\n",
              "164. 'Unpacking python3-bs4 (4.8.2-1) ...\\r'\n",
              "165. 'Selecting previously unselected package python3-webencodings.\\r'\n",
              "166. 'Preparing to unpack .../31-python3-webencodings_0.5.1-1ubuntu1_all.deb ...\\r'\n",
              "167. 'Unpacking python3-webencodings (0.5.1-1ubuntu1) ...\\r'\n",
              "168. 'Selecting previously unselected package python3-html5lib.\\r'\n",
              "169. 'Preparing to unpack .../32-python3-html5lib_1.0.1-2_all.deb ...\\r'\n",
              "170. 'Unpacking python3-html5lib (1.0.1-2) ...\\r'\n",
              "171. 'Selecting previously unselected package python3-numpy.\\r'\n",
              "172. 'Preparing to unpack .../33-python3-numpy_1%3a1.17.4-5ubuntu3.1_amd64.deb ...\\r'\n",
              "173. 'Unpacking python3-numpy (1:1.17.4-5ubuntu3.1) ...\\r'\n",
              "174. 'Selecting previously unselected package python3-sparqlwrapper.\\r'\n",
              "175. 'Preparing to unpack .../34-python3-sparqlwrapper_1.8.5-1_all.deb ...\\r'\n",
              "176. 'Unpacking python3-sparqlwrapper (1.8.5-1) ...\\r'\n",
              "177. 'Selecting previously unselected package samtools.\\r'\n",
              "178. 'Preparing to unpack .../35-samtools_1.10-3_amd64.deb ...\\r'\n",
              "179. 'Unpacking samtools (1.10-3) ...\\r'\n",
              "180. 'Selecting previously unselected package nodejs.\\r'\n",
              "181. 'Preparing to unpack .../36-nodejs_10.19.0~dfsg-3ubuntu1_amd64.deb ...\\r'\n",
              "182. 'Unpacking nodejs (10.19.0~dfsg-3ubuntu1) ...\\r'\n",
              "183. 'Setting up python3-lockfile (1:0.12.2-2ubuntu2) ...\\r'\n",
              "184. 'Setting up libhts3:amd64 (1.10.2-3ubuntu0.1) ...\\r'\n",
              "185. 'Setting up fonts-glyphicons-halflings (1.009~3.4.1+dfsg-1) ...\\r'\n",
              "186. 'Setting up python3-mypy-extensions (0.4.3-1) ...\\r'\n",
              "187. 'Setting up python3-yaml (5.3.1-1ubuntu0.1) ...\\r'\n",
              "188. 'Setting up libc-ares2:amd64 (1.15.0-1ubuntu0.3) ...\\r'\n",
              "189. 'Setting up python3-webencodings (0.5.1-1ubuntu1) ...\\r'\n",
              "190. 'Setting up python3-psutil (5.5.1-1ubuntu4) ...\\r'\n",
              "191. 'Setting up samtools (1.10-3) ...\\r'\n",
              "192. 'Setting up python3-isodate (0.6.0-2) ...\\r'\n",
              "193. 'Setting up python3-decorator (4.4.2-0ubuntu1) ...\\r'\n",
              "194. 'Setting up python3-pyparsing (2.4.6-1) ...\\r'\n",
              "195. 'Setting up python3-humanfriendly (4.18-2) ...\\r'\n",
              "196. 'Setting up libnode64:amd64 (10.19.0~dfsg-3ubuntu1) ...\\r'\n",
              "197. 'Setting up python3-typing-extensions (3.7.4.1-1) ...\\r'\n",
              "198. 'Setting up python3-html5lib (1.0.1-2) ...\\r'\n",
              "199. 'Setting up python3-numpy (1:1.17.4-5ubuntu3.1) ...\\r'\n",
              "200. 'Setting up nodejs-doc (10.19.0~dfsg-3ubuntu1) ...\\r'\n",
              "201. 'Setting up python3-ruamel.yaml (0.15.89-3build1) ...\\r'\n",
              "202. 'Setting up python3-lxml:amd64 (4.5.0-1ubuntu0.5) ...\\r'\n",
              "203. 'Setting up python3-rdflib (4.2.2-5) ...\\r'\n",
              "204. '/usr/lib/python3/dist-packages/rdflib/plugins/memory.py:354: SyntaxWarning: \"is\" with a literal. Did you mean \"==\"?\\r'\n",
              "205. <span style=white-space:pre-wrap>'  if triple is None or triple is (None,None,None):\\r'</span>\n",
              "206. 'Setting up python3-dateutil (2.7.3-3ubuntu1) ...\\r'\n",
              "207. 'Setting up python3-msgpack (0.6.2-1) ...\\r'\n",
              "208. 'Setting up python3-cachecontrol (0.12.6-1ubuntu2) ...\\r'\n",
              "209. 'Setting up python3-shellescape (3.4.1-4) ...\\r'\n",
              "210. 'Setting up python3-coloredlogs (7.3-2) ...\\r'\n",
              "211. 'Setting up python3-mistune (0.8.4-2) ...\\r'\n",
              "212. 'Setting up python3-soupsieve (1.9.5+dfsg-1) ...\\r'\n",
              "213. 'Setting up libjs-bootstrap (3.4.1+dfsg-1) ...\\r'\n",
              "214. 'Setting up python3-rdflib-jsonld (0.4.0-5) ...\\r'\n",
              "215. 'Setting up python3-sparqlwrapper (1.8.5-1) ...\\r'\n",
              "216. 'Setting up python3-schema-salad (5.0.20200220195218-1) ...\\r'\n",
              "217. 'Setting up nodejs (10.19.0~dfsg-3ubuntu1) ...\\r'\n",
              "218. 'update-alternatives: using /usr/bin/nodejs to provide /usr/bin/js (js) in auto mode\\r'\n",
              "219. 'Setting up python3-networkx (2.4-3ubuntu1) ...\\r'\n",
              "220. '/usr/lib/python3/dist-packages/networkx/readwrite/tests/test_graphml.py:933: SyntaxWarning: \"is\" with a literal. Did you mean \"==\"?\\r'\n",
              "221. <span style=white-space:pre-wrap>'  assert H.nodes[\\'n1\\'][\\'special\\'] is 0\\r'</span>\n",
              "222. '/usr/lib/python3/dist-packages/networkx/readwrite/tests/test_graphml.py:935: SyntaxWarning: \"is\" with a literal. Did you mean \"==\"?\\r'\n",
              "223. <span style=white-space:pre-wrap>'  assert H.edges[\\'n0\\',\\'n1\\',1][\\'special\\'] is 0\\r'</span>\n",
              "224. 'Setting up python3-bs4 (4.8.2-1) ...\\r'\n",
              "225. 'Setting up python3-prov (1.5.2-2) ...\\r'\n",
              "226. 'Setting up cwltool (2.0.20200224214940+dfsg-1) ...\\r'\n",
              "227. '/usr/lib/python3/dist-packages/cwltool/docker.py:423: SyntaxWarning: \"is\" with a literal. Did you mean \"==\"?\\r'\n",
              "228. <span style=white-space:pre-wrap>'  if res_req is not None and (\"ramMin\" in res_req or \"ramMax\" is res_req):\\r'</span>\n",
              "229. 'Processing triggers for fontconfig (2.13.1-2ubuntu3) ...\\r'\n",
              "230. 'Processing triggers for libc-bin (2.31-0ubuntu9.9) ...\\r'\n",
              "231. 'Processing triggers for man-db (2.9.1-1) ...\\r'\n",
              "\n",
              "\n"
            ],
            "text/plain": [
              "  [1] \"Reading package lists...\"                                                                                                                                                                                                                                                                                                                                                                                                                                                                                                                                                                                                                                      \n",
              "  [2] \"Building dependency tree...\"                                                                                                                                                                                                                                                                                                                                                                                                                                                                                                                                                                                                                                   \n",
              "  [3] \"Reading state information...\"                                                                                                                                                                                                                                                                                                                                                                                                                                                                                                                                                                                                                                  \n",
              "  [4] \"The following additional packages will be installed:\"                                                                                                                                                                                                                                                                                                                                                                                                                                                                                                                                                                                                          \n",
              "  [5] \"  cwltool fonts-glyphicons-halflings libc-ares2 libhts3 libjs-bootstrap\"                                                                                                                                                                                                                                                                                                                                                                                                                                                                                                                                                                                       \n",
              "  [6] \"  libnode64 nodejs nodejs-doc python3-bs4 python3-cachecontrol\"                                                                                                                                                                                                                                                                                                                                                                                                                                                                                                                                                                                                \n",
              "  [7] \"  python3-coloredlogs python3-dateutil python3-decorator python3-html5lib\"                                                                                                                                                                                                                                                                                                                                                                                                                                                                                                                                                                                     \n",
              "  [8] \"  python3-humanfriendly python3-isodate python3-lockfile python3-lxml\"                                                                                                                                                                                                                                                                                                                                                                                                                                                                                                                                                                                         \n",
              "  [9] \"  python3-mistune python3-msgpack python3-mypy-extensions python3-networkx\"                                                                                                                                                                                                                                                                                                                                                                                                                                                                                                                                                                                    \n",
              " [10] \"  python3-numpy python3-prov python3-psutil python3-pyparsing python3-rdflib\"                                                                                                                                                                                                                                                                                                                                                                                                                                                                                                                                                                                  \n",
              " [11] \"  python3-rdflib-jsonld python3-ruamel.yaml python3-schema-salad\"                                                                                                                                                                                                                                                                                                                                                                                                                                                                                                                                                                                              \n",
              " [12] \"  python3-shellescape python3-soupsieve python3-sparqlwrapper\"                                                                                                                                                                                                                                                                                                                                                                                                                                                                                                                                                                                                 \n",
              " [13] \"  python3-typing-extensions python3-webencodings python3-yaml\"                                                                                                                                                                                                                                                                                                                                                                                                                                                                                                                                                                                                 \n",
              " [14] \"Suggested packages:\"                                                                                                                                                                                                                                                                                                                                                                                                                                                                                                                                                                                                                                           \n",
              " [15] \"  docker.io | singularity-container npm python3-genshi python-lockfile-doc\"                                                                                                                                                                                                                                                                                                                                                                                                                                                                                                                                                                                    \n",
              " [16] \"  python3-lxml-dbg python-lxml-doc python-networkx-doc python3-gdal\"                                                                                                                                                                                                                                                                                                                                                                                                                                                                                                                                                                                           \n",
              " [17] \"  python3-matplotlib python3-pygraphviz | python3-pydot python3-scipy\"                                                                                                                                                                                                                                                                                                                                                                                                                                                                                                                                                                                         \n",
              " [18] \"  python-numpy-doc python3-pytest python3-numpy-dbg python-prov-doc\"                                                                                                                                                                                                                                                                                                                                                                                                                                                                                                                                                                                           \n",
              " [19] \"  python3-pydot python-psutil-doc python-pyparsing-doc python-rdflib-doc\"                                                                                                                                                                                                                                                                                                                                                                                                                                                                                                                                                                                      \n",
              " [20] \"The following NEW packages will be installed:\"                                                                                                                                                                                                                                                                                                                                                                                                                                                                                                                                                                                                                 \n",
              " [21] \"  cwltool fonts-glyphicons-halflings libc-ares2 libhts3 libjs-bootstrap\"                                                                                                                                                                                                                                                                                                                                                                                                                                                                                                                                                                                       \n",
              " [22] \"  libnode64 nodejs nodejs-doc python3-bs4 python3-cachecontrol\"                                                                                                                                                                                                                                                                                                                                                                                                                                                                                                                                                                                                \n",
              " [23] \"  python3-coloredlogs python3-dateutil python3-decorator python3-html5lib\"                                                                                                                                                                                                                                                                                                                                                                                                                                                                                                                                                                                     \n",
              " [24] \"  python3-humanfriendly python3-isodate python3-lockfile python3-lxml\"                                                                                                                                                                                                                                                                                                                                                                                                                                                                                                                                                                                         \n",
              " [25] \"  python3-mistune python3-msgpack python3-mypy-extensions python3-networkx\"                                                                                                                                                                                                                                                                                                                                                                                                                                                                                                                                                                                    \n",
              " [26] \"  python3-numpy python3-prov python3-psutil python3-pyparsing python3-rdflib\"                                                                                                                                                                                                                                                                                                                                                                                                                                                                                                                                                                                  \n",
              " [27] \"  python3-rdflib-jsonld python3-ruamel.yaml python3-schema-salad\"                                                                                                                                                                                                                                                                                                                                                                                                                                                                                                                                                                                              \n",
              " [28] \"  python3-shellescape python3-soupsieve python3-sparqlwrapper\"                                                                                                                                                                                                                                                                                                                                                                                                                                                                                                                                                                                                 \n",
              " [29] \"  python3-typing-extensions python3-webencodings python3-yaml samtools\"                                                                                                                                                                                                                                                                                                                                                                                                                                                                                                                                                                                        \n",
              " [30] \"0 upgraded, 37 newly installed, 0 to remove and 15 not upgraded.\"                                                                                                                                                                                                                                                                                                                                                                                                                                                                                                                                                                                              \n",
              " [31] \"Need to get 14.8 MB of archives.\"                                                                                                                                                                                                                                                                                                                                                                                                                                                                                                                                                                                                                              \n",
              " [32] \"After this operation, 72.9 MB of additional disk space will be used.\"                                                                                                                                                                                                                                                                                                                                                                                                                                                                                                                                                                                          \n",
              " [33] \"Get:1 http://archive.ubuntu.com/ubuntu focal-updates/main amd64 python3-yaml amd64 5.3.1-1ubuntu0.1 [136 kB]\"                                                                                                                                                                                                                                                                                                                                                                                                                                                                                                                                                  \n",
              " [34] \"Get:2 http://archive.ubuntu.com/ubuntu focal/universe amd64 python3-humanfriendly all 4.18-2 [60.8 kB]\"                                                                                                                                                                                                                                                                                                                                                                                                                                                                                                                                                        \n",
              " [35] \"Get:3 http://archive.ubuntu.com/ubuntu focal/universe amd64 python3-coloredlogs all 7.3-2 [28.0 kB]\"                                                                                                                                                                                                                                                                                                                                                                                                                                                                                                                                                           \n",
              " [36] \"Get:4 http://archive.ubuntu.com/ubuntu focal/universe amd64 python3-mypy-extensions all 0.4.3-1 [5,436 B]\"                                                                                                                                                                                                                                                                                                                                                                                                                                                                                                                                                     \n",
              " [37] \"Get:5 http://archive.ubuntu.com/ubuntu focal/main amd64 python3-dateutil all 2.7.3-3ubuntu1 [63.3 kB]\"                                                                                                                                                                                                                                                                                                                                                                                                                                                                                                                                                         \n",
              " [38] \"Get:6 http://archive.ubuntu.com/ubuntu focal-updates/main amd64 python3-lxml amd64 4.5.0-1ubuntu0.5 [1,384 kB]\"                                                                                                                                                                                                                                                                                                                                                                                                                                                                                                                                                \n",
              " [39] \"Get:7 http://archive.ubuntu.com/ubuntu focal/main amd64 python3-decorator all 4.4.2-0ubuntu1 [10.3 kB]\"                                                                                                                                                                                                                                                                                                                                                                                                                                                                                                                                                        \n",
              " [40] \"Get:8 http://archive.ubuntu.com/ubuntu focal/main amd64 python3-networkx all 2.4-3ubuntu1 [855 kB]\"                                                                                                                                                                                                                                                                                                                                                                                                                                                                                                                                                            \n",
              " [41] \"Get:9 http://archive.ubuntu.com/ubuntu focal/universe amd64 python3-isodate all 0.6.0-2 [24.0 kB]\"                                                                                                                                                                                                                                                                                                                                                                                                                                                                                                                                                             \n",
              " [42] \"Get:10 http://archive.ubuntu.com/ubuntu focal/main amd64 python3-pyparsing all 2.4.6-1 [61.3 kB]\"                                                                                                                                                                                                                                                                                                                                                                                                                                                                                                                                                              \n",
              " [43] \"Get:11 http://archive.ubuntu.com/ubuntu focal/universe amd64 python3-rdflib all 4.2.2-5 [241 kB]\"                                                                                                                                                                                                                                                                                                                                                                                                                                                                                                                                                              \n",
              " [44] \"Get:12 http://archive.ubuntu.com/ubuntu focal/universe amd64 python3-prov all 1.5.2-2 [92.8 kB]\"                                                                                                                                                                                                                                                                                                                                                                                                                                                                                                                                                               \n",
              " [45] \"Get:13 http://archive.ubuntu.com/ubuntu focal/main amd64 python3-psutil amd64 5.5.1-1ubuntu4 [141 kB]\"                                                                                                                                                                                                                                                                                                                                                                                                                                                                                                                                                         \n",
              " [46] \"Get:14 http://archive.ubuntu.com/ubuntu focal/universe amd64 python3-ruamel.yaml amd64 0.15.89-3build1 [228 kB]\"                                                                                                                                                                                                                                                                                                                                                                                                                                                                                                                                               \n",
              " [47] \"Get:15 http://archive.ubuntu.com/ubuntu focal/main amd64 python3-msgpack amd64 0.6.2-1 [73.5 kB]\"                                                                                                                                                                                                                                                                                                                                                                                                                                                                                                                                                              \n",
              " [48] \"Get:16 http://archive.ubuntu.com/ubuntu focal/main amd64 python3-lockfile all 1:0.12.2-2ubuntu2 [14.6 kB]\"                                                                                                                                                                                                                                                                                                                                                                                                                                                                                                                                                     \n",
              " [49] \"Get:17 http://archive.ubuntu.com/ubuntu focal/universe amd64 python3-cachecontrol all 0.12.6-1ubuntu2 [16.7 kB]\"                                                                                                                                                                                                                                                                                                                                                                                                                                                                                                                                               \n",
              " [50] \"Get:18 http://archive.ubuntu.com/ubuntu focal/universe amd64 python3-mistune all 0.8.4-2 [14.3 kB]\"                                                                                                                                                                                                                                                                                                                                                                                                                                                                                                                                                            \n",
              " [51] \"Get:19 http://archive.ubuntu.com/ubuntu focal/universe amd64 python3-rdflib-jsonld all 0.4.0-5 [12.4 kB]\"                                                                                                                                                                                                                                                                                                                                                                                                                                                                                                                                                      \n",
              " [52] \"Get:20 http://archive.ubuntu.com/ubuntu focal/universe amd64 python3-typing-extensions all 3.7.4.1-1 [27.5 kB]\"                                                                                                                                                                                                                                                                                                                                                                                                                                                                                                                                                \n",
              " [53] \"Get:21 http://archive.ubuntu.com/ubuntu focal/universe amd64 fonts-glyphicons-halflings all 1.009~3.4.1+dfsg-1 [117 kB]\"                                                                                                                                                                                                                                                                                                                                                                                                                                                                                                                                       \n",
              " [54] \"Get:22 http://archive.ubuntu.com/ubuntu focal/universe amd64 libjs-bootstrap all 3.4.1+dfsg-1 [124 kB]\"                                                                                                                                                                                                                                                                                                                                                                                                                                                                                                                                                        \n",
              " [55] \"Get:23 http://archive.ubuntu.com/ubuntu focal/universe amd64 python3-schema-salad all 5.0.20200220195218-1 [295 kB]\"                                                                                                                                                                                                                                                                                                                                                                                                                                                                                                                                           \n",
              " [56] \"Get:24 http://archive.ubuntu.com/ubuntu focal/universe amd64 python3-shellescape all 3.4.1-4 [4,928 B]\"                                                                                                                                                                                                                                                                                                                                                                                                                                                                                                                                                        \n",
              " [57] \"Get:25 http://archive.ubuntu.com/ubuntu focal/universe amd64 cwltool all 2.0.20200224214940+dfsg-1 [203 kB]\"                                                                                                                                                                                                                                                                                                                                                                                                                                                                                                                                                   \n",
              " [58] \"Get:26 http://archive.ubuntu.com/ubuntu focal-updates/universe amd64 libhts3 amd64 1.10.2-3ubuntu0.1 [350 kB]\"                                                                                                                                                                                                                                                                                                                                                                                                                                                                                                                                                 \n",
              " [59] \"Get:27 http://archive.ubuntu.com/ubuntu focal-updates/main amd64 libc-ares2 amd64 1.15.0-1ubuntu0.3 [36.8 kB]\"                                                                                                                                                                                                                                                                                                                                                                                                                                                                                                                                                 \n",
              " [60] \"Get:28 http://archive.ubuntu.com/ubuntu focal/universe amd64 libnode64 amd64 10.19.0~dfsg-3ubuntu1 [5,765 kB]\"                                                                                                                                                                                                                                                                                                                                                                                                                                                                                                                                                 \n",
              " [61] \"Get:29 http://archive.ubuntu.com/ubuntu focal/universe amd64 nodejs-doc all 10.19.0~dfsg-3ubuntu1 [942 kB]\"                                                                                                                                                                                                                                                                                                                                                                                                                                                                                                                                                    \n",
              " [62] \"Get:30 http://archive.ubuntu.com/ubuntu focal/main amd64 python3-soupsieve all 1.9.5+dfsg-1 [29.1 kB]\"                                                                                                                                                                                                                                                                                                                                                                                                                                                                                                                                                         \n",
              " [63] \"Get:31 http://archive.ubuntu.com/ubuntu focal/main amd64 python3-bs4 all 4.8.2-1 [83.0 kB]\"                                                                                                                                                                                                                                                                                                                                                                                                                                                                                                                                                                    \n",
              " [64] \"Get:32 http://archive.ubuntu.com/ubuntu focal/main amd64 python3-webencodings all 0.5.1-1ubuntu1 [11.0 kB]\"                                                                                                                                                                                                                                                                                                                                                                                                                                                                                                                                                    \n",
              " [65] \"Get:33 http://archive.ubuntu.com/ubuntu focal/main amd64 python3-html5lib all 1.0.1-2 [84.3 kB]\"                                                                                                                                                                                                                                                                                                                                                                                                                                                                                                                                                               \n",
              " [66] \"Get:34 http://archive.ubuntu.com/ubuntu focal-updates/main amd64 python3-numpy amd64 1:1.17.4-5ubuntu3.1 [2,724 kB]\"                                                                                                                                                                                                                                                                                                                                                                                                                                                                                                                                           \n",
              " [67] \"Get:35 http://archive.ubuntu.com/ubuntu focal/universe amd64 python3-sparqlwrapper all 1.8.5-1 [32.3 kB]\"                                                                                                                                                                                                                                                                                                                                                                                                                                                                                                                                                      \n",
              " [68] \"Get:36 http://archive.ubuntu.com/ubuntu focal/universe amd64 samtools amd64 1.10-3 [496 kB]\"                                                                                                                                                                                                                                                                                                                                                                                                                                                                                                                                                                   \n",
              " [69] \"Get:37 http://archive.ubuntu.com/ubuntu focal/universe amd64 nodejs amd64 10.19.0~dfsg-3ubuntu1 [61.1 kB]\"                                                                                                                                                                                                                                                                                                                                                                                                                                                                                                                                                     \n",
              " [70] \"Fetched 14.8 MB in 9s (1,689 kB/s)\"                                                                                                                                                                                                                                                                                                                                                                                                                                                                                                                                                                                                                            \n",
              " [71] \"Selecting previously unselected package python3-yaml.\\r\"                                                                                                                                                                                                                                                                                                                                                                                                                                                                                                                                                                                                       \n",
              " [72] \"(Reading database ... \\r(Reading database ... 5%\\r(Reading database ... 10%\\r(Reading database ... 15%\\r(Reading database ... 20%\\r(Reading database ... 25%\\r(Reading database ... 30%\\r(Reading database ... 35%\\r(Reading database ... 40%\\r(Reading database ... 45%\\r(Reading database ... 50%\\r(Reading database ... 55%\\r(Reading database ... 60%\\r(Reading database ... 65%\\r(Reading database ... 70%\\r(Reading database ... 75%\\r(Reading database ... 80%\\r(Reading database ... 85%\\r(Reading database ... 90%\\r(Reading database ... 95%\\r(Reading database ... 100%\\r(Reading database ... 123105 files and directories currently installed.)\\r\"\n",
              " [73] \"Preparing to unpack .../00-python3-yaml_5.3.1-1ubuntu0.1_amd64.deb ...\\r\"                                                                                                                                                                                                                                                                                                                                                                                                                                                                                                                                                                                      \n",
              " [74] \"Unpacking python3-yaml (5.3.1-1ubuntu0.1) ...\\r\"                                                                                                                                                                                                                                                                                                                                                                                                                                                                                                                                                                                                               \n",
              " [75] \"Selecting previously unselected package python3-humanfriendly.\\r\"                                                                                                                                                                                                                                                                                                                                                                                                                                                                                                                                                                                              \n",
              " [76] \"Preparing to unpack .../01-python3-humanfriendly_4.18-2_all.deb ...\\r\"                                                                                                                                                                                                                                                                                                                                                                                                                                                                                                                                                                                         \n",
              " [77] \"Unpacking python3-humanfriendly (4.18-2) ...\\r\"                                                                                                                                                                                                                                                                                                                                                                                                                                                                                                                                                                                                                \n",
              " [78] \"Selecting previously unselected package python3-coloredlogs.\\r\"                                                                                                                                                                                                                                                                                                                                                                                                                                                                                                                                                                                                \n",
              " [79] \"Preparing to unpack .../02-python3-coloredlogs_7.3-2_all.deb ...\\r\"                                                                                                                                                                                                                                                                                                                                                                                                                                                                                                                                                                                            \n",
              " [80] \"Unpacking python3-coloredlogs (7.3-2) ...\\r\"                                                                                                                                                                                                                                                                                                                                                                                                                                                                                                                                                                                                                   \n",
              " [81] \"Selecting previously unselected package python3-mypy-extensions.\\r\"                                                                                                                                                                                                                                                                                                                                                                                                                                                                                                                                                                                            \n",
              " [82] \"Preparing to unpack .../03-python3-mypy-extensions_0.4.3-1_all.deb ...\\r\"                                                                                                                                                                                                                                                                                                                                                                                                                                                                                                                                                                                      \n",
              " [83] \"Unpacking python3-mypy-extensions (0.4.3-1) ...\\r\"                                                                                                                                                                                                                                                                                                                                                                                                                                                                                                                                                                                                             \n",
              " [84] \"Selecting previously unselected package python3-dateutil.\\r\"                                                                                                                                                                                                                                                                                                                                                                                                                                                                                                                                                                                                   \n",
              " [85] \"Preparing to unpack .../04-python3-dateutil_2.7.3-3ubuntu1_all.deb ...\\r\"                                                                                                                                                                                                                                                                                                                                                                                                                                                                                                                                                                                      \n",
              " [86] \"Unpacking python3-dateutil (2.7.3-3ubuntu1) ...\\r\"                                                                                                                                                                                                                                                                                                                                                                                                                                                                                                                                                                                                             \n",
              " [87] \"Selecting previously unselected package python3-lxml:amd64.\\r\"                                                                                                                                                                                                                                                                                                                                                                                                                                                                                                                                                                                                 \n",
              " [88] \"Preparing to unpack .../05-python3-lxml_4.5.0-1ubuntu0.5_amd64.deb ...\\r\"                                                                                                                                                                                                                                                                                                                                                                                                                                                                                                                                                                                      \n",
              " [89] \"Unpacking python3-lxml:amd64 (4.5.0-1ubuntu0.5) ...\\r\"                                                                                                                                                                                                                                                                                                                                                                                                                                                                                                                                                                                                         \n",
              " [90] \"Selecting previously unselected package python3-decorator.\\r\"                                                                                                                                                                                                                                                                                                                                                                                                                                                                                                                                                                                                  \n",
              " [91] \"Preparing to unpack .../06-python3-decorator_4.4.2-0ubuntu1_all.deb ...\\r\"                                                                                                                                                                                                                                                                                                                                                                                                                                                                                                                                                                                     \n",
              " [92] \"Unpacking python3-decorator (4.4.2-0ubuntu1) ...\\r\"                                                                                                                                                                                                                                                                                                                                                                                                                                                                                                                                                                                                            \n",
              " [93] \"Selecting previously unselected package python3-networkx.\\r\"                                                                                                                                                                                                                                                                                                                                                                                                                                                                                                                                                                                                   \n",
              " [94] \"Preparing to unpack .../07-python3-networkx_2.4-3ubuntu1_all.deb ...\\r\"                                                                                                                                                                                                                                                                                                                                                                                                                                                                                                                                                                                        \n",
              " [95] \"Unpacking python3-networkx (2.4-3ubuntu1) ...\\r\"                                                                                                                                                                                                                                                                                                                                                                                                                                                                                                                                                                                                               \n",
              " [96] \"Selecting previously unselected package python3-isodate.\\r\"                                                                                                                                                                                                                                                                                                                                                                                                                                                                                                                                                                                                    \n",
              " [97] \"Preparing to unpack .../08-python3-isodate_0.6.0-2_all.deb ...\\r\"                                                                                                                                                                                                                                                                                                                                                                                                                                                                                                                                                                                              \n",
              " [98] \"Unpacking python3-isodate (0.6.0-2) ...\\r\"                                                                                                                                                                                                                                                                                                                                                                                                                                                                                                                                                                                                                     \n",
              " [99] \"Selecting previously unselected package python3-pyparsing.\\r\"                                                                                                                                                                                                                                                                                                                                                                                                                                                                                                                                                                                                  \n",
              "[100] \"Preparing to unpack .../09-python3-pyparsing_2.4.6-1_all.deb ...\\r\"                                                                                                                                                                                                                                                                                                                                                                                                                                                                                                                                                                                            \n",
              "[101] \"Unpacking python3-pyparsing (2.4.6-1) ...\\r\"                                                                                                                                                                                                                                                                                                                                                                                                                                                                                                                                                                                                                   \n",
              "[102] \"Selecting previously unselected package python3-rdflib.\\r\"                                                                                                                                                                                                                                                                                                                                                                                                                                                                                                                                                                                                     \n",
              "[103] \"Preparing to unpack .../10-python3-rdflib_4.2.2-5_all.deb ...\\r\"                                                                                                                                                                                                                                                                                                                                                                                                                                                                                                                                                                                               \n",
              "[104] \"Unpacking python3-rdflib (4.2.2-5) ...\\r\"                                                                                                                                                                                                                                                                                                                                                                                                                                                                                                                                                                                                                      \n",
              "[105] \"Selecting previously unselected package python3-prov.\\r\"                                                                                                                                                                                                                                                                                                                                                                                                                                                                                                                                                                                                       \n",
              "[106] \"Preparing to unpack .../11-python3-prov_1.5.2-2_all.deb ...\\r\"                                                                                                                                                                                                                                                                                                                                                                                                                                                                                                                                                                                                 \n",
              "[107] \"Unpacking python3-prov (1.5.2-2) ...\\r\"                                                                                                                                                                                                                                                                                                                                                                                                                                                                                                                                                                                                                        \n",
              "[108] \"Selecting previously unselected package python3-psutil.\\r\"                                                                                                                                                                                                                                                                                                                                                                                                                                                                                                                                                                                                     \n",
              "[109] \"Preparing to unpack .../12-python3-psutil_5.5.1-1ubuntu4_amd64.deb ...\\r\"                                                                                                                                                                                                                                                                                                                                                                                                                                                                                                                                                                                      \n",
              "[110] \"Unpacking python3-psutil (5.5.1-1ubuntu4) ...\\r\"                                                                                                                                                                                                                                                                                                                                                                                                                                                                                                                                                                                                               \n",
              "[111] \"Selecting previously unselected package python3-ruamel.yaml.\\r\"                                                                                                                                                                                                                                                                                                                                                                                                                                                                                                                                                                                                \n",
              "[112] \"Preparing to unpack .../13-python3-ruamel.yaml_0.15.89-3build1_amd64.deb ...\\r\"                                                                                                                                                                                                                                                                                                                                                                                                                                                                                                                                                                                \n",
              "[113] \"Unpacking python3-ruamel.yaml (0.15.89-3build1) ...\\r\"                                                                                                                                                                                                                                                                                                                                                                                                                                                                                                                                                                                                         \n",
              "[114] \"Selecting previously unselected package python3-msgpack.\\r\"                                                                                                                                                                                                                                                                                                                                                                                                                                                                                                                                                                                                    \n",
              "[115] \"Preparing to unpack .../14-python3-msgpack_0.6.2-1_amd64.deb ...\\r\"                                                                                                                                                                                                                                                                                                                                                                                                                                                                                                                                                                                            \n",
              "[116] \"Unpacking python3-msgpack (0.6.2-1) ...\\r\"                                                                                                                                                                                                                                                                                                                                                                                                                                                                                                                                                                                                                     \n",
              "[117] \"Selecting previously unselected package python3-lockfile.\\r\"                                                                                                                                                                                                                                                                                                                                                                                                                                                                                                                                                                                                   \n",
              "[118] \"Preparing to unpack .../15-python3-lockfile_1%3a0.12.2-2ubuntu2_all.deb ...\\r\"                                                                                                                                                                                                                                                                                                                                                                                                                                                                                                                                                                                 \n",
              "[119] \"Unpacking python3-lockfile (1:0.12.2-2ubuntu2) ...\\r\"                                                                                                                                                                                                                                                                                                                                                                                                                                                                                                                                                                                                          \n",
              "[120] \"Selecting previously unselected package python3-cachecontrol.\\r\"                                                                                                                                                                                                                                                                                                                                                                                                                                                                                                                                                                                               \n",
              "[121] \"Preparing to unpack .../16-python3-cachecontrol_0.12.6-1ubuntu2_all.deb ...\\r\"                                                                                                                                                                                                                                                                                                                                                                                                                                                                                                                                                                                 \n",
              "[122] \"Unpacking python3-cachecontrol (0.12.6-1ubuntu2) ...\\r\"                                                                                                                                                                                                                                                                                                                                                                                                                                                                                                                                                                                                        \n",
              "[123] \"Selecting previously unselected package python3-mistune.\\r\"                                                                                                                                                                                                                                                                                                                                                                                                                                                                                                                                                                                                    \n",
              "[124] \"Preparing to unpack .../17-python3-mistune_0.8.4-2_all.deb ...\\r\"                                                                                                                                                                                                                                                                                                                                                                                                                                                                                                                                                                                              \n",
              "[125] \"Unpacking python3-mistune (0.8.4-2) ...\\r\"                                                                                                                                                                                                                                                                                                                                                                                                                                                                                                                                                                                                                     \n",
              "[126] \"Selecting previously unselected package python3-rdflib-jsonld.\\r\"                                                                                                                                                                                                                                                                                                                                                                                                                                                                                                                                                                                              \n",
              "[127] \"Preparing to unpack .../18-python3-rdflib-jsonld_0.4.0-5_all.deb ...\\r\"                                                                                                                                                                                                                                                                                                                                                                                                                                                                                                                                                                                        \n",
              "[128] \"Unpacking python3-rdflib-jsonld (0.4.0-5) ...\\r\"                                                                                                                                                                                                                                                                                                                                                                                                                                                                                                                                                                                                               \n",
              "[129] \"Selecting previously unselected package python3-typing-extensions.\\r\"                                                                                                                                                                                                                                                                                                                                                                                                                                                                                                                                                                                          \n",
              "[130] \"Preparing to unpack .../19-python3-typing-extensions_3.7.4.1-1_all.deb ...\\r\"                                                                                                                                                                                                                                                                                                                                                                                                                                                                                                                                                                                  \n",
              "[131] \"Unpacking python3-typing-extensions (3.7.4.1-1) ...\\r\"                                                                                                                                                                                                                                                                                                                                                                                                                                                                                                                                                                                                         \n",
              "[132] \"Selecting previously unselected package fonts-glyphicons-halflings.\\r\"                                                                                                                                                                                                                                                                                                                                                                                                                                                                                                                                                                                         \n",
              "[133] \"Preparing to unpack .../20-fonts-glyphicons-halflings_1.009~3.4.1+dfsg-1_all.deb ...\\r\"                                                                                                                                                                                                                                                                                                                                                                                                                                                                                                                                                                        \n",
              "[134] \"Unpacking fonts-glyphicons-halflings (1.009~3.4.1+dfsg-1) ...\\r\"                                                                                                                                                                                                                                                                                                                                                                                                                                                                                                                                                                                               \n",
              "[135] \"Selecting previously unselected package libjs-bootstrap.\\r\"                                                                                                                                                                                                                                                                                                                                                                                                                                                                                                                                                                                                    \n",
              "[136] \"Preparing to unpack .../21-libjs-bootstrap_3.4.1+dfsg-1_all.deb ...\\r\"                                                                                                                                                                                                                                                                                                                                                                                                                                                                                                                                                                                         \n",
              "[137] \"Unpacking libjs-bootstrap (3.4.1+dfsg-1) ...\\r\"                                                                                                                                                                                                                                                                                                                                                                                                                                                                                                                                                                                                                \n",
              "[138] \"Selecting previously unselected package python3-schema-salad.\\r\"                                                                                                                                                                                                                                                                                                                                                                                                                                                                                                                                                                                               \n",
              "[139] \"Preparing to unpack .../22-python3-schema-salad_5.0.20200220195218-1_all.deb ...\\r\"                                                                                                                                                                                                                                                                                                                                                                                                                                                                                                                                                                            \n",
              "[140] \"Unpacking python3-schema-salad (5.0.20200220195218-1) ...\\r\"                                                                                                                                                                                                                                                                                                                                                                                                                                                                                                                                                                                                   \n",
              "[141] \"Selecting previously unselected package python3-shellescape.\\r\"                                                                                                                                                                                                                                                                                                                                                                                                                                                                                                                                                                                                \n",
              "[142] \"Preparing to unpack .../23-python3-shellescape_3.4.1-4_all.deb ...\\r\"                                                                                                                                                                                                                                                                                                                                                                                                                                                                                                                                                                                          \n",
              "[143] \"Unpacking python3-shellescape (3.4.1-4) ...\\r\"                                                                                                                                                                                                                                                                                                                                                                                                                                                                                                                                                                                                                 \n",
              "[144] \"Selecting previously unselected package cwltool.\\r\"                                                                                                                                                                                                                                                                                                                                                                                                                                                                                                                                                                                                            \n",
              "[145] \"Preparing to unpack .../24-cwltool_2.0.20200224214940+dfsg-1_all.deb ...\\r\"                                                                                                                                                                                                                                                                                                                                                                                                                                                                                                                                                                                    \n",
              "[146] \"Unpacking cwltool (2.0.20200224214940+dfsg-1) ...\\r\"                                                                                                                                                                                                                                                                                                                                                                                                                                                                                                                                                                                                           \n",
              "[147] \"Selecting previously unselected package libhts3:amd64.\\r\"                                                                                                                                                                                                                                                                                                                                                                                                                                                                                                                                                                                                      \n",
              "[148] \"Preparing to unpack .../25-libhts3_1.10.2-3ubuntu0.1_amd64.deb ...\\r\"                                                                                                                                                                                                                                                                                                                                                                                                                                                                                                                                                                                          \n",
              "[149] \"Unpacking libhts3:amd64 (1.10.2-3ubuntu0.1) ...\\r\"                                                                                                                                                                                                                                                                                                                                                                                                                                                                                                                                                                                                             \n",
              "[150] \"Selecting previously unselected package libc-ares2:amd64.\\r\"                                                                                                                                                                                                                                                                                                                                                                                                                                                                                                                                                                                                   \n",
              "[151] \"Preparing to unpack .../26-libc-ares2_1.15.0-1ubuntu0.3_amd64.deb ...\\r\"                                                                                                                                                                                                                                                                                                                                                                                                                                                                                                                                                                                       \n",
              "[152] \"Unpacking libc-ares2:amd64 (1.15.0-1ubuntu0.3) ...\\r\"                                                                                                                                                                                                                                                                                                                                                                                                                                                                                                                                                                                                          \n",
              "[153] \"Selecting previously unselected package libnode64:amd64.\\r\"                                                                                                                                                                                                                                                                                                                                                                                                                                                                                                                                                                                                    \n",
              "[154] \"Preparing to unpack .../27-libnode64_10.19.0~dfsg-3ubuntu1_amd64.deb ...\\r\"                                                                                                                                                                                                                                                                                                                                                                                                                                                                                                                                                                                    \n",
              "[155] \"Unpacking libnode64:amd64 (10.19.0~dfsg-3ubuntu1) ...\\r\"                                                                                                                                                                                                                                                                                                                                                                                                                                                                                                                                                                                                       \n",
              "[156] \"Selecting previously unselected package nodejs-doc.\\r\"                                                                                                                                                                                                                                                                                                                                                                                                                                                                                                                                                                                                         \n",
              "[157] \"Preparing to unpack .../28-nodejs-doc_10.19.0~dfsg-3ubuntu1_all.deb ...\\r\"                                                                                                                                                                                                                                                                                                                                                                                                                                                                                                                                                                                     \n",
              "[158] \"Unpacking nodejs-doc (10.19.0~dfsg-3ubuntu1) ...\\r\"                                                                                                                                                                                                                                                                                                                                                                                                                                                                                                                                                                                                            \n",
              "[159] \"Selecting previously unselected package python3-soupsieve.\\r\"                                                                                                                                                                                                                                                                                                                                                                                                                                                                                                                                                                                                  \n",
              "[160] \"Preparing to unpack .../29-python3-soupsieve_1.9.5+dfsg-1_all.deb ...\\r\"                                                                                                                                                                                                                                                                                                                                                                                                                                                                                                                                                                                       \n",
              "[161] \"Unpacking python3-soupsieve (1.9.5+dfsg-1) ...\\r\"                                                                                                                                                                                                                                                                                                                                                                                                                                                                                                                                                                                                              \n",
              "[162] \"Selecting previously unselected package python3-bs4.\\r\"                                                                                                                                                                                                                                                                                                                                                                                                                                                                                                                                                                                                        \n",
              "[163] \"Preparing to unpack .../30-python3-bs4_4.8.2-1_all.deb ...\\r\"                                                                                                                                                                                                                                                                                                                                                                                                                                                                                                                                                                                                  \n",
              "[164] \"Unpacking python3-bs4 (4.8.2-1) ...\\r\"                                                                                                                                                                                                                                                                                                                                                                                                                                                                                                                                                                                                                         \n",
              "[165] \"Selecting previously unselected package python3-webencodings.\\r\"                                                                                                                                                                                                                                                                                                                                                                                                                                                                                                                                                                                               \n",
              "[166] \"Preparing to unpack .../31-python3-webencodings_0.5.1-1ubuntu1_all.deb ...\\r\"                                                                                                                                                                                                                                                                                                                                                                                                                                                                                                                                                                                  \n",
              "[167] \"Unpacking python3-webencodings (0.5.1-1ubuntu1) ...\\r\"                                                                                                                                                                                                                                                                                                                                                                                                                                                                                                                                                                                                         \n",
              "[168] \"Selecting previously unselected package python3-html5lib.\\r\"                                                                                                                                                                                                                                                                                                                                                                                                                                                                                                                                                                                                   \n",
              "[169] \"Preparing to unpack .../32-python3-html5lib_1.0.1-2_all.deb ...\\r\"                                                                                                                                                                                                                                                                                                                                                                                                                                                                                                                                                                                             \n",
              "[170] \"Unpacking python3-html5lib (1.0.1-2) ...\\r\"                                                                                                                                                                                                                                                                                                                                                                                                                                                                                                                                                                                                                    \n",
              "[171] \"Selecting previously unselected package python3-numpy.\\r\"                                                                                                                                                                                                                                                                                                                                                                                                                                                                                                                                                                                                      \n",
              "[172] \"Preparing to unpack .../33-python3-numpy_1%3a1.17.4-5ubuntu3.1_amd64.deb ...\\r\"                                                                                                                                                                                                                                                                                                                                                                                                                                                                                                                                                                                \n",
              "[173] \"Unpacking python3-numpy (1:1.17.4-5ubuntu3.1) ...\\r\"                                                                                                                                                                                                                                                                                                                                                                                                                                                                                                                                                                                                           \n",
              "[174] \"Selecting previously unselected package python3-sparqlwrapper.\\r\"                                                                                                                                                                                                                                                                                                                                                                                                                                                                                                                                                                                              \n",
              "[175] \"Preparing to unpack .../34-python3-sparqlwrapper_1.8.5-1_all.deb ...\\r\"                                                                                                                                                                                                                                                                                                                                                                                                                                                                                                                                                                                        \n",
              "[176] \"Unpacking python3-sparqlwrapper (1.8.5-1) ...\\r\"                                                                                                                                                                                                                                                                                                                                                                                                                                                                                                                                                                                                               \n",
              "[177] \"Selecting previously unselected package samtools.\\r\"                                                                                                                                                                                                                                                                                                                                                                                                                                                                                                                                                                                                           \n",
              "[178] \"Preparing to unpack .../35-samtools_1.10-3_amd64.deb ...\\r\"                                                                                                                                                                                                                                                                                                                                                                                                                                                                                                                                                                                                    \n",
              "[179] \"Unpacking samtools (1.10-3) ...\\r\"                                                                                                                                                                                                                                                                                                                                                                                                                                                                                                                                                                                                                             \n",
              "[180] \"Selecting previously unselected package nodejs.\\r\"                                                                                                                                                                                                                                                                                                                                                                                                                                                                                                                                                                                                             \n",
              "[181] \"Preparing to unpack .../36-nodejs_10.19.0~dfsg-3ubuntu1_amd64.deb ...\\r\"                                                                                                                                                                                                                                                                                                                                                                                                                                                                                                                                                                                       \n",
              "[182] \"Unpacking nodejs (10.19.0~dfsg-3ubuntu1) ...\\r\"                                                                                                                                                                                                                                                                                                                                                                                                                                                                                                                                                                                                                \n",
              "[183] \"Setting up python3-lockfile (1:0.12.2-2ubuntu2) ...\\r\"                                                                                                                                                                                                                                                                                                                                                                                                                                                                                                                                                                                                         \n",
              "[184] \"Setting up libhts3:amd64 (1.10.2-3ubuntu0.1) ...\\r\"                                                                                                                                                                                                                                                                                                                                                                                                                                                                                                                                                                                                            \n",
              "[185] \"Setting up fonts-glyphicons-halflings (1.009~3.4.1+dfsg-1) ...\\r\"                                                                                                                                                                                                                                                                                                                                                                                                                                                                                                                                                                                              \n",
              "[186] \"Setting up python3-mypy-extensions (0.4.3-1) ...\\r\"                                                                                                                                                                                                                                                                                                                                                                                                                                                                                                                                                                                                            \n",
              "[187] \"Setting up python3-yaml (5.3.1-1ubuntu0.1) ...\\r\"                                                                                                                                                                                                                                                                                                                                                                                                                                                                                                                                                                                                              \n",
              "[188] \"Setting up libc-ares2:amd64 (1.15.0-1ubuntu0.3) ...\\r\"                                                                                                                                                                                                                                                                                                                                                                                                                                                                                                                                                                                                         \n",
              "[189] \"Setting up python3-webencodings (0.5.1-1ubuntu1) ...\\r\"                                                                                                                                                                                                                                                                                                                                                                                                                                                                                                                                                                                                        \n",
              "[190] \"Setting up python3-psutil (5.5.1-1ubuntu4) ...\\r\"                                                                                                                                                                                                                                                                                                                                                                                                                                                                                                                                                                                                              \n",
              "[191] \"Setting up samtools (1.10-3) ...\\r\"                                                                                                                                                                                                                                                                                                                                                                                                                                                                                                                                                                                                                            \n",
              "[192] \"Setting up python3-isodate (0.6.0-2) ...\\r\"                                                                                                                                                                                                                                                                                                                                                                                                                                                                                                                                                                                                                    \n",
              "[193] \"Setting up python3-decorator (4.4.2-0ubuntu1) ...\\r\"                                                                                                                                                                                                                                                                                                                                                                                                                                                                                                                                                                                                           \n",
              "[194] \"Setting up python3-pyparsing (2.4.6-1) ...\\r\"                                                                                                                                                                                                                                                                                                                                                                                                                                                                                                                                                                                                                  \n",
              "[195] \"Setting up python3-humanfriendly (4.18-2) ...\\r\"                                                                                                                                                                                                                                                                                                                                                                                                                                                                                                                                                                                                               \n",
              "[196] \"Setting up libnode64:amd64 (10.19.0~dfsg-3ubuntu1) ...\\r\"                                                                                                                                                                                                                                                                                                                                                                                                                                                                                                                                                                                                      \n",
              "[197] \"Setting up python3-typing-extensions (3.7.4.1-1) ...\\r\"                                                                                                                                                                                                                                                                                                                                                                                                                                                                                                                                                                                                        \n",
              "[198] \"Setting up python3-html5lib (1.0.1-2) ...\\r\"                                                                                                                                                                                                                                                                                                                                                                                                                                                                                                                                                                                                                   \n",
              "[199] \"Setting up python3-numpy (1:1.17.4-5ubuntu3.1) ...\\r\"                                                                                                                                                                                                                                                                                                                                                                                                                                                                                                                                                                                                          \n",
              "[200] \"Setting up nodejs-doc (10.19.0~dfsg-3ubuntu1) ...\\r\"                                                                                                                                                                                                                                                                                                                                                                                                                                                                                                                                                                                                           \n",
              "[201] \"Setting up python3-ruamel.yaml (0.15.89-3build1) ...\\r\"                                                                                                                                                                                                                                                                                                                                                                                                                                                                                                                                                                                                        \n",
              "[202] \"Setting up python3-lxml:amd64 (4.5.0-1ubuntu0.5) ...\\r\"                                                                                                                                                                                                                                                                                                                                                                                                                                                                                                                                                                                                        \n",
              "[203] \"Setting up python3-rdflib (4.2.2-5) ...\\r\"                                                                                                                                                                                                                                                                                                                                                                                                                                                                                                                                                                                                                     \n",
              "[204] \"/usr/lib/python3/dist-packages/rdflib/plugins/memory.py:354: SyntaxWarning: \\\"is\\\" with a literal. Did you mean \\\"==\\\"?\\r\"                                                                                                                                                                                                                                                                                                                                                                                                                                                                                                                                     \n",
              "[205] \"  if triple is None or triple is (None,None,None):\\r\"                                                                                                                                                                                                                                                                                                                                                                                                                                                                                                                                                                                                          \n",
              "[206] \"Setting up python3-dateutil (2.7.3-3ubuntu1) ...\\r\"                                                                                                                                                                                                                                                                                                                                                                                                                                                                                                                                                                                                            \n",
              "[207] \"Setting up python3-msgpack (0.6.2-1) ...\\r\"                                                                                                                                                                                                                                                                                                                                                                                                                                                                                                                                                                                                                    \n",
              "[208] \"Setting up python3-cachecontrol (0.12.6-1ubuntu2) ...\\r\"                                                                                                                                                                                                                                                                                                                                                                                                                                                                                                                                                                                                       \n",
              "[209] \"Setting up python3-shellescape (3.4.1-4) ...\\r\"                                                                                                                                                                                                                                                                                                                                                                                                                                                                                                                                                                                                                \n",
              "[210] \"Setting up python3-coloredlogs (7.3-2) ...\\r\"                                                                                                                                                                                                                                                                                                                                                                                                                                                                                                                                                                                                                  \n",
              "[211] \"Setting up python3-mistune (0.8.4-2) ...\\r\"                                                                                                                                                                                                                                                                                                                                                                                                                                                                                                                                                                                                                    \n",
              "[212] \"Setting up python3-soupsieve (1.9.5+dfsg-1) ...\\r\"                                                                                                                                                                                                                                                                                                                                                                                                                                                                                                                                                                                                             \n",
              "[213] \"Setting up libjs-bootstrap (3.4.1+dfsg-1) ...\\r\"                                                                                                                                                                                                                                                                                                                                                                                                                                                                                                                                                                                                               \n",
              "[214] \"Setting up python3-rdflib-jsonld (0.4.0-5) ...\\r\"                                                                                                                                                                                                                                                                                                                                                                                                                                                                                                                                                                                                              \n",
              "[215] \"Setting up python3-sparqlwrapper (1.8.5-1) ...\\r\"                                                                                                                                                                                                                                                                                                                                                                                                                                                                                                                                                                                                              \n",
              "[216] \"Setting up python3-schema-salad (5.0.20200220195218-1) ...\\r\"                                                                                                                                                                                                                                                                                                                                                                                                                                                                                                                                                                                                  \n",
              "[217] \"Setting up nodejs (10.19.0~dfsg-3ubuntu1) ...\\r\"                                                                                                                                                                                                                                                                                                                                                                                                                                                                                                                                                                                                               \n",
              "[218] \"update-alternatives: using /usr/bin/nodejs to provide /usr/bin/js (js) in auto mode\\r\"                                                                                                                                                                                                                                                                                                                                                                                                                                                                                                                                                                         \n",
              "[219] \"Setting up python3-networkx (2.4-3ubuntu1) ...\\r\"                                                                                                                                                                                                                                                                                                                                                                                                                                                                                                                                                                                                              \n",
              "[220] \"/usr/lib/python3/dist-packages/networkx/readwrite/tests/test_graphml.py:933: SyntaxWarning: \\\"is\\\" with a literal. Did you mean \\\"==\\\"?\\r\"                                                                                                                                                                                                                                                                                                                                                                                                                                                                                                                     \n",
              "[221] \"  assert H.nodes['n1']['special'] is 0\\r\"                                                                                                                                                                                                                                                                                                                                                                                                                                                                                                                                                                                                                      \n",
              "[222] \"/usr/lib/python3/dist-packages/networkx/readwrite/tests/test_graphml.py:935: SyntaxWarning: \\\"is\\\" with a literal. Did you mean \\\"==\\\"?\\r\"                                                                                                                                                                                                                                                                                                                                                                                                                                                                                                                     \n",
              "[223] \"  assert H.edges['n0','n1',1]['special'] is 0\\r\"                                                                                                                                                                                                                                                                                                                                                                                                                                                                                                                                                                                                               \n",
              "[224] \"Setting up python3-bs4 (4.8.2-1) ...\\r\"                                                                                                                                                                                                                                                                                                                                                                                                                                                                                                                                                                                                                        \n",
              "[225] \"Setting up python3-prov (1.5.2-2) ...\\r\"                                                                                                                                                                                                                                                                                                                                                                                                                                                                                                                                                                                                                       \n",
              "[226] \"Setting up cwltool (2.0.20200224214940+dfsg-1) ...\\r\"                                                                                                                                                                                                                                                                                                                                                                                                                                                                                                                                                                                                          \n",
              "[227] \"/usr/lib/python3/dist-packages/cwltool/docker.py:423: SyntaxWarning: \\\"is\\\" with a literal. Did you mean \\\"==\\\"?\\r\"                                                                                                                                                                                                                                                                                                                                                                                                                                                                                                                                            \n",
              "[228] \"  if res_req is not None and (\\\"ramMin\\\" in res_req or \\\"ramMax\\\" is res_req):\\r\"                                                                                                                                                                                                                                                                                                                                                                                                                                                                                                                                                                              \n",
              "[229] \"Processing triggers for fontconfig (2.13.1-2ubuntu3) ...\\r\"                                                                                                                                                                                                                                                                                                                                                                                                                                                                                                                                                                                                    \n",
              "[230] \"Processing triggers for libc-bin (2.31-0ubuntu9.9) ...\\r\"                                                                                                                                                                                                                                                                                                                                                                                                                                                                                                                                                                                                      \n",
              "[231] \"Processing triggers for man-db (2.9.1-1) ...\\r\"                                                                                                                                                                                                                                                                                                                                                                                                                                                                                                                                                                                                                "
            ]
          },
          "metadata": {},
          "output_type": "display_data"
        }
      ],
      "source": [
        "# install samtools\n",
        "cat(system(\"sudo apt install samtools\", intern = TRUE), sep = \"\\n\")"
      ]
    },
    {
      "cell_type": "code",
      "execution_count": 25,
      "metadata": {
        "colab": {
          "base_uri": "https://localhost:8080/",
          "height": 34
        },
        "id": "rM5eGP4oyB2n",
        "outputId": "61e800f3-8663-4b65-9c45-0372ccacc47f",
        "vscode": {
          "languageId": "r"
        }
      },
      "outputs": [
        {
          "data": {
            "text/html": [
              "<style>\n",
              ".list-inline {list-style: none; margin:0; padding: 0}\n",
              ".list-inline>li {display: inline-block}\n",
              ".list-inline>li:not(:last-child)::after {content: \"\\00b7\"; padding: 0 .5ex}\n",
              "</style>\n",
              "<ol class=list-inline><li>'samtools 1.10'</li><li>'Using htslib 1.10.2-3ubuntu0.1'</li><li>'Copyright (C) 2019 Genome Research Ltd.'</li></ol>\n"
            ],
            "text/latex": [
              "\\begin{enumerate*}\n",
              "\\item 'samtools 1.10'\n",
              "\\item 'Using htslib 1.10.2-3ubuntu0.1'\n",
              "\\item 'Copyright (C) 2019 Genome Research Ltd.'\n",
              "\\end{enumerate*}\n"
            ],
            "text/markdown": [
              "1. 'samtools 1.10'\n",
              "2. 'Using htslib 1.10.2-3ubuntu0.1'\n",
              "3. 'Copyright (C) 2019 Genome Research Ltd.'\n",
              "\n",
              "\n"
            ],
            "text/plain": [
              "[1] \"samtools 1.10\"                          \n",
              "[2] \"Using htslib 1.10.2-3ubuntu0.1\"         \n",
              "[3] \"Copyright (C) 2019 Genome Research Ltd.\""
            ]
          },
          "metadata": {},
          "output_type": "display_data"
        }
      ],
      "source": [
        "cat(system(\"samtools --version-only\", intern = TRUE), sep = \"\\n\")"
      ]
    },
    {
      "cell_type": "code",
      "execution_count": 46,
      "metadata": {
        "colab": {
          "base_uri": "https://localhost:8080/"
        },
        "id": "-A0TOntRu0-r",
        "outputId": "c0a0cc81-a662-4e40-ca36-d73d3e218130",
        "vscode": {
          "languageId": "r"
        }
      },
      "outputs": [
        {
          "name": "stdout",
          "output_type": "stream",
          "text": [
            "\n"
          ]
        }
      ],
      "source": [
        "cat(system(\"./minimap2-2.26_x64-linux/minimap2 -ax splice -uf -k14 hg38_chr22.fa A549_directRNA_sample1.fastq.gz > A549_directRNA_sample1_test.sam \", intern = TRUE), sep = \"\\n\")"
      ]
    },
    {
      "cell_type": "code",
      "execution_count": 47,
      "metadata": {
        "colab": {
          "base_uri": "https://localhost:8080/"
        },
        "id": "uUkbq4F4u80K",
        "outputId": "a9541e15-588b-4d50-d69d-e93cc3e3f991",
        "vscode": {
          "languageId": "r"
        }
      },
      "outputs": [
        {
          "name": "stdout",
          "output_type": "stream",
          "text": [
            "\n"
          ]
        }
      ],
      "source": [
        "cat(system(\"samtools view -Sb A549_directRNA_sample1_test.sam | samtools  sort -o A549_directRNA_sample1_test.bam \", intern = TRUE), sep = \"\\n\")"
      ]
    },
    {
      "cell_type": "code",
      "execution_count": 50,
      "metadata": {
        "colab": {
          "base_uri": "https://localhost:8080/"
        },
        "id": "2MgYcu00pgdi",
        "outputId": "1d4f58e4-6080-43ab-f29a-5fdd31cd37bd",
        "vscode": {
          "languageId": "r"
        }
      },
      "outputs": [
        {
          "name": "stdout",
          "output_type": "stream",
          "text": [
            "\n"
          ]
        }
      ],
      "source": [
        "cat(system(\"samtools index A549_directRNA_sample1_test.bam\", intern = TRUE), sep = \"\\n\")"
      ]
    },
    {
      "cell_type": "markdown",
      "metadata": {
        "id": "YjL0aLUqpgdi"
      },
      "source": [
        "***Note that we are aligning the reads to the genome fasta and not the transcriptome fasta as `Bambu` uses intron junctions to distinguish novel transcripts.***"
      ]
    },
    {
      "cell_type": "markdown",
      "metadata": {
        "id": "-a7LQ2p0pgdi"
      },
      "source": [
        "### **Or download data for bambu directly**\n",
        "Next, we will need to download the required data to run Bambu. The required data include:\n",
        "\n",
        "-   a set of aligned reads to the genome from the A549 and HepG2 cell lines (bam files),\n",
        "-   reference human genome annotations (gtf file, TxDb object, or Bambu\n",
        "    Annotation object),\n",
        "-   reference human genome sequence (fasta file or BSgenome).\n",
        "\n"
      ]
    },
    {
      "cell_type": "code",
      "execution_count": null,
      "metadata": {
        "id": "NPdFZL70YT-D",
        "vscode": {
          "languageId": "r"
        }
      },
      "outputs": [],
      "source": [
        "# download aligned bam files for A549 samples and HepG2 samples\n",
        "bam_list=c(\"A549_directRNA_sample1.bam\",\n",
        "           \"A549_directRNA_sample2.bam\",\n",
        "           \"A549_directRNA_sample3.bam\",\n",
        "           \"HepG2_directRNA_sample1.bam\",\n",
        "           \"HepG2_directRNA_sample2.bam\",\n",
        "           \"HepG2_directRNA_sample3.bam\")\n",
        "for (bam in bam_list){\n",
        "  aws.s3::save_object(\n",
        "    object=paste0(\"data/data_tutorial/bam/\",bam),\n",
        "    bucket = \"sg-nex-data\",\n",
        "    region=\"ap-southeast-1\",\n",
        "    file=basename(bam))\n",
        "}"
      ]
    },
    {
      "cell_type": "code",
      "execution_count": null,
      "metadata": {
        "vscode": {
          "languageId": "r"
        }
      },
      "outputs": [],
      "source": [
        "# just had a quick check at the generated files, sligh change in bam file size might be due to minimap2 version\n",
        "file.size(\"A549_directRNA_sample1_test.bam\")\n",
        "file.size(\"A549_directRNA_sample1.bam\")"
      ]
    },
    {
      "cell_type": "markdown",
      "metadata": {
        "id": "8kKjAsbjhZK0"
      },
      "source": [
        "**NOTE: We have downsampled the Hg38 genome, A549 and HepG2 samples to ensure this tutorial can be completed in 10 minutes. If you want to run Bambu on the original samples, you can find the sample name [here](https://github.com/GoekeLab/sg-nex-data/blob/master/docs/samples.tsv) and amend it into the following code chunk:**"
      ]
    },
    {
      "cell_type": "code",
      "execution_count": null,
      "metadata": {
        "id": "M_rJd7k5iD8V",
        "vscode": {
          "languageId": "plaintext"
        }
      },
      "outputs": [],
      "source": [
        "# Do not run unless you have specified the sample_alias with the sample of interest in the SG-NEx bukcet as recommended.\n",
        "aws.s3::save_object(\n",
        "  object=\"data/sequencing_data_ont/bam/genome/<sample_alias>\",\n",
        "  bucket=\"sg-nex-data\",\n",
        "  region=\"ap-southeast-1\",\n",
        "  file=\"<sample_alias>\")"
      ]
    },
    {
      "cell_type": "markdown",
      "metadata": {
        "id": "SiDmElNKpgdj"
      },
      "source": [
        "### **Quality control**\n",
        "***Samtools stats*** can be used to quickly check the read accuracy and read mappability in the bam files, in the example below, we checked the aligned bam file for the SGNex_A549_directRNA_replicate1_run1 sample."
      ]
    },
    {
      "cell_type": "code",
      "execution_count": null,
      "metadata": {
        "colab": {
          "base_uri": "https://localhost:8080/"
        },
        "id": "yq9li73opgdk",
        "outputId": "d1cf64f1-8ee0-4132-884a-b070ff8e13ce",
        "vscode": {
          "languageId": "plaintext"
        }
      },
      "outputs": [
        {
          "name": "stdout",
          "output_type": "stream",
          "text": [
            "# This file was produced by samtools stats (1.10+htslib-1.10.2-3ubuntu0.1) and can be plotted using plot-bamstats\n",
            "# This file contains statistics for all reads.\n",
            "# The command line was:  stats A549_directRNA_sample1_test.bam\n",
            "# CHK, Checksum\t[2]Read Names\t[3]Sequences\t[4]Qualities\n",
            "# CHK, CRC32 of reads which passed filtering followed by addition (32bit overflow)\n",
            "CHK\t7864bfd0\t9e953de0\t1b38e0b4\n",
            "# Summary Numbers. Use `grep ^SN | cut -f 2-` to extract this part.\n",
            "SN\traw total sequences:\t6890\n",
            "SN\tfiltered sequences:\t0\n",
            "SN\tsequences:\t6890\n",
            "SN\tis sorted:\t1\n",
            "SN\t1st fragments:\t6890\n",
            "SN\tlast fragments:\t0\n",
            "SN\treads mapped:\t6889\n",
            "SN\treads mapped and paired:\t0\t# paired-end technology bit set + both mates mapped\n",
            "SN\treads unmapped:\t1\n",
            "SN\treads properly paired:\t0\t# proper-pair bit set\n",
            "SN\treads paired:\t0\t# paired-end technology bit set\n",
            "SN\treads duplicated:\t0\t# PCR or optical duplicate bit set\n",
            "SN\treads MQ0:\t4\t# mapped and MQ=0\n",
            "SN\treads QC failed:\t0\n",
            "SN\tnon-primary alignments:\t131\n",
            "SN\ttotal length:\t7228225\t# ignores clipping\n",
            "SN\ttotal first fragment length:\t7228225\t# ignores clipping\n",
            "SN\ttotal last fragment length:\t0\t# ignores clipping\n",
            "SN\tbases mapped:\t7227770\t# ignores clipping\n",
            "SN\tbases mapped (cigar):\t6662108\t# more accurate\n",
            "SN\tbases trimmed:\t0\n",
            "SN\tbases duplicated:\t0\n",
            "SN\tmismatches:\t1200991\t# from NM fields\n",
            "SN\terror rate:\t1.802719e-01\t# mismatches / bases mapped (cigar)\n",
            "SN\taverage length:\t1049\n",
            "SN\taverage first fragment length:\t1049\n",
            "SN\taverage last fragment length:\t0\n",
            "SN\tmaximum length:\t6019\n",
            "SN\tmaximum first fragment length:\t6019\n",
            "SN\tmaximum last fragment length:\t0\n",
            "SN\taverage quality:\t9.6\n",
            "SN\tinsert size average:\t0.0\n",
            "SN\tinsert size standard deviation:\t0.0\n",
            "SN\tinward oriented pairs:\t0\n",
            "SN\toutward oriented pairs:\t0\n",
            "SN\tpairs with other orientation:\t0\n",
            "SN\tpairs on different chromosomes:\t0\n",
            "SN\tpercentage of properly paired reads (%):\t0.0\n",
            "# First Fragment Qualities. Use `grep ^FFQ | cut -f 2-` to extract this part.\n"
          ]
        }
      ],
      "source": [
        "cat(system(\"samtools stats A549_directRNA_sample1.bam | head -46 \", intern = TRUE), sep = \"\\n\")"
      ]
    },
    {
      "cell_type": "markdown",
      "metadata": {
        "id": "wlNLOURBpgdk"
      },
      "source": [
        "This bam file has a read mappability of `6890/6890 (100%)` by taking the ratio between reads mapped and raw total sequences and a read accuracy of `1-0.1803308 (0.819%)` by minusing 1 with the error rate. Usually we consider a sample with a mappability of 80% above as relatively good, and the read accuracy is also common for Nanopore reads."
      ]
    },
    {
      "cell_type": "markdown",
      "metadata": {
        "id": "C132aNAQhjKs"
      },
      "source": [
        "### **Preparing data for ***Bambu*****\n",
        "\n",
        "All required data are now stored in the `bambu_tutorial` folder of the\n",
        "current working directory. Next, we prepare the data to run Bambu."
      ]
    },
    {
      "cell_type": "code",
      "execution_count": null,
      "metadata": {
        "id": "8FZLA9plajvw",
        "vscode": {
          "languageId": "r"
        }
      },
      "outputs": [],
      "source": [
        "# set work directory if you are in a different directory\n",
        "# setwd(\"bambu_tutorial\")\n",
        "\n",
        "# data preparation\n",
        "library(bambu)\n",
        "fa.file <- \"hg38_chr22.fa\"\n",
        "gtf.file <- \"hg38_chr22.gtf\"\n",
        "annotations <- prepareAnnotations(gtf.file) # This function creates a reference annotation object which is used for transcript discovery and quantification in Bambu.\n",
        "samples.bam <- list.files(\".\", pattern = \"[0-9].bam$\", full.names = TRUE) # the pattern is to exclude the duplicated test bam file generated by ourself"
      ]
    },
    {
      "cell_type": "markdown",
      "metadata": {
        "id": "9BxbQWlKizDI"
      },
      "source": [
        "## **Running Bambu**\n",
        "\n",
        "Now we can run Bambu with these data. For a\n",
        "faster running speed, you can increase the `ncore` parameter up\n",
        "to the total number of samples at your availability."
      ]
    },
    {
      "cell_type": "code",
      "execution_count": null,
      "metadata": {
        "vscode": {
          "languageId": "r"
        }
      },
      "outputs": [],
      "source": [
        "# before running commands, good to check if file all exists \n",
        "file.exists(fa.file)\n",
        "file.exists(gtf.file)\n",
        "print(samples.bam)"
      ]
    },
    {
      "cell_type": "code",
      "execution_count": null,
      "metadata": {
        "colab": {
          "base_uri": "https://localhost:8080/"
        },
        "id": "xOYMAFl7iJB-",
        "outputId": "b8d29747-7d52-43f6-bfbe-34cca9a45eb5",
        "vscode": {
          "languageId": "r"
        }
      },
      "outputs": [
        {
          "name": "stderr",
          "output_type": "stream",
          "text": [
            "WARNING - If you change the number of cores (ncore) between Bambu runs and there is no progress please restart your R session to resolve the issue that originates from the XGboost package.\n",
            "\n",
            "--- Start generating read class files ---\n",
            "\n",
            "'getOption(\"repos\")' replaces Bioconductor standard repositories, see\n",
            "'help(\"repositories\", package = \"BiocManager\")' for details.\n",
            "Replacement repositories:\n",
            "    CRAN: https://cran.rstudio.com\n",
            "\n"
          ]
        },
        {
          "name": "stdout",
          "output_type": "stream",
          "text": [
            "\r  |                                                                            \r  |                                                                      |   0%"
          ]
        },
        {
          "name": "stderr",
          "output_type": "stream",
          "text": [
            "Warning message:\n",
            "\"\u001b[1m\u001b[22mThere was 1 warning in `filter()`.\n",
            "\u001b[1m\u001b[22m\u001b[36mℹ\u001b[39m In argument: `newGeneId == min(newGeneId)`.\n",
            "Caused by warning in `min()`:\n",
            "\u001b[33m!\u001b[39m no non-missing arguments to min; returning Inf\"\n",
            "Warning message:\n",
            "\"\u001b[1m\u001b[22mThere was 1 warning in `summarise()`.\n",
            "\u001b[1m\u001b[22m\u001b[36mℹ\u001b[39m In argument: `intersectWidth = max(intersectWidth)`.\n",
            "Caused by warning in `max()`:\n",
            "\u001b[33m!\u001b[39m no non-missing arguments to max; returning -Inf\"\n",
            "Warning message:\n",
            "\"\u001b[1m\u001b[22mThere was 1 warning in `filter()`.\n",
            "\u001b[1m\u001b[22m\u001b[36mℹ\u001b[39m In argument: `newGeneId == min(newGeneId)`.\n",
            "Caused by warning in `min()`:\n",
            "\u001b[33m!\u001b[39m no non-missing arguments to min; returning Inf\"\n",
            "Warning message:\n",
            "\"\u001b[1m\u001b[22mThere was 1 warning in `summarise()`.\n",
            "\u001b[1m\u001b[22m\u001b[36mℹ\u001b[39m In argument: `intersectWidth = max(intersectWidth)`.\n",
            "Caused by warning in `max()`:\n",
            "\u001b[33m!\u001b[39m no non-missing arguments to max; returning -Inf\"\n",
            "Warning message:\n",
            "\"\u001b[1m\u001b[22mThere was 1 warning in `filter()`.\n",
            "\u001b[1m\u001b[22m\u001b[36mℹ\u001b[39m In argument: `newGeneId == min(newGeneId)`.\n",
            "Caused by warning in `min()`:\n",
            "\u001b[33m!\u001b[39m no non-missing arguments to min; returning Inf\"\n"
          ]
        },
        {
          "name": "stdout",
          "output_type": "stream",
          "text": [
            "\r  |                                                                            \r  |===================================                                   |  50%"
          ]
        },
        {
          "name": "stderr",
          "output_type": "stream",
          "text": [
            "Warning message:\n",
            "\"\u001b[1m\u001b[22mThere was 1 warning in `summarise()`.\n",
            "\u001b[1m\u001b[22m\u001b[36mℹ\u001b[39m In argument: `intersectWidth = max(intersectWidth)`.\n",
            "Caused by warning in `max()`:\n",
            "\u001b[33m!\u001b[39m no non-missing arguments to max; returning -Inf\"\n",
            "Warning message:\n",
            "\"\u001b[1m\u001b[22mThere was 1 warning in `filter()`.\n",
            "\u001b[1m\u001b[22m\u001b[36mℹ\u001b[39m In argument: `newGeneId == min(newGeneId)`.\n",
            "Caused by warning in `min()`:\n",
            "\u001b[33m!\u001b[39m no non-missing arguments to min; returning Inf\"\n",
            "Warning message:\n",
            "\"\u001b[1m\u001b[22mThere was 1 warning in `filter()`.\n",
            "\u001b[1m\u001b[22m\u001b[36mℹ\u001b[39m In argument: `newGeneId == min(newGeneId)`.\n",
            "Caused by warning in `min()`:\n",
            "\u001b[33m!\u001b[39m no non-missing arguments to min; returning Inf\"\n",
            "Warning message:\n",
            "\"\u001b[1m\u001b[22mThere was 1 warning in `filter()`.\n",
            "\u001b[1m\u001b[22m\u001b[36mℹ\u001b[39m In argument: `newGeneId == min(newGeneId)`.\n",
            "Caused by warning in `min()`:\n",
            "\u001b[33m!\u001b[39m no non-missing arguments to min; returning Inf\"\n",
            "Warning message:\n",
            "\"\u001b[1m\u001b[22mThere was 1 warning in `filter()`.\n",
            "\u001b[1m\u001b[22m\u001b[36mℹ\u001b[39m In argument: `newGeneId == min(newGeneId)`.\n",
            "Caused by warning in `min()`:\n",
            "\u001b[33m!\u001b[39m no non-missing arguments to min; returning Inf\"\n",
            "Warning message:\n",
            "\"\u001b[1m\u001b[22mThere was 1 warning in `summarise()`.\n",
            "\u001b[1m\u001b[22m\u001b[36mℹ\u001b[39m In argument: `intersectWidth = max(intersectWidth)`.\n",
            "Caused by warning in `max()`:\n",
            "\u001b[33m!\u001b[39m no non-missing arguments to max; returning -Inf\"\n",
            "Warning message:\n",
            "\"\u001b[1m\u001b[22mThere was 1 warning in `filter()`.\n",
            "\u001b[1m\u001b[22m\u001b[36mℹ\u001b[39m In argument: `newGeneId == min(newGeneId)`.\n",
            "Caused by warning in `min()`:\n",
            "\u001b[33m!\u001b[39m no non-missing arguments to min; returning Inf\"\n"
          ]
        },
        {
          "name": "stdout",
          "output_type": "stream",
          "text": [
            "\r  |                                                                            \r  |======================================================================| 100%\n",
            "\n"
          ]
        },
        {
          "name": "stderr",
          "output_type": "stream",
          "text": [
            "Detected 15 warnings across the samples during read class construction. Access warnings with metadata(bambuOutput)$warnings\n",
            "\n",
            "--- Start extending annotations ---\n",
            "\n",
            "Warning message:\n",
            "\"\u001b[1m\u001b[22mThere was 1 warning in `summarise()`.\n",
            "\u001b[1m\u001b[22m\u001b[36mℹ\u001b[39m In argument: `intersectWidth = max(intersectWidth)`.\n",
            "Caused by warning in `max()`:\n",
            "\u001b[33m!\u001b[39m no non-missing arguments to max; returning -Inf\"\n",
            "Warning message:\n",
            "\"\u001b[1m\u001b[22mThere was 1 warning in `filter()`.\n",
            "\u001b[1m\u001b[22m\u001b[36mℹ\u001b[39m In argument: `newGeneId == min(newGeneId)`.\n",
            "Caused by warning in `min()`:\n",
            "\u001b[33m!\u001b[39m no non-missing arguments to min; returning Inf\"\n",
            "Using a novel discovery rate (NDR) of: 0.129\n",
            "\n",
            "--- Start isoform quantification ---\n",
            "\n",
            "Warning message:\n",
            "\"\u001b[1m\u001b[22mThere was 1 warning in `filter()`.\n",
            "\u001b[1m\u001b[22m\u001b[36mℹ\u001b[39m In argument: `newGeneId == min(newGeneId)`.\n",
            "Caused by warning in `min()`:\n",
            "\u001b[33m!\u001b[39m no non-missing arguments to min; returning Inf\"\n",
            "Warning message:\n",
            "\"\u001b[1m\u001b[22mThere was 1 warning in `filter()`.\n",
            "\u001b[1m\u001b[22m\u001b[36mℹ\u001b[39m In argument: `newGeneId == min(newGeneId)`.\n",
            "Caused by warning in `min()`:\n",
            "\u001b[33m!\u001b[39m no non-missing arguments to min; returning Inf\"\n",
            "Warning message:\n",
            "\"\u001b[1m\u001b[22mThere was 1 warning in `filter()`.\n",
            "\u001b[1m\u001b[22m\u001b[36mℹ\u001b[39m In argument: `newGeneId == min(newGeneId)`.\n",
            "Caused by warning in `min()`:\n",
            "\u001b[33m!\u001b[39m no non-missing arguments to min; returning Inf\"\n",
            "--- Finished running Bambu ---\n",
            "\n"
          ]
        }
      ],
      "source": [
        "# running Bambu\n",
        "se <- bambu(reads = samples.bam, annotations = annotations, genome = fa.file, ncore = 2)"
      ]
    },
    {
      "cell_type": "markdown",
      "metadata": {},
      "source": [
        "Note the above step takes about 2 mins to run."
      ]
    },
    {
      "cell_type": "markdown",
      "metadata": {
        "id": "T8MkkL_3kIDm"
      },
      "source": [
        "Bambu returns a `SummarizedExperiment` object with the genomic\n",
        "coordinates of the annotated & novel transcripts and their expression\n",
        "estimates. They can be assessed using the following code:"
      ]
    },
    {
      "cell_type": "code",
      "execution_count": null,
      "metadata": {
        "colab": {
          "base_uri": "https://localhost:8080/",
          "height": 52
        },
        "id": "cpt-Kq2YjPuH",
        "outputId": "8dbaefc9-7a57-40e9-91a8-cdbd70317082",
        "vscode": {
          "languageId": "r"
        }
      },
      "outputs": [
        {
          "data": {
            "text/plain": [
              "List of length 4\n",
              "names(4): counts CPM fullLengthCounts uniqueCounts"
            ]
          },
          "metadata": {},
          "output_type": "display_data"
        }
      ],
      "source": [
        "assays(se) #returns the transcript abundance estimates as counts or CPM."
      ]
    },
    {
      "cell_type": "code",
      "execution_count": null,
      "metadata": {
        "colab": {
          "base_uri": "https://localhost:8080/",
          "height": 255
        },
        "id": "ob7-ZYo641CE",
        "outputId": "38887c36-dce4-4991-9d86-468ecb94bc4f",
        "vscode": {
          "languageId": "r"
        }
      },
      "outputs": [
        {
          "data": {
            "text/html": [
              "<table class=\"dataframe\">\n",
              "<caption>A matrix: 6 × 6 of type dbl</caption>\n",
              "<thead>\n",
              "\t<tr><th></th><th scope=col>A549_directRNA_sample1</th><th scope=col>A549_directRNA_sample2</th><th scope=col>A549_directRNA_sample3</th><th scope=col>HepG2_directRNA_sample1</th><th scope=col>HepG2_directRNA_sample2</th><th scope=col>HepG2_directRNA_sample3</th></tr>\n",
              "</thead>\n",
              "<tbody>\n",
              "\t<tr><th scope=row>BambuTx1</th><td>2.00000</td><td> 0.00000</td><td> 0.00000</td><td> 1.0</td><td>0.00000</td><td>0</td></tr>\n",
              "\t<tr><th scope=row>BambuTx2</th><td>2.00000</td><td>30.33452</td><td>10.76898</td><td>13.0</td><td>0.00000</td><td>0</td></tr>\n",
              "\t<tr><th scope=row>BambuTx3</th><td>4.64865</td><td>37.47735</td><td>24.52301</td><td>11.8</td><td>2.57143</td><td>0</td></tr>\n",
              "\t<tr><th scope=row>BambuTx4</th><td>2.27273</td><td> 3.22869</td><td> 1.08501</td><td> 0.0</td><td>0.00000</td><td>0</td></tr>\n",
              "\t<tr><th scope=row>BambuTx5</th><td>2.00000</td><td>35.00000</td><td>11.00000</td><td> 4.0</td><td>0.00000</td><td>1</td></tr>\n",
              "\t<tr><th scope=row>BambuTx6</th><td>2.00000</td><td>23.00000</td><td> 4.80000</td><td> 2.0</td><td>1.00000</td><td>0</td></tr>\n",
              "</tbody>\n",
              "</table>\n"
            ],
            "text/latex": [
              "A matrix: 6 × 6 of type dbl\n",
              "\\begin{tabular}{r|llllll}\n",
              "  & A549\\_directRNA\\_sample1 & A549\\_directRNA\\_sample2 & A549\\_directRNA\\_sample3 & HepG2\\_directRNA\\_sample1 & HepG2\\_directRNA\\_sample2 & HepG2\\_directRNA\\_sample3\\\\\n",
              "\\hline\n",
              "\tBambuTx1 & 2.00000 &  0.00000 &  0.00000 &  1.0 & 0.00000 & 0\\\\\n",
              "\tBambuTx2 & 2.00000 & 30.33452 & 10.76898 & 13.0 & 0.00000 & 0\\\\\n",
              "\tBambuTx3 & 4.64865 & 37.47735 & 24.52301 & 11.8 & 2.57143 & 0\\\\\n",
              "\tBambuTx4 & 2.27273 &  3.22869 &  1.08501 &  0.0 & 0.00000 & 0\\\\\n",
              "\tBambuTx5 & 2.00000 & 35.00000 & 11.00000 &  4.0 & 0.00000 & 1\\\\\n",
              "\tBambuTx6 & 2.00000 & 23.00000 &  4.80000 &  2.0 & 1.00000 & 0\\\\\n",
              "\\end{tabular}\n"
            ],
            "text/markdown": [
              "\n",
              "A matrix: 6 × 6 of type dbl\n",
              "\n",
              "| <!--/--> | A549_directRNA_sample1 | A549_directRNA_sample2 | A549_directRNA_sample3 | HepG2_directRNA_sample1 | HepG2_directRNA_sample2 | HepG2_directRNA_sample3 |\n",
              "|---|---|---|---|---|---|---|\n",
              "| BambuTx1 | 2.00000 |  0.00000 |  0.00000 |  1.0 | 0.00000 | 0 |\n",
              "| BambuTx2 | 2.00000 | 30.33452 | 10.76898 | 13.0 | 0.00000 | 0 |\n",
              "| BambuTx3 | 4.64865 | 37.47735 | 24.52301 | 11.8 | 2.57143 | 0 |\n",
              "| BambuTx4 | 2.27273 |  3.22869 |  1.08501 |  0.0 | 0.00000 | 0 |\n",
              "| BambuTx5 | 2.00000 | 35.00000 | 11.00000 |  4.0 | 0.00000 | 1 |\n",
              "| BambuTx6 | 2.00000 | 23.00000 |  4.80000 |  2.0 | 1.00000 | 0 |\n",
              "\n"
            ],
            "text/plain": [
              "         A549_directRNA_sample1 A549_directRNA_sample2 A549_directRNA_sample3\n",
              "BambuTx1 2.00000                 0.00000                0.00000              \n",
              "BambuTx2 2.00000                30.33452               10.76898              \n",
              "BambuTx3 4.64865                37.47735               24.52301              \n",
              "BambuTx4 2.27273                 3.22869                1.08501              \n",
              "BambuTx5 2.00000                35.00000               11.00000              \n",
              "BambuTx6 2.00000                23.00000                4.80000              \n",
              "         HepG2_directRNA_sample1 HepG2_directRNA_sample2\n",
              "BambuTx1  1.0                    0.00000                \n",
              "BambuTx2 13.0                    0.00000                \n",
              "BambuTx3 11.8                    2.57143                \n",
              "BambuTx4  0.0                    0.00000                \n",
              "BambuTx5  4.0                    0.00000                \n",
              "BambuTx6  2.0                    1.00000                \n",
              "         HepG2_directRNA_sample3\n",
              "BambuTx1 0                      \n",
              "BambuTx2 0                      \n",
              "BambuTx3 0                      \n",
              "BambuTx4 0                      \n",
              "BambuTx5 1                      \n",
              "BambuTx6 0                      "
            ]
          },
          "metadata": {},
          "output_type": "display_data"
        }
      ],
      "source": [
        "head(assays(se)$counts)"
      ]
    },
    {
      "cell_type": "code",
      "execution_count": null,
      "metadata": {
        "colab": {
          "base_uri": "https://localhost:8080/",
          "height": 780
        },
        "id": "URa-i0o4sZ85",
        "outputId": "79451239-d2ae-4c56-9087-1650b6b2862d",
        "vscode": {
          "languageId": "r"
        }
      },
      "outputs": [
        {
          "data": {
            "text/plain": [
              "GRangesList object of length 4547:\n",
              "$BambuTx1\n",
              "GRanges object with 3 ranges and 2 metadata columns:\n",
              "      seqnames            ranges strand | exon_rank exon_endRank\n",
              "         <Rle>         <IRanges>  <Rle> | <integer>    <integer>\n",
              "  [1]       22 15784968-15785057      + |         1            3\n",
              "  [2]       22 15788820-15788931      + |         2            2\n",
              "  [3]       22 15852990-15853424      + |         3            1\n",
              "  -------\n",
              "  seqinfo: 1 sequence from an unspecified genome; no seqlengths\n",
              "\n",
              "$BambuTx2\n",
              "GRanges object with 7 ranges and 2 metadata columns:\n",
              "      seqnames            ranges strand | exon_rank exon_endRank\n",
              "         <Rle>         <IRanges>  <Rle> | <integer>    <integer>\n",
              "  [1]       22 15784971-15785057      + |         1            7\n",
              "  [2]       22 15787172-15787282      + |         2            6\n",
              "  [3]       22 15788552-15788699      + |         3            5\n",
              "  [4]       22 15788820-15788931      + |         4            4\n",
              "  [5]       22 15790661-15790798      + |         5            3\n",
              "  [6]       22 15791017-15791152      + |         6            2\n",
              "  [7]       22 15852990-15855952      + |         7            1\n",
              "  -------\n",
              "  seqinfo: 1 sequence from an unspecified genome; no seqlengths\n",
              "\n",
              "$BambuTx3\n",
              "GRanges object with 10 ranges and 2 metadata columns:\n",
              "       seqnames            ranges strand | exon_rank exon_endRank\n",
              "          <Rle>         <IRanges>  <Rle> | <integer>    <integer>\n",
              "   [1]       22 19450621-19450744      - |        10            1\n",
              "   [2]       22 19454749-19454830      - |         9            2\n",
              "   [3]       22 19455680-19455768      - |         8            3\n",
              "   [4]       22 19456587-19456634      - |         7            4\n",
              "   [5]       22 19456853-19456918      - |         6            5\n",
              "   [6]       22 19458071-19458139      - |         5            6\n",
              "   [7]       22 19465202-19465274      - |         4            7\n",
              "   [8]       22 19467873-19468003      - |         3            8\n",
              "   [9]       22 19471687-19471808      - |         2            9\n",
              "  [10]       22 19479083-19479175      - |         1           10\n",
              "  -------\n",
              "  seqinfo: 1 sequence from an unspecified genome; no seqlengths\n",
              "\n",
              "...\n",
              "<4544 more elements>"
            ]
          },
          "metadata": {},
          "output_type": "display_data"
        }
      ],
      "source": [
        "rowRanges(se) #returns a GRangesList (with genomic coordinates) with all annotated and newly discovered transcripts."
      ]
    },
    {
      "cell_type": "code",
      "execution_count": null,
      "metadata": {
        "colab": {
          "base_uri": "https://localhost:8080/",
          "height": 711
        },
        "id": "pChAhm_nsbUL",
        "outputId": "f8f71059-35c6-478d-98d8-5a547bab7380",
        "vscode": {
          "languageId": "r"
        }
      },
      "outputs": [
        {
          "data": {
            "text/plain": [
              "DataFrame with 4547 rows and 11 columns\n",
              "                         TXNAME          GENEID        NDR novelGene\n",
              "                    <character>     <character>  <numeric> <logical>\n",
              "BambuTx1               BambuTx1 ENSG00000223875 0.00632911     FALSE\n",
              "BambuTx2               BambuTx2 ENSG00000206195 0.11159737     FALSE\n",
              "BambuTx3               BambuTx3 ENSG00000070010 0.01312336     FALSE\n",
              "BambuTx4               BambuTx4 ENSG00000128185 0.03818616     FALSE\n",
              "BambuTx5               BambuTx5 ENSG00000272779 0.00354610     FALSE\n",
              "...                         ...             ...        ...       ...\n",
              "ENST00000641859 ENST00000641859 ENSG00000284633         NA     FALSE\n",
              "ENST00000641915 ENST00000641915 ENSG00000284665         NA     FALSE\n",
              "ENST00000641933 ENST00000641933 ENSG00000284651         NA     FALSE\n",
              "ENST00000641967 ENST00000641967 ENSG00000284630         NA     FALSE\n",
              "ENST00000642075 ENST00000642075 ENSG00000284633         NA     FALSE\n",
              "                novelTranscript     txClassDescription readCount relReadCount\n",
              "                      <logical>            <character> <integer>    <numeric>\n",
              "BambuTx1                   TRUE                 allNew         3    1.0000000\n",
              "BambuTx2                   TRUE newLastJunction:newJ..        11    0.4400000\n",
              "BambuTx3                   TRUE              newWithin        56    0.1272727\n",
              "BambuTx4                   TRUE            newJunction         5    0.0215517\n",
              "BambuTx5                   TRUE newFirstJunction:new..        24    0.3428571\n",
              "...                         ...                    ...       ...          ...\n",
              "ENST00000641859           FALSE             annotation        NA           NA\n",
              "ENST00000641915           FALSE             annotation        NA           NA\n",
              "ENST00000641933           FALSE             annotation        NA           NA\n",
              "ENST00000641967           FALSE             annotation        NA           NA\n",
              "ENST00000642075           FALSE             annotation        NA           NA\n",
              "                relSubsetCount      txid   eqClassById\n",
              "                     <numeric> <integer> <IntegerList>\n",
              "BambuTx1                     1         1             1\n",
              "BambuTx2                     1         2             2\n",
              "BambuTx3                     1         3             3\n",
              "BambuTx4                     1         4             4\n",
              "BambuTx5                     1         5             5\n",
              "...                        ...       ...           ...\n",
              "ENST00000641859             NA      4543          4543\n",
              "ENST00000641915             NA      4544          4544\n",
              "ENST00000641933             NA      4545          4545\n",
              "ENST00000641967             NA      4546          4546\n",
              "ENST00000642075             NA      4547          4547"
            ]
          },
          "metadata": {},
          "output_type": "display_data"
        }
      ],
      "source": [
        "rowData(se) #returns additional information about each transcript such as the gene name and the class of the newly discovered transcript."
      ]
    },
    {
      "cell_type": "markdown",
      "metadata": {
        "id": "DxcPEYdNkPwt"
      },
      "source": [
        "This `SummarizedExperiment` object can also be used for further downstream analysis (eg. [DESeq](http://bioconductor.org/packages/devel/bioc/vignettes/DESeq2/inst/doc/DESeq2.html)). If you want to save the transcript &  genomic annotations and their expression\n",
        "estimates, you can then write them into an `output` folder using the `writeBambuOutput` function."
      ]
    },
    {
      "cell_type": "code",
      "execution_count": null,
      "metadata": {
        "id": "rC2_ufxGjgBu",
        "vscode": {
          "languageId": "r"
        }
      },
      "outputs": [],
      "source": [
        "writeBambuOutput(se, path = \"./output\")"
      ]
    },
    {
      "cell_type": "markdown",
      "metadata": {
        "id": "xZWp9HDDkXVn"
      },
      "source": [
        "The files in the `output` folder is described below:\n",
        "\n",
        "| Output file name                | Description                                                             |\n",
        "|:----------------------------|:------------------------------------------|\n",
        "| extended_annotations.gtf        | Extended transcript & gene annotations for the genome using long reads data.        |\n",
        "| counts_transcript.txt           | Total read counts estimates for each transcript in each sample.        |\n",
        "| CPM_transcript.txt              | Counts per million (CPM) estimates for each transcript in each sample. |\n",
        "| fullLengthCounts_transcript.txt | Full length read counts estimates for each transcript in each sample.  |\n",
        "| uniqueCounts_transcript.txt                | Unique read counts estimates for each transcript in each sample.       |\n",
        "| counts_gene.txt                 | Gene read counts estimates for each transcript in each sample.         |\n",
        "\n",
        "**NOTE: This is a short tutorial to demonstrate the usage of Bambu on the SG-NEx data. Please refer to the [Bambu documentation](https://github.com/GoekeLab/bambu) for a more complete workflow in novel transcript discovery and quantification.**"
      ]
    },
    {
      "cell_type": "markdown",
      "metadata": {
        "id": "hVZOr8_mpgdm"
      },
      "source": [
        "## **Identifying sample-specific novel transcripts**\n",
        "Now let's find some novel transcripts that occur uniquely in A549 but not in HepG2 and visualise them. First we will filter the annotations to remove the reference annotations. Then we can sort them by the `txNDR`, which ranks them by how likely they are a real transcript.\n",
        "\n",
        "Firstly, novel transcripts in novel genes:\n",
        "\n"
      ]
    },
    {
      "cell_type": "code",
      "execution_count": null,
      "metadata": {
        "colab": {
          "base_uri": "https://localhost:8080/",
          "height": 1000
        },
        "id": "Ea7ho8qB5HME",
        "outputId": "c9098b6c-68b9-470d-e513-1d040d33f7c0",
        "vscode": {
          "languageId": "r"
        }
      },
      "outputs": [
        {
          "data": {
            "text/plain": [
              "DataFrame with 2 rows and 11 columns\n",
              "               TXNAME      GENEID       NDR novelGene novelTranscript\n",
              "          <character> <character> <numeric> <logical>       <logical>\n",
              "BambuTx47   BambuTx47  BambuGene1 0.0201005      TRUE            TRUE\n",
              "BambuTx48   BambuTx48  BambuGene3 0.0314770      TRUE            TRUE\n",
              "          txClassDescription readCount relReadCount relSubsetCount      txid\n",
              "                 <character> <integer>    <numeric>      <numeric> <integer>\n",
              "BambuTx47    newGene-spliced         2            1              1        47\n",
              "BambuTx48    newGene-spliced         2            1              1        48\n",
              "            eqClassById\n",
              "          <IntegerList>\n",
              "BambuTx47            47\n",
              "BambuTx48            48"
            ]
          },
          "metadata": {},
          "output_type": "display_data"
        },
        {
          "name": "stderr",
          "output_type": "stream",
          "text": [
            "'getOption(\"repos\")' replaces Bioconductor standard repositories, see\n",
            "'help(\"repositories\", package = \"BiocManager\")' for details.\n",
            "Replacement repositories:\n",
            "    CRAN: https://cran.rstudio.com\n",
            "\n",
            "Bioconductor version 3.17 (BiocManager 1.30.21), R 4.3.1 (2023-06-16)\n",
            "\n",
            "Installing package(s) 'ggbio'\n",
            "\n",
            "also installing the dependencies ‘checkmate’, ‘htmlwidgets’, ‘plyr’, ‘htmlTable’, ‘viridis’, ‘Formula’, ‘dichromat’, ‘graph’, ‘RBGL’, ‘reshape’, ‘ProtGenerics’, ‘lazyeval’, ‘gridExtra’, ‘reshape2’, ‘Hmisc’, ‘biovizBase’, ‘VariantAnnotation’, ‘OrganismDbi’, ‘GGally’, ‘ensembldb’, ‘AnnotationFilter’\n",
            "\n",
            "\n",
            "Registered S3 method overwritten by 'GGally':\n",
            "  method from   \n",
            "  +.gg   ggplot2\n",
            "\n",
            "\u001b[1m\u001b[22mScale for \u001b[32my\u001b[39m is already present.\n",
            "Adding another scale for \u001b[32my\u001b[39m, which will replace the existing scale.\n"
          ]
        },
        {
          "data": {
            "text/plain": [
              "[[1]]\n",
              "TableGrob (3 x 1) \"arrange\": 3 grobs\n",
              "  z     cells    name               grob\n",
              "1 1 (2-2,1-1) arrange     gtable[layout]\n",
              "2 2 (3-3,1-1) arrange     gtable[layout]\n",
              "3 3 (1-1,1-1) arrange text[GRID.text.98]\n"
            ]
          },
          "metadata": {},
          "output_type": "display_data"
        },
        {
          "data": {
            "image/png": "[encoded data removed]",
            "text/plain": [
              "plot without title"
            ]
          },
          "metadata": {
            "image/png": {
              "height": 420,
              "width": 420
            }
          },
          "output_type": "display_data"
        }
      ],
      "source": [
        "se.filtered <- se[mcols(rowRanges(se))$novelTranscript == TRUE,]\n",
        "#investigate high confidence novel isoforms\n",
        "head(mcols(rowRanges(se.filtered))[order(mcols(rowRanges(se.filtered[]))$NDR),])\n",
        "\n",
        "\n",
        "plotBambu(se, type = \"annotation\", gene_id = \"BambuGene1\")"
      ]
    },
    {
      "cell_type": "code",
      "execution_count": null,
      "metadata": {
        "colab": {
          "base_uri": "https://localhost:8080/",
          "height": 1000
        },
        "id": "wMuy-_Ka_Ztk",
        "outputId": "c9098b6c-68b9-470d-e513-1d040d33f7c0",
        "vscode": {
          "languageId": "r"
        }
      },
      "outputs": [
        {
          "data": {
            "text/plain": [
              "DataFrame with 2 rows and 11 columns\n",
              "               TXNAME      GENEID       NDR novelGene novelTranscript\n",
              "          <character> <character> <numeric> <logical>       <logical>\n",
              "BambuTx47   BambuTx47  BambuGene1 0.0201005      TRUE            TRUE\n",
              "BambuTx48   BambuTx48  BambuGene3 0.0314770      TRUE            TRUE\n",
              "          txClassDescription readCount relReadCount relSubsetCount      txid\n",
              "                 <character> <integer>    <numeric>      <numeric> <integer>\n",
              "BambuTx47    newGene-spliced         2            1              1        47\n",
              "BambuTx48    newGene-spliced         2            1              1        48\n",
              "            eqClassById\n",
              "          <IntegerList>\n",
              "BambuTx47            47\n",
              "BambuTx48            48"
            ]
          },
          "metadata": {},
          "output_type": "display_data"
        },
        {
          "name": "stderr",
          "output_type": "stream",
          "text": [
            "'getOption(\"repos\")' replaces Bioconductor standard repositories, see\n",
            "'help(\"repositories\", package = \"BiocManager\")' for details.\n",
            "Replacement repositories:\n",
            "    CRAN: https://cran.rstudio.com\n",
            "\n",
            "Bioconductor version 3.17 (BiocManager 1.30.21), R 4.3.1 (2023-06-16)\n",
            "\n",
            "Installing package(s) 'ggbio'\n",
            "\n",
            "also installing the dependencies ‘checkmate’, ‘htmlwidgets’, ‘plyr’, ‘htmlTable’, ‘viridis’, ‘Formula’, ‘dichromat’, ‘graph’, ‘RBGL’, ‘reshape’, ‘ProtGenerics’, ‘lazyeval’, ‘gridExtra’, ‘reshape2’, ‘Hmisc’, ‘biovizBase’, ‘VariantAnnotation’, ‘OrganismDbi’, ‘GGally’, ‘ensembldb’, ‘AnnotationFilter’\n",
            "\n",
            "\n",
            "Registered S3 method overwritten by 'GGally':\n",
            "  method from   \n",
            "  +.gg   ggplot2\n",
            "\n",
            "\u001b[1m\u001b[22mScale for \u001b[32my\u001b[39m is already present.\n",
            "Adding another scale for \u001b[32my\u001b[39m, which will replace the existing scale.\n"
          ]
        },
        {
          "data": {
            "text/plain": [
              "[[1]]\n",
              "TableGrob (3 x 1) \"arrange\": 3 grobs\n",
              "  z     cells    name               grob\n",
              "1 1 (2-2,1-1) arrange     gtable[layout]\n",
              "2 2 (3-3,1-1) arrange     gtable[layout]\n",
              "3 3 (1-1,1-1) arrange text[GRID.text.98]\n"
            ]
          },
          "metadata": {},
          "output_type": "display_data"
        },
        {
          "data": {
            "image/png": "[encoded data removed]",
            "text/plain": [
              "plot without title"
            ]
          },
          "metadata": {
            "image/png": {
              "height": 420,
              "width": 420
            }
          },
          "output_type": "display_data"
        }
      ],
      "source": [
        "# For post-bambu downstream analysis, we will need the following packages.\n",
        "BiocManager::install(\"DESeq2\", update = FALSE)\n",
        "BiocManager::install(\"apeglm\", update = FALSE)\n",
        "BiocManager::install(\"DEXSeq\", update = FALSE)"
      ]
    },
    {
      "cell_type": "markdown",
      "metadata": {
        "id": "5Yz7gXvdpgdp"
      },
      "source": [
        "Or novel transcripts in annotated genes"
      ]
    },
    {
      "cell_type": "code",
      "execution_count": null,
      "metadata": {
        "id": "1XRQzmMm_z6J",
        "vscode": {
          "languageId": "r"
        }
      },
      "outputs": [],
      "source": [
        "se.filtered.noNovelGene <- se.filtered[rowData(se.filtered)$novelGene == FALSE,]\n",
        "head(mcols(rowRanges(se.filtered.noNovelGene))[order(mcols(rowRanges(se.filtered.noNovelGene))$NDR),])\n",
        "\n",
        "plotBambu(se, type = \"annotation\", gene_id = \"ENSG00000272779\")"
      ]
    },
    {
      "cell_type": "markdown",
      "metadata": {
        "id": "xfO3AGyPpgd0"
      },
      "source": [
        "If we want to find out the ones that are unique based on counts"
      ]
    },
    {
      "cell_type": "code",
      "execution_count": null,
      "metadata": {
        "id": "hxLQFK2vpgd0",
        "vscode": {
          "languageId": "r"
        }
      },
      "outputs": [],
      "source": [
        "#find which ones are unique based on counts\n",
        "expression.A549 <- apply(assays(se.filtered)$counts[,grep(\"A549\",colnames(se.filtered))],1,mean)\n",
        "expression.HepG2 <- apply(assays(se.filtered)$counts[,grep(\"HepG2\",colnames(se.filtered))],1,mean)\n",
        "\n",
        "\n",
        "se.filtered[expression.A549>=1 &(expression.HepG2==0)] # unique in A549\n",
        "se.filtered[expression.A549==0 &(expression.HepG2>=1)] # unique in HepG2"
      ]
    },
    {
      "cell_type": "markdown",
      "metadata": {
        "id": "4SyCGQ8a6zQF"
      },
      "source": [
        "## UCSC browser visualization\n",
        "\n",
        "We can visualise these novel transcripts using a genome browser such as IGV or the UCSC genome browser. For this tutorial we will use the UCSC genome browser.\n"
      ]
    },
    {
      "cell_type": "code",
      "execution_count": null,
      "metadata": {
        "id": "0_fEk6mt79uV",
        "vscode": {
          "languageId": "r"
        }
      },
      "outputs": [],
      "source": [
        "annotations.UCSC = rowRanges(se.filtered)\n",
        "seqlevelsStyle(annotations.UCSC) <- \"UCSC\" #this reformats the chromosome names\n",
        "annotations.UCSC = keepStandardChromosomes(annotations.UCSC, pruning.mode=\"coarse\") #removes chromosomes UCSC doesn't have\n",
        "writeToGTF(annotations.UCSC, \"novel_annotations.UCSC_10July.gtf\")"
      ]
    },
    {
      "cell_type": "markdown",
      "metadata": {
        "id": "M5nx-hbl7-Wk"
      },
      "source": [
        "Now go to https://genome.ucsc.edu/ in your browser\n",
        "\n",
        "My data > Custom Tracks > add custom tracks\n",
        "\n",
        "In the box labeled \"Paste URLs or data\" copy in path of the file you copied onto your bucket. For the tutorial, as we have the annotation gtf uploaded already. For future usage, you will need to copy the gtf to a public s3 bucket and then visualize."
      ]
    },
    {
      "cell_type": "code",
      "execution_count": null,
      "metadata": {
        "id": "XjiDmQdc6zGP",
        "vscode": {
          "languageId": "r"
        }
      },
      "outputs": [],
      "source": [
        "http://sg-nex-data.s3.amazonaws.com/data/data_tutorial/annotations/novel_annotations.UCSC_10July.gtf"
      ]
    },
    {
      "cell_type": "markdown",
      "metadata": {
        "id": "mlwgUyQTpgd0"
      },
      "source": [
        "## **Downstream analysis**\n",
        "### Identifying differentially expressed genes {#DESeq2}\n",
        "One of the most common tasks when analysing RNA-Seq data is the analysis of\n",
        "differential gene expression across a condition of intertest. Here we use\n",
        "*DESeq2* to find the differentially expressed genes between MCF7 and K562 cell\n",
        "lines. Similar to using results from *Salmon*, estimates from *bambu* will\n",
        "first be rounded.\n"
      ]
    },
    {
      "cell_type": "code",
      "execution_count": null,
      "metadata": {
        "colab": {
          "base_uri": "https://localhost:8080/",
          "height": 100
        },
        "id": "hjaJHWRSDLaP",
        "outputId": "2f351b80-67fe-409f-c748-3cd2f1e673cd",
        "vscode": {
          "languageId": "r"
        }
      },
      "outputs": [
        {
          "ename": "ERROR",
          "evalue": "ignored",
          "output_type": "error",
          "traceback": [
            "Error in transcriptToGeneExpression(se): could not find function \"transcriptToGeneExpression\"\nTraceback:\n"
          ]
        }
      ],
      "source": [
        "seGene <- transcriptToGeneExpression(se)\n",
        "colData(seGene)$condition <- as.factor(rep(c(\"A549\",\"HepG2\"),each = 3))"
      ]
    },
    {
      "cell_type": "code",
      "execution_count": null,
      "metadata": {
        "id": "97ea_JGOpgd0",
        "vscode": {
          "languageId": "r"
        }
      },
      "outputs": [],
      "source": [
        "library(DESeq2)\n",
        "dds <- DESeqDataSetFromMatrix(round(assays(seGene)$counts),\n",
        "                                    colData = colData(seGene),\n",
        "                                    design = ~ condition)\n",
        "dds.deseq <- DESeq(dds)\n",
        "deGeneRes <- DESeq2::results(dds.deseq, independentFiltering = FALSE)\n",
        "head(deGeneRes[order(deGeneRes$padj),])\n"
      ]
    },
    {
      "cell_type": "markdown",
      "metadata": {},
      "source": [
        "Note that the above step takes about 1 min."
      ]
    },
    {
      "cell_type": "markdown",
      "metadata": {
        "id": "Gb8QFqhZpgd1"
      },
      "source": [
        "A quick summary of differentially expressed genes"
      ]
    },
    {
      "cell_type": "code",
      "execution_count": null,
      "metadata": {
        "id": "BOm8Xm1_pgd1",
        "vscode": {
          "languageId": "r"
        }
      },
      "outputs": [],
      "source": [
        "\n",
        "summary(deGeneRes)"
      ]
    },
    {
      "cell_type": "markdown",
      "metadata": {
        "id": "Eb_D4C5_pgd1"
      },
      "source": [
        "We can also visualise the MA-plot for differentially used isoforms using\n",
        "`plotMA(deGeneRes)`. However, visualizing the MA-plots using the original\n",
        "log-fold change results will be affected by the noise associated with log2 fold\n",
        "changes from low count genes without requiring arbitrary filtering thresholds.\n",
        "As recommended in the\n",
        "[*DESeq2* tutorial](http://bioconductor.org/packages/devel/bioc/vignettes/DESeq2/inst/doc/DESeq2.html#alternative-shrinkage-estimators).\n",
        "we applied the same shrinkage to effect sizes to\n",
        "improve the visualization."
      ]
    },
    {
      "cell_type": "code",
      "execution_count": null,
      "metadata": {
        "id": "dsqbLkD9pgd1",
        "vscode": {
          "languageId": "r"
        }
      },
      "outputs": [],
      "source": [
        "library(apeglm)\n",
        "resLFC <- lfcShrink(dds.deseq, coef = \"condition_HepG2_vs_A549\", type = \"apeglm\")\n",
        "plotMA(resLFC, ylim = c(-3,3))"
      ]
    },
    {
      "cell_type": "markdown",
      "metadata": {
        "id": "KAOt9-zOpgd1"
      },
      "source": [
        "### Identifying differential transcript usage {#DEXSeq}\n",
        "We used *DEXSeq* to detect alternative used isoforms.\n"
      ]
    },
    {
      "cell_type": "code",
      "execution_count": null,
      "metadata": {
        "id": "zDQyVEAYpgd1",
        "vscode": {
          "languageId": "r"
        }
      },
      "outputs": [],
      "source": [
        "library(DEXSeq)\n",
        "colData(se)$condition <- as.factor(rep(c(\"A549\",\"HepG2\"),each = 3))\n",
        "dxd <- DEXSeqDataSet(countData = round(assays(se)$counts),\n",
        "sampleData = as.data.frame(colData(se)),\n",
        "design = ~sample + exon + condition:exon,\n",
        "featureID = rowData(se)$TXNAME,\n",
        "groupID = rowData(se)$GENEID)\n",
        "dxr <- DEXSeq(dxd)\n",
        "head(dxr)"
      ]
    },
    {
      "cell_type": "markdown",
      "metadata": {
        "id": "tuZPLJorpgd2"
      },
      "source": [
        "We can visualize the MA-plot"
      ]
    },
    {
      "cell_type": "code",
      "execution_count": null,
      "metadata": {
        "id": "eCxss-tHpgd2",
        "vscode": {
          "languageId": "r"
        }
      },
      "outputs": [],
      "source": [
        "plotMA(dxr, cex = 0.8 )"
      ]
    },
    {
      "cell_type": "markdown",
      "metadata": {
        "id": "d1XCLTgKkZMR"
      },
      "source": [
        "## **Reference**\n",
        "\n",
        "In this tutorial, we extended the existing transcript & gene annotations\n",
        "on the [SGNEx](https://github.com/GoekeLab/sg-nex-data) dataset using\n",
        "[Bambu](https://github.com/GoekeLab/bambu). If you use **Bambu** and the\n",
        "dataset from **SG-NEx** in your work, please cite the following paper.\n",
        "\n",
        "Chen, Ying, et al. “A systematic benchmark of Nanopore long read RNA\n",
        "sequencing for transcript level analysis in human cell lines.” bioRxiv\n",
        "(2021). doi: <https://doi.org/10.1101/2021.04.21.440736>\n",
        "\n",
        "\n",
        "Chen, Ying, Sim, Andre, et al. Context-aware transcript quantification from long-read RNA-seq data with Bambu. Nat Methods (2023). doi: <https://doi.org/10.1038/s41592-023-01908-w>"
      ]
    }
  ],
  "metadata": {
    "colab": {
      "provenance": []
    },
    "kernelspec": {
      "display_name": "R",
      "name": "ir"
    },
    "language_info": {
      "name": "R"
    }
  },
  "nbformat": 4,
  "nbformat_minor": 0
}
