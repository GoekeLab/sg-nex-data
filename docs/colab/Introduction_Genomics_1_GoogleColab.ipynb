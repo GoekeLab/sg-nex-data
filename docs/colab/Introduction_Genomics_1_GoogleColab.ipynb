{
  "cells": [
    {
      "cell_type": "markdown",
      "metadata": {
        "colab_type": "text",
        "id": "view-in-github"
      },
      "source": [
        "<a href=\"https://colab.research.google.com/github/GoekeLab/sg-nex-data/blob/master/docs/colab/Introduction_Genomics_1_GoogleColab.ipynb\" target=\"_parent\"><img src=\"https://colab.research.google.com/assets/colab-badge.svg\" alt=\"Open In Colab\"/></a>"
      ]
    },
    {
      "cell_type": "markdown",
      "metadata": {
        "id": "Epw9oQniv77Q"
      },
      "source": [
        "## Genomics Workshop 1: Reference genome files, reads, and read alignment\n",
        "\n",
        "In this workshop we will learn about common file types and formats, how to download genomics data, and how to process such data.\n",
        "\n",
        "Here we will download and process long read Nanopore RNA-Seq data from the SG-NEx project. We will use the AWS command line interface to access the data. We will then align reads to the human reference genome using Minimap2. The output data is then converted to compressed files for aligned reads using Samtools. We will visusalise the data using the UCSC Genome Browser, or IGV.\n",
        "\n",
        "### Using Google Colab\n",
        "\n",
        "This tutorial requires access to a shell (i.e. Linux, MacOS, or the Windows Subsystem for Linux/WSL). If you do not have access to any shell, you can run this tutorial on Google Colab by clicking the badge on top.\n",
        "\n",
        "If you use Google Colab, you have to add `!` before any shell command to execute it in a subshell. Changing working directories requires to add `%` instead, which executes the command globally."
      ]
    },
    {
      "cell_type": "markdown",
      "metadata": {
        "id": "HTxx6tGuv77Y"
      },
      "source": [
        "## Installation"
      ]
    },
    {
      "cell_type": "code",
      "execution_count": null,
      "metadata": {
        "id": "I11D6W3UyvHU"
      },
      "outputs": [],
      "source": [
        "! python -m pip install awscli"
      ]
    },
    {
      "cell_type": "code",
      "execution_count": null,
      "metadata": {
        "id": "tA7dGO9n1XSU"
      },
      "outputs": [],
      "source": [
        "! aws --version  "
      ]
    },
    {
      "cell_type": "code",
      "execution_count": null,
      "metadata": {
        "id": "py-m4xNKqr2K"
      },
      "outputs": [],
      "source": [
        "! curl -L https://github.com/lh3/minimap2/releases/download/v2.26/minimap2-2.26_x64-linux.tar.bz2 | tar -jxvf -\n",
        "! ./minimap2-2.26_x64-linux/minimap2"
      ]
    },
    {
      "cell_type": "code",
      "execution_count": null,
      "metadata": {
        "id": "MMNsvJEF10yo"
      },
      "outputs": [],
      "source": [
        "! sudo ln -s /content/minimap2-2.26_x64-linux/minimap2 /usr/bin/minimap2"
      ]
    },
    {
      "cell_type": "code",
      "execution_count": null,
      "metadata": {
        "id": "IxdLxK2BmMhK"
      },
      "outputs": [],
      "source": [
        "! minimap2 \n"
      ]
    },
    {
      "cell_type": "code",
      "execution_count": null,
      "metadata": {
        "id": "MUusKEDIspXH"
      },
      "outputs": [],
      "source": [
        "! sudo apt install samtools"
      ]
    },
    {
      "cell_type": "code",
      "execution_count": null,
      "metadata": {
        "id": "9c5wKNnH1cR1"
      },
      "outputs": [],
      "source": [
        "! samtools --version"
      ]
    },
    {
      "cell_type": "markdown",
      "metadata": {
        "id": "3hoD3ojUv77f"
      },
      "source": [
        "## Data download\n",
        "\n",
        "The Singapore Nanopore Expression Project (SG-NEx) has generated a comprehensive resource of long read RNA-Sequencing data using the Oxford Nanopore Sequencing third generation sequencing platform. The data is hosted on the [AWS Open Data Registry](https://registry.opendata.aws/sgnex/) and described in detail here: <https://github.com/GoekeLab/sg-nex-data>\n",
        "\n",
        "For this workshop we will be using a reduced data set which only includes data from the human chromosome 22. The data can be accessed using the AWS command line interface (or using direct links, which you can find in the online documentation)."
      ]
    },
    {
      "cell_type": "code",
      "execution_count": null,
      "metadata": {
        "id": "CNM62YDrn47S"
      },
      "outputs": [],
      "source": [
        "! aws s3 ls --no-sign-request s3://sg-nex-data/data/data_tutorial/"
      ]
    },
    {
      "cell_type": "code",
      "execution_count": null,
      "metadata": {
        "id": "56zG5ljYnppj"
      },
      "outputs": [],
      "source": [
        "! mkdir workshop\n",
        "! mkdir workshop/reference\n",
        "! mkdir workshop/fastq\n",
        "! mkdir workshop/bam\n",
        "\n",
        "\n"
      ]
    },
    {
      "cell_type": "markdown",
      "metadata": {
        "id": "8XoTPZzGv77g"
      },
      "source": [
        "### The reference genome and annotations"
      ]
    },
    {
      "cell_type": "code",
      "execution_count": null,
      "metadata": {
        "id": "BM13oLU-875U"
      },
      "outputs": [],
      "source": [
        "%cd workshop/reference/"
      ]
    },
    {
      "cell_type": "code",
      "execution_count": null,
      "metadata": {
        "id": "Pk3jHm2Bn69Z"
      },
      "outputs": [],
      "source": [
        "! aws s3 cp --no-sign-request s3://sg-nex-data/data/data_tutorial/annotations/hg38_chr22.fa .\n",
        "! aws s3 cp --no-sign-request s3://sg-nex-data/data/data_tutorial/annotations/hg38_chr22.fa.fai ."
      ]
    },
    {
      "cell_type": "code",
      "execution_count": null,
      "metadata": {
        "id": "bWH5lE1HoSCE"
      },
      "outputs": [],
      "source": [
        "! ls -lh\n",
        "! wc -l hg38_chr22.fa\n"
      ]
    },
    {
      "cell_type": "code",
      "execution_count": null,
      "metadata": {
        "id": "kWoh0yzQ_tFj"
      },
      "outputs": [],
      "source": [
        "! fold -w 80 hg38_chr22.fa | head\n"
      ]
    },
    {
      "cell_type": "code",
      "execution_count": null,
      "metadata": {
        "id": "k5xirRQ8_tf2"
      },
      "outputs": [],
      "source": [
        "\n",
        "! fold -w 80 hg38_chr22.fa | head -n 300000 | tail"
      ]
    },
    {
      "cell_type": "code",
      "execution_count": null,
      "metadata": {
        "id": "KIOLbe9DojN0"
      },
      "outputs": [],
      "source": [
        "! aws s3 cp --no-sign-request s3://sg-nex-data/data/data_tutorial/annotations/hg38_chr22.gtf .\n"
      ]
    },
    {
      "cell_type": "code",
      "execution_count": null,
      "metadata": {
        "id": "Xk_3btKRouux"
      },
      "outputs": [],
      "source": [
        "! head hg38_chr22.gtf"
      ]
    },
    {
      "cell_type": "code",
      "execution_count": null,
      "metadata": {
        "id": "2R6sy4P7Bxtf"
      },
      "outputs": [],
      "source": [
        "! grep '\"BCR\"' hg38_chr22.gtf | head\n"
      ]
    },
    {
      "cell_type": "markdown",
      "metadata": {
        "id": "vc7LKnsVAsQW"
      },
      "source": [
        "> **Exercise:** What information can you find online about the BCR gene? \n",
        "> \n",
        "> Each gene can generate different RNA versions by using different exons. These different versions are called gene isoforms, or transcripts. How many transcripts can you find for the BCR gene? \n",
        "> \n",
        "> You can use a genome browser such as IGV or the UCSC genome browser (< https://genome.ucsc.edu/cgi-bin/hgGateway>) to explore the human genome, search for genes, or show specific genome coordinates.\n",
        "\n"
      ]
    },
    {
      "cell_type": "markdown",
      "metadata": {
        "id": "uEqiSa5nv77k"
      },
      "source": [
        "### Fastq files (reads)"
      ]
    },
    {
      "cell_type": "code",
      "execution_count": null,
      "metadata": {
        "id": "9cO5ObJU9gCL"
      },
      "outputs": [],
      "source": [
        "%cd ../fastq/"
      ]
    },
    {
      "cell_type": "code",
      "execution_count": null,
      "metadata": {
        "id": "Ln42KF9fpLrj"
      },
      "outputs": [],
      "source": [
        "! aws s3 cp --no-sign-request s3://sg-nex-data/data/data_tutorial/fastq/HepG2_directRNA_sample1.fastq.gz ."
      ]
    },
    {
      "cell_type": "code",
      "execution_count": null,
      "metadata": {
        "id": "PMZWgJdCpSVR"
      },
      "outputs": [],
      "source": [
        "! ls -hl"
      ]
    },
    {
      "cell_type": "code",
      "execution_count": null,
      "metadata": {
        "id": "RoAhCJN0pWWT"
      },
      "outputs": [],
      "source": [
        "! zcat HepG2_directRNA_sample1.fastq.gz | head"
      ]
    },
    {
      "cell_type": "markdown",
      "metadata": {
        "id": "RWQ7i4TXCCTg"
      },
      "source": [
        ">**Exercise:** Search the read with the following id: \"@b82f28d6-6ff1-4cf7-b41a-4888bfdb2641\" (`zcat HepG2_directRNA_sample1.fastq.gz | grep -A 4 '@b82f28d6-6ff1-4cf7-b41a-4888bfdb2641'`) and align the sequence to the human genome using BLAT (<http://genome.ucsc.edu/cgi-bin/hgBlat>). Where in the human genome does this read align? Does the read match any annotated transcript? \n"
      ]
    },
    {
      "cell_type": "code",
      "execution_count": null,
      "metadata": {
        "id": "fsP-B_NsCmEj"
      },
      "outputs": [],
      "source": [
        "! zcat HepG2_directRNA_sample1.fastq.gz | grep -A 4 '@b82f28d6-6ff1-4cf7-b41a-4888bfdb2641'"
      ]
    },
    {
      "cell_type": "markdown",
      "metadata": {
        "id": "RHvcUAOzv77m"
      },
      "source": [
        "### Read Alignment"
      ]
    },
    {
      "cell_type": "code",
      "execution_count": null,
      "metadata": {
        "id": "dT1L55IF9qh1"
      },
      "outputs": [],
      "source": [
        "%cd ..\n",
        "%ll"
      ]
    },
    {
      "cell_type": "code",
      "execution_count": null,
      "metadata": {
        "id": "wc9azpMmriMU"
      },
      "outputs": [],
      "source": [
        "! minimap2 -ax splice -uf -k14 reference/hg38_chr22.fa fastq/HepG2_directRNA_sample1.fastq.gz > bam/HepG2_directRNA_sample1.sam"
      ]
    },
    {
      "cell_type": "code",
      "execution_count": null,
      "metadata": {
        "id": "o-d4BwhBrSli"
      },
      "outputs": [],
      "source": [
        "! ls -l bam/"
      ]
    },
    {
      "cell_type": "code",
      "execution_count": null,
      "metadata": {
        "id": "OIbqhoFkFp_P"
      },
      "outputs": [],
      "source": [
        "! head bam/HepG2_directRNA_sample1.sam"
      ]
    },
    {
      "cell_type": "markdown",
      "metadata": {
        "id": "s6cpf-zSv77n"
      },
      "source": [
        "### Sam to Bam conversion"
      ]
    },
    {
      "cell_type": "code",
      "execution_count": null,
      "metadata": {
        "id": "_voiW8ACtTdj"
      },
      "outputs": [],
      "source": [
        "! samtools view -b bam/HepG2_directRNA_sample1.sam > bam/HepG2_directRNA_sample1.bam\n",
        "! samtools sort bam/HepG2_directRNA_sample1.bam -o bam/HepG2_directRNA_sample1_sorted.bam\n",
        "! samtools index bam/HepG2_directRNA_sample1_sorted.bam\n"
      ]
    },
    {
      "cell_type": "code",
      "execution_count": null,
      "metadata": {
        "id": "W1DzsOnqF9ch"
      },
      "outputs": [],
      "source": [
        "! ls -l bam/"
      ]
    },
    {
      "cell_type": "markdown",
      "metadata": {
        "id": "iy2t6puWv77n"
      },
      "source": [
        "## Visualisation of aligned reads"
      ]
    },
    {
      "cell_type": "code",
      "execution_count": null,
      "metadata": {
        "id": "QcUOBZJZtsdF"
      },
      "outputs": [],
      "source": [
        "! samtools view bam/HepG2_directRNA_sample1_sorted.bam | head"
      ]
    },
    {
      "cell_type": "markdown",
      "metadata": {
        "id": "9AeG3OPtGA8p"
      },
      "source": [
        ">**Exercise:** Visualise the bam file using IGV or the UCSC genome browser. If you use the UCSC genome browser, you can use the processed data from the SG-NEx project, by copying these lines into the custom track field:\n",
        "\n",
        "```\n",
        "track type=bigWig name=\"SGNex_HepG2_directRNA_replicate1_run3.bigwig\" description=\"SGNex_HepG2_directRNA_replicate1_run3.bigwig\" bigDataUrl=http://sg-nex-data.s3.amazonaws.com/data/sequencing_data_ont/genome_browser_data/bigwig/SGNex_HepG2_directRNA_replicate1_run3.bigwig\n",
        "\n",
        "track type=bigBed name=\"SGNex_HepG2_directRNA_replicate1_run3.bigbed\" description=\"SGNex_HepG2_directRNA_replicate1_run3.bigbed\" bigDataUrl=http://sg-nex-data.s3.amazonaws.com/data/sequencing_data_ont/genome_browser_data/bigbed/SGNex_HepG2_directRNA_replicate1_run3.bigbed\n",
        "```"
      ]
    }
  ],
  "metadata": {
    "colab": {
      "include_colab_link": true,
      "name": "Introduction_Genomics_1_GoogleColab.ipynb",
      "private_outputs": true,
      "provenance": []
    },
    "gpuClass": "standard",
    "kernelspec": {
      "display_name": "Python 3",
      "language": "python",
      "name": "python3"
    },
    "language_info": {
      "name": "python",
      "version": "3.6.9"
    },
    "vscode": {
      "interpreter": {
        "hash": "31f2aee4e71d21fbe5cf8b01ff0e069b9275f58929596ceb00d14d90e3e16cd6"
      }
    }
  },
  "nbformat": 4,
  "nbformat_minor": 0
}
