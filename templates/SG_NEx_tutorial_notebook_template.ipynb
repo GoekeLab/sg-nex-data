{
  "cells": [
    {
      "cell_type": "markdown",
      "metadata": {
        "colab_type": "text",
        "id": "view-in-github"
      },
      "source": [
        "<a href=\"https://colab.research.google.com/github/GoekeLab/sg-nex-data/blob/add_tutorial_template/templates/SG_NEx_tutorial_notebook_template.ipynb\" target=\"_parent\"><img src=\"https://colab.research.google.com/assets/colab-badge.svg\" alt=\"Open In Colab\"/></a>"
      ]
    },
    {
      "cell_type": "markdown",
      "metadata": {
        "id": "Epw9oQniv77Q"
      },
      "source": [
        "## **title**\n",
        "\n",
        "brief description on the purpose of the tutorial and mentioning which samples are used \n",
        "\n",
        "### **Using Google Colab**\n",
        "\n",
        "This tutorial requires access to a shell (i.e. Linux, MacOS, or the Windows Subsystem for Linux/WSL). If you do not have access to any shell, you can run this tutorial on Google Colab by clicking the badge on top.\n",
        "\n",
        "If you use Google Colab, you have to add `!` before any shell command to execute it in a subshell. Changing working directories requires to add `%` instead, which executes the command globally."
      ]
    },
    {
      "cell_type": "markdown",
      "metadata": {},
      "source": [
        "## **Content**\n",
        "\n",
        "- [Installation](#installation)\n",
        "- [Data download](#data-download)\n",
        "- [Running software](#running-software)\n",
        "- [Reference](#reference)\n"
      ]
    },
    {
      "cell_type": "markdown",
      "metadata": {
        "id": "HTxx6tGuv77Y"
      },
      "source": [
        "## **Installation**\n",
        "\n",
        "this section describes how the software can be installed "
      ]
    },
    {
      "cell_type": "code",
      "execution_count": null,
      "metadata": {
        "id": "I11D6W3UyvHU"
      },
      "outputs": [],
      "source": [
        "! sudo apt install awscli"
      ]
    },
    {
      "cell_type": "code",
      "execution_count": null,
      "metadata": {
        "id": "tA7dGO9n1XSU"
      },
      "outputs": [],
      "source": [
        "! aws --version  "
      ]
    },
    {
      "cell_type": "code",
      "execution_count": null,
      "metadata": {
        "id": "py-m4xNKqr2K"
      },
      "outputs": [],
      "source": [
        "! curl -L https://github.com/lh3/minimap2/releases/download/v2.24/minimap2-2.24_x64-linux.tar.bz2 | tar -jxvf -\n",
        "! ./minimap2-2.24_x64-linux/minimap2"
      ]
    },
    {
      "cell_type": "code",
      "execution_count": null,
      "metadata": {
        "id": "MMNsvJEF10yo"
      },
      "outputs": [],
      "source": [
        "! sudo ln -s /content/minimap2-2.24_x64-linux/minimap2 /usr/bin/minimap2"
      ]
    },
    {
      "cell_type": "code",
      "execution_count": null,
      "metadata": {
        "id": "IxdLxK2BmMhK"
      },
      "outputs": [],
      "source": [
        "! minimap2 "
      ]
    },
    {
      "cell_type": "code",
      "execution_count": null,
      "metadata": {},
      "outputs": [],
      "source": [
        "##commands to install the software "
      ]
    },
    {
      "cell_type": "markdown",
      "metadata": {
        "id": "3hoD3ojUv77f"
      },
      "source": [
        "## **Data download**\n",
        "\n",
        "The Singapore Nanopore Expression Project (SG-NEx) has generated a comprehensive resource of long read RNA-Sequencing data using the Oxford Nanopore Sequencing third generation sequencing platform. The data is hosted on the [AWS Open Data Registry](https://registry.opendata.aws/sgnex/) and described in detail here: <https://github.com/GoekeLab/sg-nex-data>\n",
        "\n",
        "For this workshop we will be using a reduced data set which only includes data from the human chromosome 22. The data can be accessed using the AWS command line interface (or using direct links, which you can find in the online documentation)."
      ]
    },
    {
      "cell_type": "code",
      "execution_count": null,
      "metadata": {
        "id": "CNM62YDrn47S"
      },
      "outputs": [],
      "source": [
        "! aws s3 ls --no-sign-request s3://sg-nex-data/data/data_tutorial/"
      ]
    },
    {
      "cell_type": "code",
      "execution_count": null,
      "metadata": {
        "id": "56zG5ljYnppj"
      },
      "outputs": [],
      "source": [
        "! mkdir tutorial\n",
        "! mkdir tutorial/reference\n",
        "! mkdir tutorial/fastq\n",
        "! mkdir tutorial/bam"
      ]
    },
    {
      "cell_type": "markdown",
      "metadata": {
        "id": "8XoTPZzGv77g"
      },
      "source": [
        "### **Download the reference genome and annotations**"
      ]
    },
    {
      "cell_type": "code",
      "execution_count": null,
      "metadata": {
        "id": "BM13oLU-875U"
      },
      "outputs": [],
      "source": [
        "%cd tutorial/reference/"
      ]
    },
    {
      "cell_type": "code",
      "execution_count": null,
      "metadata": {
        "id": "Pk3jHm2Bn69Z"
      },
      "outputs": [],
      "source": [
        "! aws s3 cp --no-sign-request s3://sg-nex-data/data/data_tutorial/annotations/hg38_chr22.fa .\n",
        "! aws s3 cp --no-sign-request s3://sg-nex-data/data/data_tutorial/annotations/hg38_chr22.fa.fai ."
      ]
    },
    {
      "cell_type": "code",
      "execution_count": null,
      "metadata": {
        "id": "KIOLbe9DojN0"
      },
      "outputs": [],
      "source": [
        "! aws s3 cp --no-sign-request s3://sg-nex-data/data/data_tutorial/annotations/hg38_chr22.gtf .\n"
      ]
    },
    {
      "cell_type": "markdown",
      "metadata": {},
      "source": [
        "### **Download fastq files**"
      ]
    },
    {
      "cell_type": "code",
      "execution_count": null,
      "metadata": {
        "id": "9cO5ObJU9gCL"
      },
      "outputs": [],
      "source": [
        "%cd tutorial/fastq/"
      ]
    },
    {
      "cell_type": "code",
      "execution_count": null,
      "metadata": {
        "id": "Ln42KF9fpLrj"
      },
      "outputs": [],
      "source": [
        "! aws s3 cp --no-sign-request s3://sg-nex-data/data/data_tutorial/fastq/HepG2_directRNA_sample1.fastq.gz ."
      ]
    },
    {
      "cell_type": "markdown",
      "metadata": {
        "id": "RHvcUAOzv77m"
      },
      "source": [
        "### **Download bam files**"
      ]
    },
    {
      "cell_type": "code",
      "execution_count": null,
      "metadata": {
        "id": "dT1L55IF9qh1"
      },
      "outputs": [],
      "source": [
        "%cd tutorial/fastq/"
      ]
    },
    {
      "cell_type": "code",
      "execution_count": null,
      "metadata": {},
      "outputs": [],
      "source": [
        "! aws s3 cp --no-sign-request s3://sg-nex-data/data/data_tutorial/bam/HepG2_directRNA_sample1.bam ."
      ]
    },
    {
      "cell_type": "markdown",
      "metadata": {},
      "source": [
        "## **Running software**\n",
        "\n",
        "This section describes how to run the software"
      ]
    },
    {
      "cell_type": "markdown",
      "metadata": {},
      "source": [
        "## **Reference**\n",
        "\n",
        "References to the software related publications and SGNEx can be added here.\n",
        "\n",
        "\n",
        "If you use the dataset from SG-NEx in your work, please cite the following paper.\n",
        "\n",
        "Chen, Ying, et al. “A systematic benchmark of Nanopore long read RNA\n",
        "sequencing for transcript level analysis in human cell lines.” bioRxiv\n",
        "(2021). doi: <https://doi.org/10.1101/2021.04.21.440736>"
      ]
    }
  ],
  "metadata": {
    "colab": {
      "include_colab_link": true,
      "name": "Introduction_Genomics_1_GoogleColab.ipynb",
      "private_outputs": true,
      "provenance": []
    },
    "gpuClass": "standard",
    "kernelspec": {
      "display_name": "Python 3",
      "language": "python",
      "name": "python3"
    },
    "language_info": {
      "name": "python",
      "version": "3.6.9"
    },
    "vscode": {
      "interpreter": {
        "hash": "31f2aee4e71d21fbe5cf8b01ff0e069b9275f58929596ceb00d14d90e3e16cd6"
      }
    }
  },
  "nbformat": 4,
  "nbformat_minor": 0
}
