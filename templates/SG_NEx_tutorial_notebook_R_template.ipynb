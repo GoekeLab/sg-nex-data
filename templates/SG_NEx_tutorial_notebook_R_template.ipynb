{
  "cells": [
    {
      "cell_type": "markdown",
      "metadata": {
        "id": "K6Kfw4h-0S09"
      },
      "source": [
        "<a href=\"https://colab.research.google.com/github/GoekeLab/sg-nex-data/blob/master/templates/SG_NEx_tutorial_notebook_R_template.ipynb\" target=\"_parent\"><img src=\"https://colab.research.google.com/assets/colab-badge.svg\" alt=\"Open In Colab\"/></a>"
      ]
    },
    {
      "cell_type": "markdown",
      "metadata": {
        "id": "PGQmY2jOfMI8"
      },
      "source": [
        "## **Title**\n",
        "\n",
        "brief introduction on the purpose of the tutorial and \n",
        "\n",
        "can add a note on the expected running time for the tutorial\n",
        "\n",
        "\n",
        "### Using Google Colab\n",
        "\n",
        "This tutorial requires access to a shell (i.e. Linux, MacOS, or the Windows Subsystem for Linux/WSL). If you do not have access to any shell, you can run this tutorial on Google Colab by clicking the badge on top.\n",
        "\n",
        "If you use Google Colab, you have to add `!` before any shell command to execute it in a subshell. Changing working directories requires to add `%` instead, which executes the command globally."
      ]
    },
    {
      "cell_type": "markdown",
      "metadata": {
        "id": "X9VkcDQnfxPf"
      },
      "source": [
        "## **Content**\n",
        "\n",
        "- [Installation](#installation)\n",
        "- [Data Access and Preparation](#data-access-and-preparation)\n",
        "- [Running software](#running-software)\n",
        "- [Reference](#reference)\n"
      ]
    },
    {
      "cell_type": "markdown",
      "metadata": {
        "id": "bqgd3kkRf9sS"
      },
      "source": [
        "## **Installation**"
      ]
    },
    {
      "cell_type": "markdown",
      "metadata": {
        "id": "el3CJ2eGkpch"
      },
      "source": [
        "this section describes how the software can be installed "
      ]
    },
    {
      "cell_type": "code",
      "execution_count": null,
      "metadata": {
        "colab": {
          "base_uri": "https://localhost:8080/"
        },
        "id": "YndO9JzGsBHT",
        "outputId": "f6ae8d38-9c24-4509-9fe2-d7a0942627f8",
        "vscode": {
          "languageId": "r"
        }
      },
      "outputs": [],
      "source": [
        "# here you can add the code for installation based on R"
      ]
    },
    {
      "cell_type": "markdown",
      "metadata": {
        "id": "uOVH1uPGgLZ6"
      },
      "source": [
        "\n",
        "## **Data Access and Preparation**\n",
        "\n",
        "\n",
        "\n"
      ]
    },
    {
      "cell_type": "markdown",
      "metadata": {},
      "source": [
        "Generally, you may want to learn how to get access to these data using the [data\n",
        "access\n",
        "tutorial](AWS_data_access_tutorial.md). Below we only show the necessary steps to download the required data. The following command requires you to have [AWS CLI](https://aws.amazon.com/cli/) installed."
      ]
    },
    {
      "cell_type": "markdown",
      "metadata": {},
      "source": [
        "But for this tutorial, we provide another approach to use *AWS CLI* within *R*"
      ]
    },
    {
      "cell_type": "code",
      "execution_count": null,
      "metadata": {
        "vscode": {
          "languageId": "r"
        }
      },
      "outputs": [],
      "source": [
        "# install AWS for R\n",
        "install.packages(\"aws.s3\")\n",
        "# set region for AWS\n",
        "Sys.setenv(\"AWS_DEFAULT_REGION\" = 'ap-southeast-1')"
      ]
    },
    {
      "cell_type": "markdown",
      "metadata": {},
      "source": [
        "### **Download reference genome and annotations**\n",
        "\n",
        "The default mode to run XXX is using a set of aligned reads (bam files), reference genome annotations (gtf file, TxDb object, or bambuAnnotation object), and reference genome sequence (fasta file or BSgenome). Here we use the ensembl GRCh 38 genome sequence and annotation files, which we have downloaded and stored in the SG-NEx data open S3 bucket."
      ]
    },
    {
      "cell_type": "code",
      "execution_count": null,
      "metadata": {
        "vscode": {
          "languageId": "r"
        }
      },
      "outputs": [],
      "source": [
        "# create a directory to store the data\n",
        "dir.create(\"tutorial\")\n",
        "# download genome fasta file\n",
        "aws.s3::save_object(\n",
        "  object=\"data/data_tutorial/annotations/hg38_chr22.fa\",\n",
        "  bucket=\"sg-nex-data\",\n",
        "  file=\"./tutorial/hg38_chr22.fa\")\n",
        "# download genome index fastai file\n",
        "aws.s3::save_object(\n",
        "  object=\"data/data_tutorial/annotations/hg38_chr22.fa.fai\",\n",
        "  bucket=\"sg-nex-data\",\n",
        "  file=\"./tutorial/hg38_chr22.fa.fai\")\n",
        "# download gtf file\n",
        "aws.s3::save_object(\n",
        "  object=\"data/data_tutorial/annotations/hg38_chr22.gtf\",\n",
        "  bucket=\"sg-nex-data\",\n",
        "  file=\"./tutorial/hg38_chr22.gtf\")"
      ]
    },
    {
      "cell_type": "markdown",
      "metadata": {},
      "source": [
        "### **Download raw fastq file**\n",
        "\n",
        "To download the raw fastq reads:"
      ]
    },
    {
      "cell_type": "code",
      "execution_count": null,
      "metadata": {
        "vscode": {
          "languageId": "r"
        }
      },
      "outputs": [],
      "source": [
        "fastq_list=c(\"A549_directRNA_sample1.fastq.gz\",\n",
        "           \"A549_directRNA_sample2.fastq.gz\",\n",
        "           \"A549_directRNA_sample3.fastq.gz\",\n",
        "           \"HepG2_directRNA_sample1.fastq.gz\",\n",
        "           \"HepG2_directRNA_sample2.fastq.gz\",\n",
        "           \"HepG2_directRNA_sample3.fastq.gz\")\n",
        "for (fastq in fastq_list[1]){ # here we try with one sample\n",
        "  aws.s3::save_object(\n",
        "    object=paste0(\"data/data_tutorial/fastq/\",fastq),\n",
        "    bucket = \"sg-nex-data\",\n",
        "    file=paste0(\"./tutorial/\",basename(fastq)))\n",
        "}"
      ]
    },
    {
      "cell_type": "markdown",
      "metadata": {},
      "source": [
        "### **Download bam files**\n",
        "To download the genome alignment bam files \n",
        "\n"
      ]
    },
    {
      "cell_type": "code",
      "execution_count": null,
      "metadata": {
        "colab": {
          "base_uri": "https://localhost:8080/"
        },
        "id": "NPdFZL70YT-D",
        "outputId": "9d5a8b1b-c556-46d3-9d8d-ea98d73c07cc",
        "vscode": {
          "languageId": "r"
        }
      },
      "outputs": [],
      "source": [
        "# download aligned bam files for A549 samples and HepG2 samples\n",
        "bam_list=c(\"A549_directRNA_sample1.bam\",\n",
        "           \"A549_directRNA_sample2.bam\",\n",
        "           \"A549_directRNA_sample3.bam\",\n",
        "           \"HepG2_directRNA_sample1.bam\",\n",
        "           \"HepG2_directRNA_sample2.bam\",\n",
        "           \"HepG2_directRNA_sample3.bam\")\n",
        "for (bam in bam_list){\n",
        "  aws.s3::save_object(\n",
        "    object=paste0(\"data/data_tutorial/bam/\",bam),\n",
        "    bucket = \"sg-nex-data\",\n",
        "    file=paste0(\"./tutorial/\",basename(bam)))\n",
        "}"
      ]
    },
    {
      "cell_type": "markdown",
      "metadata": {
        "id": "8kKjAsbjhZK0"
      },
      "source": [
        "**NOTE: We have downsampled the Hg38 genome, A549 and HepG2 samples to ensure this tutorial can be completed in a short time frame. If you want to run XXX on the original samples, you can find the sample name [here](https://github.com/GoekeLab/sg-nex-data/blob/master/docs/samples.tsv) and amend it into the following code chunk:**"
      ]
    },
    {
      "cell_type": "code",
      "execution_count": null,
      "metadata": {
        "colab": {
          "base_uri": "https://localhost:8080/",
          "height": 516
        },
        "id": "M_rJd7k5iD8V",
        "outputId": "44a8a2b2-5990-42e7-a744-af51e9da3555",
        "vscode": {
          "languageId": "plaintext"
        }
      },
      "outputs": [],
      "source": [
        "# Do not run unless you have specified the sample_alias with the sample of interest in the SG-NEx bukcet as recommended.\n",
        "aws.s3::save_object(\n",
        "  object=\"data/sequencing_data_ont/bam/genome/<sample_alias>\",\n",
        "  bucket=\"sg-nex-data\",\n",
        "  file=\"./tutorial/<sample_alias>\")"
      ]
    },
    {
      "cell_type": "markdown",
      "metadata": {
        "id": "9BxbQWlKizDI"
      },
      "source": [
        "## **Running software**\n",
        "\n",
        "This section describes how to run the software "
      ]
    },
    {
      "cell_type": "markdown",
      "metadata": {
        "id": "d1XCLTgKkZMR"
      },
      "source": [
        "## **Reference**\n",
        "\n",
        "References to the software related publications and SGNEx can be added here.\n",
        "\n",
        "\n",
        "If you use the dataset from SG-NEx in your work, please cite the following paper.\n",
        "\n",
        "Chen, Ying, et al. “A systematic benchmark of Nanopore long read RNA\n",
        "sequencing for transcript level analysis in human cell lines.” bioRxiv\n",
        "(2021). doi: <https://doi.org/10.1101/2021.04.21.440736>"
      ]
    }
  ],
  "metadata": {
    "colab": {
      "provenance": []
    },
    "kernelspec": {
      "display_name": "R",
      "name": "ir"
    },
    "language_info": {
      "name": "R"
    }
  },
  "nbformat": 4,
  "nbformat_minor": 0
}
